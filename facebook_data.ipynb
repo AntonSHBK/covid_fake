{
 "cells": [
  {
   "cell_type": "markdown",
   "metadata": {},
   "source": [
    "# Dataset"
   ]
  },
  {
   "cell_type": "code",
   "execution_count": 33,
   "metadata": {},
   "outputs": [],
   "source": [
    "import math\n",
    "\n",
    "import torch\n",
    "import pandas as pd\n",
    "import numpy as np"
   ]
  },
  {
   "cell_type": "code",
   "execution_count": 34,
   "metadata": {},
   "outputs": [],
   "source": [
    "from pathlib import Path\n",
    "\n",
    "DATA_PATH = Path('data/')\n",
    "DATA_PATH.mkdir(parents=True, exist_ok=True)\n",
    "\n",
    "DATA_CACHE = Path('data/cache_dir/')\n",
    "DATA_CACHE.mkdir(parents=True, exist_ok=True)\n",
    "\n",
    "DATA_PATH_SAVE_MODELS = Path('data/models/')\n",
    "DATA_PATH_SAVE_MODELS.mkdir(parents=True, exist_ok=True)\n",
    "\n",
    "DATA_SYNTHETIC = Path('synthetic/')\n",
    "DATA_SYNTHETIC.mkdir(parents=True, exist_ok=True)\n",
    "\n",
    "pd.set_option('display.max_colwidth', 500) "
   ]
  },
  {
   "cell_type": "markdown",
   "metadata": {},
   "source": [
    "## Facebook Data"
   ]
  },
  {
   "cell_type": "code",
   "execution_count": 35,
   "metadata": {},
   "outputs": [
    {
     "data": {
      "text/html": [
       "<div>\n",
       "<style scoped>\n",
       "    .dataframe tbody tr th:only-of-type {\n",
       "        vertical-align: middle;\n",
       "    }\n",
       "\n",
       "    .dataframe tbody tr th {\n",
       "        vertical-align: top;\n",
       "    }\n",
       "\n",
       "    .dataframe thead th {\n",
       "        text-align: right;\n",
       "    }\n",
       "</style>\n",
       "<table border=\"1\" class=\"dataframe\">\n",
       "  <thead>\n",
       "    <tr style=\"text-align: right;\">\n",
       "      <th></th>\n",
       "      <th>Group Name</th>\n",
       "      <th>User Name</th>\n",
       "      <th>Facebook Id</th>\n",
       "      <th>Page Category</th>\n",
       "      <th>Page Admin Top Country</th>\n",
       "      <th>Page Description</th>\n",
       "      <th>Page Created</th>\n",
       "      <th>Likes at Posting</th>\n",
       "      <th>Followers at Posting</th>\n",
       "      <th>Post Created</th>\n",
       "      <th>...</th>\n",
       "      <th>Message</th>\n",
       "      <th>Link</th>\n",
       "      <th>Final Link</th>\n",
       "      <th>Image Text</th>\n",
       "      <th>Link Text</th>\n",
       "      <th>Description</th>\n",
       "      <th>Sponsor Id</th>\n",
       "      <th>Sponsor Name</th>\n",
       "      <th>Sponsor Category</th>\n",
       "      <th>Overperforming Score (weighted  —  Likes 1x Shares 1x Comments 1x Love 1x Wow 1x Haha 1x Sad 1x Angry 1x Care 1x )</th>\n",
       "    </tr>\n",
       "  </thead>\n",
       "  <tbody>\n",
       "    <tr>\n",
       "      <th>0</th>\n",
       "      <td>COVID19: Real Talk from Health Care Workers around the Globe</td>\n",
       "      <td>NaN</td>\n",
       "      <td>1073058046385811</td>\n",
       "      <td>none</td>\n",
       "      <td>NaN</td>\n",
       "      <td>NaN</td>\n",
       "      <td>NaN</td>\n",
       "      <td>66994.0</td>\n",
       "      <td>NaN</td>\n",
       "      <td>2020-04-01 22:42:32 EDT</td>\n",
       "      <td>...</td>\n",
       "      <td>We extubated 2 covid patients today and they are doing awesome! Should be on a tele floor tomorrow! (TX)</td>\n",
       "      <td>NaN</td>\n",
       "      <td>NaN</td>\n",
       "      <td>NaN</td>\n",
       "      <td>NaN</td>\n",
       "      <td>NaN</td>\n",
       "      <td>NaN</td>\n",
       "      <td>NaN</td>\n",
       "      <td>NaN</td>\n",
       "      <td>189.33</td>\n",
       "    </tr>\n",
       "  </tbody>\n",
       "</table>\n",
       "<p>1 rows × 40 columns</p>\n",
       "</div>"
      ],
      "text/plain": [
       "                                                     Group Name  User Name  \\\n",
       "0  COVID19: Real Talk from Health Care Workers around the Globe        NaN   \n",
       "\n",
       "        Facebook Id Page Category  Page Admin Top Country  Page Description  \\\n",
       "0  1073058046385811          none                     NaN               NaN   \n",
       "\n",
       "   Page Created  Likes at Posting  Followers at Posting  \\\n",
       "0           NaN           66994.0                   NaN   \n",
       "\n",
       "              Post Created  ...  \\\n",
       "0  2020-04-01 22:42:32 EDT  ...   \n",
       "\n",
       "                                                                                                    Message  \\\n",
       "0  We extubated 2 covid patients today and they are doing awesome! Should be on a tele floor tomorrow! (TX)   \n",
       "\n",
       "  Link Final Link  Image Text  Link Text  Description  Sponsor Id  \\\n",
       "0  NaN        NaN         NaN        NaN          NaN         NaN   \n",
       "\n",
       "   Sponsor Name  Sponsor Category  \\\n",
       "0           NaN               NaN   \n",
       "\n",
       "   Overperforming Score (weighted  —  Likes 1x Shares 1x Comments 1x Love 1x Wow 1x Haha 1x Sad 1x Angry 1x Care 1x )  \n",
       "0                                                                                                              189.33  \n",
       "\n",
       "[1 rows x 40 columns]"
      ]
     },
     "execution_count": 35,
     "metadata": {},
     "output_type": "execute_result"
    }
   ],
   "source": [
    "facebook_df = pd.read_excel(DATA_PATH / 'facebook_data.xlsx', skiprows=1)\n",
    "facebook_df.head(1)"
   ]
  },
  {
   "cell_type": "code",
   "execution_count": 36,
   "metadata": {},
   "outputs": [
    {
     "data": {
      "text/plain": [
       "Index(['Group Name', 'User Name', 'Facebook Id', 'Page Category',\n",
       "       'Page Admin Top Country', 'Page Description', 'Page Created',\n",
       "       'Likes at Posting', 'Followers at Posting', 'Post Created',\n",
       "       'Post Created Date', 'Post Created Time', 'Type', 'Total Interactions',\n",
       "       'Likes', 'Comments', 'Shares', 'Love', 'Wow', 'Haha', 'Sad', 'Angry',\n",
       "       'Care', 'Video Share Status', 'Is Video Owner?', 'Post Views',\n",
       "       'Total Views', 'Total Views For All Crossposts', 'Video Length', 'URL',\n",
       "       'Message', 'Link', 'Final Link', 'Image Text', 'Link Text',\n",
       "       'Description', 'Sponsor Id', 'Sponsor Name', 'Sponsor Category',\n",
       "       'Overperforming Score (weighted  —  Likes 1x Shares 1x Comments 1x Love 1x Wow 1x Haha 1x Sad 1x Angry 1x Care 1x )'],\n",
       "      dtype='object')"
      ]
     },
     "execution_count": 36,
     "metadata": {},
     "output_type": "execute_result"
    }
   ],
   "source": [
    "facebook_df.columns"
   ]
  },
  {
   "cell_type": "code",
   "execution_count": 37,
   "metadata": {},
   "outputs": [],
   "source": [
    "facebook_df[\"text\"] = facebook_df[\"Message\"]\n",
    "\n",
    "# Обрабатываем случаи, когда Link Text или Description могут быть пустыми\n",
    "facebook_df[\"link_text\"] = (\n",
    "    facebook_df[\"Link Text\"].fillna('') + \" \" + facebook_df[\"Description\"].fillna('')\n",
    ").str.strip()\n",
    "\n",
    "# Функция для удаления текста, если он содержит только одно слово\n",
    "def remove_single_word(text):\n",
    "    if len(text.split()) <= 1:\n",
    "        return \"\"\n",
    "    return text\n",
    "\n",
    "# Применяем проверку к колонкам text и link_text\n",
    "facebook_df[\"text\"] = facebook_df[\"text\"].fillna('').apply(remove_single_word)\n",
    "facebook_df[\"link_text\"] = facebook_df[\"link_text\"].fillna('').apply(remove_single_word)\n"
   ]
  },
  {
   "cell_type": "code",
   "execution_count": 38,
   "metadata": {},
   "outputs": [
    {
     "data": {
      "text/html": [
       "<div>\n",
       "<style scoped>\n",
       "    .dataframe tbody tr th:only-of-type {\n",
       "        vertical-align: middle;\n",
       "    }\n",
       "\n",
       "    .dataframe tbody tr th {\n",
       "        vertical-align: top;\n",
       "    }\n",
       "\n",
       "    .dataframe thead th {\n",
       "        text-align: right;\n",
       "    }\n",
       "</style>\n",
       "<table border=\"1\" class=\"dataframe\">\n",
       "  <thead>\n",
       "    <tr style=\"text-align: right;\">\n",
       "      <th></th>\n",
       "      <th>Group Name</th>\n",
       "      <th>User Name</th>\n",
       "      <th>Facebook Id</th>\n",
       "      <th>Page Category</th>\n",
       "      <th>Page Admin Top Country</th>\n",
       "      <th>Page Description</th>\n",
       "      <th>Page Created</th>\n",
       "      <th>Likes at Posting</th>\n",
       "      <th>Followers at Posting</th>\n",
       "      <th>Post Created</th>\n",
       "      <th>...</th>\n",
       "      <th>Final Link</th>\n",
       "      <th>Image Text</th>\n",
       "      <th>Link Text</th>\n",
       "      <th>Description</th>\n",
       "      <th>Sponsor Id</th>\n",
       "      <th>Sponsor Name</th>\n",
       "      <th>Sponsor Category</th>\n",
       "      <th>Overperforming Score (weighted  —  Likes 1x Shares 1x Comments 1x Love 1x Wow 1x Haha 1x Sad 1x Angry 1x Care 1x )</th>\n",
       "      <th>text</th>\n",
       "      <th>link_text</th>\n",
       "    </tr>\n",
       "  </thead>\n",
       "  <tbody>\n",
       "    <tr>\n",
       "      <th>4097</th>\n",
       "      <td>Health Care Assistants HCA / Nurses / Support Workers - JOBS (UK)</td>\n",
       "      <td>NaN</td>\n",
       "      <td>629521900975276</td>\n",
       "      <td>none</td>\n",
       "      <td>NaN</td>\n",
       "      <td>NaN</td>\n",
       "      <td>NaN</td>\n",
       "      <td>20783.0</td>\n",
       "      <td>NaN</td>\n",
       "      <td>2022-06-12 16:51:29 EDT</td>\n",
       "      <td>...</td>\n",
       "      <td>NaN</td>\n",
       "      <td>NaN</td>\n",
       "      <td>UK SPONSORS - JobsAbroad</td>\n",
       "      <td>UK Sponsor List for Care Homes Suitable for Residential care home managers Caregivers Registered nurses Others involved within the care home industry You are buying… A list of employers approved by the UK Home Office to give job offers in the care home sector Contains 129 records with sponsor name...</td>\n",
       "      <td>NaN</td>\n",
       "      <td>NaN</td>\n",
       "      <td>NaN</td>\n",
       "      <td>1.58</td>\n",
       "      <td>Looking for a caregivers job in the UK? If yes, you need a UK sponsor approved by the UK home office. You can buy this list for 69 US dollars. A spreadsheet with 129 records. Each record contains the employer name with an url link which either goes to their careers/job page or their contact page. You then apply yourself to the contacts you like and save on agency fees. Buy this list of UK sponsors for carehomes at [https://jobsabroad.lk/uk-sponsors/](https://jobsabroad.lk/uk-sponsors/?fbclid...</td>\n",
       "      <td>UK SPONSORS - JobsAbroad UK Sponsor List for Care Homes Suitable for Residential care home managers Caregivers Registered nurses Others involved within the care home industry You are buying… A list of employers approved by the UK Home Office to give job offers in the care home sector Contains 129 records with sponsor name...</td>\n",
       "    </tr>\n",
       "  </tbody>\n",
       "</table>\n",
       "<p>1 rows × 42 columns</p>\n",
       "</div>"
      ],
      "text/plain": [
       "                                                             Group Name  \\\n",
       "4097  Health Care Assistants HCA / Nurses / Support Workers - JOBS (UK)   \n",
       "\n",
       "      User Name      Facebook Id Page Category  Page Admin Top Country  \\\n",
       "4097        NaN  629521900975276          none                     NaN   \n",
       "\n",
       "      Page Description  Page Created  Likes at Posting  Followers at Posting  \\\n",
       "4097               NaN           NaN           20783.0                   NaN   \n",
       "\n",
       "                 Post Created  ... Final Link Image Text  \\\n",
       "4097  2022-06-12 16:51:29 EDT  ...        NaN        NaN   \n",
       "\n",
       "                     Link Text  \\\n",
       "4097  UK SPONSORS - JobsAbroad   \n",
       "\n",
       "                                                                                                                                                                                                                                                                                                        Description  \\\n",
       "4097  UK Sponsor List for Care Homes Suitable for Residential care home managers Caregivers Registered nurses Others involved within the care home industry You are buying… A list of employers approved by the UK Home Office to give job offers in the care home sector Contains 129 records with sponsor name...   \n",
       "\n",
       "      Sponsor Id  Sponsor Name  Sponsor Category  \\\n",
       "4097         NaN           NaN               NaN   \n",
       "\n",
       "      Overperforming Score (weighted  —  Likes 1x Shares 1x Comments 1x Love 1x Wow 1x Haha 1x Sad 1x Angry 1x Care 1x )  \\\n",
       "4097                                                                                                                1.58   \n",
       "\n",
       "                                                                                                                                                                                                                                                                                                                                                                                                                                                                                                                     text  \\\n",
       "4097  Looking for a caregivers job in the UK? If yes, you need a UK sponsor approved by the UK home office. You can buy this list for 69 US dollars. A spreadsheet with 129 records. Each record contains the employer name with an url link which either goes to their careers/job page or their contact page. You then apply yourself to the contacts you like and save on agency fees. Buy this list of UK sponsors for carehomes at [https://jobsabroad.lk/uk-sponsors/](https://jobsabroad.lk/uk-sponsors/?fbclid...   \n",
       "\n",
       "                                                                                                                                                                                                                                                                                                                                   link_text  \n",
       "4097  UK SPONSORS - JobsAbroad UK Sponsor List for Care Homes Suitable for Residential care home managers Caregivers Registered nurses Others involved within the care home industry You are buying… A list of employers approved by the UK Home Office to give job offers in the care home sector Contains 129 records with sponsor name...  \n",
       "\n",
       "[1 rows x 42 columns]"
      ]
     },
     "execution_count": 38,
     "metadata": {},
     "output_type": "execute_result"
    }
   ],
   "source": [
    "facebook_df.sample(1)\n"
   ]
  },
  {
   "cell_type": "code",
   "execution_count": 39,
   "metadata": {},
   "outputs": [],
   "source": [
    "facebook_df.to_excel(DATA_PATH / 'facebook_data_to_model.xlsx', index=False)"
   ]
  }
 ],
 "metadata": {
  "kernelspec": {
   "display_name": ".venv",
   "language": "python",
   "name": "python3"
  },
  "language_info": {
   "codemirror_mode": {
    "name": "ipython",
    "version": 3
   },
   "file_extension": ".py",
   "mimetype": "text/x-python",
   "name": "python",
   "nbconvert_exporter": "python",
   "pygments_lexer": "ipython3",
   "version": "3.11.5"
  }
 },
 "nbformat": 4,
 "nbformat_minor": 2
}
