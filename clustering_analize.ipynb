{
 "cells": [
  {
   "cell_type": "markdown",
   "metadata": {},
   "source": [
    "# Обучение определения фейковых фактов о COVID и вакцинации"
   ]
  },
  {
   "cell_type": "code",
   "execution_count": 168,
   "metadata": {},
   "outputs": [],
   "source": [
    "import math\n",
    "\n",
    "import torch\n",
    "import pandas as pd\n",
    "import numpy as np"
   ]
  },
  {
   "cell_type": "code",
   "execution_count": 169,
   "metadata": {},
   "outputs": [],
   "source": [
    "DEVICE = 'cpu'\n",
    "if torch.backends.mps.is_available():\n",
    "    DEVICE = 'mps'\n",
    "if torch.cuda.is_available():\n",
    "    DEVICE = 'cuda'"
   ]
  },
  {
   "cell_type": "code",
   "execution_count": 170,
   "metadata": {},
   "outputs": [],
   "source": [
    "from pathlib import Path\n",
    "\n",
    "DATA_PATH = Path('data/')\n",
    "DATA_PATH.mkdir(parents=True, exist_ok=True)\n",
    "\n",
    "DATA_CACHE = Path('data/cache_dir/')\n",
    "DATA_CACHE.mkdir(parents=True, exist_ok=True)\n",
    "\n",
    "DATA_PATH_SAVE_MODELS = Path('data/models/')\n",
    "DATA_PATH_SAVE_MODELS.mkdir(parents=True, exist_ok=True)\n",
    "\n",
    "pd.set_option('display.max_colwidth', 500) "
   ]
  },
  {
   "cell_type": "code",
   "execution_count": 171,
   "metadata": {},
   "outputs": [],
   "source": [
    "# MODEL_NAME = \"covid_vaccine_fake_model\"\n",
    "TEST_DF_NAME = \"facebook_data_to_complate.xlsx\"\n",
    "\n",
    "MODEL_NAME = \"roberta-base\"\n",
    "# TEST_DF_NAME = \"facebook_data_to_model.xlsx\"\n",
    "\n",
    "MAX_LENGTH = 128\n",
    "BATCH_SIZE = 16"
   ]
  },
  {
   "cell_type": "markdown",
   "metadata": {},
   "source": [
    "# Датасет"
   ]
  },
  {
   "cell_type": "code",
   "execution_count": 172,
   "metadata": {},
   "outputs": [],
   "source": [
    "data_df = pd.read_excel(DATA_PATH / TEST_DF_NAME).reset_index(drop=True)"
   ]
  },
  {
   "cell_type": "code",
   "execution_count": 173,
   "metadata": {},
   "outputs": [],
   "source": [
    "# data_df = data_df.dropna(how='all')\n",
    "data_df = data_df.sample(100)\n",
    "\n",
    "data_df['text'] = data_df['text'].astype(str)\n",
    "data_df = data_df.dropna(subset='predict_1')\n",
    "data_df[\"truncated_text\"] = data_df[\"text\"].str[:200]\n",
    "\n",
    "# Добавляем колонку id (используем индекс датафрейма)\n",
    "data_df[\"id\"] = data_df.index"
   ]
  },
  {
   "cell_type": "code",
   "execution_count": 174,
   "metadata": {},
   "outputs": [
    {
     "data": {
      "text/html": [
       "<div>\n",
       "<style scoped>\n",
       "    .dataframe tbody tr th:only-of-type {\n",
       "        vertical-align: middle;\n",
       "    }\n",
       "\n",
       "    .dataframe tbody tr th {\n",
       "        vertical-align: top;\n",
       "    }\n",
       "\n",
       "    .dataframe thead th {\n",
       "        text-align: right;\n",
       "    }\n",
       "</style>\n",
       "<table border=\"1\" class=\"dataframe\">\n",
       "  <thead>\n",
       "    <tr style=\"text-align: right;\">\n",
       "      <th></th>\n",
       "      <th>Group Name</th>\n",
       "      <th>User Name</th>\n",
       "      <th>Facebook Id</th>\n",
       "      <th>Page Category</th>\n",
       "      <th>Page Admin Top Country</th>\n",
       "      <th>Page Description</th>\n",
       "      <th>Page Created</th>\n",
       "      <th>Likes at Posting</th>\n",
       "      <th>Followers at Posting</th>\n",
       "      <th>Post Created</th>\n",
       "      <th>...</th>\n",
       "      <th>Sponsor Category</th>\n",
       "      <th>Overperforming Score (weighted  —  Likes 1x Shares 1x Comments 1x Love 1x Wow 1x Haha 1x Sad 1x Angry 1x Care 1x )</th>\n",
       "      <th>text</th>\n",
       "      <th>link_text</th>\n",
       "      <th>predict_1</th>\n",
       "      <th>probability_1</th>\n",
       "      <th>predict_2</th>\n",
       "      <th>probability_2</th>\n",
       "      <th>truncated_text</th>\n",
       "      <th>id</th>\n",
       "    </tr>\n",
       "  </thead>\n",
       "  <tbody>\n",
       "    <tr>\n",
       "      <th>3917</th>\n",
       "      <td>COVID19: Real Talk from Health Care Workers around the Globe</td>\n",
       "      <td>NaN</td>\n",
       "      <td>1073058046385811</td>\n",
       "      <td>none</td>\n",
       "      <td>NaN</td>\n",
       "      <td>NaN</td>\n",
       "      <td>NaN</td>\n",
       "      <td>107869.0</td>\n",
       "      <td>NaN</td>\n",
       "      <td>2020-11-28 03:37:03 EST</td>\n",
       "      <td>...</td>\n",
       "      <td>NaN</td>\n",
       "      <td>1.67</td>\n",
       "      <td>Everyone's talking about the Covid vaccine.... Why aren't more people looking into MMR boosters to increase Covid resistance? Yet ANOTHER study to support a theory I've previously discussed...Journal of microbiology also published their own findings and an Epidemiology journal has looked at why Marshall Islands, American Samoa, Vanuvetu, Malaysia and Hong Kong all have little to NO COVID after major MMR vaccination campaigns in the last decade. Don't let big pharma push a vaccine at you that...</td>\n",
       "      <td>Analysis of Measles-Mumps-Rubella (MMR) Titers of Recovered COVID-19 Patients The measles-mumps-rubella (MMR) vaccine has been theorized to provide protection against coronavirus disease 2019 (COVID-19). Our aim was to determine whether any MMR IgG titers are inversely correlated with severity in recovered COVID-19 patients previously vaccinated with MMR II. We divided 80 sub...</td>\n",
       "      <td>Comments</td>\n",
       "      <td>[0.07153145968914032, 0.16210079193115234, 0.7663677930831909]</td>\n",
       "      <td>Fake</td>\n",
       "      <td>[0.2917669713497162, 0.6962428689002991, 0.011990156024694443]</td>\n",
       "      <td>Everyone's talking about the Covid vaccine.... Why aren't more people looking into MMR boosters to increase Covid resistance? Yet ANOTHER study to support a theory I've previously discussed...Journal</td>\n",
       "      <td>3917</td>\n",
       "    </tr>\n",
       "  </tbody>\n",
       "</table>\n",
       "<p>1 rows × 48 columns</p>\n",
       "</div>"
      ],
      "text/plain": [
       "                                                        Group Name  User Name  \\\n",
       "3917  COVID19: Real Talk from Health Care Workers around the Globe        NaN   \n",
       "\n",
       "           Facebook Id Page Category  Page Admin Top Country  \\\n",
       "3917  1073058046385811          none                     NaN   \n",
       "\n",
       "      Page Description  Page Created  Likes at Posting  Followers at Posting  \\\n",
       "3917               NaN           NaN          107869.0                   NaN   \n",
       "\n",
       "                 Post Created  ... Sponsor Category  \\\n",
       "3917  2020-11-28 03:37:03 EST  ...              NaN   \n",
       "\n",
       "     Overperforming Score (weighted  —  Likes 1x Shares 1x Comments 1x Love 1x Wow 1x Haha 1x Sad 1x Angry 1x Care 1x )  \\\n",
       "3917                                                                                                               1.67   \n",
       "\n",
       "                                                                                                                                                                                                                                                                                                                                                                                                                                                                                                                     text  \\\n",
       "3917  Everyone's talking about the Covid vaccine.... Why aren't more people looking into MMR boosters to increase Covid resistance? Yet ANOTHER study to support a theory I've previously discussed...Journal of microbiology also published their own findings and an Epidemiology journal has looked at why Marshall Islands, American Samoa, Vanuvetu, Malaysia and Hong Kong all have little to NO COVID after major MMR vaccination campaigns in the last decade. Don't let big pharma push a vaccine at you that...   \n",
       "\n",
       "                                                                                                                                                                                                                                                                                                                                                                                          link_text  \\\n",
       "3917  Analysis of Measles-Mumps-Rubella (MMR) Titers of Recovered COVID-19 Patients The measles-mumps-rubella (MMR) vaccine has been theorized to provide protection against coronavirus disease 2019 (COVID-19). Our aim was to determine whether any MMR IgG titers are inversely correlated with severity in recovered COVID-19 patients previously vaccinated with MMR II. We divided 80 sub...   \n",
       "\n",
       "      predict_1  \\\n",
       "3917   Comments   \n",
       "\n",
       "                                                       probability_1  \\\n",
       "3917  [0.07153145968914032, 0.16210079193115234, 0.7663677930831909]   \n",
       "\n",
       "      predict_2  \\\n",
       "3917       Fake   \n",
       "\n",
       "                                                       probability_2  \\\n",
       "3917  [0.2917669713497162, 0.6962428689002991, 0.011990156024694443]   \n",
       "\n",
       "                                                                                                                                                                                                truncated_text  \\\n",
       "3917  Everyone's talking about the Covid vaccine.... Why aren't more people looking into MMR boosters to increase Covid resistance? Yet ANOTHER study to support a theory I've previously discussed...Journal    \n",
       "\n",
       "        id  \n",
       "3917  3917  \n",
       "\n",
       "[1 rows x 48 columns]"
      ]
     },
     "execution_count": 174,
     "metadata": {},
     "output_type": "execute_result"
    }
   ],
   "source": [
    "data_df.head(1)"
   ]
  },
  {
   "cell_type": "code",
   "execution_count": 175,
   "metadata": {},
   "outputs": [
    {
     "name": "stdout",
     "output_type": "stream",
     "text": [
      "<class 'pandas.core.frame.DataFrame'>\n",
      "Index: 76 entries, 3917 to 788\n",
      "Data columns (total 48 columns):\n",
      " #   Column                                                                                                              Non-Null Count  Dtype  \n",
      "---  ------                                                                                                              --------------  -----  \n",
      " 0   Group Name                                                                                                          76 non-null     object \n",
      " 1   User Name                                                                                                           0 non-null      float64\n",
      " 2   Facebook Id                                                                                                         76 non-null     int64  \n",
      " 3   Page Category                                                                                                       76 non-null     object \n",
      " 4   Page Admin Top Country                                                                                              0 non-null      float64\n",
      " 5   Page Description                                                                                                    0 non-null      float64\n",
      " 6   Page Created                                                                                                        0 non-null      float64\n",
      " 7   Likes at Posting                                                                                                    59 non-null     float64\n",
      " 8   Followers at Posting                                                                                                0 non-null      float64\n",
      " 9   Post Created                                                                                                        76 non-null     object \n",
      " 10  Post Created Date                                                                                                   76 non-null     object \n",
      " 11  Post Created Time                                                                                                   76 non-null     object \n",
      " 12  Type                                                                                                                76 non-null     object \n",
      " 13  Total Interactions                                                                                                  76 non-null     int64  \n",
      " 14  Likes                                                                                                               76 non-null     int64  \n",
      " 15  Comments                                                                                                            76 non-null     int64  \n",
      " 16  Shares                                                                                                              76 non-null     int64  \n",
      " 17  Love                                                                                                                76 non-null     int64  \n",
      " 18  Wow                                                                                                                 76 non-null     int64  \n",
      " 19  Haha                                                                                                                76 non-null     int64  \n",
      " 20  Sad                                                                                                                 76 non-null     int64  \n",
      " 21  Angry                                                                                                               76 non-null     int64  \n",
      " 22  Care                                                                                                                76 non-null     int64  \n",
      " 23  Video Share Status                                                                                                  0 non-null      object \n",
      " 24  Is Video Owner?                                                                                                     76 non-null     object \n",
      " 25  Post Views                                                                                                          76 non-null     int64  \n",
      " 26  Total Views                                                                                                         76 non-null     int64  \n",
      " 27  Total Views For All Crossposts                                                                                      76 non-null     int64  \n",
      " 28  Video Length                                                                                                        0 non-null      object \n",
      " 29  URL                                                                                                                 76 non-null     object \n",
      " 30  Message                                                                                                             76 non-null     object \n",
      " 31  Link                                                                                                                37 non-null     object \n",
      " 32  Final Link                                                                                                          0 non-null      float64\n",
      " 33  Image Text                                                                                                          0 non-null      object \n",
      " 34  Link Text                                                                                                           23 non-null     object \n",
      " 35  Description                                                                                                         20 non-null     object \n",
      " 36  Sponsor Id                                                                                                          0 non-null      float64\n",
      " 37  Sponsor Name                                                                                                        0 non-null      float64\n",
      " 38  Sponsor Category                                                                                                    0 non-null      float64\n",
      " 39  Overperforming Score (weighted  —  Likes 1x Shares 1x Comments 1x Love 1x Wow 1x Haha 1x Sad 1x Angry 1x Care 1x )  76 non-null     float64\n",
      " 40  text                                                                                                                76 non-null     object \n",
      " 41  link_text                                                                                                           23 non-null     object \n",
      " 42  predict_1                                                                                                           76 non-null     object \n",
      " 43  probability_1                                                                                                       76 non-null     object \n",
      " 44  predict_2                                                                                                           23 non-null     object \n",
      " 45  probability_2                                                                                                       23 non-null     object \n",
      " 46  truncated_text                                                                                                      76 non-null     object \n",
      " 47  id                                                                                                                  76 non-null     int64  \n",
      "dtypes: float64(11), int64(15), object(22)\n",
      "memory usage: 29.1+ KB\n"
     ]
    }
   ],
   "source": [
    "data_df.info()"
   ]
  },
  {
   "cell_type": "code",
   "execution_count": 176,
   "metadata": {},
   "outputs": [],
   "source": [
    "idx2label = {\n",
    "    0: \"Real\",\n",
    "    1: \"Fake\",\n",
    "    2: \"Comments\"\n",
    "}"
   ]
  },
  {
   "cell_type": "markdown",
   "metadata": {},
   "source": [
    "# Модель"
   ]
  },
  {
   "cell_type": "code",
   "execution_count": 177,
   "metadata": {},
   "outputs": [
    {
     "name": "stderr",
     "output_type": "stream",
     "text": [
      "d:\\Projects\\env_ml\\.venv\\Lib\\site-packages\\transformers\\tokenization_utils_base.py:1601: FutureWarning:\n",
      "\n",
      "`clean_up_tokenization_spaces` was not set. It will be set to `True` by default. This behavior will be depracted in transformers v4.45, and will be then set to `False` by default. For more details check this issue: https://github.com/huggingface/transformers/issues/31884\n",
      "\n"
     ]
    }
   ],
   "source": [
    "from transformers import RobertaTokenizer\n",
    "\n",
    "tokenizer: RobertaTokenizer = RobertaTokenizer.from_pretrained(MODEL_NAME, cache_dir=DATA_CACHE)"
   ]
  },
  {
   "cell_type": "code",
   "execution_count": 178,
   "metadata": {},
   "outputs": [
    {
     "name": "stderr",
     "output_type": "stream",
     "text": [
      "Some weights of RobertaModel were not initialized from the model checkpoint at roberta-base and are newly initialized: ['roberta.pooler.dense.bias', 'roberta.pooler.dense.weight']\n",
      "You should probably TRAIN this model on a down-stream task to be able to use it for predictions and inference.\n"
     ]
    },
    {
     "data": {
      "text/plain": [
       "'cpu'"
      ]
     },
     "execution_count": 178,
     "metadata": {},
     "output_type": "execute_result"
    }
   ],
   "source": [
    "from transformers import RobertaModel\n",
    "\n",
    "model = RobertaModel.from_pretrained(\n",
    "    MODEL_NAME, cache_dir=DATA_CACHE)\n",
    "\n",
    "model.to(DEVICE)\n",
    "model.eval()\n",
    "DEVICE"
   ]
  },
  {
   "cell_type": "markdown",
   "metadata": {},
   "source": [
    "## Получение эмбедингов"
   ]
  },
  {
   "cell_type": "code",
   "execution_count": 179,
   "metadata": {},
   "outputs": [],
   "source": [
    "import torch\n",
    "import numpy as np\n",
    "from typing import List\n",
    "from tqdm import tqdm\n",
    "\n",
    "def add_text_embeddings(\n",
    "    texts: List[str], \n",
    "    strategy: str = \"cls\",\n",
    "    max_length: int = 128, \n",
    "    batch_size: int = 64\n",
    ") -> np.ndarray:\n",
    "    \"\"\"\n",
    "    Генерирует эмбеддинги для списка текстов.\n",
    "\n",
    "    Параметры:\n",
    "    - texts: список текстов для обработки.\n",
    "    - strategy: метод усреднения токенов (\"mean\", \"cls\", \"max\", \"sum\").\n",
    "    - max_length: максимальная длина токенов.\n",
    "    - batch_size: размер батча для обработки.\n",
    "\n",
    "    Возвращает:\n",
    "    - Массив NumPy с эмбеддингами (shape: [num_texts, embedding_dim]).\n",
    "    \"\"\"\n",
    "    embeddings = []\n",
    "\n",
    "    for i in tqdm(range(0, len(texts), batch_size), desc=\"Processing batches\"):\n",
    "        inputs = tokenizer(\n",
    "            texts[i:i + batch_size], padding=True, truncation=True, \n",
    "            max_length=max_length, return_tensors=\"pt\"\n",
    "        )\n",
    "\n",
    "        with torch.no_grad():\n",
    "            outputs = model(**inputs)\n",
    "        \n",
    "        hidden_states = outputs.last_hidden_state\n",
    "\n",
    "        if strategy == \"mean\":\n",
    "            batch_embeddings = hidden_states.mean(dim=1)\n",
    "        elif strategy == \"cls\":\n",
    "            batch_embeddings = hidden_states[:, 0, :]\n",
    "        elif strategy == \"max\":\n",
    "            batch_embeddings, _ = hidden_states.max(dim=1)\n",
    "        elif strategy == \"sum\":\n",
    "            batch_embeddings = hidden_states.sum(dim=1)\n",
    "        else:\n",
    "            raise ValueError(\"Некорректная стратегия. Выберите из ['mean', 'cls', 'max', 'sum'].\")\n",
    "        embeddings.append(batch_embeddings.cpu().numpy())\n",
    "    return np.vstack(embeddings)\n"
   ]
  },
  {
   "cell_type": "code",
   "execution_count": 180,
   "metadata": {},
   "outputs": [
    {
     "name": "stderr",
     "output_type": "stream",
     "text": [
      "Processing batches: 100%|██████████| 5/5 [00:04<00:00,  1.22it/s]\n"
     ]
    }
   ],
   "source": [
    "embeddings = add_text_embeddings(data_df['text'].to_list(), strategy=\"cls\", max_length=MAX_LENGTH, batch_size=BATCH_SIZE)\n",
    "import pickle\n",
    "\n",
    "with open(DATA_PATH / 'facebook_embeddings.pkl', 'wb') as f:\n",
    "    pickle.dump(embeddings, f)"
   ]
  },
  {
   "cell_type": "code",
   "execution_count": 181,
   "metadata": {},
   "outputs": [],
   "source": [
    "import pickle\n",
    "\n",
    "with open(DATA_PATH / 'facebook_embeddings.pkl', 'rb') as f:\n",
    "    embeddings = pickle.load(f)"
   ]
  },
  {
   "cell_type": "markdown",
   "metadata": {},
   "source": [
    "## Уменьшение размерности"
   ]
  },
  {
   "cell_type": "markdown",
   "metadata": {},
   "source": [
    "## Общие методы"
   ]
  },
  {
   "cell_type": "code",
   "execution_count": 194,
   "metadata": {},
   "outputs": [],
   "source": [
    "import numpy as np\n",
    "import pandas as pd\n",
    "import umap\n",
    "import plotly.graph_objects as go\n",
    "from sklearn.decomposition import PCA\n",
    "from sklearn.manifold import TSNE\n",
    "from typing import Literal, Optional\n",
    "from scipy.spatial import cKDTree\n",
    "\n",
    "\n",
    "idx2label = {\n",
    "    0: \"Real\",\n",
    "    1: \"Fake\",\n",
    "    2: \"Comments\"\n",
    "}\n",
    "\n",
    "\n",
    "label2idx = {v: k for k, v in idx2label.items()}\n",
    "\n",
    "class EmbeddingVisualizer:\n",
    "    def __init__(self, embeddings: np.ndarray, data_df: pd.DataFrame):\n",
    "        \"\"\"\n",
    "        Универсальный класс для снижения размерности эмбеддингов и визуализации.\n",
    "\n",
    "        :param embeddings: Массив эмбеддингов (shape: [num_samples, embedding_dim])\n",
    "        :param data_df: DataFrame с дополнительными данными (например, text, predict_1, id)\n",
    "        \"\"\"\n",
    "        self.embeddings = embeddings\n",
    "        self.data_df = data_df.copy()\n",
    "        self.reduced_embeddings = None\n",
    "    \n",
    "    def reduce_dimensionality(self, method: Literal[\"pca\", \"tsne\", \"umap\"], n_components: int = 2):\n",
    "        \"\"\"\n",
    "        Снижает размерность эмбеддингов с помощью указанного метода.\n",
    "        \n",
    "        :param method: Метод снижения размерности ('pca', 'tsne', 'umap')\n",
    "        :param n_components: Количество целевых измерений (2 или 3 для визуализации)\n",
    "        \"\"\"\n",
    "        if method == \"pca\":\n",
    "            reducer = PCA(n_components=n_components)\n",
    "        elif method == \"tsne\":\n",
    "            reducer = TSNE(n_components=n_components, perplexity=30, random_state=42)\n",
    "        elif method == \"umap\":\n",
    "            reducer = umap.UMAP(n_components=n_components, random_state=42)\n",
    "        else:\n",
    "            raise ValueError(\"Неподдерживаемый метод. Используйте 'pca', 'tsne' или 'umap'.\")\n",
    "        \n",
    "        self.reduced_embeddings = reducer.fit_transform(self.embeddings)\n",
    "        for i in range(n_components):\n",
    "            self.data_df[f\"{method}_{i+1}\"] = self.reduced_embeddings[:, i]\n",
    "    \n",
    "    def compute_opacity(self, points: np.ndarray, radius: float = 0.1) -> np.ndarray:\n",
    "        \"\"\"\n",
    "        Рассчитывает прозрачность точек на основе их плотности.\n",
    "        Теперь более плотные точки ярче, а разреженные — тусклее.\n",
    "        \n",
    "        :param points: Массив координат (Nx2 или Nx3)\n",
    "        :param radius: Радиус для расчета плотности точек\n",
    "        :return: Массив значений прозрачности (0.3 - 1.0)\n",
    "        \"\"\"\n",
    "        tree = cKDTree(points)\n",
    "        densities = np.array([len(tree.query_ball_point(p, radius)) for p in points])\n",
    "        min_density = np.min(densities)\n",
    "        max_density = np.max(densities)\n",
    "        opacities = 0.3 + (densities - min_density) / (max_density - min_density) * 0.7  # Инвертируем прозрачность\n",
    "        return np.clip(opacities, 0.3, 1.0)\n",
    "    \n",
    "    def visualize(self, method: Literal[\"pca\", \"tsne\", \"umap\"], n_components: int = 2, title: str = \"Embedding Visualization\", label2idx=label2idx):\n",
    "        \"\"\"\n",
    "        Визуализирует сниженные эмбеддинги с интерактивными точками в Plotly.\n",
    "        \n",
    "        :param method: Метод, использованный для снижения размерности ('pca', 'tsne', 'umap')\n",
    "        :param n_components: Размерность визуализации (2D или 3D)\n",
    "        :param title: Заголовок графика\n",
    "        \"\"\"\n",
    "        if self.reduced_embeddings is None or f\"{method}_1\" not in self.data_df.columns:\n",
    "            raise ValueError(\"Сначала вызовите reduce_dimensionality().\")\n",
    "        \n",
    "        self.data_df[\"predict_idx\"] = self.data_df[\"predict_1\"].map(label2idx)\n",
    "        coords = self.reduced_embeddings[:, :n_components]\n",
    "        opacities = self.compute_opacity(coords)\n",
    "        \n",
    "        color_mapping = {0: \"blue\", 1: \"red\", 2: \"green\"}\n",
    "        \n",
    "        fig = go.Figure()\n",
    "        \n",
    "        if n_components == 2:\n",
    "            for idx, label in idx2label.items():\n",
    "                subset = self.data_df[self.data_df[\"predict_idx\"] == idx]\n",
    "                opacity_subset = opacities[self.data_df[\"predict_idx\"] == idx]\n",
    "\n",
    "                fig.add_trace(go.Scatter(\n",
    "                    x=subset[f\"{method}_1\"],\n",
    "                    y=subset[f\"{method}_2\"],\n",
    "                    mode=\"markers\",\n",
    "                    marker=dict(\n",
    "                        size=8,\n",
    "                        # opacity=opacity_subset,\n",
    "                        color=color_mapping[idx]\n",
    "                    ),\n",
    "                    name=f\"{label}\",\n",
    "                    customdata=subset[[\"truncated_text\", \"id\", \"predict_1\"]],\n",
    "                    hovertemplate=(\n",
    "                        \"<b>Text:</b> %{customdata[0]}<br>\" \n",
    "                        \"<b>ID:</b> %{customdata[1]}<br>\"\n",
    "                        \"<b>Predict:</b> %{customdata[2]}\"\n",
    "                    )\n",
    "                ))\n",
    "        else:\n",
    "            for idx, label in idx2label.items():\n",
    "                subset = self.data_df[self.data_df[\"predict_idx\"] == idx]\n",
    "                # opacity_subset = opacities[self.data_df[\"predict_idx\"] == idx]\n",
    "\n",
    "                fig.add_trace(go.Scatter3d(\n",
    "                    x=subset[f\"{method}_1\"],\n",
    "                    y=subset[f\"{method}_2\"],\n",
    "                    z=subset[f\"{method}_3\"],\n",
    "                    mode=\"markers\",\n",
    "                    marker=dict(\n",
    "                        size=5,\n",
    "                        # opacity=opacity_subset,\n",
    "                        color=color_mapping[idx]\n",
    "                    ),\n",
    "                    name=f\"{label}\",\n",
    "                    customdata=subset[[\"truncated_text\", \"id\", \"predict_1\"]],\n",
    "                    hovertemplate=(\n",
    "                        \"<b>Text:</b> %{customdata[0]}<br>\" \n",
    "                        \"<b>ID:</b> %{customdata[1]}<br>\"\n",
    "                        \"<b>Predict:</b> %{customdata[2]}\"\n",
    "                    )\n",
    "                ))\n",
    "        \n",
    "        fig.update_layout(\n",
    "            title=title,\n",
    "            xaxis=dict(\n",
    "                title=f\"{method.upper()} 1 →\",  # Добавляем стрелку\n",
    "                showline=True,  # Добавляем рамку\n",
    "                linewidth=2,\n",
    "                linecolor=\"black\",\n",
    "                mirror=True,  # Рамка вокруг всей области графика\n",
    "                gridcolor=\"lightgray\",\n",
    "                gridwidth=0.5,  # Делаем сетку тоньше\n",
    "                zeroline=True,  # Ось X проходит через 0\n",
    "                zerolinecolor=\"black\",\n",
    "                zerolinewidth=1.2\n",
    "            ),\n",
    "            yaxis=dict(\n",
    "                title=f\"{method.upper()} 2 →\",  # Добавляем стрелку\n",
    "                showline=True,\n",
    "                linewidth=2,\n",
    "                linecolor=\"black\",\n",
    "                mirror=True,\n",
    "                gridcolor=\"lightgray\",\n",
    "                gridwidth=0.5,\n",
    "                zeroline=True,  # Ось Y проходит через 0\n",
    "                zerolinecolor=\"black\",\n",
    "                zerolinewidth=1.2\n",
    "            ),\n",
    "            template=\"plotly_white\",\n",
    "            width=1400,\n",
    "            height=1000,\n",
    "            legend_title=\"Class Labels\"\n",
    "        )\n",
    "\n",
    "        if n_components == 3:\n",
    "            fig.update_layout(scene=dict(\n",
    "                xaxis=dict(\n",
    "                    title=f\"{method.upper()} 1 →\",  # Добавляем стрелку\n",
    "                    showline=True,\n",
    "                    linewidth=2,\n",
    "                    linecolor=\"black\",\n",
    "                    mirror=True,\n",
    "                    gridcolor=\"lightgray\",\n",
    "                    gridwidth=0.5\n",
    "                ),\n",
    "                yaxis=dict(\n",
    "                    title=f\"{method.upper()} 2 →\",  # Добавляем стрелку\n",
    "                    showline=True,\n",
    "                    linewidth=2,\n",
    "                    linecolor=\"black\",\n",
    "                    mirror=True,\n",
    "                    gridcolor=\"lightgray\",\n",
    "                    gridwidth=0.5\n",
    "                ),\n",
    "                zaxis=dict(\n",
    "                    title=f\"{method.upper()} 3 →\",  # Добавляем стрелку\n",
    "                    showline=True,\n",
    "                    linewidth=2,\n",
    "                    linecolor=\"black\",\n",
    "                    mirror=True,\n",
    "                    gridcolor=\"lightgray\",\n",
    "                    gridwidth=0.5\n",
    "                )\n",
    "            ))\n",
    "\n",
    "\n",
    "\n",
    "        \n",
    "        if n_components == 3:\n",
    "            fig.update_layout(scene=dict(\n",
    "                xaxis_title=f\"{method.upper()} 1\",\n",
    "                yaxis_title=f\"{method.upper()} 2\",\n",
    "                zaxis_title=f\"{method.upper()} 3\"\n",
    "            ))\n",
    "        \n",
    "        \n",
    "        \n",
    "        fig.show()\n"
   ]
  },
  {
   "cell_type": "markdown",
   "metadata": {},
   "source": [
    "## Анализ"
   ]
  },
  {
   "cell_type": "code",
   "execution_count": 195,
   "metadata": {},
   "outputs": [],
   "source": [
    "visualizer = EmbeddingVisualizer(embeddings, data_df)\n"
   ]
  },
  {
   "cell_type": "markdown",
   "metadata": {},
   "source": [
    "### PCA"
   ]
  },
  {
   "cell_type": "code",
   "execution_count": 196,
   "metadata": {},
   "outputs": [
    {
     "data": {
      "application/vnd.plotly.v1+json": {
       "config": {
        "plotlyServerURL": "https://plot.ly"
       },
       "data": [
        {
         "customdata": [
          [
           "UK TIER 2 Care home visas available inside UK and outside Uk as well can apply Leeds. Carehome 10 vacancies 7 females and 3 males 3 months experience Gloucestershire 8 vacancies 6 females and 2 males.",
           1375,
           "Real"
          ],
          [
           "Canada making progress with vaccine. Hopefully trials will prove to be successful as countries around the world race to find a way to protect global population.",
           2053,
           "Real"
          ],
          [
           "For those in the USA who have received their vaccine-- please consider signing up for the CDC's Vsafe after vaccination health checker. You can sign up anytime after receiving your first dose until 6 ",
           3089,
           "Real"
          ],
          [
           "I would like to acknowledge the entire Anesthesia staff the Anesthesiologist, CRNA’s and the Anesthesia Techs. These are the staff members on the front line responsible for intubations and placing the",
           5265,
           "Real"
          ],
          [
           "Female self-employed live-in carer needed for a lady near High Wycombe. Driver with own car preferred. Must have permission to work in the UK. £855/wk. Please PM me ref:SC No sponsorship available - s",
           5790,
           "Real"
          ],
          [
           "Keeping everyone of you in my prayers. Please know that your service to others at this tragic and chaotic time is what His Holiness always talks about. We are all extremely proud of you 🙏🏽💪🏼👍🏼",
           4859,
           "Real"
          ],
          [
           "https://www.mirror.co.uk/news/uk-news/breaking-coronavirus-mcdonalds-closing-uk-21735921 When they start closing big food chains that can only mean 1 thing!!!",
           6540,
           "Real"
          ],
          [
           "https://www.independent.co.uk/news/uk/politics/coronavirus-rent-mortgage-payments-covid-19-labour-corbyn-johnson-a9402596.html Why everyone didn't vote for Labour is beyond me!!! If our prime minister",
           6702,
           "Real"
          ]
         ],
         "hovertemplate": "<b>Text:</b> %{customdata[0]}<br><b>ID:</b> %{customdata[1]}<br><b>Predict:</b> %{customdata[2]}",
         "marker": {
          "color": "blue",
          "size": 8
         },
         "mode": "markers",
         "name": "Real",
         "type": "scatter",
         "x": {
          "bdata": "o4H+vvXXFT8Df/U+9ggMPr4+Wz8zYys/iIr9vnUzHL8=",
          "dtype": "f4"
         },
         "y": {
          "bdata": "wMrPPHZP0TzgzVS+cp+Nvuflmz42kYk+jbX3PRIcr7w=",
          "dtype": "f4"
         }
        },
        {
         "customdata": [
          [
           "Are you all seeing a lot of “second timers”?? If you have, how far apart between diagnoses and was the second time generally worse or better symptom wise? Was it truly a second time contraction or was",
           1280,
           "Fake"
          ],
          [
           "Interesting. I can’t wait to see what info further research uncovers.",
           871,
           "Fake"
          ],
          [
           "Are there any articles objecting to the blood type theory that A blood types are 50% more likely to get ARDS version of Covid-19?",
           4258,
           "Fake"
          ],
          [
           "As my Grammy used to say, “If you don’t have any thing nice to say, don’t say anything at all.” A few of the MANY reasons why I’ve chosen to receive the COVID-19 Vaccine: 1. As a nurse I feel it is my",
           5219,
           "Fake"
          ],
          [
           "Anyone been tested for covid and it be negative...then your symptoms get worse? Been tested for flu, strep, mono, checked for pneumonia, PE...then covid tested again. Waiting on results. Feeling awful",
           3332,
           "Fake"
          ],
          [
           "We're praising a man for doing things he should have done as soon as this thing left China!!!",
           6036,
           "Fake"
          ],
          [
           "recruiting from india .middle east and phillippines only",
           5190,
           "Fake"
          ],
          [
           "Got my 1st vaccine today 😁",
           1510,
           "Fake"
          ],
          [
           "https://abcnews.go.com/Politics/9000-retired-army-medical-personnel-respond-armys-call/story?id=69833949&cid=social_fb_abcn Upbeat news—here comes some backup.",
           51,
           "Fake"
          ],
          [
           "A brave and noble man. 💚💙",
           31,
           "Fake"
          ],
          [
           "I have a tightness in my chest, no cough. I can’t tell if it’s anxiety or what.. I’m trying to stay away from the hospital if I can",
           5510,
           "Fake"
          ],
          [
           "To go with our cloth masks? Kudos to the community for loving on the local healthcare workers!",
           3463,
           "Fake"
          ],
          [
           "Great visual for understanding how cough, sneeze, or talking droplets work. How long they last, how they float, how to get rid of them etc. This is how covid or other airborne pathogens are spread.",
           4785,
           "Fake"
          ],
          [
           "Physicians may soon be able to tailor COVID19 treatments based on their genes.",
           5983,
           "Fake"
          ],
          [
           "Why does Aspirin, and or ibuprofen affect the body of somebody who has the coronavirus in a deadly way? Does anybody in the medical know why? I have a friend with the virus and would love to explain w",
           3687,
           "Fake"
          ],
          [
           "Is everyone wearing hair covers in their Covid rooms? We’ve been told not to and that it doesn’t ‘stick’ to hair... 🧐 then again they tell us something different every day.",
           2961,
           "Fake"
          ]
         ],
         "hovertemplate": "<b>Text:</b> %{customdata[0]}<br><b>ID:</b> %{customdata[1]}<br><b>Predict:</b> %{customdata[2]}",
         "marker": {
          "color": "red",
          "size": 8
         },
         "mode": "markers",
         "name": "Fake",
         "type": "scatter",
         "x": {
          "bdata": "t2QyvqYUPD/KmbO+N4QBPulcIz9NNAS/SvTyvnktvL66cr8+vKrcvnyIwT4Ok8C+pfwYP/hcVT9ZJYS+5WzoPg==",
          "dtype": "f4"
         },
         "y": {
          "bdata": "+3K4PM+LPT67S8A9A7Kjvlb69b2fO6Q9+MN7PaueAT6WYmc+dTnVPbXaKr1r4IE+A4vRvanmKj7Wq7O8OPRqPg==",
          "dtype": "f4"
         }
        },
        {
         "customdata": [
          [
           "Everyone's talking about the Covid vaccine.... Why aren't more people looking into MMR boosters to increase Covid resistance? Yet ANOTHER study to support a theory I've previously discussed...Journal ",
           3917,
           "Comments"
          ],
          [
           "Guys if they're bringing tanks into the city which looks like they are means army's on their way which means lock down is imminent and martial law will be applied!!!",
           6601,
           "Comments"
          ],
          [
           "I’m a Rn and long hauler. Infected in April with a “resurgence” in June and lost taste and smell. I still only have about 50-60% of it back. I got my first Pfizer shot on Monday. Mildly sore arm and f",
           696,
           "Comments"
          ],
          [
           "We are hiring and taking on Healthcare Assistants, Support Workers, Registered General Nurse's & Registered Mental Nurse's in the Hastings, and surrounding areas. • Great rates of pay • Recommend a fr",
           2075,
           "Comments"
          ],
          [
           "What symptoms are you guys seeing most positive kids present with?",
           1798,
           "Comments"
          ],
          [
           "Are you wiping down your groceries still? I am.",
           168,
           "Comments"
          ],
          [
           "Thoughts on dentist appointments?",
           2719,
           "Comments"
          ],
          [
           "Hello folks. I'm a HCA in a Nursing Home these days. In previous years I have been working in physiological measurement, as a cardiac technician, and also in audiology. I feel very privileged to be ca",
           6714,
           "Comments"
          ],
          [
           "Did anyone get a rash like small little red bumps that are itchy?",
           5430,
           "Comments"
          ],
          [
           "Can anyone please tell me if a fish van still comes to Newmill please",
           6465,
           "Comments"
          ],
          [
           "Will be leaving this week to help out in Brooklyn, other than hard to find PPE and sanitizer, what are the must haves that should be on my packing list?",
           1351,
           "Comments"
          ],
          [
           "What an emotional day! I had to find my own way to get vaccinated, but I got it! Thank you to the bright minds to make this happen! 🙏🏻❤️",
           4840,
           "Comments"
          ],
          [
           "I am almost 3 weeks post 2nd Pfizer vaccine. Is anyone experiencing joint pains, flank pains? Never had issues with my knees or elbows or sacral joints and now having pains? Wondering if anyone else h",
           3679,
           "Comments"
          ],
          [
           "Take a long hard look at our leader",
           6269,
           "Comments"
          ],
          [
           "A couple of days ago I posted a picture of a doctor, Dr. Kevin Tsui cleaning a room to help one of our house cleaning colleagues so she would not have to enter a room with a patient positive for COVID",
           48,
           "Comments"
          ],
          [
           "Just wondering if y'all have a special name for your COVID-19 unit? We call ours The Cove. Not very original, but I like the picture it invokes of people sheltering together in a remote spot, huddled ",
           663,
           "Comments"
          ],
          [
           "Last night in our ER we had a very very very sick patient in her 20s that came in in full-blown DKA, new onset type one diabetes, and septic. the sickest DKA I’ve ever seen (ph of 6.7). Had just recov",
           1136,
           "Comments"
          ],
          [
           "\"And then [if] I returned to United Hospital in the ER — if I said that there was no trepidation on my part, I’d be completely lying. I would be very nervous about walking back into that ER, I would b",
           1418,
           "Comments"
          ],
          [
           "JOB ALERT! Are you seeking a new exciting role in care? Do you want to build a long-lasting career? NO SPONSORSHIP IS AVAILABLE (overseas or UK). IMMEDIATE START IN NR16 Post code area We have a numbe",
           5912,
           "Comments"
          ],
          [
           "I know people are sharing what vitamins they're taking to try to curb getting sick or help while they are sick but can you all elaborate how much? I'm trying to figure out how much vitamin c, zinc, an",
           1743,
           "Comments"
          ],
          [
           "𝑵𝑯𝑺 𝑹𝒆𝒄𝒓𝒖𝒊𝒕𝒎𝒆𝒏𝒕 - 𝑵𝒖𝒓𝒔𝒆𝒔 𝒕𝒐 𝑺𝒐𝒖𝒕𝒉𝒂𝒎𝒑𝒕𝒐𝒏 Embracing a new professional challenge is not always easy no matter how rewarding it may seem. Therefore, at the top of our priorities should be the quality of ",
           5126,
           "Comments"
          ],
          [
           "Since the United States is working on opening a backup my guess is that Healthcare workers will not receive hazard pay or the additional $25,000 stimulus that was in on the table. Thought was nice whi",
           2593,
           "Comments"
          ],
          [
           "Another 25 dropped off for my nurse neighbour to take into the hospital tomorrow.",
           4769,
           "Comments"
          ],
          [
           "How do you guys like this one. Nurse in FL, dialysis nurse, has 102 fever, cough and feels like there is a band around her chest can’t get tested without a MD order, can’t get in to see doctor. I mean",
           725,
           "Comments"
          ],
          [
           "How do you all feel about this? I feel my anxiety coming on just thinking about it..",
           1195,
           "Comments"
          ],
          [
           "Gina--RN (florida) UPDATE:--My friend (below) had been home for 10 days. He lost 17 lbs during his hospitalization and was working slowly on regaining his strength. Even something as simple as a showe",
           2908,
           "Comments"
          ],
          [
           "To produce a speedier vaccine rollout I have to wonder if retired doctors, pharmacists, RNs, LVNs (inactive license) could be recruited to volunteer to vaccinate the public..Drive thru settings, outsi",
           1023,
           "Comments"
          ],
          [
           "Update: spoke to PCP about concerns and she stated that she absolutely agrees that someone breastfeeding shouldn’t care for these pts in an active role. She is writing a note to remove hypothetical nu",
           2078,
           "Comments"
          ],
          [
           "Heres a success story from Italy! ",
           4980,
           "Comments"
          ],
          [
           "NY Times has a series of stories of those we have lost... Rest in peace my social worker sister",
           3165,
           "Comments"
          ],
          [
           "Welcoming applications for Interviews with NHS hospital in Eastern England. Nurses with IELTS or OET please send us your CV with IELTS or OET to info@abnurses.com",
           4363,
           "Comments"
          ],
          [
           "How many of you have concerns about the effectiveness of the tests themselves? There seem to be a lot of negative tests when other clinical indicators point to covid? Do any of you have concerns that ",
           4897,
           "Comments"
          ],
          [
           "Hey guys we are donating face shields to medical staff that we manufacture at our shop! They are made out of heavy duty marine grade materials so they can be cleaned and re used over and over! We just",
           4802,
           "Comments"
          ],
          [
           "Anyone taking vitamins to help their immune system?",
           1395,
           "Comments"
          ],
          [
           "Hold the line!",
           1001,
           "Comments"
          ],
          [
           "Anyone besides me take Losartan? ",
           3467,
           "Comments"
          ],
          [
           "Update we found our piggy in bottom of purple bin under all the cans, someone put him in the bin but thankfully he's alive. Hello, I know this is nothing to do with Covid 19 but we've a missing guinea",
           5094,
           "Comments"
          ],
          [
           "I am a nurse and I was working on a renal floor yesterday and overheard a kidney doctor talking about how the COVID patients are clogging up the dialysis machines. I asked him if he has seen this befo",
           2469,
           "Comments"
          ],
          [
           "Can't say I didn't see this coming. ",
           763,
           "Comments"
          ],
          [
           "For Employers Care Staff available For Hire Permanent employment Please get in touch ! Thank you !",
           3131,
           "Comments"
          ],
          [
           "Does anyone know if someone is doing antibody testing in southwest Florida?",
           6579,
           "Comments"
          ],
          [
           "There is an antibody treatment that stops every COVID-19 variant—and possibly all future variants So by targeting this location, sotrovimab could be effective against all known variants and potential ",
           3778,
           "Comments"
          ],
          [
           "Today I saw so many people walking without masks and close mingling again etc. I know we are getting tired of this and believe me so am I but getting tired and loosening things up is like saying fine ",
           989,
           "Comments"
          ],
          [
           "Anyone here done a 1:1 sitter in a positive covid room is this even ok? not a short period but for an entire shift?",
           1716,
           "Comments"
          ],
          [
           "Symptomatic Covid diagnosed 22 days ago with positive rapid and PCR. The mild symptoms revolved within a few days. Quarantined for 14 days from positive test.  Now with chills, fever, aches, malaise. ",
           4113,
           "Comments"
          ],
          [
           "I have someone I work with that tested positive and did the quarantine for 14 days. She was released to come back to work and is still coughing up a lung and was re swabbed and it still shows positive",
           2734,
           "Comments"
          ],
          [
           "Like Spain we should all hang out our windows at the same time around the country and bang some pots and pans and demand the government look after ALL of us not just the rich and those with a mortgage",
           6543,
           "Comments"
          ],
          [
           "Covid number calculation: According to Dr. Curran (the Doc who worked on Ebola in the early 80's), said 1% of Covid cases are fatal. By having 2 knowns, we can find the unknown. So knowing that as a f",
           1625,
           "Comments"
          ],
          [
           "That post made my night. But thanks admin for outting her",
           5748,
           "Comments"
          ],
          [
           "A hopeful bit of news : Bangkok (and Thailand by extension) has not seen any new cases domestically in 25 days. All new ones (5 at the moment) arrived from abroad. When a friend of mine arrived into B",
           2718,
           "Comments"
          ],
          [
           "CHILD CUSTODY Hello Everyone. I have an 8 year old daughter that I share custody with her father. Her father has taken her from me, stating that I will give her Covid because I'm a nurse working with ",
           227,
           "Comments"
          ],
          [
           "Canada has now implemented all flights banned to the Caribbean and Mexico from Canada. Also, Canada will have only four Airports open. Toronto, Montreal, Vancouver & Calgary. All incoming passengers w",
           788,
           "Comments"
          ]
         ],
         "hovertemplate": "<b>Text:</b> %{customdata[0]}<br><b>ID:</b> %{customdata[1]}<br><b>Predict:</b> %{customdata[2]}",
         "marker": {
          "color": "green",
          "size": 8
         },
         "mode": "markers",
         "name": "Comments",
         "type": "scatter",
         "x": {
          "bdata": "dUPDPnn5CL881aI+L28ev6crq76fpZs/of+qviFCGD933uW+KFTgvruiib7r81y+buYCvwRL5b7WHgU/gUqePSkGzj5foxy/kcSZvqudwL4YCt0+lCOWPgoUgz8G8cc+4PTIvs15k74O6u6+f/7WvCkf3b7bI4a+QGqoPohVMr6pSVo+dCq/vpxV074dreK+n457Ppj1uL5D6BI/mvQCv6fakb5FDZk+lRSJvRYI/L5p2qs+Uuo7P/sdCL8qc828fKdTPv729D1mq62+Ub2cPg==",
          "dtype": "f4"
         },
         "y": {
          "bdata": "oilmvo0Fcz0LPma+XAWBPOWWuj0rwbQ+KfSDPjkAJ75E+ms9lroKPpV4uz31vSk+dD0lvj9kAz5uueq9hC4bvuNU+r6bD9u+XEBcPuaKGb6SIdE+bnfMvF9QiD7zsZi9PjitPUcfir7bu+i9DKC1vt4Aej5RdT0+oii/Pa1wRz2Eq8o9Vpk3Po9VTz6OpYQ+Zn+bPJ3Rub5iB1w+D5A+PstPQz7I1ae+4BgTvl55UbuuXaW+t1Fcvv0MTT6L18u+MNpTPgGVmr6Nhv2+SDanvg==",
          "dtype": "f4"
         }
        }
       ],
       "layout": {
        "height": 1000,
        "legend": {
         "title": {
          "text": "Class Labels"
         }
        },
        "template": {
         "data": {
          "bar": [
           {
            "error_x": {
             "color": "#2a3f5f"
            },
            "error_y": {
             "color": "#2a3f5f"
            },
            "marker": {
             "line": {
              "color": "white",
              "width": 0.5
             },
             "pattern": {
              "fillmode": "overlay",
              "size": 10,
              "solidity": 0.2
             }
            },
            "type": "bar"
           }
          ],
          "barpolar": [
           {
            "marker": {
             "line": {
              "color": "white",
              "width": 0.5
             },
             "pattern": {
              "fillmode": "overlay",
              "size": 10,
              "solidity": 0.2
             }
            },
            "type": "barpolar"
           }
          ],
          "carpet": [
           {
            "aaxis": {
             "endlinecolor": "#2a3f5f",
             "gridcolor": "#C8D4E3",
             "linecolor": "#C8D4E3",
             "minorgridcolor": "#C8D4E3",
             "startlinecolor": "#2a3f5f"
            },
            "baxis": {
             "endlinecolor": "#2a3f5f",
             "gridcolor": "#C8D4E3",
             "linecolor": "#C8D4E3",
             "minorgridcolor": "#C8D4E3",
             "startlinecolor": "#2a3f5f"
            },
            "type": "carpet"
           }
          ],
          "choropleth": [
           {
            "colorbar": {
             "outlinewidth": 0,
             "ticks": ""
            },
            "type": "choropleth"
           }
          ],
          "contour": [
           {
            "colorbar": {
             "outlinewidth": 0,
             "ticks": ""
            },
            "colorscale": [
             [
              0,
              "#0d0887"
             ],
             [
              0.1111111111111111,
              "#46039f"
             ],
             [
              0.2222222222222222,
              "#7201a8"
             ],
             [
              0.3333333333333333,
              "#9c179e"
             ],
             [
              0.4444444444444444,
              "#bd3786"
             ],
             [
              0.5555555555555556,
              "#d8576b"
             ],
             [
              0.6666666666666666,
              "#ed7953"
             ],
             [
              0.7777777777777778,
              "#fb9f3a"
             ],
             [
              0.8888888888888888,
              "#fdca26"
             ],
             [
              1,
              "#f0f921"
             ]
            ],
            "type": "contour"
           }
          ],
          "contourcarpet": [
           {
            "colorbar": {
             "outlinewidth": 0,
             "ticks": ""
            },
            "type": "contourcarpet"
           }
          ],
          "heatmap": [
           {
            "colorbar": {
             "outlinewidth": 0,
             "ticks": ""
            },
            "colorscale": [
             [
              0,
              "#0d0887"
             ],
             [
              0.1111111111111111,
              "#46039f"
             ],
             [
              0.2222222222222222,
              "#7201a8"
             ],
             [
              0.3333333333333333,
              "#9c179e"
             ],
             [
              0.4444444444444444,
              "#bd3786"
             ],
             [
              0.5555555555555556,
              "#d8576b"
             ],
             [
              0.6666666666666666,
              "#ed7953"
             ],
             [
              0.7777777777777778,
              "#fb9f3a"
             ],
             [
              0.8888888888888888,
              "#fdca26"
             ],
             [
              1,
              "#f0f921"
             ]
            ],
            "type": "heatmap"
           }
          ],
          "histogram": [
           {
            "marker": {
             "pattern": {
              "fillmode": "overlay",
              "size": 10,
              "solidity": 0.2
             }
            },
            "type": "histogram"
           }
          ],
          "histogram2d": [
           {
            "colorbar": {
             "outlinewidth": 0,
             "ticks": ""
            },
            "colorscale": [
             [
              0,
              "#0d0887"
             ],
             [
              0.1111111111111111,
              "#46039f"
             ],
             [
              0.2222222222222222,
              "#7201a8"
             ],
             [
              0.3333333333333333,
              "#9c179e"
             ],
             [
              0.4444444444444444,
              "#bd3786"
             ],
             [
              0.5555555555555556,
              "#d8576b"
             ],
             [
              0.6666666666666666,
              "#ed7953"
             ],
             [
              0.7777777777777778,
              "#fb9f3a"
             ],
             [
              0.8888888888888888,
              "#fdca26"
             ],
             [
              1,
              "#f0f921"
             ]
            ],
            "type": "histogram2d"
           }
          ],
          "histogram2dcontour": [
           {
            "colorbar": {
             "outlinewidth": 0,
             "ticks": ""
            },
            "colorscale": [
             [
              0,
              "#0d0887"
             ],
             [
              0.1111111111111111,
              "#46039f"
             ],
             [
              0.2222222222222222,
              "#7201a8"
             ],
             [
              0.3333333333333333,
              "#9c179e"
             ],
             [
              0.4444444444444444,
              "#bd3786"
             ],
             [
              0.5555555555555556,
              "#d8576b"
             ],
             [
              0.6666666666666666,
              "#ed7953"
             ],
             [
              0.7777777777777778,
              "#fb9f3a"
             ],
             [
              0.8888888888888888,
              "#fdca26"
             ],
             [
              1,
              "#f0f921"
             ]
            ],
            "type": "histogram2dcontour"
           }
          ],
          "mesh3d": [
           {
            "colorbar": {
             "outlinewidth": 0,
             "ticks": ""
            },
            "type": "mesh3d"
           }
          ],
          "parcoords": [
           {
            "line": {
             "colorbar": {
              "outlinewidth": 0,
              "ticks": ""
             }
            },
            "type": "parcoords"
           }
          ],
          "pie": [
           {
            "automargin": true,
            "type": "pie"
           }
          ],
          "scatter": [
           {
            "fillpattern": {
             "fillmode": "overlay",
             "size": 10,
             "solidity": 0.2
            },
            "type": "scatter"
           }
          ],
          "scatter3d": [
           {
            "line": {
             "colorbar": {
              "outlinewidth": 0,
              "ticks": ""
             }
            },
            "marker": {
             "colorbar": {
              "outlinewidth": 0,
              "ticks": ""
             }
            },
            "type": "scatter3d"
           }
          ],
          "scattercarpet": [
           {
            "marker": {
             "colorbar": {
              "outlinewidth": 0,
              "ticks": ""
             }
            },
            "type": "scattercarpet"
           }
          ],
          "scattergeo": [
           {
            "marker": {
             "colorbar": {
              "outlinewidth": 0,
              "ticks": ""
             }
            },
            "type": "scattergeo"
           }
          ],
          "scattergl": [
           {
            "marker": {
             "colorbar": {
              "outlinewidth": 0,
              "ticks": ""
             }
            },
            "type": "scattergl"
           }
          ],
          "scattermap": [
           {
            "marker": {
             "colorbar": {
              "outlinewidth": 0,
              "ticks": ""
             }
            },
            "type": "scattermap"
           }
          ],
          "scattermapbox": [
           {
            "marker": {
             "colorbar": {
              "outlinewidth": 0,
              "ticks": ""
             }
            },
            "type": "scattermapbox"
           }
          ],
          "scatterpolar": [
           {
            "marker": {
             "colorbar": {
              "outlinewidth": 0,
              "ticks": ""
             }
            },
            "type": "scatterpolar"
           }
          ],
          "scatterpolargl": [
           {
            "marker": {
             "colorbar": {
              "outlinewidth": 0,
              "ticks": ""
             }
            },
            "type": "scatterpolargl"
           }
          ],
          "scatterternary": [
           {
            "marker": {
             "colorbar": {
              "outlinewidth": 0,
              "ticks": ""
             }
            },
            "type": "scatterternary"
           }
          ],
          "surface": [
           {
            "colorbar": {
             "outlinewidth": 0,
             "ticks": ""
            },
            "colorscale": [
             [
              0,
              "#0d0887"
             ],
             [
              0.1111111111111111,
              "#46039f"
             ],
             [
              0.2222222222222222,
              "#7201a8"
             ],
             [
              0.3333333333333333,
              "#9c179e"
             ],
             [
              0.4444444444444444,
              "#bd3786"
             ],
             [
              0.5555555555555556,
              "#d8576b"
             ],
             [
              0.6666666666666666,
              "#ed7953"
             ],
             [
              0.7777777777777778,
              "#fb9f3a"
             ],
             [
              0.8888888888888888,
              "#fdca26"
             ],
             [
              1,
              "#f0f921"
             ]
            ],
            "type": "surface"
           }
          ],
          "table": [
           {
            "cells": {
             "fill": {
              "color": "#EBF0F8"
             },
             "line": {
              "color": "white"
             }
            },
            "header": {
             "fill": {
              "color": "#C8D4E3"
             },
             "line": {
              "color": "white"
             }
            },
            "type": "table"
           }
          ]
         },
         "layout": {
          "annotationdefaults": {
           "arrowcolor": "#2a3f5f",
           "arrowhead": 0,
           "arrowwidth": 1
          },
          "autotypenumbers": "strict",
          "coloraxis": {
           "colorbar": {
            "outlinewidth": 0,
            "ticks": ""
           }
          },
          "colorscale": {
           "diverging": [
            [
             0,
             "#8e0152"
            ],
            [
             0.1,
             "#c51b7d"
            ],
            [
             0.2,
             "#de77ae"
            ],
            [
             0.3,
             "#f1b6da"
            ],
            [
             0.4,
             "#fde0ef"
            ],
            [
             0.5,
             "#f7f7f7"
            ],
            [
             0.6,
             "#e6f5d0"
            ],
            [
             0.7,
             "#b8e186"
            ],
            [
             0.8,
             "#7fbc41"
            ],
            [
             0.9,
             "#4d9221"
            ],
            [
             1,
             "#276419"
            ]
           ],
           "sequential": [
            [
             0,
             "#0d0887"
            ],
            [
             0.1111111111111111,
             "#46039f"
            ],
            [
             0.2222222222222222,
             "#7201a8"
            ],
            [
             0.3333333333333333,
             "#9c179e"
            ],
            [
             0.4444444444444444,
             "#bd3786"
            ],
            [
             0.5555555555555556,
             "#d8576b"
            ],
            [
             0.6666666666666666,
             "#ed7953"
            ],
            [
             0.7777777777777778,
             "#fb9f3a"
            ],
            [
             0.8888888888888888,
             "#fdca26"
            ],
            [
             1,
             "#f0f921"
            ]
           ],
           "sequentialminus": [
            [
             0,
             "#0d0887"
            ],
            [
             0.1111111111111111,
             "#46039f"
            ],
            [
             0.2222222222222222,
             "#7201a8"
            ],
            [
             0.3333333333333333,
             "#9c179e"
            ],
            [
             0.4444444444444444,
             "#bd3786"
            ],
            [
             0.5555555555555556,
             "#d8576b"
            ],
            [
             0.6666666666666666,
             "#ed7953"
            ],
            [
             0.7777777777777778,
             "#fb9f3a"
            ],
            [
             0.8888888888888888,
             "#fdca26"
            ],
            [
             1,
             "#f0f921"
            ]
           ]
          },
          "colorway": [
           "#636efa",
           "#EF553B",
           "#00cc96",
           "#ab63fa",
           "#FFA15A",
           "#19d3f3",
           "#FF6692",
           "#B6E880",
           "#FF97FF",
           "#FECB52"
          ],
          "font": {
           "color": "#2a3f5f"
          },
          "geo": {
           "bgcolor": "white",
           "lakecolor": "white",
           "landcolor": "white",
           "showlakes": true,
           "showland": true,
           "subunitcolor": "#C8D4E3"
          },
          "hoverlabel": {
           "align": "left"
          },
          "hovermode": "closest",
          "mapbox": {
           "style": "light"
          },
          "paper_bgcolor": "white",
          "plot_bgcolor": "white",
          "polar": {
           "angularaxis": {
            "gridcolor": "#EBF0F8",
            "linecolor": "#EBF0F8",
            "ticks": ""
           },
           "bgcolor": "white",
           "radialaxis": {
            "gridcolor": "#EBF0F8",
            "linecolor": "#EBF0F8",
            "ticks": ""
           }
          },
          "scene": {
           "xaxis": {
            "backgroundcolor": "white",
            "gridcolor": "#DFE8F3",
            "gridwidth": 2,
            "linecolor": "#EBF0F8",
            "showbackground": true,
            "ticks": "",
            "zerolinecolor": "#EBF0F8"
           },
           "yaxis": {
            "backgroundcolor": "white",
            "gridcolor": "#DFE8F3",
            "gridwidth": 2,
            "linecolor": "#EBF0F8",
            "showbackground": true,
            "ticks": "",
            "zerolinecolor": "#EBF0F8"
           },
           "zaxis": {
            "backgroundcolor": "white",
            "gridcolor": "#DFE8F3",
            "gridwidth": 2,
            "linecolor": "#EBF0F8",
            "showbackground": true,
            "ticks": "",
            "zerolinecolor": "#EBF0F8"
           }
          },
          "shapedefaults": {
           "line": {
            "color": "#2a3f5f"
           }
          },
          "ternary": {
           "aaxis": {
            "gridcolor": "#DFE8F3",
            "linecolor": "#A2B1C6",
            "ticks": ""
           },
           "baxis": {
            "gridcolor": "#DFE8F3",
            "linecolor": "#A2B1C6",
            "ticks": ""
           },
           "bgcolor": "white",
           "caxis": {
            "gridcolor": "#DFE8F3",
            "linecolor": "#A2B1C6",
            "ticks": ""
           }
          },
          "title": {
           "x": 0.05
          },
          "xaxis": {
           "automargin": true,
           "gridcolor": "#EBF0F8",
           "linecolor": "#EBF0F8",
           "ticks": "",
           "title": {
            "standoff": 15
           },
           "zerolinecolor": "#EBF0F8",
           "zerolinewidth": 2
          },
          "yaxis": {
           "automargin": true,
           "gridcolor": "#EBF0F8",
           "linecolor": "#EBF0F8",
           "ticks": "",
           "title": {
            "standoff": 15
           },
           "zerolinecolor": "#EBF0F8",
           "zerolinewidth": 2
          }
         }
        },
        "title": {
         "text": "PCA 2D Visualization"
        },
        "width": 1400,
        "xaxis": {
         "gridcolor": "lightgray",
         "gridwidth": 0.5,
         "linecolor": "black",
         "linewidth": 2,
         "mirror": true,
         "showline": true,
         "title": {
          "text": "PCA 1 →"
         },
         "zeroline": true,
         "zerolinecolor": "black",
         "zerolinewidth": 1.2
        },
        "yaxis": {
         "gridcolor": "lightgray",
         "gridwidth": 0.5,
         "linecolor": "black",
         "linewidth": 2,
         "mirror": true,
         "showline": true,
         "title": {
          "text": "PCA 2 →"
         },
         "zeroline": true,
         "zerolinecolor": "black",
         "zerolinewidth": 1.2
        }
       }
      }
     },
     "metadata": {},
     "output_type": "display_data"
    }
   ],
   "source": [
    "\n",
    "visualizer.reduce_dimensionality(\"pca\", n_components=2)\n",
    "visualizer.visualize(\"pca\", n_components=2, title=\"PCA 2D Visualization\")\n"
   ]
  },
  {
   "cell_type": "code",
   "execution_count": 185,
   "metadata": {},
   "outputs": [
    {
     "data": {
      "application/vnd.plotly.v1+json": {
       "config": {
        "plotlyServerURL": "https://plot.ly"
       },
       "data": [
        {
         "customdata": [
          [
           "UK TIER 2 Care home visas available inside UK and outside Uk as well can apply Leeds. Carehome 10 vacancies 7 females and 3 males 3 months experience Gloucestershire 8 vacancies 6 females and 2 males.",
           1375,
           "Real"
          ],
          [
           "Canada making progress with vaccine. Hopefully trials will prove to be successful as countries around the world race to find a way to protect global population.",
           2053,
           "Real"
          ],
          [
           "For those in the USA who have received their vaccine-- please consider signing up for the CDC's Vsafe after vaccination health checker. You can sign up anytime after receiving your first dose until 6 ",
           3089,
           "Real"
          ],
          [
           "I would like to acknowledge the entire Anesthesia staff the Anesthesiologist, CRNA’s and the Anesthesia Techs. These are the staff members on the front line responsible for intubations and placing the",
           5265,
           "Real"
          ],
          [
           "Female self-employed live-in carer needed for a lady near High Wycombe. Driver with own car preferred. Must have permission to work in the UK. £855/wk. Please PM me ref:SC No sponsorship available - s",
           5790,
           "Real"
          ],
          [
           "Keeping everyone of you in my prayers. Please know that your service to others at this tragic and chaotic time is what His Holiness always talks about. We are all extremely proud of you 🙏🏽💪🏼👍🏼",
           4859,
           "Real"
          ],
          [
           "https://www.mirror.co.uk/news/uk-news/breaking-coronavirus-mcdonalds-closing-uk-21735921 When they start closing big food chains that can only mean 1 thing!!!",
           6540,
           "Real"
          ],
          [
           "https://www.independent.co.uk/news/uk/politics/coronavirus-rent-mortgage-payments-covid-19-labour-corbyn-johnson-a9402596.html Why everyone didn't vote for Labour is beyond me!!! If our prime minister",
           6702,
           "Real"
          ]
         ],
         "hovertemplate": "<b>Text:</b> %{customdata[0]}<br><b>ID:</b> %{customdata[1]}<br><b>Predict:</b> %{customdata[2]}",
         "marker": {
          "color": "blue",
          "size": 5
         },
         "mode": "markers",
         "name": "Real",
         "type": "scatter3d",
         "x": {
          "bdata": "pYH+vvXXFT8Gf/U+AgkMPsA+Wz8zYys/j4r9vngzHL8=",
          "dtype": "f4"
         },
         "y": {
          "bdata": "nsbPPBRQ0TygzVS+Fp+NvpXlmz56kYk+4rX3PW8gr7w=",
          "dtype": "f4"
         },
         "z": {
          "bdata": "vZ8DvVkznD31/O88dnowvlCudbvRMJW+1E35vbZ1Yb4=",
          "dtype": "f4"
         }
        },
        {
         "customdata": [
          [
           "Are you all seeing a lot of “second timers”?? If you have, how far apart between diagnoses and was the second time generally worse or better symptom wise? Was it truly a second time contraction or was",
           1280,
           "Fake"
          ],
          [
           "Interesting. I can’t wait to see what info further research uncovers.",
           871,
           "Fake"
          ],
          [
           "Are there any articles objecting to the blood type theory that A blood types are 50% more likely to get ARDS version of Covid-19?",
           4258,
           "Fake"
          ],
          [
           "As my Grammy used to say, “If you don’t have any thing nice to say, don’t say anything at all.” A few of the MANY reasons why I’ve chosen to receive the COVID-19 Vaccine: 1. As a nurse I feel it is my",
           5219,
           "Fake"
          ],
          [
           "Anyone been tested for covid and it be negative...then your symptoms get worse? Been tested for flu, strep, mono, checked for pneumonia, PE...then covid tested again. Waiting on results. Feeling awful",
           3332,
           "Fake"
          ],
          [
           "We're praising a man for doing things he should have done as soon as this thing left China!!!",
           6036,
           "Fake"
          ],
          [
           "recruiting from india .middle east and phillippines only",
           5190,
           "Fake"
          ],
          [
           "Got my 1st vaccine today 😁",
           1510,
           "Fake"
          ],
          [
           "https://abcnews.go.com/Politics/9000-retired-army-medical-personnel-respond-armys-call/story?id=69833949&cid=social_fb_abcn Upbeat news—here comes some backup.",
           51,
           "Fake"
          ],
          [
           "A brave and noble man. 💚💙",
           31,
           "Fake"
          ],
          [
           "I have a tightness in my chest, no cough. I can’t tell if it’s anxiety or what.. I’m trying to stay away from the hospital if I can",
           5510,
           "Fake"
          ],
          [
           "To go with our cloth masks? Kudos to the community for loving on the local healthcare workers!",
           3463,
           "Fake"
          ],
          [
           "Great visual for understanding how cough, sneeze, or talking droplets work. How long they last, how they float, how to get rid of them etc. This is how covid or other airborne pathogens are spread.",
           4785,
           "Fake"
          ],
          [
           "Physicians may soon be able to tailor COVID19 treatments based on their genes.",
           5983,
           "Fake"
          ],
          [
           "Why does Aspirin, and or ibuprofen affect the body of somebody who has the coronavirus in a deadly way? Does anybody in the medical know why? I have a friend with the virus and would love to explain w",
           3687,
           "Fake"
          ],
          [
           "Is everyone wearing hair covers in their Covid rooms? We’ve been told not to and that it doesn’t ‘stick’ to hair... 🧐 then again they tell us something different every day.",
           2961,
           "Fake"
          ]
         ],
         "hovertemplate": "<b>Text:</b> %{customdata[0]}<br><b>ID:</b> %{customdata[1]}<br><b>Predict:</b> %{customdata[2]}",
         "marker": {
          "color": "red",
          "size": 5
         },
         "mode": "markers",
         "name": "Fake",
         "type": "scatter3d",
         "x": {
          "bdata": "u2QyvqQUPD/KmbO+R4QBPuZcIz9LNAS/TPTyvnwtvL60cr8+t6rcvn6IwT4Qk8C+pvwYP/pcVT9eJYS+5mzoPg==",
          "dtype": "f4"
         },
         "y": {
          "bdata": "dHe4PIqLPT4KTMA9GbKjvhv69b1gO6Q95sR7PZ6eAT4yZGc+gjjVPUfdKr2z4IE+AozRvSnmKj7/rbO81PJqPg==",
          "dtype": "f4"
         },
         "z": {
          "bdata": "lmGKPqeGs73NkK4+rSaAvgTokD4B0kW+JACQvXBfO750Vye+ypy2vo+1a71xo148aOdkPuP7/D2syLg+NoG9PQ==",
          "dtype": "f4"
         }
        },
        {
         "customdata": [
          [
           "Everyone's talking about the Covid vaccine.... Why aren't more people looking into MMR boosters to increase Covid resistance? Yet ANOTHER study to support a theory I've previously discussed...Journal ",
           3917,
           "Comments"
          ],
          [
           "Guys if they're bringing tanks into the city which looks like they are means army's on their way which means lock down is imminent and martial law will be applied!!!",
           6601,
           "Comments"
          ],
          [
           "I’m a Rn and long hauler. Infected in April with a “resurgence” in June and lost taste and smell. I still only have about 50-60% of it back. I got my first Pfizer shot on Monday. Mildly sore arm and f",
           696,
           "Comments"
          ],
          [
           "We are hiring and taking on Healthcare Assistants, Support Workers, Registered General Nurse's & Registered Mental Nurse's in the Hastings, and surrounding areas. • Great rates of pay • Recommend a fr",
           2075,
           "Comments"
          ],
          [
           "What symptoms are you guys seeing most positive kids present with?",
           1798,
           "Comments"
          ],
          [
           "Are you wiping down your groceries still? I am.",
           168,
           "Comments"
          ],
          [
           "Thoughts on dentist appointments?",
           2719,
           "Comments"
          ],
          [
           "Hello folks. I'm a HCA in a Nursing Home these days. In previous years I have been working in physiological measurement, as a cardiac technician, and also in audiology. I feel very privileged to be ca",
           6714,
           "Comments"
          ],
          [
           "Did anyone get a rash like small little red bumps that are itchy?",
           5430,
           "Comments"
          ],
          [
           "Can anyone please tell me if a fish van still comes to Newmill please",
           6465,
           "Comments"
          ],
          [
           "Will be leaving this week to help out in Brooklyn, other than hard to find PPE and sanitizer, what are the must haves that should be on my packing list?",
           1351,
           "Comments"
          ],
          [
           "What an emotional day! I had to find my own way to get vaccinated, but I got it! Thank you to the bright minds to make this happen! 🙏🏻❤️",
           4840,
           "Comments"
          ],
          [
           "I am almost 3 weeks post 2nd Pfizer vaccine. Is anyone experiencing joint pains, flank pains? Never had issues with my knees or elbows or sacral joints and now having pains? Wondering if anyone else h",
           3679,
           "Comments"
          ],
          [
           "Take a long hard look at our leader",
           6269,
           "Comments"
          ],
          [
           "A couple of days ago I posted a picture of a doctor, Dr. Kevin Tsui cleaning a room to help one of our house cleaning colleagues so she would not have to enter a room with a patient positive for COVID",
           48,
           "Comments"
          ],
          [
           "Just wondering if y'all have a special name for your COVID-19 unit? We call ours The Cove. Not very original, but I like the picture it invokes of people sheltering together in a remote spot, huddled ",
           663,
           "Comments"
          ],
          [
           "Last night in our ER we had a very very very sick patient in her 20s that came in in full-blown DKA, new onset type one diabetes, and septic. the sickest DKA I’ve ever seen (ph of 6.7). Had just recov",
           1136,
           "Comments"
          ],
          [
           "\"And then [if] I returned to United Hospital in the ER — if I said that there was no trepidation on my part, I’d be completely lying. I would be very nervous about walking back into that ER, I would b",
           1418,
           "Comments"
          ],
          [
           "JOB ALERT! Are you seeking a new exciting role in care? Do you want to build a long-lasting career? NO SPONSORSHIP IS AVAILABLE (overseas or UK). IMMEDIATE START IN NR16 Post code area We have a numbe",
           5912,
           "Comments"
          ],
          [
           "I know people are sharing what vitamins they're taking to try to curb getting sick or help while they are sick but can you all elaborate how much? I'm trying to figure out how much vitamin c, zinc, an",
           1743,
           "Comments"
          ],
          [
           "𝑵𝑯𝑺 𝑹𝒆𝒄𝒓𝒖𝒊𝒕𝒎𝒆𝒏𝒕 - 𝑵𝒖𝒓𝒔𝒆𝒔 𝒕𝒐 𝑺𝒐𝒖𝒕𝒉𝒂𝒎𝒑𝒕𝒐𝒏 Embracing a new professional challenge is not always easy no matter how rewarding it may seem. Therefore, at the top of our priorities should be the quality of ",
           5126,
           "Comments"
          ],
          [
           "Since the United States is working on opening a backup my guess is that Healthcare workers will not receive hazard pay or the additional $25,000 stimulus that was in on the table. Thought was nice whi",
           2593,
           "Comments"
          ],
          [
           "Another 25 dropped off for my nurse neighbour to take into the hospital tomorrow.",
           4769,
           "Comments"
          ],
          [
           "How do you guys like this one. Nurse in FL, dialysis nurse, has 102 fever, cough and feels like there is a band around her chest can’t get tested without a MD order, can’t get in to see doctor. I mean",
           725,
           "Comments"
          ],
          [
           "How do you all feel about this? I feel my anxiety coming on just thinking about it..",
           1195,
           "Comments"
          ],
          [
           "Gina--RN (florida) UPDATE:--My friend (below) had been home for 10 days. He lost 17 lbs during his hospitalization and was working slowly on regaining his strength. Even something as simple as a showe",
           2908,
           "Comments"
          ],
          [
           "To produce a speedier vaccine rollout I have to wonder if retired doctors, pharmacists, RNs, LVNs (inactive license) could be recruited to volunteer to vaccinate the public..Drive thru settings, outsi",
           1023,
           "Comments"
          ],
          [
           "Update: spoke to PCP about concerns and she stated that she absolutely agrees that someone breastfeeding shouldn’t care for these pts in an active role. She is writing a note to remove hypothetical nu",
           2078,
           "Comments"
          ],
          [
           "Heres a success story from Italy! ",
           4980,
           "Comments"
          ],
          [
           "NY Times has a series of stories of those we have lost... Rest in peace my social worker sister",
           3165,
           "Comments"
          ],
          [
           "Welcoming applications for Interviews with NHS hospital in Eastern England. Nurses with IELTS or OET please send us your CV with IELTS or OET to info@abnurses.com",
           4363,
           "Comments"
          ],
          [
           "How many of you have concerns about the effectiveness of the tests themselves? There seem to be a lot of negative tests when other clinical indicators point to covid? Do any of you have concerns that ",
           4897,
           "Comments"
          ],
          [
           "Hey guys we are donating face shields to medical staff that we manufacture at our shop! They are made out of heavy duty marine grade materials so they can be cleaned and re used over and over! We just",
           4802,
           "Comments"
          ],
          [
           "Anyone taking vitamins to help their immune system?",
           1395,
           "Comments"
          ],
          [
           "Hold the line!",
           1001,
           "Comments"
          ],
          [
           "Anyone besides me take Losartan? ",
           3467,
           "Comments"
          ],
          [
           "Update we found our piggy in bottom of purple bin under all the cans, someone put him in the bin but thankfully he's alive. Hello, I know this is nothing to do with Covid 19 but we've a missing guinea",
           5094,
           "Comments"
          ],
          [
           "I am a nurse and I was working on a renal floor yesterday and overheard a kidney doctor talking about how the COVID patients are clogging up the dialysis machines. I asked him if he has seen this befo",
           2469,
           "Comments"
          ],
          [
           "Can't say I didn't see this coming. ",
           763,
           "Comments"
          ],
          [
           "For Employers Care Staff available For Hire Permanent employment Please get in touch ! Thank you !",
           3131,
           "Comments"
          ],
          [
           "Does anyone know if someone is doing antibody testing in southwest Florida?",
           6579,
           "Comments"
          ],
          [
           "There is an antibody treatment that stops every COVID-19 variant—and possibly all future variants So by targeting this location, sotrovimab could be effective against all known variants and potential ",
           3778,
           "Comments"
          ],
          [
           "Today I saw so many people walking without masks and close mingling again etc. I know we are getting tired of this and believe me so am I but getting tired and loosening things up is like saying fine ",
           989,
           "Comments"
          ],
          [
           "Anyone here done a 1:1 sitter in a positive covid room is this even ok? not a short period but for an entire shift?",
           1716,
           "Comments"
          ],
          [
           "Symptomatic Covid diagnosed 22 days ago with positive rapid and PCR. The mild symptoms revolved within a few days. Quarantined for 14 days from positive test.  Now with chills, fever, aches, malaise. ",
           4113,
           "Comments"
          ],
          [
           "I have someone I work with that tested positive and did the quarantine for 14 days. She was released to come back to work and is still coughing up a lung and was re swabbed and it still shows positive",
           2734,
           "Comments"
          ],
          [
           "Like Spain we should all hang out our windows at the same time around the country and bang some pots and pans and demand the government look after ALL of us not just the rich and those with a mortgage",
           6543,
           "Comments"
          ],
          [
           "Covid number calculation: According to Dr. Curran (the Doc who worked on Ebola in the early 80's), said 1% of Covid cases are fatal. By having 2 knowns, we can find the unknown. So knowing that as a f",
           1625,
           "Comments"
          ],
          [
           "That post made my night. But thanks admin for outting her",
           5748,
           "Comments"
          ],
          [
           "A hopeful bit of news : Bangkok (and Thailand by extension) has not seen any new cases domestically in 25 days. All new ones (5 at the moment) arrived from abroad. When a friend of mine arrived into B",
           2718,
           "Comments"
          ],
          [
           "CHILD CUSTODY Hello Everyone. I have an 8 year old daughter that I share custody with her father. Her father has taken her from me, stating that I will give her Covid because I'm a nurse working with ",
           227,
           "Comments"
          ],
          [
           "Canada has now implemented all flights banned to the Caribbean and Mexico from Canada. Also, Canada will have only four Airports open. Toronto, Montreal, Vancouver & Calgary. All incoming passengers w",
           788,
           "Comments"
          ]
         ],
         "hovertemplate": "<b>Text:</b> %{customdata[0]}<br><b>ID:</b> %{customdata[1]}<br><b>Predict:</b> %{customdata[2]}",
         "marker": {
          "color": "green",
          "size": 5
         },
         "mode": "markers",
         "name": "Comments",
         "type": "scatter3d",
         "x": {
          "bdata": "aEPDPnv5CL9A1aI+MG8ev6wrq76epZs/p/+qviVCGD943uW+KlTgvr+iib7v81y+bOYCvwVL5b7ZHgU/lEqePTIGzj5coxy/lMSZvqydwL4WCt0+liOWPgoUgz8G8cc+5vTIvsl5k74L6u6+Df7WvDEf3b7bI4a+RGqoPpZVMr6lSVo+eSq/vqRV074ireK+nY57Po31uL5F6BI/l/QCv6rakb5JDZk+ihSJvRgI/L5u2qs+Vuo7P/4dCL/Mcs28eadTPgz39D1hq62+V72cPg==",
          "dtype": "f4"
         },
         "y": {
          "bdata": "Cypmvn8Dcz0mPma+ZwSBPLKXuj0pwbQ+OPSDPkQAJ77P+ms9VLoKPoZ4uz1Rvik+iT0lvmBkAz6sueq9my4bvq1U+r6oD9u+PkBcPqGKGb4xIdE+YGrMvJZQiD44sZi9UzitPSwfir4VvOi95Z+1vngAej6sdT0+0yi/PSBxRz3frMo9T5k3PpxVTz55pYQ+iHubPKrRub4FB1w+F5A+PrJPQz7f1ae+GxkTvltfUbsSXqW+R1FcvnwMTT6d18u+OdtTPhyVmr6rhv2+azanvg==",
          "dtype": "f4"
         },
         "z": {
          "bdata": "NcSsPrThED1oIge+ZboIvk/pZz49SQ099l0oPWw5Ar6ikI0+rolKPSmVJD5Mbii+tmpZPYcqBL69K3a+iw48vsT4qL1+1by+5idgPF0n0T4pPom+y2W7vJnW4b1IaFo++/iWPI56WL671Mw9mX/6vbrkL76QOd696tuJPdG/CT8dAUo8fIkZPm0A0r2pNl+9DQrRPZhNurzXqG++qnCHvSPHVj4BSak9bNMXPZt/hz6zpAw+udRLPqyu3D05YUw9HKIDvgclvb3eex2+37jXvQ==",
          "dtype": "f4"
         }
        }
       ],
       "layout": {
        "height": 1000,
        "legend": {
         "title": {
          "text": "Class Labels"
         }
        },
        "scene": {
         "xaxis": {
          "gridcolor": "lightgray",
          "gridwidth": 0.5,
          "linecolor": "black",
          "linewidth": 2,
          "mirror": true,
          "showline": true,
          "title": {
           "text": "PCA 1"
          }
         },
         "yaxis": {
          "gridcolor": "lightgray",
          "gridwidth": 0.5,
          "linecolor": "black",
          "linewidth": 2,
          "mirror": true,
          "showline": true,
          "title": {
           "text": "PCA 2"
          }
         },
         "zaxis": {
          "gridcolor": "lightgray",
          "gridwidth": 0.5,
          "linecolor": "black",
          "linewidth": 2,
          "mirror": true,
          "showline": true,
          "title": {
           "text": "PCA 3"
          }
         }
        },
        "template": {
         "data": {
          "bar": [
           {
            "error_x": {
             "color": "#2a3f5f"
            },
            "error_y": {
             "color": "#2a3f5f"
            },
            "marker": {
             "line": {
              "color": "white",
              "width": 0.5
             },
             "pattern": {
              "fillmode": "overlay",
              "size": 10,
              "solidity": 0.2
             }
            },
            "type": "bar"
           }
          ],
          "barpolar": [
           {
            "marker": {
             "line": {
              "color": "white",
              "width": 0.5
             },
             "pattern": {
              "fillmode": "overlay",
              "size": 10,
              "solidity": 0.2
             }
            },
            "type": "barpolar"
           }
          ],
          "carpet": [
           {
            "aaxis": {
             "endlinecolor": "#2a3f5f",
             "gridcolor": "#C8D4E3",
             "linecolor": "#C8D4E3",
             "minorgridcolor": "#C8D4E3",
             "startlinecolor": "#2a3f5f"
            },
            "baxis": {
             "endlinecolor": "#2a3f5f",
             "gridcolor": "#C8D4E3",
             "linecolor": "#C8D4E3",
             "minorgridcolor": "#C8D4E3",
             "startlinecolor": "#2a3f5f"
            },
            "type": "carpet"
           }
          ],
          "choropleth": [
           {
            "colorbar": {
             "outlinewidth": 0,
             "ticks": ""
            },
            "type": "choropleth"
           }
          ],
          "contour": [
           {
            "colorbar": {
             "outlinewidth": 0,
             "ticks": ""
            },
            "colorscale": [
             [
              0,
              "#0d0887"
             ],
             [
              0.1111111111111111,
              "#46039f"
             ],
             [
              0.2222222222222222,
              "#7201a8"
             ],
             [
              0.3333333333333333,
              "#9c179e"
             ],
             [
              0.4444444444444444,
              "#bd3786"
             ],
             [
              0.5555555555555556,
              "#d8576b"
             ],
             [
              0.6666666666666666,
              "#ed7953"
             ],
             [
              0.7777777777777778,
              "#fb9f3a"
             ],
             [
              0.8888888888888888,
              "#fdca26"
             ],
             [
              1,
              "#f0f921"
             ]
            ],
            "type": "contour"
           }
          ],
          "contourcarpet": [
           {
            "colorbar": {
             "outlinewidth": 0,
             "ticks": ""
            },
            "type": "contourcarpet"
           }
          ],
          "heatmap": [
           {
            "colorbar": {
             "outlinewidth": 0,
             "ticks": ""
            },
            "colorscale": [
             [
              0,
              "#0d0887"
             ],
             [
              0.1111111111111111,
              "#46039f"
             ],
             [
              0.2222222222222222,
              "#7201a8"
             ],
             [
              0.3333333333333333,
              "#9c179e"
             ],
             [
              0.4444444444444444,
              "#bd3786"
             ],
             [
              0.5555555555555556,
              "#d8576b"
             ],
             [
              0.6666666666666666,
              "#ed7953"
             ],
             [
              0.7777777777777778,
              "#fb9f3a"
             ],
             [
              0.8888888888888888,
              "#fdca26"
             ],
             [
              1,
              "#f0f921"
             ]
            ],
            "type": "heatmap"
           }
          ],
          "histogram": [
           {
            "marker": {
             "pattern": {
              "fillmode": "overlay",
              "size": 10,
              "solidity": 0.2
             }
            },
            "type": "histogram"
           }
          ],
          "histogram2d": [
           {
            "colorbar": {
             "outlinewidth": 0,
             "ticks": ""
            },
            "colorscale": [
             [
              0,
              "#0d0887"
             ],
             [
              0.1111111111111111,
              "#46039f"
             ],
             [
              0.2222222222222222,
              "#7201a8"
             ],
             [
              0.3333333333333333,
              "#9c179e"
             ],
             [
              0.4444444444444444,
              "#bd3786"
             ],
             [
              0.5555555555555556,
              "#d8576b"
             ],
             [
              0.6666666666666666,
              "#ed7953"
             ],
             [
              0.7777777777777778,
              "#fb9f3a"
             ],
             [
              0.8888888888888888,
              "#fdca26"
             ],
             [
              1,
              "#f0f921"
             ]
            ],
            "type": "histogram2d"
           }
          ],
          "histogram2dcontour": [
           {
            "colorbar": {
             "outlinewidth": 0,
             "ticks": ""
            },
            "colorscale": [
             [
              0,
              "#0d0887"
             ],
             [
              0.1111111111111111,
              "#46039f"
             ],
             [
              0.2222222222222222,
              "#7201a8"
             ],
             [
              0.3333333333333333,
              "#9c179e"
             ],
             [
              0.4444444444444444,
              "#bd3786"
             ],
             [
              0.5555555555555556,
              "#d8576b"
             ],
             [
              0.6666666666666666,
              "#ed7953"
             ],
             [
              0.7777777777777778,
              "#fb9f3a"
             ],
             [
              0.8888888888888888,
              "#fdca26"
             ],
             [
              1,
              "#f0f921"
             ]
            ],
            "type": "histogram2dcontour"
           }
          ],
          "mesh3d": [
           {
            "colorbar": {
             "outlinewidth": 0,
             "ticks": ""
            },
            "type": "mesh3d"
           }
          ],
          "parcoords": [
           {
            "line": {
             "colorbar": {
              "outlinewidth": 0,
              "ticks": ""
             }
            },
            "type": "parcoords"
           }
          ],
          "pie": [
           {
            "automargin": true,
            "type": "pie"
           }
          ],
          "scatter": [
           {
            "fillpattern": {
             "fillmode": "overlay",
             "size": 10,
             "solidity": 0.2
            },
            "type": "scatter"
           }
          ],
          "scatter3d": [
           {
            "line": {
             "colorbar": {
              "outlinewidth": 0,
              "ticks": ""
             }
            },
            "marker": {
             "colorbar": {
              "outlinewidth": 0,
              "ticks": ""
             }
            },
            "type": "scatter3d"
           }
          ],
          "scattercarpet": [
           {
            "marker": {
             "colorbar": {
              "outlinewidth": 0,
              "ticks": ""
             }
            },
            "type": "scattercarpet"
           }
          ],
          "scattergeo": [
           {
            "marker": {
             "colorbar": {
              "outlinewidth": 0,
              "ticks": ""
             }
            },
            "type": "scattergeo"
           }
          ],
          "scattergl": [
           {
            "marker": {
             "colorbar": {
              "outlinewidth": 0,
              "ticks": ""
             }
            },
            "type": "scattergl"
           }
          ],
          "scattermap": [
           {
            "marker": {
             "colorbar": {
              "outlinewidth": 0,
              "ticks": ""
             }
            },
            "type": "scattermap"
           }
          ],
          "scattermapbox": [
           {
            "marker": {
             "colorbar": {
              "outlinewidth": 0,
              "ticks": ""
             }
            },
            "type": "scattermapbox"
           }
          ],
          "scatterpolar": [
           {
            "marker": {
             "colorbar": {
              "outlinewidth": 0,
              "ticks": ""
             }
            },
            "type": "scatterpolar"
           }
          ],
          "scatterpolargl": [
           {
            "marker": {
             "colorbar": {
              "outlinewidth": 0,
              "ticks": ""
             }
            },
            "type": "scatterpolargl"
           }
          ],
          "scatterternary": [
           {
            "marker": {
             "colorbar": {
              "outlinewidth": 0,
              "ticks": ""
             }
            },
            "type": "scatterternary"
           }
          ],
          "surface": [
           {
            "colorbar": {
             "outlinewidth": 0,
             "ticks": ""
            },
            "colorscale": [
             [
              0,
              "#0d0887"
             ],
             [
              0.1111111111111111,
              "#46039f"
             ],
             [
              0.2222222222222222,
              "#7201a8"
             ],
             [
              0.3333333333333333,
              "#9c179e"
             ],
             [
              0.4444444444444444,
              "#bd3786"
             ],
             [
              0.5555555555555556,
              "#d8576b"
             ],
             [
              0.6666666666666666,
              "#ed7953"
             ],
             [
              0.7777777777777778,
              "#fb9f3a"
             ],
             [
              0.8888888888888888,
              "#fdca26"
             ],
             [
              1,
              "#f0f921"
             ]
            ],
            "type": "surface"
           }
          ],
          "table": [
           {
            "cells": {
             "fill": {
              "color": "#EBF0F8"
             },
             "line": {
              "color": "white"
             }
            },
            "header": {
             "fill": {
              "color": "#C8D4E3"
             },
             "line": {
              "color": "white"
             }
            },
            "type": "table"
           }
          ]
         },
         "layout": {
          "annotationdefaults": {
           "arrowcolor": "#2a3f5f",
           "arrowhead": 0,
           "arrowwidth": 1
          },
          "autotypenumbers": "strict",
          "coloraxis": {
           "colorbar": {
            "outlinewidth": 0,
            "ticks": ""
           }
          },
          "colorscale": {
           "diverging": [
            [
             0,
             "#8e0152"
            ],
            [
             0.1,
             "#c51b7d"
            ],
            [
             0.2,
             "#de77ae"
            ],
            [
             0.3,
             "#f1b6da"
            ],
            [
             0.4,
             "#fde0ef"
            ],
            [
             0.5,
             "#f7f7f7"
            ],
            [
             0.6,
             "#e6f5d0"
            ],
            [
             0.7,
             "#b8e186"
            ],
            [
             0.8,
             "#7fbc41"
            ],
            [
             0.9,
             "#4d9221"
            ],
            [
             1,
             "#276419"
            ]
           ],
           "sequential": [
            [
             0,
             "#0d0887"
            ],
            [
             0.1111111111111111,
             "#46039f"
            ],
            [
             0.2222222222222222,
             "#7201a8"
            ],
            [
             0.3333333333333333,
             "#9c179e"
            ],
            [
             0.4444444444444444,
             "#bd3786"
            ],
            [
             0.5555555555555556,
             "#d8576b"
            ],
            [
             0.6666666666666666,
             "#ed7953"
            ],
            [
             0.7777777777777778,
             "#fb9f3a"
            ],
            [
             0.8888888888888888,
             "#fdca26"
            ],
            [
             1,
             "#f0f921"
            ]
           ],
           "sequentialminus": [
            [
             0,
             "#0d0887"
            ],
            [
             0.1111111111111111,
             "#46039f"
            ],
            [
             0.2222222222222222,
             "#7201a8"
            ],
            [
             0.3333333333333333,
             "#9c179e"
            ],
            [
             0.4444444444444444,
             "#bd3786"
            ],
            [
             0.5555555555555556,
             "#d8576b"
            ],
            [
             0.6666666666666666,
             "#ed7953"
            ],
            [
             0.7777777777777778,
             "#fb9f3a"
            ],
            [
             0.8888888888888888,
             "#fdca26"
            ],
            [
             1,
             "#f0f921"
            ]
           ]
          },
          "colorway": [
           "#636efa",
           "#EF553B",
           "#00cc96",
           "#ab63fa",
           "#FFA15A",
           "#19d3f3",
           "#FF6692",
           "#B6E880",
           "#FF97FF",
           "#FECB52"
          ],
          "font": {
           "color": "#2a3f5f"
          },
          "geo": {
           "bgcolor": "white",
           "lakecolor": "white",
           "landcolor": "white",
           "showlakes": true,
           "showland": true,
           "subunitcolor": "#C8D4E3"
          },
          "hoverlabel": {
           "align": "left"
          },
          "hovermode": "closest",
          "mapbox": {
           "style": "light"
          },
          "paper_bgcolor": "white",
          "plot_bgcolor": "white",
          "polar": {
           "angularaxis": {
            "gridcolor": "#EBF0F8",
            "linecolor": "#EBF0F8",
            "ticks": ""
           },
           "bgcolor": "white",
           "radialaxis": {
            "gridcolor": "#EBF0F8",
            "linecolor": "#EBF0F8",
            "ticks": ""
           }
          },
          "scene": {
           "xaxis": {
            "backgroundcolor": "white",
            "gridcolor": "#DFE8F3",
            "gridwidth": 2,
            "linecolor": "#EBF0F8",
            "showbackground": true,
            "ticks": "",
            "zerolinecolor": "#EBF0F8"
           },
           "yaxis": {
            "backgroundcolor": "white",
            "gridcolor": "#DFE8F3",
            "gridwidth": 2,
            "linecolor": "#EBF0F8",
            "showbackground": true,
            "ticks": "",
            "zerolinecolor": "#EBF0F8"
           },
           "zaxis": {
            "backgroundcolor": "white",
            "gridcolor": "#DFE8F3",
            "gridwidth": 2,
            "linecolor": "#EBF0F8",
            "showbackground": true,
            "ticks": "",
            "zerolinecolor": "#EBF0F8"
           }
          },
          "shapedefaults": {
           "line": {
            "color": "#2a3f5f"
           }
          },
          "ternary": {
           "aaxis": {
            "gridcolor": "#DFE8F3",
            "linecolor": "#A2B1C6",
            "ticks": ""
           },
           "baxis": {
            "gridcolor": "#DFE8F3",
            "linecolor": "#A2B1C6",
            "ticks": ""
           },
           "bgcolor": "white",
           "caxis": {
            "gridcolor": "#DFE8F3",
            "linecolor": "#A2B1C6",
            "ticks": ""
           }
          },
          "title": {
           "x": 0.05
          },
          "xaxis": {
           "automargin": true,
           "gridcolor": "#EBF0F8",
           "linecolor": "#EBF0F8",
           "ticks": "",
           "title": {
            "standoff": 15
           },
           "zerolinecolor": "#EBF0F8",
           "zerolinewidth": 2
          },
          "yaxis": {
           "automargin": true,
           "gridcolor": "#EBF0F8",
           "linecolor": "#EBF0F8",
           "ticks": "",
           "title": {
            "standoff": 15
           },
           "zerolinecolor": "#EBF0F8",
           "zerolinewidth": 2
          }
         }
        },
        "title": {
         "text": "PCA 3D Visualization"
        },
        "width": 1400,
        "xaxis": {
         "gridcolor": "lightgray",
         "gridwidth": 0.5,
         "linecolor": "black",
         "linewidth": 2,
         "mirror": true,
         "showline": true,
         "title": {
          "text": "PCA 1 →"
         },
         "zeroline": true,
         "zerolinecolor": "black",
         "zerolinewidth": 1.2
        },
        "yaxis": {
         "gridcolor": "lightgray",
         "gridwidth": 0.5,
         "linecolor": "black",
         "linewidth": 2,
         "mirror": true,
         "showline": true,
         "title": {
          "text": "PCA 2 →"
         },
         "zeroline": true,
         "zerolinecolor": "black",
         "zerolinewidth": 1.2
        }
       }
      }
     },
     "metadata": {},
     "output_type": "display_data"
    }
   ],
   "source": [
    "visualizer.reduce_dimensionality(\"pca\", n_components=3)\n",
    "visualizer.visualize(\"pca\", n_components=3, title=\"PCA 3D Visualization\")"
   ]
  },
  {
   "cell_type": "markdown",
   "metadata": {},
   "source": [
    "### TSNE\n"
   ]
  },
  {
   "cell_type": "code",
   "execution_count": 186,
   "metadata": {},
   "outputs": [
    {
     "data": {
      "application/vnd.plotly.v1+json": {
       "config": {
        "plotlyServerURL": "https://plot.ly"
       },
       "data": [
        {
         "customdata": [
          [
           "UK TIER 2 Care home visas available inside UK and outside Uk as well can apply Leeds. Carehome 10 vacancies 7 females and 3 males 3 months experience Gloucestershire 8 vacancies 6 females and 2 males.",
           1375,
           "Real"
          ],
          [
           "Canada making progress with vaccine. Hopefully trials will prove to be successful as countries around the world race to find a way to protect global population.",
           2053,
           "Real"
          ],
          [
           "For those in the USA who have received their vaccine-- please consider signing up for the CDC's Vsafe after vaccination health checker. You can sign up anytime after receiving your first dose until 6 ",
           3089,
           "Real"
          ],
          [
           "I would like to acknowledge the entire Anesthesia staff the Anesthesiologist, CRNA’s and the Anesthesia Techs. These are the staff members on the front line responsible for intubations and placing the",
           5265,
           "Real"
          ],
          [
           "Female self-employed live-in carer needed for a lady near High Wycombe. Driver with own car preferred. Must have permission to work in the UK. £855/wk. Please PM me ref:SC No sponsorship available - s",
           5790,
           "Real"
          ],
          [
           "Keeping everyone of you in my prayers. Please know that your service to others at this tragic and chaotic time is what His Holiness always talks about. We are all extremely proud of you 🙏🏽💪🏼👍🏼",
           4859,
           "Real"
          ],
          [
           "https://www.mirror.co.uk/news/uk-news/breaking-coronavirus-mcdonalds-closing-uk-21735921 When they start closing big food chains that can only mean 1 thing!!!",
           6540,
           "Real"
          ],
          [
           "https://www.independent.co.uk/news/uk/politics/coronavirus-rent-mortgage-payments-covid-19-labour-corbyn-johnson-a9402596.html Why everyone didn't vote for Labour is beyond me!!! If our prime minister",
           6702,
           "Real"
          ]
         ],
         "hovertemplate": "<b>Text:</b> %{customdata[0]}<br><b>ID:</b> %{customdata[1]}<br><b>Predict:</b> %{customdata[2]}",
         "marker": {
          "color": "blue",
          "opacity": {
           "bdata": "MzMzMzMz0z8AAAAAAADwPzMzMzMzM9M/AAAAAAAA8D8AAAAAAADwPwAAAAAAAPA/AAAAAAAA8D8AAAAAAADwPw==",
           "dtype": "f8"
          },
          "size": 8
         },
         "mode": "markers",
         "name": "Real",
         "type": "scatter",
         "x": {
          "bdata": "KJSRP/1lKj56tKk+uSysPgZWQb8jwwk/X9tdvvTwXb4=",
          "dtype": "f4"
         },
         "y": {
          "bdata": "gimiwLKhJUAU5+0/fxahPmacZkAI0W5AUIaywCFpt8A=",
          "dtype": "f4"
         }
        },
        {
         "customdata": [
          [
           "Are you all seeing a lot of “second timers”?? If you have, how far apart between diagnoses and was the second time generally worse or better symptom wise? Was it truly a second time contraction or was",
           1280,
           "Fake"
          ],
          [
           "Interesting. I can’t wait to see what info further research uncovers.",
           871,
           "Fake"
          ],
          [
           "Are there any articles objecting to the blood type theory that A blood types are 50% more likely to get ARDS version of Covid-19?",
           4258,
           "Fake"
          ],
          [
           "As my Grammy used to say, “If you don’t have any thing nice to say, don’t say anything at all.” A few of the MANY reasons why I’ve chosen to receive the COVID-19 Vaccine: 1. As a nurse I feel it is my",
           5219,
           "Fake"
          ],
          [
           "Anyone been tested for covid and it be negative...then your symptoms get worse? Been tested for flu, strep, mono, checked for pneumonia, PE...then covid tested again. Waiting on results. Feeling awful",
           3332,
           "Fake"
          ],
          [
           "We're praising a man for doing things he should have done as soon as this thing left China!!!",
           6036,
           "Fake"
          ],
          [
           "recruiting from india .middle east and phillippines only",
           5190,
           "Fake"
          ],
          [
           "Got my 1st vaccine today 😁",
           1510,
           "Fake"
          ],
          [
           "https://abcnews.go.com/Politics/9000-retired-army-medical-personnel-respond-armys-call/story?id=69833949&cid=social_fb_abcn Upbeat news—here comes some backup.",
           51,
           "Fake"
          ],
          [
           "A brave and noble man. 💚💙",
           31,
           "Fake"
          ],
          [
           "I have a tightness in my chest, no cough. I can’t tell if it’s anxiety or what.. I’m trying to stay away from the hospital if I can",
           5510,
           "Fake"
          ],
          [
           "To go with our cloth masks? Kudos to the community for loving on the local healthcare workers!",
           3463,
           "Fake"
          ],
          [
           "Great visual for understanding how cough, sneeze, or talking droplets work. How long they last, how they float, how to get rid of them etc. This is how covid or other airborne pathogens are spread.",
           4785,
           "Fake"
          ],
          [
           "Physicians may soon be able to tailor COVID19 treatments based on their genes.",
           5983,
           "Fake"
          ],
          [
           "Why does Aspirin, and or ibuprofen affect the body of somebody who has the coronavirus in a deadly way? Does anybody in the medical know why? I have a friend with the virus and would love to explain w",
           3687,
           "Fake"
          ],
          [
           "Is everyone wearing hair covers in their Covid rooms? We’ve been told not to and that it doesn’t ‘stick’ to hair... 🧐 then again they tell us something different every day.",
           2961,
           "Fake"
          ]
         ],
         "hovertemplate": "<b>Text:</b> %{customdata[0]}<br><b>ID:</b> %{customdata[1]}<br><b>Predict:</b> %{customdata[2]}",
         "marker": {
          "color": "red",
          "opacity": {
           "bdata": "AAAAAAAA8D8AAAAAAADwPwAAAAAAAPA/AAAAAAAA8D8AAAAAAADwPwAAAAAAAPA/AAAAAAAA8D8AAAAAAADwPwAAAAAAAPA/AAAAAAAA8D8zMzMzMzPTPwAAAAAAAPA/AAAAAAAA8D8AAAAAAADwPwAAAAAAAPA/AAAAAAAA8D8=",
           "dtype": "f8"
          },
          "size": 8
         },
         "mode": "markers",
         "name": "Fake",
         "type": "scatter",
         "x": {
          "bdata": "Bw3Pv93xej4q2s2/UHAcP2l9pT+EuHa+ALqHPjxwRz6zOZw/Q7jSPlibnz+4kSy/CwKgvN/4R70uCBfAa0NOvw==",
          "dtype": "f4"
         },
         "y": {
          "bdata": "NZQQwD65RkAf2UTAzVU1PvYnGkBvy5XAYTyGwPWPaMDMwWBALRppwNbXtD+5bovAc6IZQDtZQ0C411PAeocaQA==",
          "dtype": "f4"
         }
        },
        {
         "customdata": [
          [
           "Everyone's talking about the Covid vaccine.... Why aren't more people looking into MMR boosters to increase Covid resistance? Yet ANOTHER study to support a theory I've previously discussed...Journal ",
           3917,
           "Comments"
          ],
          [
           "Guys if they're bringing tanks into the city which looks like they are means army's on their way which means lock down is imminent and martial law will be applied!!!",
           6601,
           "Comments"
          ],
          [
           "I’m a Rn and long hauler. Infected in April with a “resurgence” in June and lost taste and smell. I still only have about 50-60% of it back. I got my first Pfizer shot on Monday. Mildly sore arm and f",
           696,
           "Comments"
          ],
          [
           "We are hiring and taking on Healthcare Assistants, Support Workers, Registered General Nurse's & Registered Mental Nurse's in the Hastings, and surrounding areas. • Great rates of pay • Recommend a fr",
           2075,
           "Comments"
          ],
          [
           "What symptoms are you guys seeing most positive kids present with?",
           1798,
           "Comments"
          ],
          [
           "Are you wiping down your groceries still? I am.",
           168,
           "Comments"
          ],
          [
           "Thoughts on dentist appointments?",
           2719,
           "Comments"
          ],
          [
           "Hello folks. I'm a HCA in a Nursing Home these days. In previous years I have been working in physiological measurement, as a cardiac technician, and also in audiology. I feel very privileged to be ca",
           6714,
           "Comments"
          ],
          [
           "Did anyone get a rash like small little red bumps that are itchy?",
           5430,
           "Comments"
          ],
          [
           "Can anyone please tell me if a fish van still comes to Newmill please",
           6465,
           "Comments"
          ],
          [
           "Will be leaving this week to help out in Brooklyn, other than hard to find PPE and sanitizer, what are the must haves that should be on my packing list?",
           1351,
           "Comments"
          ],
          [
           "What an emotional day! I had to find my own way to get vaccinated, but I got it! Thank you to the bright minds to make this happen! 🙏🏻❤️",
           4840,
           "Comments"
          ],
          [
           "I am almost 3 weeks post 2nd Pfizer vaccine. Is anyone experiencing joint pains, flank pains? Never had issues with my knees or elbows or sacral joints and now having pains? Wondering if anyone else h",
           3679,
           "Comments"
          ],
          [
           "Take a long hard look at our leader",
           6269,
           "Comments"
          ],
          [
           "A couple of days ago I posted a picture of a doctor, Dr. Kevin Tsui cleaning a room to help one of our house cleaning colleagues so she would not have to enter a room with a patient positive for COVID",
           48,
           "Comments"
          ],
          [
           "Just wondering if y'all have a special name for your COVID-19 unit? We call ours The Cove. Not very original, but I like the picture it invokes of people sheltering together in a remote spot, huddled ",
           663,
           "Comments"
          ],
          [
           "Last night in our ER we had a very very very sick patient in her 20s that came in in full-blown DKA, new onset type one diabetes, and septic. the sickest DKA I’ve ever seen (ph of 6.7). Had just recov",
           1136,
           "Comments"
          ],
          [
           "\"And then [if] I returned to United Hospital in the ER — if I said that there was no trepidation on my part, I’d be completely lying. I would be very nervous about walking back into that ER, I would b",
           1418,
           "Comments"
          ],
          [
           "JOB ALERT! Are you seeking a new exciting role in care? Do you want to build a long-lasting career? NO SPONSORSHIP IS AVAILABLE (overseas or UK). IMMEDIATE START IN NR16 Post code area We have a numbe",
           5912,
           "Comments"
          ],
          [
           "I know people are sharing what vitamins they're taking to try to curb getting sick or help while they are sick but can you all elaborate how much? I'm trying to figure out how much vitamin c, zinc, an",
           1743,
           "Comments"
          ],
          [
           "𝑵𝑯𝑺 𝑹𝒆𝒄𝒓𝒖𝒊𝒕𝒎𝒆𝒏𝒕 - 𝑵𝒖𝒓𝒔𝒆𝒔 𝒕𝒐 𝑺𝒐𝒖𝒕𝒉𝒂𝒎𝒑𝒕𝒐𝒏 Embracing a new professional challenge is not always easy no matter how rewarding it may seem. Therefore, at the top of our priorities should be the quality of ",
           5126,
           "Comments"
          ],
          [
           "Since the United States is working on opening a backup my guess is that Healthcare workers will not receive hazard pay or the additional $25,000 stimulus that was in on the table. Thought was nice whi",
           2593,
           "Comments"
          ],
          [
           "Another 25 dropped off for my nurse neighbour to take into the hospital tomorrow.",
           4769,
           "Comments"
          ],
          [
           "How do you guys like this one. Nurse in FL, dialysis nurse, has 102 fever, cough and feels like there is a band around her chest can’t get tested without a MD order, can’t get in to see doctor. I mean",
           725,
           "Comments"
          ],
          [
           "How do you all feel about this? I feel my anxiety coming on just thinking about it..",
           1195,
           "Comments"
          ],
          [
           "Gina--RN (florida) UPDATE:--My friend (below) had been home for 10 days. He lost 17 lbs during his hospitalization and was working slowly on regaining his strength. Even something as simple as a showe",
           2908,
           "Comments"
          ],
          [
           "To produce a speedier vaccine rollout I have to wonder if retired doctors, pharmacists, RNs, LVNs (inactive license) could be recruited to volunteer to vaccinate the public..Drive thru settings, outsi",
           1023,
           "Comments"
          ],
          [
           "Update: spoke to PCP about concerns and she stated that she absolutely agrees that someone breastfeeding shouldn’t care for these pts in an active role. She is writing a note to remove hypothetical nu",
           2078,
           "Comments"
          ],
          [
           "Heres a success story from Italy! ",
           4980,
           "Comments"
          ],
          [
           "NY Times has a series of stories of those we have lost... Rest in peace my social worker sister",
           3165,
           "Comments"
          ],
          [
           "Welcoming applications for Interviews with NHS hospital in Eastern England. Nurses with IELTS or OET please send us your CV with IELTS or OET to info@abnurses.com",
           4363,
           "Comments"
          ],
          [
           "How many of you have concerns about the effectiveness of the tests themselves? There seem to be a lot of negative tests when other clinical indicators point to covid? Do any of you have concerns that ",
           4897,
           "Comments"
          ],
          [
           "Hey guys we are donating face shields to medical staff that we manufacture at our shop! They are made out of heavy duty marine grade materials so they can be cleaned and re used over and over! We just",
           4802,
           "Comments"
          ],
          [
           "Anyone taking vitamins to help their immune system?",
           1395,
           "Comments"
          ],
          [
           "Hold the line!",
           1001,
           "Comments"
          ],
          [
           "Anyone besides me take Losartan? ",
           3467,
           "Comments"
          ],
          [
           "Update we found our piggy in bottom of purple bin under all the cans, someone put him in the bin but thankfully he's alive. Hello, I know this is nothing to do with Covid 19 but we've a missing guinea",
           5094,
           "Comments"
          ],
          [
           "I am a nurse and I was working on a renal floor yesterday and overheard a kidney doctor talking about how the COVID patients are clogging up the dialysis machines. I asked him if he has seen this befo",
           2469,
           "Comments"
          ],
          [
           "Can't say I didn't see this coming. ",
           763,
           "Comments"
          ],
          [
           "For Employers Care Staff available For Hire Permanent employment Please get in touch ! Thank you !",
           3131,
           "Comments"
          ],
          [
           "Does anyone know if someone is doing antibody testing in southwest Florida?",
           6579,
           "Comments"
          ],
          [
           "There is an antibody treatment that stops every COVID-19 variant—and possibly all future variants So by targeting this location, sotrovimab could be effective against all known variants and potential ",
           3778,
           "Comments"
          ],
          [
           "Today I saw so many people walking without masks and close mingling again etc. I know we are getting tired of this and believe me so am I but getting tired and loosening things up is like saying fine ",
           989,
           "Comments"
          ],
          [
           "Anyone here done a 1:1 sitter in a positive covid room is this even ok? not a short period but for an entire shift?",
           1716,
           "Comments"
          ],
          [
           "Symptomatic Covid diagnosed 22 days ago with positive rapid and PCR. The mild symptoms revolved within a few days. Quarantined for 14 days from positive test.  Now with chills, fever, aches, malaise. ",
           4113,
           "Comments"
          ],
          [
           "I have someone I work with that tested positive and did the quarantine for 14 days. She was released to come back to work and is still coughing up a lung and was re swabbed and it still shows positive",
           2734,
           "Comments"
          ],
          [
           "Like Spain we should all hang out our windows at the same time around the country and bang some pots and pans and demand the government look after ALL of us not just the rich and those with a mortgage",
           6543,
           "Comments"
          ],
          [
           "Covid number calculation: According to Dr. Curran (the Doc who worked on Ebola in the early 80's), said 1% of Covid cases are fatal. By having 2 knowns, we can find the unknown. So knowing that as a f",
           1625,
           "Comments"
          ],
          [
           "That post made my night. But thanks admin for outting her",
           5748,
           "Comments"
          ],
          [
           "A hopeful bit of news : Bangkok (and Thailand by extension) has not seen any new cases domestically in 25 days. All new ones (5 at the moment) arrived from abroad. When a friend of mine arrived into B",
           2718,
           "Comments"
          ],
          [
           "CHILD CUSTODY Hello Everyone. I have an 8 year old daughter that I share custody with her father. Her father has taken her from me, stating that I will give her Covid because I'm a nurse working with ",
           227,
           "Comments"
          ],
          [
           "Canada has now implemented all flights banned to the Caribbean and Mexico from Canada. Also, Canada will have only four Airports open. Toronto, Montreal, Vancouver & Calgary. All incoming passengers w",
           788,
           "Comments"
          ]
         ],
         "hovertemplate": "<b>Text:</b> %{customdata[0]}<br><b>ID:</b> %{customdata[1]}<br><b>Predict:</b> %{customdata[2]}",
         "marker": {
          "color": "green",
          "opacity": {
           "bdata": "MzMzMzMz0z8AAAAAAADwPwAAAAAAAPA/MzMzMzMz0z8AAAAAAADwPwAAAAAAAPA/AAAAAAAA8D8AAAAAAADwPwAAAAAAAPA/AAAAAAAA8D8AAAAAAADwPwAAAAAAAPA/AAAAAAAA8D8AAAAAAADwPwAAAAAAAPA/AAAAAAAA8D8AAAAAAADwPwAAAAAAAPA/AAAAAAAA8D8AAAAAAADwPwAAAAAAAPA/AAAAAAAA8D8AAAAAAADwPwAAAAAAAPA/AAAAAAAA8D8AAAAAAADwPwAAAAAAAPA/AAAAAAAA8D8AAAAAAADwPwAAAAAAAPA/AAAAAAAA8D8AAAAAAADwPwAAAAAAAPA/AAAAAAAA8D8AAAAAAADwPwAAAAAAAPA/AAAAAAAA8D8AAAAAAADwPwAAAAAAAPA/AAAAAAAA8D8AAAAAAADwPwAAAAAAAPA/AAAAAAAA8D8AAAAAAADwPzMzMzMzM9M/AAAAAAAA8D8AAAAAAADwPwAAAAAAAPA/AAAAAAAA8D8AAAAAAADwPwAAAAAAAPA/AAAAAAAA8D8=",
           "dtype": "f8"
          },
          "size": 8
         },
         "mode": "markers",
         "name": "Comments",
         "type": "scatter",
         "x": {
          "bdata": "6iK7PjUtU7/JP7E/0fCQP7xsnr/k1NC+Uv8Mv7pqIj9OE6W/qMIYv/uhN79drnM/F6zLv/mhW72hvW0/a9zXPq145D+UF50/0je3PzYcBsAiWEU/+Fz8P2vxwb5Kw+E/W8lpv9yPGT8h9RPAUncrP216t72r++O75WhxvLA2AMBjS6e/NkVXv5tLKr768bi+fAVfv9xfxT5L6fU+cr9xP5f+dr8tVrS+PLJavlzv7r+IZKc/v527P6jei78Dg68+NQyxvwSzUj/fLzI/hIUzPw==",
          "dtype": "f4"
         },
         "y": {
          "bdata": "Iq7pP5I/ocAi9Io/XP2gwIBjPsAY4HVA2VhawLZWGUA8KETAQXNnwHY5KsC5DWHATJd3wCTDdMB/JCNAvPUpvQc6uj+3kxnAKMqlwCZxRsDZT4tASMbpPfbYbkCPkw1AQblxwF4rBcCKWJXAEVquvvzvjMATVUjA8WLaP1yeFsAERYc+mt5VwMxcf8ADRILApO47vlNz978R/EtAWVufwHGAS8B6OUw/QfpZv4JQcMCrI7Q/9pAYQAUtrcBpP0e/5MOqPyQRYj26nsm/j8QjPw==",
          "dtype": "f4"
         }
        }
       ],
       "layout": {
        "height": 1000,
        "legend": {
         "title": {
          "text": "Class Labels"
         }
        },
        "template": {
         "data": {
          "bar": [
           {
            "error_x": {
             "color": "#2a3f5f"
            },
            "error_y": {
             "color": "#2a3f5f"
            },
            "marker": {
             "line": {
              "color": "white",
              "width": 0.5
             },
             "pattern": {
              "fillmode": "overlay",
              "size": 10,
              "solidity": 0.2
             }
            },
            "type": "bar"
           }
          ],
          "barpolar": [
           {
            "marker": {
             "line": {
              "color": "white",
              "width": 0.5
             },
             "pattern": {
              "fillmode": "overlay",
              "size": 10,
              "solidity": 0.2
             }
            },
            "type": "barpolar"
           }
          ],
          "carpet": [
           {
            "aaxis": {
             "endlinecolor": "#2a3f5f",
             "gridcolor": "#C8D4E3",
             "linecolor": "#C8D4E3",
             "minorgridcolor": "#C8D4E3",
             "startlinecolor": "#2a3f5f"
            },
            "baxis": {
             "endlinecolor": "#2a3f5f",
             "gridcolor": "#C8D4E3",
             "linecolor": "#C8D4E3",
             "minorgridcolor": "#C8D4E3",
             "startlinecolor": "#2a3f5f"
            },
            "type": "carpet"
           }
          ],
          "choropleth": [
           {
            "colorbar": {
             "outlinewidth": 0,
             "ticks": ""
            },
            "type": "choropleth"
           }
          ],
          "contour": [
           {
            "colorbar": {
             "outlinewidth": 0,
             "ticks": ""
            },
            "colorscale": [
             [
              0,
              "#0d0887"
             ],
             [
              0.1111111111111111,
              "#46039f"
             ],
             [
              0.2222222222222222,
              "#7201a8"
             ],
             [
              0.3333333333333333,
              "#9c179e"
             ],
             [
              0.4444444444444444,
              "#bd3786"
             ],
             [
              0.5555555555555556,
              "#d8576b"
             ],
             [
              0.6666666666666666,
              "#ed7953"
             ],
             [
              0.7777777777777778,
              "#fb9f3a"
             ],
             [
              0.8888888888888888,
              "#fdca26"
             ],
             [
              1,
              "#f0f921"
             ]
            ],
            "type": "contour"
           }
          ],
          "contourcarpet": [
           {
            "colorbar": {
             "outlinewidth": 0,
             "ticks": ""
            },
            "type": "contourcarpet"
           }
          ],
          "heatmap": [
           {
            "colorbar": {
             "outlinewidth": 0,
             "ticks": ""
            },
            "colorscale": [
             [
              0,
              "#0d0887"
             ],
             [
              0.1111111111111111,
              "#46039f"
             ],
             [
              0.2222222222222222,
              "#7201a8"
             ],
             [
              0.3333333333333333,
              "#9c179e"
             ],
             [
              0.4444444444444444,
              "#bd3786"
             ],
             [
              0.5555555555555556,
              "#d8576b"
             ],
             [
              0.6666666666666666,
              "#ed7953"
             ],
             [
              0.7777777777777778,
              "#fb9f3a"
             ],
             [
              0.8888888888888888,
              "#fdca26"
             ],
             [
              1,
              "#f0f921"
             ]
            ],
            "type": "heatmap"
           }
          ],
          "histogram": [
           {
            "marker": {
             "pattern": {
              "fillmode": "overlay",
              "size": 10,
              "solidity": 0.2
             }
            },
            "type": "histogram"
           }
          ],
          "histogram2d": [
           {
            "colorbar": {
             "outlinewidth": 0,
             "ticks": ""
            },
            "colorscale": [
             [
              0,
              "#0d0887"
             ],
             [
              0.1111111111111111,
              "#46039f"
             ],
             [
              0.2222222222222222,
              "#7201a8"
             ],
             [
              0.3333333333333333,
              "#9c179e"
             ],
             [
              0.4444444444444444,
              "#bd3786"
             ],
             [
              0.5555555555555556,
              "#d8576b"
             ],
             [
              0.6666666666666666,
              "#ed7953"
             ],
             [
              0.7777777777777778,
              "#fb9f3a"
             ],
             [
              0.8888888888888888,
              "#fdca26"
             ],
             [
              1,
              "#f0f921"
             ]
            ],
            "type": "histogram2d"
           }
          ],
          "histogram2dcontour": [
           {
            "colorbar": {
             "outlinewidth": 0,
             "ticks": ""
            },
            "colorscale": [
             [
              0,
              "#0d0887"
             ],
             [
              0.1111111111111111,
              "#46039f"
             ],
             [
              0.2222222222222222,
              "#7201a8"
             ],
             [
              0.3333333333333333,
              "#9c179e"
             ],
             [
              0.4444444444444444,
              "#bd3786"
             ],
             [
              0.5555555555555556,
              "#d8576b"
             ],
             [
              0.6666666666666666,
              "#ed7953"
             ],
             [
              0.7777777777777778,
              "#fb9f3a"
             ],
             [
              0.8888888888888888,
              "#fdca26"
             ],
             [
              1,
              "#f0f921"
             ]
            ],
            "type": "histogram2dcontour"
           }
          ],
          "mesh3d": [
           {
            "colorbar": {
             "outlinewidth": 0,
             "ticks": ""
            },
            "type": "mesh3d"
           }
          ],
          "parcoords": [
           {
            "line": {
             "colorbar": {
              "outlinewidth": 0,
              "ticks": ""
             }
            },
            "type": "parcoords"
           }
          ],
          "pie": [
           {
            "automargin": true,
            "type": "pie"
           }
          ],
          "scatter": [
           {
            "fillpattern": {
             "fillmode": "overlay",
             "size": 10,
             "solidity": 0.2
            },
            "type": "scatter"
           }
          ],
          "scatter3d": [
           {
            "line": {
             "colorbar": {
              "outlinewidth": 0,
              "ticks": ""
             }
            },
            "marker": {
             "colorbar": {
              "outlinewidth": 0,
              "ticks": ""
             }
            },
            "type": "scatter3d"
           }
          ],
          "scattercarpet": [
           {
            "marker": {
             "colorbar": {
              "outlinewidth": 0,
              "ticks": ""
             }
            },
            "type": "scattercarpet"
           }
          ],
          "scattergeo": [
           {
            "marker": {
             "colorbar": {
              "outlinewidth": 0,
              "ticks": ""
             }
            },
            "type": "scattergeo"
           }
          ],
          "scattergl": [
           {
            "marker": {
             "colorbar": {
              "outlinewidth": 0,
              "ticks": ""
             }
            },
            "type": "scattergl"
           }
          ],
          "scattermap": [
           {
            "marker": {
             "colorbar": {
              "outlinewidth": 0,
              "ticks": ""
             }
            },
            "type": "scattermap"
           }
          ],
          "scattermapbox": [
           {
            "marker": {
             "colorbar": {
              "outlinewidth": 0,
              "ticks": ""
             }
            },
            "type": "scattermapbox"
           }
          ],
          "scatterpolar": [
           {
            "marker": {
             "colorbar": {
              "outlinewidth": 0,
              "ticks": ""
             }
            },
            "type": "scatterpolar"
           }
          ],
          "scatterpolargl": [
           {
            "marker": {
             "colorbar": {
              "outlinewidth": 0,
              "ticks": ""
             }
            },
            "type": "scatterpolargl"
           }
          ],
          "scatterternary": [
           {
            "marker": {
             "colorbar": {
              "outlinewidth": 0,
              "ticks": ""
             }
            },
            "type": "scatterternary"
           }
          ],
          "surface": [
           {
            "colorbar": {
             "outlinewidth": 0,
             "ticks": ""
            },
            "colorscale": [
             [
              0,
              "#0d0887"
             ],
             [
              0.1111111111111111,
              "#46039f"
             ],
             [
              0.2222222222222222,
              "#7201a8"
             ],
             [
              0.3333333333333333,
              "#9c179e"
             ],
             [
              0.4444444444444444,
              "#bd3786"
             ],
             [
              0.5555555555555556,
              "#d8576b"
             ],
             [
              0.6666666666666666,
              "#ed7953"
             ],
             [
              0.7777777777777778,
              "#fb9f3a"
             ],
             [
              0.8888888888888888,
              "#fdca26"
             ],
             [
              1,
              "#f0f921"
             ]
            ],
            "type": "surface"
           }
          ],
          "table": [
           {
            "cells": {
             "fill": {
              "color": "#EBF0F8"
             },
             "line": {
              "color": "white"
             }
            },
            "header": {
             "fill": {
              "color": "#C8D4E3"
             },
             "line": {
              "color": "white"
             }
            },
            "type": "table"
           }
          ]
         },
         "layout": {
          "annotationdefaults": {
           "arrowcolor": "#2a3f5f",
           "arrowhead": 0,
           "arrowwidth": 1
          },
          "autotypenumbers": "strict",
          "coloraxis": {
           "colorbar": {
            "outlinewidth": 0,
            "ticks": ""
           }
          },
          "colorscale": {
           "diverging": [
            [
             0,
             "#8e0152"
            ],
            [
             0.1,
             "#c51b7d"
            ],
            [
             0.2,
             "#de77ae"
            ],
            [
             0.3,
             "#f1b6da"
            ],
            [
             0.4,
             "#fde0ef"
            ],
            [
             0.5,
             "#f7f7f7"
            ],
            [
             0.6,
             "#e6f5d0"
            ],
            [
             0.7,
             "#b8e186"
            ],
            [
             0.8,
             "#7fbc41"
            ],
            [
             0.9,
             "#4d9221"
            ],
            [
             1,
             "#276419"
            ]
           ],
           "sequential": [
            [
             0,
             "#0d0887"
            ],
            [
             0.1111111111111111,
             "#46039f"
            ],
            [
             0.2222222222222222,
             "#7201a8"
            ],
            [
             0.3333333333333333,
             "#9c179e"
            ],
            [
             0.4444444444444444,
             "#bd3786"
            ],
            [
             0.5555555555555556,
             "#d8576b"
            ],
            [
             0.6666666666666666,
             "#ed7953"
            ],
            [
             0.7777777777777778,
             "#fb9f3a"
            ],
            [
             0.8888888888888888,
             "#fdca26"
            ],
            [
             1,
             "#f0f921"
            ]
           ],
           "sequentialminus": [
            [
             0,
             "#0d0887"
            ],
            [
             0.1111111111111111,
             "#46039f"
            ],
            [
             0.2222222222222222,
             "#7201a8"
            ],
            [
             0.3333333333333333,
             "#9c179e"
            ],
            [
             0.4444444444444444,
             "#bd3786"
            ],
            [
             0.5555555555555556,
             "#d8576b"
            ],
            [
             0.6666666666666666,
             "#ed7953"
            ],
            [
             0.7777777777777778,
             "#fb9f3a"
            ],
            [
             0.8888888888888888,
             "#fdca26"
            ],
            [
             1,
             "#f0f921"
            ]
           ]
          },
          "colorway": [
           "#636efa",
           "#EF553B",
           "#00cc96",
           "#ab63fa",
           "#FFA15A",
           "#19d3f3",
           "#FF6692",
           "#B6E880",
           "#FF97FF",
           "#FECB52"
          ],
          "font": {
           "color": "#2a3f5f"
          },
          "geo": {
           "bgcolor": "white",
           "lakecolor": "white",
           "landcolor": "white",
           "showlakes": true,
           "showland": true,
           "subunitcolor": "#C8D4E3"
          },
          "hoverlabel": {
           "align": "left"
          },
          "hovermode": "closest",
          "mapbox": {
           "style": "light"
          },
          "paper_bgcolor": "white",
          "plot_bgcolor": "white",
          "polar": {
           "angularaxis": {
            "gridcolor": "#EBF0F8",
            "linecolor": "#EBF0F8",
            "ticks": ""
           },
           "bgcolor": "white",
           "radialaxis": {
            "gridcolor": "#EBF0F8",
            "linecolor": "#EBF0F8",
            "ticks": ""
           }
          },
          "scene": {
           "xaxis": {
            "backgroundcolor": "white",
            "gridcolor": "#DFE8F3",
            "gridwidth": 2,
            "linecolor": "#EBF0F8",
            "showbackground": true,
            "ticks": "",
            "zerolinecolor": "#EBF0F8"
           },
           "yaxis": {
            "backgroundcolor": "white",
            "gridcolor": "#DFE8F3",
            "gridwidth": 2,
            "linecolor": "#EBF0F8",
            "showbackground": true,
            "ticks": "",
            "zerolinecolor": "#EBF0F8"
           },
           "zaxis": {
            "backgroundcolor": "white",
            "gridcolor": "#DFE8F3",
            "gridwidth": 2,
            "linecolor": "#EBF0F8",
            "showbackground": true,
            "ticks": "",
            "zerolinecolor": "#EBF0F8"
           }
          },
          "shapedefaults": {
           "line": {
            "color": "#2a3f5f"
           }
          },
          "ternary": {
           "aaxis": {
            "gridcolor": "#DFE8F3",
            "linecolor": "#A2B1C6",
            "ticks": ""
           },
           "baxis": {
            "gridcolor": "#DFE8F3",
            "linecolor": "#A2B1C6",
            "ticks": ""
           },
           "bgcolor": "white",
           "caxis": {
            "gridcolor": "#DFE8F3",
            "linecolor": "#A2B1C6",
            "ticks": ""
           }
          },
          "title": {
           "x": 0.05
          },
          "xaxis": {
           "automargin": true,
           "gridcolor": "#EBF0F8",
           "linecolor": "#EBF0F8",
           "ticks": "",
           "title": {
            "standoff": 15
           },
           "zerolinecolor": "#EBF0F8",
           "zerolinewidth": 2
          },
          "yaxis": {
           "automargin": true,
           "gridcolor": "#EBF0F8",
           "linecolor": "#EBF0F8",
           "ticks": "",
           "title": {
            "standoff": 15
           },
           "zerolinecolor": "#EBF0F8",
           "zerolinewidth": 2
          }
         }
        },
        "title": {
         "text": "t-SNE 2D Visualization"
        },
        "width": 1400,
        "xaxis": {
         "gridcolor": "lightgray",
         "gridwidth": 0.5,
         "linecolor": "black",
         "linewidth": 2,
         "mirror": true,
         "showline": true,
         "title": {
          "text": "TSNE 1 →"
         },
         "zeroline": true,
         "zerolinecolor": "black",
         "zerolinewidth": 1.2
        },
        "yaxis": {
         "gridcolor": "lightgray",
         "gridwidth": 0.5,
         "linecolor": "black",
         "linewidth": 2,
         "mirror": true,
         "showline": true,
         "title": {
          "text": "TSNE 2 →"
         },
         "zeroline": true,
         "zerolinecolor": "black",
         "zerolinewidth": 1.2
        }
       }
      }
     },
     "metadata": {},
     "output_type": "display_data"
    }
   ],
   "source": [
    "\n",
    "visualizer.reduce_dimensionality(\"tsne\", n_components=2)\n",
    "visualizer.visualize(\"tsne\", n_components=2, title=\"t-SNE 2D Visualization\")\n"
   ]
  },
  {
   "cell_type": "code",
   "execution_count": 187,
   "metadata": {},
   "outputs": [
    {
     "data": {
      "application/vnd.plotly.v1+json": {
       "config": {
        "plotlyServerURL": "https://plot.ly"
       },
       "data": [
        {
         "customdata": [
          [
           "UK TIER 2 Care home visas available inside UK and outside Uk as well can apply Leeds. Carehome 10 vacancies 7 females and 3 males 3 months experience Gloucestershire 8 vacancies 6 females and 2 males.",
           1375,
           "Real"
          ],
          [
           "Canada making progress with vaccine. Hopefully trials will prove to be successful as countries around the world race to find a way to protect global population.",
           2053,
           "Real"
          ],
          [
           "For those in the USA who have received their vaccine-- please consider signing up for the CDC's Vsafe after vaccination health checker. You can sign up anytime after receiving your first dose until 6 ",
           3089,
           "Real"
          ],
          [
           "I would like to acknowledge the entire Anesthesia staff the Anesthesiologist, CRNA’s and the Anesthesia Techs. These are the staff members on the front line responsible for intubations and placing the",
           5265,
           "Real"
          ],
          [
           "Female self-employed live-in carer needed for a lady near High Wycombe. Driver with own car preferred. Must have permission to work in the UK. £855/wk. Please PM me ref:SC No sponsorship available - s",
           5790,
           "Real"
          ],
          [
           "Keeping everyone of you in my prayers. Please know that your service to others at this tragic and chaotic time is what His Holiness always talks about. We are all extremely proud of you 🙏🏽💪🏼👍🏼",
           4859,
           "Real"
          ],
          [
           "https://www.mirror.co.uk/news/uk-news/breaking-coronavirus-mcdonalds-closing-uk-21735921 When they start closing big food chains that can only mean 1 thing!!!",
           6540,
           "Real"
          ],
          [
           "https://www.independent.co.uk/news/uk/politics/coronavirus-rent-mortgage-payments-covid-19-labour-corbyn-johnson-a9402596.html Why everyone didn't vote for Labour is beyond me!!! If our prime minister",
           6702,
           "Real"
          ]
         ],
         "hovertemplate": "<b>Text:</b> %{customdata[0]}<br><b>ID:</b> %{customdata[1]}<br><b>Predict:</b> %{customdata[2]}",
         "marker": {
          "color": "blue",
          "size": 5
         },
         "mode": "markers",
         "name": "Real",
         "type": "scatter3d",
         "x": {
          "bdata": "7e6mQoIpqMIgprhCgAhowIq4HcJBAe3CmM+iQltxn0I=",
          "dtype": "f4"
         },
         "y": {
          "bdata": "NbrnQsitjkLQICLCYOsDwrqk/MIVUJjC3+a5QgdwvkI=",
          "dtype": "f4"
         },
         "z": {
          "bdata": "OdbqvyMDokEtl6hCoXYXwb4TGUCflvNBa55ZQlqQfMI=",
          "dtype": "f4"
         }
        },
        {
         "customdata": [
          [
           "Are you all seeing a lot of “second timers”?? If you have, how far apart between diagnoses and was the second time generally worse or better symptom wise? Was it truly a second time contraction or was",
           1280,
           "Fake"
          ],
          [
           "Interesting. I can’t wait to see what info further research uncovers.",
           871,
           "Fake"
          ],
          [
           "Are there any articles objecting to the blood type theory that A blood types are 50% more likely to get ARDS version of Covid-19?",
           4258,
           "Fake"
          ],
          [
           "As my Grammy used to say, “If you don’t have any thing nice to say, don’t say anything at all.” A few of the MANY reasons why I’ve chosen to receive the COVID-19 Vaccine: 1. As a nurse I feel it is my",
           5219,
           "Fake"
          ],
          [
           "Anyone been tested for covid and it be negative...then your symptoms get worse? Been tested for flu, strep, mono, checked for pneumonia, PE...then covid tested again. Waiting on results. Feeling awful",
           3332,
           "Fake"
          ],
          [
           "We're praising a man for doing things he should have done as soon as this thing left China!!!",
           6036,
           "Fake"
          ],
          [
           "recruiting from india .middle east and phillippines only",
           5190,
           "Fake"
          ],
          [
           "Got my 1st vaccine today 😁",
           1510,
           "Fake"
          ],
          [
           "https://abcnews.go.com/Politics/9000-retired-army-medical-personnel-respond-armys-call/story?id=69833949&cid=social_fb_abcn Upbeat news—here comes some backup.",
           51,
           "Fake"
          ],
          [
           "A brave and noble man. 💚💙",
           31,
           "Fake"
          ],
          [
           "I have a tightness in my chest, no cough. I can’t tell if it’s anxiety or what.. I’m trying to stay away from the hospital if I can",
           5510,
           "Fake"
          ],
          [
           "To go with our cloth masks? Kudos to the community for loving on the local healthcare workers!",
           3463,
           "Fake"
          ],
          [
           "Great visual for understanding how cough, sneeze, or talking droplets work. How long they last, how they float, how to get rid of them etc. This is how covid or other airborne pathogens are spread.",
           4785,
           "Fake"
          ],
          [
           "Physicians may soon be able to tailor COVID19 treatments based on their genes.",
           5983,
           "Fake"
          ],
          [
           "Why does Aspirin, and or ibuprofen affect the body of somebody who has the coronavirus in a deadly way? Does anybody in the medical know why? I have a friend with the virus and would love to explain w",
           3687,
           "Fake"
          ],
          [
           "Is everyone wearing hair covers in their Covid rooms? We’ve been told not to and that it doesn’t ‘stick’ to hair... 🧐 then again they tell us something different every day.",
           2961,
           "Fake"
          ]
         ],
         "hovertemplate": "<b>Text:</b> %{customdata[0]}<br><b>ID:</b> %{customdata[1]}<br><b>Predict:</b> %{customdata[2]}",
         "marker": {
          "color": "red",
          "size": 5
         },
         "mode": "markers",
         "name": "Fake",
         "type": "scatter3d",
         "x": {
          "bdata": "y44LQVnqusKxJmFCtfmcQYLnEMKtlRJB0jWHQvIt1ED9TPvB5qa4wW6GgcKn8m1CahHtQdnG88LY6K3CUD+Owg==",
          "dtype": "f4"
         },
         "y": {
          "bdata": "JfN1QYZUOcLvVRHCMGkTQAEHmcIvULVCMSM6Qhpb70FfAqnBUBxtQmMIAsE63XNBd9ytwpu93sFstlFCLNWzwg==",
          "dtype": "f4"
         },
         "z": {
          "bdata": "/C3RwT48ZkJW2H7C1f3TQlTT9cHYbC/CDXO4QlDMbUKVjn7CX4cWQl8CcsEX1mXBmHOxQqmhV0AGs0jCa1KDQg==",
          "dtype": "f4"
         }
        },
        {
         "customdata": [
          [
           "Everyone's talking about the Covid vaccine.... Why aren't more people looking into MMR boosters to increase Covid resistance? Yet ANOTHER study to support a theory I've previously discussed...Journal ",
           3917,
           "Comments"
          ],
          [
           "Guys if they're bringing tanks into the city which looks like they are means army's on their way which means lock down is imminent and martial law will be applied!!!",
           6601,
           "Comments"
          ],
          [
           "I’m a Rn and long hauler. Infected in April with a “resurgence” in June and lost taste and smell. I still only have about 50-60% of it back. I got my first Pfizer shot on Monday. Mildly sore arm and f",
           696,
           "Comments"
          ],
          [
           "We are hiring and taking on Healthcare Assistants, Support Workers, Registered General Nurse's & Registered Mental Nurse's in the Hastings, and surrounding areas. • Great rates of pay • Recommend a fr",
           2075,
           "Comments"
          ],
          [
           "What symptoms are you guys seeing most positive kids present with?",
           1798,
           "Comments"
          ],
          [
           "Are you wiping down your groceries still? I am.",
           168,
           "Comments"
          ],
          [
           "Thoughts on dentist appointments?",
           2719,
           "Comments"
          ],
          [
           "Hello folks. I'm a HCA in a Nursing Home these days. In previous years I have been working in physiological measurement, as a cardiac technician, and also in audiology. I feel very privileged to be ca",
           6714,
           "Comments"
          ],
          [
           "Did anyone get a rash like small little red bumps that are itchy?",
           5430,
           "Comments"
          ],
          [
           "Can anyone please tell me if a fish van still comes to Newmill please",
           6465,
           "Comments"
          ],
          [
           "Will be leaving this week to help out in Brooklyn, other than hard to find PPE and sanitizer, what are the must haves that should be on my packing list?",
           1351,
           "Comments"
          ],
          [
           "What an emotional day! I had to find my own way to get vaccinated, but I got it! Thank you to the bright minds to make this happen! 🙏🏻❤️",
           4840,
           "Comments"
          ],
          [
           "I am almost 3 weeks post 2nd Pfizer vaccine. Is anyone experiencing joint pains, flank pains? Never had issues with my knees or elbows or sacral joints and now having pains? Wondering if anyone else h",
           3679,
           "Comments"
          ],
          [
           "Take a long hard look at our leader",
           6269,
           "Comments"
          ],
          [
           "A couple of days ago I posted a picture of a doctor, Dr. Kevin Tsui cleaning a room to help one of our house cleaning colleagues so she would not have to enter a room with a patient positive for COVID",
           48,
           "Comments"
          ],
          [
           "Just wondering if y'all have a special name for your COVID-19 unit? We call ours The Cove. Not very original, but I like the picture it invokes of people sheltering together in a remote spot, huddled ",
           663,
           "Comments"
          ],
          [
           "Last night in our ER we had a very very very sick patient in her 20s that came in in full-blown DKA, new onset type one diabetes, and septic. the sickest DKA I’ve ever seen (ph of 6.7). Had just recov",
           1136,
           "Comments"
          ],
          [
           "\"And then [if] I returned to United Hospital in the ER — if I said that there was no trepidation on my part, I’d be completely lying. I would be very nervous about walking back into that ER, I would b",
           1418,
           "Comments"
          ],
          [
           "JOB ALERT! Are you seeking a new exciting role in care? Do you want to build a long-lasting career? NO SPONSORSHIP IS AVAILABLE (overseas or UK). IMMEDIATE START IN NR16 Post code area We have a numbe",
           5912,
           "Comments"
          ],
          [
           "I know people are sharing what vitamins they're taking to try to curb getting sick or help while they are sick but can you all elaborate how much? I'm trying to figure out how much vitamin c, zinc, an",
           1743,
           "Comments"
          ],
          [
           "𝑵𝑯𝑺 𝑹𝒆𝒄𝒓𝒖𝒊𝒕𝒎𝒆𝒏𝒕 - 𝑵𝒖𝒓𝒔𝒆𝒔 𝒕𝒐 𝑺𝒐𝒖𝒕𝒉𝒂𝒎𝒑𝒕𝒐𝒏 Embracing a new professional challenge is not always easy no matter how rewarding it may seem. Therefore, at the top of our priorities should be the quality of ",
           5126,
           "Comments"
          ],
          [
           "Since the United States is working on opening a backup my guess is that Healthcare workers will not receive hazard pay or the additional $25,000 stimulus that was in on the table. Thought was nice whi",
           2593,
           "Comments"
          ],
          [
           "Another 25 dropped off for my nurse neighbour to take into the hospital tomorrow.",
           4769,
           "Comments"
          ],
          [
           "How do you guys like this one. Nurse in FL, dialysis nurse, has 102 fever, cough and feels like there is a band around her chest can’t get tested without a MD order, can’t get in to see doctor. I mean",
           725,
           "Comments"
          ],
          [
           "How do you all feel about this? I feel my anxiety coming on just thinking about it..",
           1195,
           "Comments"
          ],
          [
           "Gina--RN (florida) UPDATE:--My friend (below) had been home for 10 days. He lost 17 lbs during his hospitalization and was working slowly on regaining his strength. Even something as simple as a showe",
           2908,
           "Comments"
          ],
          [
           "To produce a speedier vaccine rollout I have to wonder if retired doctors, pharmacists, RNs, LVNs (inactive license) could be recruited to volunteer to vaccinate the public..Drive thru settings, outsi",
           1023,
           "Comments"
          ],
          [
           "Update: spoke to PCP about concerns and she stated that she absolutely agrees that someone breastfeeding shouldn’t care for these pts in an active role. She is writing a note to remove hypothetical nu",
           2078,
           "Comments"
          ],
          [
           "Heres a success story from Italy! ",
           4980,
           "Comments"
          ],
          [
           "NY Times has a series of stories of those we have lost... Rest in peace my social worker sister",
           3165,
           "Comments"
          ],
          [
           "Welcoming applications for Interviews with NHS hospital in Eastern England. Nurses with IELTS or OET please send us your CV with IELTS or OET to info@abnurses.com",
           4363,
           "Comments"
          ],
          [
           "How many of you have concerns about the effectiveness of the tests themselves? There seem to be a lot of negative tests when other clinical indicators point to covid? Do any of you have concerns that ",
           4897,
           "Comments"
          ],
          [
           "Hey guys we are donating face shields to medical staff that we manufacture at our shop! They are made out of heavy duty marine grade materials so they can be cleaned and re used over and over! We just",
           4802,
           "Comments"
          ],
          [
           "Anyone taking vitamins to help their immune system?",
           1395,
           "Comments"
          ],
          [
           "Hold the line!",
           1001,
           "Comments"
          ],
          [
           "Anyone besides me take Losartan? ",
           3467,
           "Comments"
          ],
          [
           "Update we found our piggy in bottom of purple bin under all the cans, someone put him in the bin but thankfully he's alive. Hello, I know this is nothing to do with Covid 19 but we've a missing guinea",
           5094,
           "Comments"
          ],
          [
           "I am a nurse and I was working on a renal floor yesterday and overheard a kidney doctor talking about how the COVID patients are clogging up the dialysis machines. I asked him if he has seen this befo",
           2469,
           "Comments"
          ],
          [
           "Can't say I didn't see this coming. ",
           763,
           "Comments"
          ],
          [
           "For Employers Care Staff available For Hire Permanent employment Please get in touch ! Thank you !",
           3131,
           "Comments"
          ],
          [
           "Does anyone know if someone is doing antibody testing in southwest Florida?",
           6579,
           "Comments"
          ],
          [
           "There is an antibody treatment that stops every COVID-19 variant—and possibly all future variants So by targeting this location, sotrovimab could be effective against all known variants and potential ",
           3778,
           "Comments"
          ],
          [
           "Today I saw so many people walking without masks and close mingling again etc. I know we are getting tired of this and believe me so am I but getting tired and loosening things up is like saying fine ",
           989,
           "Comments"
          ],
          [
           "Anyone here done a 1:1 sitter in a positive covid room is this even ok? not a short period but for an entire shift?",
           1716,
           "Comments"
          ],
          [
           "Symptomatic Covid diagnosed 22 days ago with positive rapid and PCR. The mild symptoms revolved within a few days. Quarantined for 14 days from positive test.  Now with chills, fever, aches, malaise. ",
           4113,
           "Comments"
          ],
          [
           "I have someone I work with that tested positive and did the quarantine for 14 days. She was released to come back to work and is still coughing up a lung and was re swabbed and it still shows positive",
           2734,
           "Comments"
          ],
          [
           "Like Spain we should all hang out our windows at the same time around the country and bang some pots and pans and demand the government look after ALL of us not just the rich and those with a mortgage",
           6543,
           "Comments"
          ],
          [
           "Covid number calculation: According to Dr. Curran (the Doc who worked on Ebola in the early 80's), said 1% of Covid cases are fatal. By having 2 knowns, we can find the unknown. So knowing that as a f",
           1625,
           "Comments"
          ],
          [
           "That post made my night. But thanks admin for outting her",
           5748,
           "Comments"
          ],
          [
           "A hopeful bit of news : Bangkok (and Thailand by extension) has not seen any new cases domestically in 25 days. All new ones (5 at the moment) arrived from abroad. When a friend of mine arrived into B",
           2718,
           "Comments"
          ],
          [
           "CHILD CUSTODY Hello Everyone. I have an 8 year old daughter that I share custody with her father. Her father has taken her from me, stating that I will give her Covid because I'm a nurse working with ",
           227,
           "Comments"
          ],
          [
           "Canada has now implemented all flights banned to the Caribbean and Mexico from Canada. Also, Canada will have only four Airports open. Toronto, Montreal, Vancouver & Calgary. All incoming passengers w",
           788,
           "Comments"
          ]
         ],
         "hovertemplate": "<b>Text:</b> %{customdata[0]}<br><b>ID:</b> %{customdata[1]}<br><b>Predict:</b> %{customdata[2]}",
         "marker": {
          "color": "green",
          "size": 5
         },
         "mode": "markers",
         "name": "Comments",
         "type": "scatter3d",
         "x": {
          "bdata": "ZffePwjCO8HqHb/CK5Olwe9UZ8FX9M7CZcNOQuD6jcEeB/9BYi1MwUkL10IGlA7CxpAhwuBxLUJ1fF3CQhkaQspsSsL1CzTCQwk8QomPh0IqSPpCrAePQWnYqsKMtiTCPGdeQRIZFsJsnRtC0XmiQvQD+8JNiARCrQh4woXToUJ4M0fBKYqeQjQ0K0LRTKlCuzSyQr1En0KHnu3BJi8fQRmI/0FMt27Bh2eAQvpxFkGwrZ3CYJWOwmAUZsGS967CIEkPwIUCIEL6n99CioicQQ==",
          "dtype": "f4"
         },
         "y": {
          "bdata": "MzeGwhXz8kIy+33BfyYAwg7eCUIeI6bCrq2hwhWO1sJGZBtA5jGOQjJhK0LHUCRCXJ+eQlJrkEJ5BoTCZ4qewac0iMHa1L1CtU8MQ1wTsEHbbqvCWKqswuPR4sI9WXPCyl4yQq+8ZEFcTAxD+Q4VwqSnJ0KPlJFCaDwPP3e3i0H8R/s+zb+WQLoIUUJCkmpC4mdcwpv4s8Le08FCjFf5wgxVEUKrEEHCI8hIwnVcu0JeMiFCPAZ1wpzsDUMDeEBBZ1i9wddZLcL8UcvBaBj4wQ==",
          "dtype": "f4"
         },
         "z": {
          "bdata": "cuV8wvnQaUI6N0nCL0sJQxW5cMJUf0zCYC8Zwmg0T0LSFYTC5karQq/XIMJET+HAVrWYwoULasFaMq7CJA2fQgYbRUKkq3fBPS2aQWP/08JBXqLBMA6OQZ7ug8Gh0J9BQBPDwq9qykI0CGXCFc8XwQR8A0ELAmlCWuTBwn/OKEIQxqpBcURbwtv3VMIqZPlA/67Twp82rEFwIgHD8Kp9wjgEg0G97KBC1X0sQudCVUEMj5NC6XEbwddoj8GusAlCfFDmwrcjkj8Bgo9BLDcZQg==",
          "dtype": "f4"
         }
        }
       ],
       "layout": {
        "height": 1000,
        "legend": {
         "title": {
          "text": "Class Labels"
         }
        },
        "scene": {
         "xaxis": {
          "gridcolor": "lightgray",
          "gridwidth": 0.5,
          "linecolor": "black",
          "linewidth": 2,
          "mirror": true,
          "showline": true,
          "title": {
           "text": "TSNE 1"
          }
         },
         "yaxis": {
          "gridcolor": "lightgray",
          "gridwidth": 0.5,
          "linecolor": "black",
          "linewidth": 2,
          "mirror": true,
          "showline": true,
          "title": {
           "text": "TSNE 2"
          }
         },
         "zaxis": {
          "gridcolor": "lightgray",
          "gridwidth": 0.5,
          "linecolor": "black",
          "linewidth": 2,
          "mirror": true,
          "showline": true,
          "title": {
           "text": "TSNE 3"
          }
         }
        },
        "template": {
         "data": {
          "bar": [
           {
            "error_x": {
             "color": "#2a3f5f"
            },
            "error_y": {
             "color": "#2a3f5f"
            },
            "marker": {
             "line": {
              "color": "white",
              "width": 0.5
             },
             "pattern": {
              "fillmode": "overlay",
              "size": 10,
              "solidity": 0.2
             }
            },
            "type": "bar"
           }
          ],
          "barpolar": [
           {
            "marker": {
             "line": {
              "color": "white",
              "width": 0.5
             },
             "pattern": {
              "fillmode": "overlay",
              "size": 10,
              "solidity": 0.2
             }
            },
            "type": "barpolar"
           }
          ],
          "carpet": [
           {
            "aaxis": {
             "endlinecolor": "#2a3f5f",
             "gridcolor": "#C8D4E3",
             "linecolor": "#C8D4E3",
             "minorgridcolor": "#C8D4E3",
             "startlinecolor": "#2a3f5f"
            },
            "baxis": {
             "endlinecolor": "#2a3f5f",
             "gridcolor": "#C8D4E3",
             "linecolor": "#C8D4E3",
             "minorgridcolor": "#C8D4E3",
             "startlinecolor": "#2a3f5f"
            },
            "type": "carpet"
           }
          ],
          "choropleth": [
           {
            "colorbar": {
             "outlinewidth": 0,
             "ticks": ""
            },
            "type": "choropleth"
           }
          ],
          "contour": [
           {
            "colorbar": {
             "outlinewidth": 0,
             "ticks": ""
            },
            "colorscale": [
             [
              0,
              "#0d0887"
             ],
             [
              0.1111111111111111,
              "#46039f"
             ],
             [
              0.2222222222222222,
              "#7201a8"
             ],
             [
              0.3333333333333333,
              "#9c179e"
             ],
             [
              0.4444444444444444,
              "#bd3786"
             ],
             [
              0.5555555555555556,
              "#d8576b"
             ],
             [
              0.6666666666666666,
              "#ed7953"
             ],
             [
              0.7777777777777778,
              "#fb9f3a"
             ],
             [
              0.8888888888888888,
              "#fdca26"
             ],
             [
              1,
              "#f0f921"
             ]
            ],
            "type": "contour"
           }
          ],
          "contourcarpet": [
           {
            "colorbar": {
             "outlinewidth": 0,
             "ticks": ""
            },
            "type": "contourcarpet"
           }
          ],
          "heatmap": [
           {
            "colorbar": {
             "outlinewidth": 0,
             "ticks": ""
            },
            "colorscale": [
             [
              0,
              "#0d0887"
             ],
             [
              0.1111111111111111,
              "#46039f"
             ],
             [
              0.2222222222222222,
              "#7201a8"
             ],
             [
              0.3333333333333333,
              "#9c179e"
             ],
             [
              0.4444444444444444,
              "#bd3786"
             ],
             [
              0.5555555555555556,
              "#d8576b"
             ],
             [
              0.6666666666666666,
              "#ed7953"
             ],
             [
              0.7777777777777778,
              "#fb9f3a"
             ],
             [
              0.8888888888888888,
              "#fdca26"
             ],
             [
              1,
              "#f0f921"
             ]
            ],
            "type": "heatmap"
           }
          ],
          "histogram": [
           {
            "marker": {
             "pattern": {
              "fillmode": "overlay",
              "size": 10,
              "solidity": 0.2
             }
            },
            "type": "histogram"
           }
          ],
          "histogram2d": [
           {
            "colorbar": {
             "outlinewidth": 0,
             "ticks": ""
            },
            "colorscale": [
             [
              0,
              "#0d0887"
             ],
             [
              0.1111111111111111,
              "#46039f"
             ],
             [
              0.2222222222222222,
              "#7201a8"
             ],
             [
              0.3333333333333333,
              "#9c179e"
             ],
             [
              0.4444444444444444,
              "#bd3786"
             ],
             [
              0.5555555555555556,
              "#d8576b"
             ],
             [
              0.6666666666666666,
              "#ed7953"
             ],
             [
              0.7777777777777778,
              "#fb9f3a"
             ],
             [
              0.8888888888888888,
              "#fdca26"
             ],
             [
              1,
              "#f0f921"
             ]
            ],
            "type": "histogram2d"
           }
          ],
          "histogram2dcontour": [
           {
            "colorbar": {
             "outlinewidth": 0,
             "ticks": ""
            },
            "colorscale": [
             [
              0,
              "#0d0887"
             ],
             [
              0.1111111111111111,
              "#46039f"
             ],
             [
              0.2222222222222222,
              "#7201a8"
             ],
             [
              0.3333333333333333,
              "#9c179e"
             ],
             [
              0.4444444444444444,
              "#bd3786"
             ],
             [
              0.5555555555555556,
              "#d8576b"
             ],
             [
              0.6666666666666666,
              "#ed7953"
             ],
             [
              0.7777777777777778,
              "#fb9f3a"
             ],
             [
              0.8888888888888888,
              "#fdca26"
             ],
             [
              1,
              "#f0f921"
             ]
            ],
            "type": "histogram2dcontour"
           }
          ],
          "mesh3d": [
           {
            "colorbar": {
             "outlinewidth": 0,
             "ticks": ""
            },
            "type": "mesh3d"
           }
          ],
          "parcoords": [
           {
            "line": {
             "colorbar": {
              "outlinewidth": 0,
              "ticks": ""
             }
            },
            "type": "parcoords"
           }
          ],
          "pie": [
           {
            "automargin": true,
            "type": "pie"
           }
          ],
          "scatter": [
           {
            "fillpattern": {
             "fillmode": "overlay",
             "size": 10,
             "solidity": 0.2
            },
            "type": "scatter"
           }
          ],
          "scatter3d": [
           {
            "line": {
             "colorbar": {
              "outlinewidth": 0,
              "ticks": ""
             }
            },
            "marker": {
             "colorbar": {
              "outlinewidth": 0,
              "ticks": ""
             }
            },
            "type": "scatter3d"
           }
          ],
          "scattercarpet": [
           {
            "marker": {
             "colorbar": {
              "outlinewidth": 0,
              "ticks": ""
             }
            },
            "type": "scattercarpet"
           }
          ],
          "scattergeo": [
           {
            "marker": {
             "colorbar": {
              "outlinewidth": 0,
              "ticks": ""
             }
            },
            "type": "scattergeo"
           }
          ],
          "scattergl": [
           {
            "marker": {
             "colorbar": {
              "outlinewidth": 0,
              "ticks": ""
             }
            },
            "type": "scattergl"
           }
          ],
          "scattermap": [
           {
            "marker": {
             "colorbar": {
              "outlinewidth": 0,
              "ticks": ""
             }
            },
            "type": "scattermap"
           }
          ],
          "scattermapbox": [
           {
            "marker": {
             "colorbar": {
              "outlinewidth": 0,
              "ticks": ""
             }
            },
            "type": "scattermapbox"
           }
          ],
          "scatterpolar": [
           {
            "marker": {
             "colorbar": {
              "outlinewidth": 0,
              "ticks": ""
             }
            },
            "type": "scatterpolar"
           }
          ],
          "scatterpolargl": [
           {
            "marker": {
             "colorbar": {
              "outlinewidth": 0,
              "ticks": ""
             }
            },
            "type": "scatterpolargl"
           }
          ],
          "scatterternary": [
           {
            "marker": {
             "colorbar": {
              "outlinewidth": 0,
              "ticks": ""
             }
            },
            "type": "scatterternary"
           }
          ],
          "surface": [
           {
            "colorbar": {
             "outlinewidth": 0,
             "ticks": ""
            },
            "colorscale": [
             [
              0,
              "#0d0887"
             ],
             [
              0.1111111111111111,
              "#46039f"
             ],
             [
              0.2222222222222222,
              "#7201a8"
             ],
             [
              0.3333333333333333,
              "#9c179e"
             ],
             [
              0.4444444444444444,
              "#bd3786"
             ],
             [
              0.5555555555555556,
              "#d8576b"
             ],
             [
              0.6666666666666666,
              "#ed7953"
             ],
             [
              0.7777777777777778,
              "#fb9f3a"
             ],
             [
              0.8888888888888888,
              "#fdca26"
             ],
             [
              1,
              "#f0f921"
             ]
            ],
            "type": "surface"
           }
          ],
          "table": [
           {
            "cells": {
             "fill": {
              "color": "#EBF0F8"
             },
             "line": {
              "color": "white"
             }
            },
            "header": {
             "fill": {
              "color": "#C8D4E3"
             },
             "line": {
              "color": "white"
             }
            },
            "type": "table"
           }
          ]
         },
         "layout": {
          "annotationdefaults": {
           "arrowcolor": "#2a3f5f",
           "arrowhead": 0,
           "arrowwidth": 1
          },
          "autotypenumbers": "strict",
          "coloraxis": {
           "colorbar": {
            "outlinewidth": 0,
            "ticks": ""
           }
          },
          "colorscale": {
           "diverging": [
            [
             0,
             "#8e0152"
            ],
            [
             0.1,
             "#c51b7d"
            ],
            [
             0.2,
             "#de77ae"
            ],
            [
             0.3,
             "#f1b6da"
            ],
            [
             0.4,
             "#fde0ef"
            ],
            [
             0.5,
             "#f7f7f7"
            ],
            [
             0.6,
             "#e6f5d0"
            ],
            [
             0.7,
             "#b8e186"
            ],
            [
             0.8,
             "#7fbc41"
            ],
            [
             0.9,
             "#4d9221"
            ],
            [
             1,
             "#276419"
            ]
           ],
           "sequential": [
            [
             0,
             "#0d0887"
            ],
            [
             0.1111111111111111,
             "#46039f"
            ],
            [
             0.2222222222222222,
             "#7201a8"
            ],
            [
             0.3333333333333333,
             "#9c179e"
            ],
            [
             0.4444444444444444,
             "#bd3786"
            ],
            [
             0.5555555555555556,
             "#d8576b"
            ],
            [
             0.6666666666666666,
             "#ed7953"
            ],
            [
             0.7777777777777778,
             "#fb9f3a"
            ],
            [
             0.8888888888888888,
             "#fdca26"
            ],
            [
             1,
             "#f0f921"
            ]
           ],
           "sequentialminus": [
            [
             0,
             "#0d0887"
            ],
            [
             0.1111111111111111,
             "#46039f"
            ],
            [
             0.2222222222222222,
             "#7201a8"
            ],
            [
             0.3333333333333333,
             "#9c179e"
            ],
            [
             0.4444444444444444,
             "#bd3786"
            ],
            [
             0.5555555555555556,
             "#d8576b"
            ],
            [
             0.6666666666666666,
             "#ed7953"
            ],
            [
             0.7777777777777778,
             "#fb9f3a"
            ],
            [
             0.8888888888888888,
             "#fdca26"
            ],
            [
             1,
             "#f0f921"
            ]
           ]
          },
          "colorway": [
           "#636efa",
           "#EF553B",
           "#00cc96",
           "#ab63fa",
           "#FFA15A",
           "#19d3f3",
           "#FF6692",
           "#B6E880",
           "#FF97FF",
           "#FECB52"
          ],
          "font": {
           "color": "#2a3f5f"
          },
          "geo": {
           "bgcolor": "white",
           "lakecolor": "white",
           "landcolor": "white",
           "showlakes": true,
           "showland": true,
           "subunitcolor": "#C8D4E3"
          },
          "hoverlabel": {
           "align": "left"
          },
          "hovermode": "closest",
          "mapbox": {
           "style": "light"
          },
          "paper_bgcolor": "white",
          "plot_bgcolor": "white",
          "polar": {
           "angularaxis": {
            "gridcolor": "#EBF0F8",
            "linecolor": "#EBF0F8",
            "ticks": ""
           },
           "bgcolor": "white",
           "radialaxis": {
            "gridcolor": "#EBF0F8",
            "linecolor": "#EBF0F8",
            "ticks": ""
           }
          },
          "scene": {
           "xaxis": {
            "backgroundcolor": "white",
            "gridcolor": "#DFE8F3",
            "gridwidth": 2,
            "linecolor": "#EBF0F8",
            "showbackground": true,
            "ticks": "",
            "zerolinecolor": "#EBF0F8"
           },
           "yaxis": {
            "backgroundcolor": "white",
            "gridcolor": "#DFE8F3",
            "gridwidth": 2,
            "linecolor": "#EBF0F8",
            "showbackground": true,
            "ticks": "",
            "zerolinecolor": "#EBF0F8"
           },
           "zaxis": {
            "backgroundcolor": "white",
            "gridcolor": "#DFE8F3",
            "gridwidth": 2,
            "linecolor": "#EBF0F8",
            "showbackground": true,
            "ticks": "",
            "zerolinecolor": "#EBF0F8"
           }
          },
          "shapedefaults": {
           "line": {
            "color": "#2a3f5f"
           }
          },
          "ternary": {
           "aaxis": {
            "gridcolor": "#DFE8F3",
            "linecolor": "#A2B1C6",
            "ticks": ""
           },
           "baxis": {
            "gridcolor": "#DFE8F3",
            "linecolor": "#A2B1C6",
            "ticks": ""
           },
           "bgcolor": "white",
           "caxis": {
            "gridcolor": "#DFE8F3",
            "linecolor": "#A2B1C6",
            "ticks": ""
           }
          },
          "title": {
           "x": 0.05
          },
          "xaxis": {
           "automargin": true,
           "gridcolor": "#EBF0F8",
           "linecolor": "#EBF0F8",
           "ticks": "",
           "title": {
            "standoff": 15
           },
           "zerolinecolor": "#EBF0F8",
           "zerolinewidth": 2
          },
          "yaxis": {
           "automargin": true,
           "gridcolor": "#EBF0F8",
           "linecolor": "#EBF0F8",
           "ticks": "",
           "title": {
            "standoff": 15
           },
           "zerolinecolor": "#EBF0F8",
           "zerolinewidth": 2
          }
         }
        },
        "title": {
         "text": "t-SNE 3D Visualization"
        },
        "width": 1400,
        "xaxis": {
         "gridcolor": "lightgray",
         "gridwidth": 0.5,
         "linecolor": "black",
         "linewidth": 2,
         "mirror": true,
         "showline": true,
         "title": {
          "text": "TSNE 1 →"
         },
         "zeroline": true,
         "zerolinecolor": "black",
         "zerolinewidth": 1.2
        },
        "yaxis": {
         "gridcolor": "lightgray",
         "gridwidth": 0.5,
         "linecolor": "black",
         "linewidth": 2,
         "mirror": true,
         "showline": true,
         "title": {
          "text": "TSNE 2 →"
         },
         "zeroline": true,
         "zerolinecolor": "black",
         "zerolinewidth": 1.2
        }
       }
      }
     },
     "metadata": {},
     "output_type": "display_data"
    }
   ],
   "source": [
    "visualizer.reduce_dimensionality(\"tsne\", n_components=3)\n",
    "visualizer.visualize(\"tsne\", n_components=3, title=\"t-SNE 3D Visualization\")"
   ]
  },
  {
   "cell_type": "markdown",
   "metadata": {},
   "source": [
    "### UMAP"
   ]
  },
  {
   "cell_type": "code",
   "execution_count": 188,
   "metadata": {},
   "outputs": [
    {
     "name": "stderr",
     "output_type": "stream",
     "text": [
      "d:\\Projects\\env_ml\\.venv\\Lib\\site-packages\\umap\\umap_.py:1952: UserWarning:\n",
      "\n",
      "n_jobs value 1 overridden to 1 by setting random_state. Use no seed for parallelism.\n",
      "\n"
     ]
    },
    {
     "data": {
      "application/vnd.plotly.v1+json": {
       "config": {
        "plotlyServerURL": "https://plot.ly"
       },
       "data": [
        {
         "customdata": [
          [
           "UK TIER 2 Care home visas available inside UK and outside Uk as well can apply Leeds. Carehome 10 vacancies 7 females and 3 males 3 months experience Gloucestershire 8 vacancies 6 females and 2 males.",
           1375,
           "Real"
          ],
          [
           "Canada making progress with vaccine. Hopefully trials will prove to be successful as countries around the world race to find a way to protect global population.",
           2053,
           "Real"
          ],
          [
           "For those in the USA who have received their vaccine-- please consider signing up for the CDC's Vsafe after vaccination health checker. You can sign up anytime after receiving your first dose until 6 ",
           3089,
           "Real"
          ],
          [
           "I would like to acknowledge the entire Anesthesia staff the Anesthesiologist, CRNA’s and the Anesthesia Techs. These are the staff members on the front line responsible for intubations and placing the",
           5265,
           "Real"
          ],
          [
           "Female self-employed live-in carer needed for a lady near High Wycombe. Driver with own car preferred. Must have permission to work in the UK. £855/wk. Please PM me ref:SC No sponsorship available - s",
           5790,
           "Real"
          ],
          [
           "Keeping everyone of you in my prayers. Please know that your service to others at this tragic and chaotic time is what His Holiness always talks about. We are all extremely proud of you 🙏🏽💪🏼👍🏼",
           4859,
           "Real"
          ],
          [
           "https://www.mirror.co.uk/news/uk-news/breaking-coronavirus-mcdonalds-closing-uk-21735921 When they start closing big food chains that can only mean 1 thing!!!",
           6540,
           "Real"
          ],
          [
           "https://www.independent.co.uk/news/uk/politics/coronavirus-rent-mortgage-payments-covid-19-labour-corbyn-johnson-a9402596.html Why everyone didn't vote for Labour is beyond me!!! If our prime minister",
           6702,
           "Real"
          ]
         ],
         "hovertemplate": "<b>Text:</b> %{customdata[0]}<br><b>ID:</b> %{customdata[1]}<br><b>Predict:</b> %{customdata[2]}",
         "marker": {
          "color": "blue",
          "opacity": {
           "bdata": "AAAAAAAA8D8AAAAAAADwPwAAAAAAAPA/AAAAAAAA8D8zMzMzMzPTPwAAAAAAAPA/AAAAAAAA8D8AAAAAAADwPw==",
           "dtype": "f8"
          },
          "size": 8
         },
         "mode": "markers",
         "name": "Real",
         "type": "scatter",
         "x": {
          "bdata": "+kOTQMMyekDYfFVA+45LQMz8jUDsRJdAweONQAo0ikA=",
          "dtype": "f4"
         },
         "y": {
          "bdata": "i9LKQAC0TL7jAK4+EoHIP3eTDL/m7oc9A36sQAEwqUA=",
          "dtype": "f4"
         }
        },
        {
         "customdata": [
          [
           "Are you all seeing a lot of “second timers”?? If you have, how far apart between diagnoses and was the second time generally worse or better symptom wise? Was it truly a second time contraction or was",
           1280,
           "Fake"
          ],
          [
           "Interesting. I can’t wait to see what info further research uncovers.",
           871,
           "Fake"
          ],
          [
           "Are there any articles objecting to the blood type theory that A blood types are 50% more likely to get ARDS version of Covid-19?",
           4258,
           "Fake"
          ],
          [
           "As my Grammy used to say, “If you don’t have any thing nice to say, don’t say anything at all.” A few of the MANY reasons why I’ve chosen to receive the COVID-19 Vaccine: 1. As a nurse I feel it is my",
           5219,
           "Fake"
          ],
          [
           "Anyone been tested for covid and it be negative...then your symptoms get worse? Been tested for flu, strep, mono, checked for pneumonia, PE...then covid tested again. Waiting on results. Feeling awful",
           3332,
           "Fake"
          ],
          [
           "We're praising a man for doing things he should have done as soon as this thing left China!!!",
           6036,
           "Fake"
          ],
          [
           "recruiting from india .middle east and phillippines only",
           5190,
           "Fake"
          ],
          [
           "Got my 1st vaccine today 😁",
           1510,
           "Fake"
          ],
          [
           "https://abcnews.go.com/Politics/9000-retired-army-medical-personnel-respond-armys-call/story?id=69833949&cid=social_fb_abcn Upbeat news—here comes some backup.",
           51,
           "Fake"
          ],
          [
           "A brave and noble man. 💚💙",
           31,
           "Fake"
          ],
          [
           "I have a tightness in my chest, no cough. I can’t tell if it’s anxiety or what.. I’m trying to stay away from the hospital if I can",
           5510,
           "Fake"
          ],
          [
           "To go with our cloth masks? Kudos to the community for loving on the local healthcare workers!",
           3463,
           "Fake"
          ],
          [
           "Great visual for understanding how cough, sneeze, or talking droplets work. How long they last, how they float, how to get rid of them etc. This is how covid or other airborne pathogens are spread.",
           4785,
           "Fake"
          ],
          [
           "Physicians may soon be able to tailor COVID19 treatments based on their genes.",
           5983,
           "Fake"
          ],
          [
           "Why does Aspirin, and or ibuprofen affect the body of somebody who has the coronavirus in a deadly way? Does anybody in the medical know why? I have a friend with the virus and would love to explain w",
           3687,
           "Fake"
          ],
          [
           "Is everyone wearing hair covers in their Covid rooms? We’ve been told not to and that it doesn’t ‘stick’ to hair... 🧐 then again they tell us something different every day.",
           2961,
           "Fake"
          ]
         ],
         "hovertemplate": "<b>Text:</b> %{customdata[0]}<br><b>ID:</b> %{customdata[1]}<br><b>Predict:</b> %{customdata[2]}",
         "marker": {
          "color": "red",
          "opacity": {
           "bdata": "AAAAAAAA8D8AAAAAAADwPwAAAAAAAPA/AAAAAAAA8D8AAAAAAADwPwAAAAAAAPA/AAAAAAAA8D8AAAAAAADwPwAAAAAAAPA/AAAAAAAA8D8AAAAAAADwPwAAAAAAAPA/AAAAAAAA8D8AAAAAAADwPwAAAAAAAPA/AAAAAAAA8D8=",
           "dtype": "f8"
          },
          "size": 8
         },
         "mode": "markers",
         "name": "Fake",
         "type": "scatter",
         "x": {
          "bdata": "KdPNQIf9jUAJec9AEAlwQK+dXEBCSJVA2EeeQHMZqEA7NotAM5SkQOICkUCnUYZAWB17QNOChUAqRr9APTyTQA==",
          "dtype": "f4"
         },
         "y": {
          "bdata": "8xG1QK34BL7HKLpANgnaP5gqBb9kBJZAsWmjQAH/mECnzrM+C0uPQAjfiT97jJVAOVE0v2FjwL78KcVAMqHZPg==",
          "dtype": "f4"
         }
        },
        {
         "customdata": [
          [
           "Everyone's talking about the Covid vaccine.... Why aren't more people looking into MMR boosters to increase Covid resistance? Yet ANOTHER study to support a theory I've previously discussed...Journal ",
           3917,
           "Comments"
          ],
          [
           "Guys if they're bringing tanks into the city which looks like they are means army's on their way which means lock down is imminent and martial law will be applied!!!",
           6601,
           "Comments"
          ],
          [
           "I’m a Rn and long hauler. Infected in April with a “resurgence” in June and lost taste and smell. I still only have about 50-60% of it back. I got my first Pfizer shot on Monday. Mildly sore arm and f",
           696,
           "Comments"
          ],
          [
           "We are hiring and taking on Healthcare Assistants, Support Workers, Registered General Nurse's & Registered Mental Nurse's in the Hastings, and surrounding areas. • Great rates of pay • Recommend a fr",
           2075,
           "Comments"
          ],
          [
           "What symptoms are you guys seeing most positive kids present with?",
           1798,
           "Comments"
          ],
          [
           "Are you wiping down your groceries still? I am.",
           168,
           "Comments"
          ],
          [
           "Thoughts on dentist appointments?",
           2719,
           "Comments"
          ],
          [
           "Hello folks. I'm a HCA in a Nursing Home these days. In previous years I have been working in physiological measurement, as a cardiac technician, and also in audiology. I feel very privileged to be ca",
           6714,
           "Comments"
          ],
          [
           "Did anyone get a rash like small little red bumps that are itchy?",
           5430,
           "Comments"
          ],
          [
           "Can anyone please tell me if a fish van still comes to Newmill please",
           6465,
           "Comments"
          ],
          [
           "Will be leaving this week to help out in Brooklyn, other than hard to find PPE and sanitizer, what are the must haves that should be on my packing list?",
           1351,
           "Comments"
          ],
          [
           "What an emotional day! I had to find my own way to get vaccinated, but I got it! Thank you to the bright minds to make this happen! 🙏🏻❤️",
           4840,
           "Comments"
          ],
          [
           "I am almost 3 weeks post 2nd Pfizer vaccine. Is anyone experiencing joint pains, flank pains? Never had issues with my knees or elbows or sacral joints and now having pains? Wondering if anyone else h",
           3679,
           "Comments"
          ],
          [
           "Take a long hard look at our leader",
           6269,
           "Comments"
          ],
          [
           "A couple of days ago I posted a picture of a doctor, Dr. Kevin Tsui cleaning a room to help one of our house cleaning colleagues so she would not have to enter a room with a patient positive for COVID",
           48,
           "Comments"
          ],
          [
           "Just wondering if y'all have a special name for your COVID-19 unit? We call ours The Cove. Not very original, but I like the picture it invokes of people sheltering together in a remote spot, huddled ",
           663,
           "Comments"
          ],
          [
           "Last night in our ER we had a very very very sick patient in her 20s that came in in full-blown DKA, new onset type one diabetes, and septic. the sickest DKA I’ve ever seen (ph of 6.7). Had just recov",
           1136,
           "Comments"
          ],
          [
           "\"And then [if] I returned to United Hospital in the ER — if I said that there was no trepidation on my part, I’d be completely lying. I would be very nervous about walking back into that ER, I would b",
           1418,
           "Comments"
          ],
          [
           "JOB ALERT! Are you seeking a new exciting role in care? Do you want to build a long-lasting career? NO SPONSORSHIP IS AVAILABLE (overseas or UK). IMMEDIATE START IN NR16 Post code area We have a numbe",
           5912,
           "Comments"
          ],
          [
           "I know people are sharing what vitamins they're taking to try to curb getting sick or help while they are sick but can you all elaborate how much? I'm trying to figure out how much vitamin c, zinc, an",
           1743,
           "Comments"
          ],
          [
           "𝑵𝑯𝑺 𝑹𝒆𝒄𝒓𝒖𝒊𝒕𝒎𝒆𝒏𝒕 - 𝑵𝒖𝒓𝒔𝒆𝒔 𝒕𝒐 𝑺𝒐𝒖𝒕𝒉𝒂𝒎𝒑𝒕𝒐𝒏 Embracing a new professional challenge is not always easy no matter how rewarding it may seem. Therefore, at the top of our priorities should be the quality of ",
           5126,
           "Comments"
          ],
          [
           "Since the United States is working on opening a backup my guess is that Healthcare workers will not receive hazard pay or the additional $25,000 stimulus that was in on the table. Thought was nice whi",
           2593,
           "Comments"
          ],
          [
           "Another 25 dropped off for my nurse neighbour to take into the hospital tomorrow.",
           4769,
           "Comments"
          ],
          [
           "How do you guys like this one. Nurse in FL, dialysis nurse, has 102 fever, cough and feels like there is a band around her chest can’t get tested without a MD order, can’t get in to see doctor. I mean",
           725,
           "Comments"
          ],
          [
           "How do you all feel about this? I feel my anxiety coming on just thinking about it..",
           1195,
           "Comments"
          ],
          [
           "Gina--RN (florida) UPDATE:--My friend (below) had been home for 10 days. He lost 17 lbs during his hospitalization and was working slowly on regaining his strength. Even something as simple as a showe",
           2908,
           "Comments"
          ],
          [
           "To produce a speedier vaccine rollout I have to wonder if retired doctors, pharmacists, RNs, LVNs (inactive license) could be recruited to volunteer to vaccinate the public..Drive thru settings, outsi",
           1023,
           "Comments"
          ],
          [
           "Update: spoke to PCP about concerns and she stated that she absolutely agrees that someone breastfeeding shouldn’t care for these pts in an active role. She is writing a note to remove hypothetical nu",
           2078,
           "Comments"
          ],
          [
           "Heres a success story from Italy! ",
           4980,
           "Comments"
          ],
          [
           "NY Times has a series of stories of those we have lost... Rest in peace my social worker sister",
           3165,
           "Comments"
          ],
          [
           "Welcoming applications for Interviews with NHS hospital in Eastern England. Nurses with IELTS or OET please send us your CV with IELTS or OET to info@abnurses.com",
           4363,
           "Comments"
          ],
          [
           "How many of you have concerns about the effectiveness of the tests themselves? There seem to be a lot of negative tests when other clinical indicators point to covid? Do any of you have concerns that ",
           4897,
           "Comments"
          ],
          [
           "Hey guys we are donating face shields to medical staff that we manufacture at our shop! They are made out of heavy duty marine grade materials so they can be cleaned and re used over and over! We just",
           4802,
           "Comments"
          ],
          [
           "Anyone taking vitamins to help their immune system?",
           1395,
           "Comments"
          ],
          [
           "Hold the line!",
           1001,
           "Comments"
          ],
          [
           "Anyone besides me take Losartan? ",
           3467,
           "Comments"
          ],
          [
           "Update we found our piggy in bottom of purple bin under all the cans, someone put him in the bin but thankfully he's alive. Hello, I know this is nothing to do with Covid 19 but we've a missing guinea",
           5094,
           "Comments"
          ],
          [
           "I am a nurse and I was working on a renal floor yesterday and overheard a kidney doctor talking about how the COVID patients are clogging up the dialysis machines. I asked him if he has seen this befo",
           2469,
           "Comments"
          ],
          [
           "Can't say I didn't see this coming. ",
           763,
           "Comments"
          ],
          [
           "For Employers Care Staff available For Hire Permanent employment Please get in touch ! Thank you !",
           3131,
           "Comments"
          ],
          [
           "Does anyone know if someone is doing antibody testing in southwest Florida?",
           6579,
           "Comments"
          ],
          [
           "There is an antibody treatment that stops every COVID-19 variant—and possibly all future variants So by targeting this location, sotrovimab could be effective against all known variants and potential ",
           3778,
           "Comments"
          ],
          [
           "Today I saw so many people walking without masks and close mingling again etc. I know we are getting tired of this and believe me so am I but getting tired and loosening things up is like saying fine ",
           989,
           "Comments"
          ],
          [
           "Anyone here done a 1:1 sitter in a positive covid room is this even ok? not a short period but for an entire shift?",
           1716,
           "Comments"
          ],
          [
           "Symptomatic Covid diagnosed 22 days ago with positive rapid and PCR. The mild symptoms revolved within a few days. Quarantined for 14 days from positive test.  Now with chills, fever, aches, malaise. ",
           4113,
           "Comments"
          ],
          [
           "I have someone I work with that tested positive and did the quarantine for 14 days. She was released to come back to work and is still coughing up a lung and was re swabbed and it still shows positive",
           2734,
           "Comments"
          ],
          [
           "Like Spain we should all hang out our windows at the same time around the country and bang some pots and pans and demand the government look after ALL of us not just the rich and those with a mortgage",
           6543,
           "Comments"
          ],
          [
           "Covid number calculation: According to Dr. Curran (the Doc who worked on Ebola in the early 80's), said 1% of Covid cases are fatal. By having 2 knowns, we can find the unknown. So knowing that as a f",
           1625,
           "Comments"
          ],
          [
           "That post made my night. But thanks admin for outting her",
           5748,
           "Comments"
          ],
          [
           "A hopeful bit of news : Bangkok (and Thailand by extension) has not seen any new cases domestically in 25 days. All new ones (5 at the moment) arrived from abroad. When a friend of mine arrived into B",
           2718,
           "Comments"
          ],
          [
           "CHILD CUSTODY Hello Everyone. I have an 8 year old daughter that I share custody with her father. Her father has taken her from me, stating that I will give her Covid because I'm a nurse working with ",
           227,
           "Comments"
          ],
          [
           "Canada has now implemented all flights banned to the Caribbean and Mexico from Canada. Also, Canada will have only four Airports open. Toronto, Montreal, Vancouver & Calgary. All incoming passengers w",
           788,
           "Comments"
          ]
         ],
         "hovertemplate": "<b>Text:</b> %{customdata[0]}<br><b>ID:</b> %{customdata[1]}<br><b>Predict:</b> %{customdata[2]}",
         "marker": {
          "color": "green",
          "opacity": {
           "bdata": "AAAAAAAA8D8AAAAAAADwPwAAAAAAAPA/AAAAAAAA8D8zMzMzMzPTPwAAAAAAAPA/AAAAAAAA8D8AAAAAAADwPwAAAAAAAPA/AAAAAAAA8D8AAAAAAADwPwAAAAAAAPA/AAAAAAAA8D8AAAAAAADwPwAAAAAAAPA/AAAAAAAA8D8AAAAAAADwPwAAAAAAAPA/MzMzMzMz0z8zMzMzMzPTPwAAAAAAAPA/AAAAAAAA8D8zMzMzMzPTPwAAAAAAAPA/AAAAAAAA8D8AAAAAAADwPwAAAAAAAPA/AAAAAAAA8D8AAAAAAADwPwAAAAAAAPA/AAAAAAAA8D8AAAAAAADwPwAAAAAAAPA/AAAAAAAA8D8AAAAAAADwPwAAAAAAAPA/AAAAAAAA8D8AAAAAAADwPwAAAAAAAPA/MzMzMzMz0z8AAAAAAADwPwAAAAAAAPA/AAAAAAAA8D8AAAAAAADwPwAAAAAAAPA/AAAAAAAA8D8AAAAAAADwPwAAAAAAAPA/AAAAAAAA8D8AAAAAAADwPwAAAAAAAPA/AAAAAAAA8D8=",
           "dtype": "f8"
          },
          "size": 8
         },
         "mode": "markers",
         "name": "Comments",
         "type": "scatter",
         "x": {
          "bdata": "1J1KQKWpj0DTwYBAG8GRQNwVvkCngZVAhBSuQPYwYkA8EcJA9RizQOXxtkBPVKVAmOKwQD5QnECicYBAC/l9QOHIcUBZ7oZAqRKPQET6v0A1NZhAxL8/QOMDkUCc4W5AxxSmQELDgkC/w6lADVReQBVIkkCrZZVAErRKQNQEzUC2h0BAvCKwQFjUmUALfaJAYOuBQMu7gEBmup9AqFCNQAAHxEBAWmBA1TaJQCdUzEDzIm5Ap/dmQGJAgUDrpWxATp+bQJU8W0Ba1XBA7mtXQA==",
          "dtype": "f4"
         },
         "y": {
          "bdata": "cBFgvMTAnEApX5E/GnPGQAh/u0A6fea+a/ulQNWLKb17GLJAn62aQDlRqkBoNptALgC4QEScmkCrCBM/suP2P383DT/+z0ZAk6LPQGM2u0B7R6c+jtdtP4mOE7+z0S8+fqW+QKC1O0AzZcFA9/7PP498qkA974ZAos0KP46NwEDEEs4/y4uyQBHznEBO+qxAgPO6PwTkJUBpbCY/oHHPQMOTp0DfHABA5BIHQGBMq0CBy0Q/EUf6vjqVm0BLPhBAOqiXPzRnuD+rHS1AumSZPw==",
          "dtype": "f4"
         }
        }
       ],
       "layout": {
        "height": 1000,
        "legend": {
         "title": {
          "text": "Class Labels"
         }
        },
        "template": {
         "data": {
          "bar": [
           {
            "error_x": {
             "color": "#2a3f5f"
            },
            "error_y": {
             "color": "#2a3f5f"
            },
            "marker": {
             "line": {
              "color": "white",
              "width": 0.5
             },
             "pattern": {
              "fillmode": "overlay",
              "size": 10,
              "solidity": 0.2
             }
            },
            "type": "bar"
           }
          ],
          "barpolar": [
           {
            "marker": {
             "line": {
              "color": "white",
              "width": 0.5
             },
             "pattern": {
              "fillmode": "overlay",
              "size": 10,
              "solidity": 0.2
             }
            },
            "type": "barpolar"
           }
          ],
          "carpet": [
           {
            "aaxis": {
             "endlinecolor": "#2a3f5f",
             "gridcolor": "#C8D4E3",
             "linecolor": "#C8D4E3",
             "minorgridcolor": "#C8D4E3",
             "startlinecolor": "#2a3f5f"
            },
            "baxis": {
             "endlinecolor": "#2a3f5f",
             "gridcolor": "#C8D4E3",
             "linecolor": "#C8D4E3",
             "minorgridcolor": "#C8D4E3",
             "startlinecolor": "#2a3f5f"
            },
            "type": "carpet"
           }
          ],
          "choropleth": [
           {
            "colorbar": {
             "outlinewidth": 0,
             "ticks": ""
            },
            "type": "choropleth"
           }
          ],
          "contour": [
           {
            "colorbar": {
             "outlinewidth": 0,
             "ticks": ""
            },
            "colorscale": [
             [
              0,
              "#0d0887"
             ],
             [
              0.1111111111111111,
              "#46039f"
             ],
             [
              0.2222222222222222,
              "#7201a8"
             ],
             [
              0.3333333333333333,
              "#9c179e"
             ],
             [
              0.4444444444444444,
              "#bd3786"
             ],
             [
              0.5555555555555556,
              "#d8576b"
             ],
             [
              0.6666666666666666,
              "#ed7953"
             ],
             [
              0.7777777777777778,
              "#fb9f3a"
             ],
             [
              0.8888888888888888,
              "#fdca26"
             ],
             [
              1,
              "#f0f921"
             ]
            ],
            "type": "contour"
           }
          ],
          "contourcarpet": [
           {
            "colorbar": {
             "outlinewidth": 0,
             "ticks": ""
            },
            "type": "contourcarpet"
           }
          ],
          "heatmap": [
           {
            "colorbar": {
             "outlinewidth": 0,
             "ticks": ""
            },
            "colorscale": [
             [
              0,
              "#0d0887"
             ],
             [
              0.1111111111111111,
              "#46039f"
             ],
             [
              0.2222222222222222,
              "#7201a8"
             ],
             [
              0.3333333333333333,
              "#9c179e"
             ],
             [
              0.4444444444444444,
              "#bd3786"
             ],
             [
              0.5555555555555556,
              "#d8576b"
             ],
             [
              0.6666666666666666,
              "#ed7953"
             ],
             [
              0.7777777777777778,
              "#fb9f3a"
             ],
             [
              0.8888888888888888,
              "#fdca26"
             ],
             [
              1,
              "#f0f921"
             ]
            ],
            "type": "heatmap"
           }
          ],
          "histogram": [
           {
            "marker": {
             "pattern": {
              "fillmode": "overlay",
              "size": 10,
              "solidity": 0.2
             }
            },
            "type": "histogram"
           }
          ],
          "histogram2d": [
           {
            "colorbar": {
             "outlinewidth": 0,
             "ticks": ""
            },
            "colorscale": [
             [
              0,
              "#0d0887"
             ],
             [
              0.1111111111111111,
              "#46039f"
             ],
             [
              0.2222222222222222,
              "#7201a8"
             ],
             [
              0.3333333333333333,
              "#9c179e"
             ],
             [
              0.4444444444444444,
              "#bd3786"
             ],
             [
              0.5555555555555556,
              "#d8576b"
             ],
             [
              0.6666666666666666,
              "#ed7953"
             ],
             [
              0.7777777777777778,
              "#fb9f3a"
             ],
             [
              0.8888888888888888,
              "#fdca26"
             ],
             [
              1,
              "#f0f921"
             ]
            ],
            "type": "histogram2d"
           }
          ],
          "histogram2dcontour": [
           {
            "colorbar": {
             "outlinewidth": 0,
             "ticks": ""
            },
            "colorscale": [
             [
              0,
              "#0d0887"
             ],
             [
              0.1111111111111111,
              "#46039f"
             ],
             [
              0.2222222222222222,
              "#7201a8"
             ],
             [
              0.3333333333333333,
              "#9c179e"
             ],
             [
              0.4444444444444444,
              "#bd3786"
             ],
             [
              0.5555555555555556,
              "#d8576b"
             ],
             [
              0.6666666666666666,
              "#ed7953"
             ],
             [
              0.7777777777777778,
              "#fb9f3a"
             ],
             [
              0.8888888888888888,
              "#fdca26"
             ],
             [
              1,
              "#f0f921"
             ]
            ],
            "type": "histogram2dcontour"
           }
          ],
          "mesh3d": [
           {
            "colorbar": {
             "outlinewidth": 0,
             "ticks": ""
            },
            "type": "mesh3d"
           }
          ],
          "parcoords": [
           {
            "line": {
             "colorbar": {
              "outlinewidth": 0,
              "ticks": ""
             }
            },
            "type": "parcoords"
           }
          ],
          "pie": [
           {
            "automargin": true,
            "type": "pie"
           }
          ],
          "scatter": [
           {
            "fillpattern": {
             "fillmode": "overlay",
             "size": 10,
             "solidity": 0.2
            },
            "type": "scatter"
           }
          ],
          "scatter3d": [
           {
            "line": {
             "colorbar": {
              "outlinewidth": 0,
              "ticks": ""
             }
            },
            "marker": {
             "colorbar": {
              "outlinewidth": 0,
              "ticks": ""
             }
            },
            "type": "scatter3d"
           }
          ],
          "scattercarpet": [
           {
            "marker": {
             "colorbar": {
              "outlinewidth": 0,
              "ticks": ""
             }
            },
            "type": "scattercarpet"
           }
          ],
          "scattergeo": [
           {
            "marker": {
             "colorbar": {
              "outlinewidth": 0,
              "ticks": ""
             }
            },
            "type": "scattergeo"
           }
          ],
          "scattergl": [
           {
            "marker": {
             "colorbar": {
              "outlinewidth": 0,
              "ticks": ""
             }
            },
            "type": "scattergl"
           }
          ],
          "scattermap": [
           {
            "marker": {
             "colorbar": {
              "outlinewidth": 0,
              "ticks": ""
             }
            },
            "type": "scattermap"
           }
          ],
          "scattermapbox": [
           {
            "marker": {
             "colorbar": {
              "outlinewidth": 0,
              "ticks": ""
             }
            },
            "type": "scattermapbox"
           }
          ],
          "scatterpolar": [
           {
            "marker": {
             "colorbar": {
              "outlinewidth": 0,
              "ticks": ""
             }
            },
            "type": "scatterpolar"
           }
          ],
          "scatterpolargl": [
           {
            "marker": {
             "colorbar": {
              "outlinewidth": 0,
              "ticks": ""
             }
            },
            "type": "scatterpolargl"
           }
          ],
          "scatterternary": [
           {
            "marker": {
             "colorbar": {
              "outlinewidth": 0,
              "ticks": ""
             }
            },
            "type": "scatterternary"
           }
          ],
          "surface": [
           {
            "colorbar": {
             "outlinewidth": 0,
             "ticks": ""
            },
            "colorscale": [
             [
              0,
              "#0d0887"
             ],
             [
              0.1111111111111111,
              "#46039f"
             ],
             [
              0.2222222222222222,
              "#7201a8"
             ],
             [
              0.3333333333333333,
              "#9c179e"
             ],
             [
              0.4444444444444444,
              "#bd3786"
             ],
             [
              0.5555555555555556,
              "#d8576b"
             ],
             [
              0.6666666666666666,
              "#ed7953"
             ],
             [
              0.7777777777777778,
              "#fb9f3a"
             ],
             [
              0.8888888888888888,
              "#fdca26"
             ],
             [
              1,
              "#f0f921"
             ]
            ],
            "type": "surface"
           }
          ],
          "table": [
           {
            "cells": {
             "fill": {
              "color": "#EBF0F8"
             },
             "line": {
              "color": "white"
             }
            },
            "header": {
             "fill": {
              "color": "#C8D4E3"
             },
             "line": {
              "color": "white"
             }
            },
            "type": "table"
           }
          ]
         },
         "layout": {
          "annotationdefaults": {
           "arrowcolor": "#2a3f5f",
           "arrowhead": 0,
           "arrowwidth": 1
          },
          "autotypenumbers": "strict",
          "coloraxis": {
           "colorbar": {
            "outlinewidth": 0,
            "ticks": ""
           }
          },
          "colorscale": {
           "diverging": [
            [
             0,
             "#8e0152"
            ],
            [
             0.1,
             "#c51b7d"
            ],
            [
             0.2,
             "#de77ae"
            ],
            [
             0.3,
             "#f1b6da"
            ],
            [
             0.4,
             "#fde0ef"
            ],
            [
             0.5,
             "#f7f7f7"
            ],
            [
             0.6,
             "#e6f5d0"
            ],
            [
             0.7,
             "#b8e186"
            ],
            [
             0.8,
             "#7fbc41"
            ],
            [
             0.9,
             "#4d9221"
            ],
            [
             1,
             "#276419"
            ]
           ],
           "sequential": [
            [
             0,
             "#0d0887"
            ],
            [
             0.1111111111111111,
             "#46039f"
            ],
            [
             0.2222222222222222,
             "#7201a8"
            ],
            [
             0.3333333333333333,
             "#9c179e"
            ],
            [
             0.4444444444444444,
             "#bd3786"
            ],
            [
             0.5555555555555556,
             "#d8576b"
            ],
            [
             0.6666666666666666,
             "#ed7953"
            ],
            [
             0.7777777777777778,
             "#fb9f3a"
            ],
            [
             0.8888888888888888,
             "#fdca26"
            ],
            [
             1,
             "#f0f921"
            ]
           ],
           "sequentialminus": [
            [
             0,
             "#0d0887"
            ],
            [
             0.1111111111111111,
             "#46039f"
            ],
            [
             0.2222222222222222,
             "#7201a8"
            ],
            [
             0.3333333333333333,
             "#9c179e"
            ],
            [
             0.4444444444444444,
             "#bd3786"
            ],
            [
             0.5555555555555556,
             "#d8576b"
            ],
            [
             0.6666666666666666,
             "#ed7953"
            ],
            [
             0.7777777777777778,
             "#fb9f3a"
            ],
            [
             0.8888888888888888,
             "#fdca26"
            ],
            [
             1,
             "#f0f921"
            ]
           ]
          },
          "colorway": [
           "#636efa",
           "#EF553B",
           "#00cc96",
           "#ab63fa",
           "#FFA15A",
           "#19d3f3",
           "#FF6692",
           "#B6E880",
           "#FF97FF",
           "#FECB52"
          ],
          "font": {
           "color": "#2a3f5f"
          },
          "geo": {
           "bgcolor": "white",
           "lakecolor": "white",
           "landcolor": "white",
           "showlakes": true,
           "showland": true,
           "subunitcolor": "#C8D4E3"
          },
          "hoverlabel": {
           "align": "left"
          },
          "hovermode": "closest",
          "mapbox": {
           "style": "light"
          },
          "paper_bgcolor": "white",
          "plot_bgcolor": "white",
          "polar": {
           "angularaxis": {
            "gridcolor": "#EBF0F8",
            "linecolor": "#EBF0F8",
            "ticks": ""
           },
           "bgcolor": "white",
           "radialaxis": {
            "gridcolor": "#EBF0F8",
            "linecolor": "#EBF0F8",
            "ticks": ""
           }
          },
          "scene": {
           "xaxis": {
            "backgroundcolor": "white",
            "gridcolor": "#DFE8F3",
            "gridwidth": 2,
            "linecolor": "#EBF0F8",
            "showbackground": true,
            "ticks": "",
            "zerolinecolor": "#EBF0F8"
           },
           "yaxis": {
            "backgroundcolor": "white",
            "gridcolor": "#DFE8F3",
            "gridwidth": 2,
            "linecolor": "#EBF0F8",
            "showbackground": true,
            "ticks": "",
            "zerolinecolor": "#EBF0F8"
           },
           "zaxis": {
            "backgroundcolor": "white",
            "gridcolor": "#DFE8F3",
            "gridwidth": 2,
            "linecolor": "#EBF0F8",
            "showbackground": true,
            "ticks": "",
            "zerolinecolor": "#EBF0F8"
           }
          },
          "shapedefaults": {
           "line": {
            "color": "#2a3f5f"
           }
          },
          "ternary": {
           "aaxis": {
            "gridcolor": "#DFE8F3",
            "linecolor": "#A2B1C6",
            "ticks": ""
           },
           "baxis": {
            "gridcolor": "#DFE8F3",
            "linecolor": "#A2B1C6",
            "ticks": ""
           },
           "bgcolor": "white",
           "caxis": {
            "gridcolor": "#DFE8F3",
            "linecolor": "#A2B1C6",
            "ticks": ""
           }
          },
          "title": {
           "x": 0.05
          },
          "xaxis": {
           "automargin": true,
           "gridcolor": "#EBF0F8",
           "linecolor": "#EBF0F8",
           "ticks": "",
           "title": {
            "standoff": 15
           },
           "zerolinecolor": "#EBF0F8",
           "zerolinewidth": 2
          },
          "yaxis": {
           "automargin": true,
           "gridcolor": "#EBF0F8",
           "linecolor": "#EBF0F8",
           "ticks": "",
           "title": {
            "standoff": 15
           },
           "zerolinecolor": "#EBF0F8",
           "zerolinewidth": 2
          }
         }
        },
        "title": {
         "text": "UMAP 2D Visualization"
        },
        "width": 1400,
        "xaxis": {
         "gridcolor": "lightgray",
         "gridwidth": 0.5,
         "linecolor": "black",
         "linewidth": 2,
         "mirror": true,
         "showline": true,
         "title": {
          "text": "UMAP 1 →"
         },
         "zeroline": true,
         "zerolinecolor": "black",
         "zerolinewidth": 1.2
        },
        "yaxis": {
         "gridcolor": "lightgray",
         "gridwidth": 0.5,
         "linecolor": "black",
         "linewidth": 2,
         "mirror": true,
         "showline": true,
         "title": {
          "text": "UMAP 2 →"
         },
         "zeroline": true,
         "zerolinecolor": "black",
         "zerolinewidth": 1.2
        }
       }
      }
     },
     "metadata": {},
     "output_type": "display_data"
    }
   ],
   "source": [
    "visualizer.reduce_dimensionality(\"umap\", n_components=2)\n",
    "visualizer.visualize(\"umap\", n_components=2, title=\"UMAP 2D Visualization\")"
   ]
  },
  {
   "cell_type": "code",
   "execution_count": 189,
   "metadata": {},
   "outputs": [
    {
     "name": "stderr",
     "output_type": "stream",
     "text": [
      "d:\\Projects\\env_ml\\.venv\\Lib\\site-packages\\umap\\umap_.py:1952: UserWarning:\n",
      "\n",
      "n_jobs value 1 overridden to 1 by setting random_state. Use no seed for parallelism.\n",
      "\n"
     ]
    },
    {
     "data": {
      "application/vnd.plotly.v1+json": {
       "config": {
        "plotlyServerURL": "https://plot.ly"
       },
       "data": [
        {
         "customdata": [
          [
           "UK TIER 2 Care home visas available inside UK and outside Uk as well can apply Leeds. Carehome 10 vacancies 7 females and 3 males 3 months experience Gloucestershire 8 vacancies 6 females and 2 males.",
           1375,
           "Real"
          ],
          [
           "Canada making progress with vaccine. Hopefully trials will prove to be successful as countries around the world race to find a way to protect global population.",
           2053,
           "Real"
          ],
          [
           "For those in the USA who have received their vaccine-- please consider signing up for the CDC's Vsafe after vaccination health checker. You can sign up anytime after receiving your first dose until 6 ",
           3089,
           "Real"
          ],
          [
           "I would like to acknowledge the entire Anesthesia staff the Anesthesiologist, CRNA’s and the Anesthesia Techs. These are the staff members on the front line responsible for intubations and placing the",
           5265,
           "Real"
          ],
          [
           "Female self-employed live-in carer needed for a lady near High Wycombe. Driver with own car preferred. Must have permission to work in the UK. £855/wk. Please PM me ref:SC No sponsorship available - s",
           5790,
           "Real"
          ],
          [
           "Keeping everyone of you in my prayers. Please know that your service to others at this tragic and chaotic time is what His Holiness always talks about. We are all extremely proud of you 🙏🏽💪🏼👍🏼",
           4859,
           "Real"
          ],
          [
           "https://www.mirror.co.uk/news/uk-news/breaking-coronavirus-mcdonalds-closing-uk-21735921 When they start closing big food chains that can only mean 1 thing!!!",
           6540,
           "Real"
          ],
          [
           "https://www.independent.co.uk/news/uk/politics/coronavirus-rent-mortgage-payments-covid-19-labour-corbyn-johnson-a9402596.html Why everyone didn't vote for Labour is beyond me!!! If our prime minister",
           6702,
           "Real"
          ]
         ],
         "hovertemplate": "<b>Text:</b> %{customdata[0]}<br><b>ID:</b> %{customdata[1]}<br><b>Predict:</b> %{customdata[2]}",
         "marker": {
          "color": "blue",
          "size": 5
         },
         "mode": "markers",
         "name": "Real",
         "type": "scatter3d",
         "x": {
          "bdata": "sqGxQENeQz9QDII/b/gXQAPXLz6jZ1U/s/TNQLnfyEA=",
          "dtype": "f4"
         },
         "y": {
          "bdata": "/0AHQZ1xnUCX5ZlAKf63QA9PqUA9OadA7dLmQNV/7kA=",
          "dtype": "f4"
         },
         "z": {
          "bdata": "VPlxQP9eE0BOkS1AVwk9QI9+EUBWaOg/NCssQMqgKkA=",
          "dtype": "f4"
         }
        },
        {
         "customdata": [
          [
           "Are you all seeing a lot of “second timers”?? If you have, how far apart between diagnoses and was the second time generally worse or better symptom wise? Was it truly a second time contraction or was",
           1280,
           "Fake"
          ],
          [
           "Interesting. I can’t wait to see what info further research uncovers.",
           871,
           "Fake"
          ],
          [
           "Are there any articles objecting to the blood type theory that A blood types are 50% more likely to get ARDS version of Covid-19?",
           4258,
           "Fake"
          ],
          [
           "As my Grammy used to say, “If you don’t have any thing nice to say, don’t say anything at all.” A few of the MANY reasons why I’ve chosen to receive the COVID-19 Vaccine: 1. As a nurse I feel it is my",
           5219,
           "Fake"
          ],
          [
           "Anyone been tested for covid and it be negative...then your symptoms get worse? Been tested for flu, strep, mono, checked for pneumonia, PE...then covid tested again. Waiting on results. Feeling awful",
           3332,
           "Fake"
          ],
          [
           "We're praising a man for doing things he should have done as soon as this thing left China!!!",
           6036,
           "Fake"
          ],
          [
           "recruiting from india .middle east and phillippines only",
           5190,
           "Fake"
          ],
          [
           "Got my 1st vaccine today 😁",
           1510,
           "Fake"
          ],
          [
           "https://abcnews.go.com/Politics/9000-retired-army-medical-personnel-respond-armys-call/story?id=69833949&cid=social_fb_abcn Upbeat news—here comes some backup.",
           51,
           "Fake"
          ],
          [
           "A brave and noble man. 💚💙",
           31,
           "Fake"
          ],
          [
           "I have a tightness in my chest, no cough. I can’t tell if it’s anxiety or what.. I’m trying to stay away from the hospital if I can",
           5510,
           "Fake"
          ],
          [
           "To go with our cloth masks? Kudos to the community for loving on the local healthcare workers!",
           3463,
           "Fake"
          ],
          [
           "Great visual for understanding how cough, sneeze, or talking droplets work. How long they last, how they float, how to get rid of them etc. This is how covid or other airborne pathogens are spread.",
           4785,
           "Fake"
          ],
          [
           "Physicians may soon be able to tailor COVID19 treatments based on their genes.",
           5983,
           "Fake"
          ],
          [
           "Why does Aspirin, and or ibuprofen affect the body of somebody who has the coronavirus in a deadly way? Does anybody in the medical know why? I have a friend with the virus and would love to explain w",
           3687,
           "Fake"
          ],
          [
           "Is everyone wearing hair covers in their Covid rooms? We’ve been told not to and that it doesn’t ‘stick’ to hair... 🧐 then again they tell us something different every day.",
           2961,
           "Fake"
          ]
         ],
         "hovertemplate": "<b>Text:</b> %{customdata[0]}<br><b>ID:</b> %{customdata[1]}<br><b>Predict:</b> %{customdata[2]}",
         "marker": {
          "color": "red",
          "size": 5
         },
         "mode": "markers",
         "name": "Fake",
         "type": "scatter3d",
         "x": {
          "bdata": "YELXQPoxAj9glsVAArsXQBpXKD/ZXrlAg1PQQON4xkC3t5Y//DO5QJ/utT9wL7xAkTvgPnT74j4GtrlAR6WgPw==",
          "dtype": "f4"
         },
         "y": {
          "bdata": "4tXnQIj7qkB83exAP0LFQAwHqUAyhehAUFrwQODj3kC6P7dAnW7aQEUVw0B9OvZAlaKeQKXGn0DT1+9ATxygQA==",
          "dtype": "f4"
         },
         "z": {
          "bdata": "E2GMQAUJ9D/3TpZA9mQmQBQbMkD7uDZAHqpZQB8ZUUD0UNg/G1NBQDeyDEBj7FtA94AjQDsdA0ArTJNAbAfxPw==",
          "dtype": "f4"
         }
        },
        {
         "customdata": [
          [
           "Everyone's talking about the Covid vaccine.... Why aren't more people looking into MMR boosters to increase Covid resistance? Yet ANOTHER study to support a theory I've previously discussed...Journal ",
           3917,
           "Comments"
          ],
          [
           "Guys if they're bringing tanks into the city which looks like they are means army's on their way which means lock down is imminent and martial law will be applied!!!",
           6601,
           "Comments"
          ],
          [
           "I’m a Rn and long hauler. Infected in April with a “resurgence” in June and lost taste and smell. I still only have about 50-60% of it back. I got my first Pfizer shot on Monday. Mildly sore arm and f",
           696,
           "Comments"
          ],
          [
           "We are hiring and taking on Healthcare Assistants, Support Workers, Registered General Nurse's & Registered Mental Nurse's in the Hastings, and surrounding areas. • Great rates of pay • Recommend a fr",
           2075,
           "Comments"
          ],
          [
           "What symptoms are you guys seeing most positive kids present with?",
           1798,
           "Comments"
          ],
          [
           "Are you wiping down your groceries still? I am.",
           168,
           "Comments"
          ],
          [
           "Thoughts on dentist appointments?",
           2719,
           "Comments"
          ],
          [
           "Hello folks. I'm a HCA in a Nursing Home these days. In previous years I have been working in physiological measurement, as a cardiac technician, and also in audiology. I feel very privileged to be ca",
           6714,
           "Comments"
          ],
          [
           "Did anyone get a rash like small little red bumps that are itchy?",
           5430,
           "Comments"
          ],
          [
           "Can anyone please tell me if a fish van still comes to Newmill please",
           6465,
           "Comments"
          ],
          [
           "Will be leaving this week to help out in Brooklyn, other than hard to find PPE and sanitizer, what are the must haves that should be on my packing list?",
           1351,
           "Comments"
          ],
          [
           "What an emotional day! I had to find my own way to get vaccinated, but I got it! Thank you to the bright minds to make this happen! 🙏🏻❤️",
           4840,
           "Comments"
          ],
          [
           "I am almost 3 weeks post 2nd Pfizer vaccine. Is anyone experiencing joint pains, flank pains? Never had issues with my knees or elbows or sacral joints and now having pains? Wondering if anyone else h",
           3679,
           "Comments"
          ],
          [
           "Take a long hard look at our leader",
           6269,
           "Comments"
          ],
          [
           "A couple of days ago I posted a picture of a doctor, Dr. Kevin Tsui cleaning a room to help one of our house cleaning colleagues so she would not have to enter a room with a patient positive for COVID",
           48,
           "Comments"
          ],
          [
           "Just wondering if y'all have a special name for your COVID-19 unit? We call ours The Cove. Not very original, but I like the picture it invokes of people sheltering together in a remote spot, huddled ",
           663,
           "Comments"
          ],
          [
           "Last night in our ER we had a very very very sick patient in her 20s that came in in full-blown DKA, new onset type one diabetes, and septic. the sickest DKA I’ve ever seen (ph of 6.7). Had just recov",
           1136,
           "Comments"
          ],
          [
           "\"And then [if] I returned to United Hospital in the ER — if I said that there was no trepidation on my part, I’d be completely lying. I would be very nervous about walking back into that ER, I would b",
           1418,
           "Comments"
          ],
          [
           "JOB ALERT! Are you seeking a new exciting role in care? Do you want to build a long-lasting career? NO SPONSORSHIP IS AVAILABLE (overseas or UK). IMMEDIATE START IN NR16 Post code area We have a numbe",
           5912,
           "Comments"
          ],
          [
           "I know people are sharing what vitamins they're taking to try to curb getting sick or help while they are sick but can you all elaborate how much? I'm trying to figure out how much vitamin c, zinc, an",
           1743,
           "Comments"
          ],
          [
           "𝑵𝑯𝑺 𝑹𝒆𝒄𝒓𝒖𝒊𝒕𝒎𝒆𝒏𝒕 - 𝑵𝒖𝒓𝒔𝒆𝒔 𝒕𝒐 𝑺𝒐𝒖𝒕𝒉𝒂𝒎𝒑𝒕𝒐𝒏 Embracing a new professional challenge is not always easy no matter how rewarding it may seem. Therefore, at the top of our priorities should be the quality of ",
           5126,
           "Comments"
          ],
          [
           "Since the United States is working on opening a backup my guess is that Healthcare workers will not receive hazard pay or the additional $25,000 stimulus that was in on the table. Thought was nice whi",
           2593,
           "Comments"
          ],
          [
           "Another 25 dropped off for my nurse neighbour to take into the hospital tomorrow.",
           4769,
           "Comments"
          ],
          [
           "How do you guys like this one. Nurse in FL, dialysis nurse, has 102 fever, cough and feels like there is a band around her chest can’t get tested without a MD order, can’t get in to see doctor. I mean",
           725,
           "Comments"
          ],
          [
           "How do you all feel about this? I feel my anxiety coming on just thinking about it..",
           1195,
           "Comments"
          ],
          [
           "Gina--RN (florida) UPDATE:--My friend (below) had been home for 10 days. He lost 17 lbs during his hospitalization and was working slowly on regaining his strength. Even something as simple as a showe",
           2908,
           "Comments"
          ],
          [
           "To produce a speedier vaccine rollout I have to wonder if retired doctors, pharmacists, RNs, LVNs (inactive license) could be recruited to volunteer to vaccinate the public..Drive thru settings, outsi",
           1023,
           "Comments"
          ],
          [
           "Update: spoke to PCP about concerns and she stated that she absolutely agrees that someone breastfeeding shouldn’t care for these pts in an active role. She is writing a note to remove hypothetical nu",
           2078,
           "Comments"
          ],
          [
           "Heres a success story from Italy! ",
           4980,
           "Comments"
          ],
          [
           "NY Times has a series of stories of those we have lost... Rest in peace my social worker sister",
           3165,
           "Comments"
          ],
          [
           "Welcoming applications for Interviews with NHS hospital in Eastern England. Nurses with IELTS or OET please send us your CV with IELTS or OET to info@abnurses.com",
           4363,
           "Comments"
          ],
          [
           "How many of you have concerns about the effectiveness of the tests themselves? There seem to be a lot of negative tests when other clinical indicators point to covid? Do any of you have concerns that ",
           4897,
           "Comments"
          ],
          [
           "Hey guys we are donating face shields to medical staff that we manufacture at our shop! They are made out of heavy duty marine grade materials so they can be cleaned and re used over and over! We just",
           4802,
           "Comments"
          ],
          [
           "Anyone taking vitamins to help their immune system?",
           1395,
           "Comments"
          ],
          [
           "Hold the line!",
           1001,
           "Comments"
          ],
          [
           "Anyone besides me take Losartan? ",
           3467,
           "Comments"
          ],
          [
           "Update we found our piggy in bottom of purple bin under all the cans, someone put him in the bin but thankfully he's alive. Hello, I know this is nothing to do with Covid 19 but we've a missing guinea",
           5094,
           "Comments"
          ],
          [
           "I am a nurse and I was working on a renal floor yesterday and overheard a kidney doctor talking about how the COVID patients are clogging up the dialysis machines. I asked him if he has seen this befo",
           2469,
           "Comments"
          ],
          [
           "Can't say I didn't see this coming. ",
           763,
           "Comments"
          ],
          [
           "For Employers Care Staff available For Hire Permanent employment Please get in touch ! Thank you !",
           3131,
           "Comments"
          ],
          [
           "Does anyone know if someone is doing antibody testing in southwest Florida?",
           6579,
           "Comments"
          ],
          [
           "There is an antibody treatment that stops every COVID-19 variant—and possibly all future variants So by targeting this location, sotrovimab could be effective against all known variants and potential ",
           3778,
           "Comments"
          ],
          [
           "Today I saw so many people walking without masks and close mingling again etc. I know we are getting tired of this and believe me so am I but getting tired and loosening things up is like saying fine ",
           989,
           "Comments"
          ],
          [
           "Anyone here done a 1:1 sitter in a positive covid room is this even ok? not a short period but for an entire shift?",
           1716,
           "Comments"
          ],
          [
           "Symptomatic Covid diagnosed 22 days ago with positive rapid and PCR. The mild symptoms revolved within a few days. Quarantined for 14 days from positive test.  Now with chills, fever, aches, malaise. ",
           4113,
           "Comments"
          ],
          [
           "I have someone I work with that tested positive and did the quarantine for 14 days. She was released to come back to work and is still coughing up a lung and was re swabbed and it still shows positive",
           2734,
           "Comments"
          ],
          [
           "Like Spain we should all hang out our windows at the same time around the country and bang some pots and pans and demand the government look after ALL of us not just the rich and those with a mortgage",
           6543,
           "Comments"
          ],
          [
           "Covid number calculation: According to Dr. Curran (the Doc who worked on Ebola in the early 80's), said 1% of Covid cases are fatal. By having 2 knowns, we can find the unknown. So knowing that as a f",
           1625,
           "Comments"
          ],
          [
           "That post made my night. But thanks admin for outting her",
           5748,
           "Comments"
          ],
          [
           "A hopeful bit of news : Bangkok (and Thailand by extension) has not seen any new cases domestically in 25 days. All new ones (5 at the moment) arrived from abroad. When a friend of mine arrived into B",
           2718,
           "Comments"
          ],
          [
           "CHILD CUSTODY Hello Everyone. I have an 8 year old daughter that I share custody with her father. Her father has taken her from me, stating that I will give her Covid because I'm a nurse working with ",
           227,
           "Comments"
          ],
          [
           "Canada has now implemented all flights banned to the Caribbean and Mexico from Canada. Also, Canada will have only four Airports open. Toronto, Montreal, Vancouver & Calgary. All incoming passengers w",
           788,
           "Comments"
          ]
         ],
         "hovertemplate": "<b>Text:</b> %{customdata[0]}<br><b>ID:</b> %{customdata[1]}<br><b>Predict:</b> %{customdata[2]}",
         "marker": {
          "color": "green",
          "size": 5
         },
         "mode": "markers",
         "name": "Comments",
         "type": "scatter3d",
         "x": {
          "bdata": "BU2bPwksvkAtIOs/0mW2QCnry0Cx/S4+HSjEQPJxhD/xMddABf3JQC3DzUCRc8RA2RK0QK6Mx0BaH4I/Mvw1QJeYxT+fKYNAt/muQJCpvkCC7Es/Tr8OQHF6PD23WW8/EpyyQKROeUAV+qtAQGI2QOyIskCXaKlA5WfEPw2Q1EAPwSVAovrAQAIOuEDg6rdAC1sxQI0faUB/CFE//L+tQPq/yECCPCVASA5OQOzzzUAC1s0//aYjP8JSvkD7+0BApzjOP62fLUBQTV9AB/oIQA==",
          "dtype": "f4"
         },
         "y": {
          "bdata": "dvqfQLjx8UAWn8FAiwwFQbpv60C9JKtARh/iQBKqqEB+bPBAhBH4QOTn7UDJa95A4JjjQNcW6UB6ebZAGDnAQNwGvUBdUc1ALcoIQQhE5kDoRa1A/qCpQBwYr0BZjbxAkD7oQMaPzED+NfRAvXG9QGYb7UDiyuJAYSagQIx55kAMtKpAuirrQMU76EBMXe9A+pu2QHpIxkDqrbhAfw0FQQIw4UDO08dAB7C/QKnA+EDBDLZAfSW2QGPT/UBpLsFAKqXBQJdQsUCYEMVA/gCwQA==",
          "dtype": "f4"
         },
         "z": {
          "bdata": "mHUkQI1dP0ASSiNASyF1QB48jkAwEQNAPUl2QF1TIkBR6JBA+J5yQOUcgkDSD05A1PyGQOt8VEDpjhZAlCcbQAo2NkAoPEFAhd50QK3lmEAVGdI/3YInQBPX+j8GBSxAhHV3QMeJOkBGJYZAf5NEQKnEUUAWyFtAYYYQQDT8l0B98jtA1z6CQJknUkClT2xA0IgKQC9eMkBrf/A/T/hlQCNRikB4hS5AyukZQF13lUC+T0FAfCguQLe0Q0AWgDNACyrKPz3dMEAAfEVAzA00QA==",
          "dtype": "f4"
         }
        }
       ],
       "layout": {
        "height": 1000,
        "legend": {
         "title": {
          "text": "Class Labels"
         }
        },
        "scene": {
         "xaxis": {
          "gridcolor": "lightgray",
          "gridwidth": 0.5,
          "linecolor": "black",
          "linewidth": 2,
          "mirror": true,
          "showline": true,
          "title": {
           "text": "UMAP 1"
          }
         },
         "yaxis": {
          "gridcolor": "lightgray",
          "gridwidth": 0.5,
          "linecolor": "black",
          "linewidth": 2,
          "mirror": true,
          "showline": true,
          "title": {
           "text": "UMAP 2"
          }
         },
         "zaxis": {
          "gridcolor": "lightgray",
          "gridwidth": 0.5,
          "linecolor": "black",
          "linewidth": 2,
          "mirror": true,
          "showline": true,
          "title": {
           "text": "UMAP 3"
          }
         }
        },
        "template": {
         "data": {
          "bar": [
           {
            "error_x": {
             "color": "#2a3f5f"
            },
            "error_y": {
             "color": "#2a3f5f"
            },
            "marker": {
             "line": {
              "color": "white",
              "width": 0.5
             },
             "pattern": {
              "fillmode": "overlay",
              "size": 10,
              "solidity": 0.2
             }
            },
            "type": "bar"
           }
          ],
          "barpolar": [
           {
            "marker": {
             "line": {
              "color": "white",
              "width": 0.5
             },
             "pattern": {
              "fillmode": "overlay",
              "size": 10,
              "solidity": 0.2
             }
            },
            "type": "barpolar"
           }
          ],
          "carpet": [
           {
            "aaxis": {
             "endlinecolor": "#2a3f5f",
             "gridcolor": "#C8D4E3",
             "linecolor": "#C8D4E3",
             "minorgridcolor": "#C8D4E3",
             "startlinecolor": "#2a3f5f"
            },
            "baxis": {
             "endlinecolor": "#2a3f5f",
             "gridcolor": "#C8D4E3",
             "linecolor": "#C8D4E3",
             "minorgridcolor": "#C8D4E3",
             "startlinecolor": "#2a3f5f"
            },
            "type": "carpet"
           }
          ],
          "choropleth": [
           {
            "colorbar": {
             "outlinewidth": 0,
             "ticks": ""
            },
            "type": "choropleth"
           }
          ],
          "contour": [
           {
            "colorbar": {
             "outlinewidth": 0,
             "ticks": ""
            },
            "colorscale": [
             [
              0,
              "#0d0887"
             ],
             [
              0.1111111111111111,
              "#46039f"
             ],
             [
              0.2222222222222222,
              "#7201a8"
             ],
             [
              0.3333333333333333,
              "#9c179e"
             ],
             [
              0.4444444444444444,
              "#bd3786"
             ],
             [
              0.5555555555555556,
              "#d8576b"
             ],
             [
              0.6666666666666666,
              "#ed7953"
             ],
             [
              0.7777777777777778,
              "#fb9f3a"
             ],
             [
              0.8888888888888888,
              "#fdca26"
             ],
             [
              1,
              "#f0f921"
             ]
            ],
            "type": "contour"
           }
          ],
          "contourcarpet": [
           {
            "colorbar": {
             "outlinewidth": 0,
             "ticks": ""
            },
            "type": "contourcarpet"
           }
          ],
          "heatmap": [
           {
            "colorbar": {
             "outlinewidth": 0,
             "ticks": ""
            },
            "colorscale": [
             [
              0,
              "#0d0887"
             ],
             [
              0.1111111111111111,
              "#46039f"
             ],
             [
              0.2222222222222222,
              "#7201a8"
             ],
             [
              0.3333333333333333,
              "#9c179e"
             ],
             [
              0.4444444444444444,
              "#bd3786"
             ],
             [
              0.5555555555555556,
              "#d8576b"
             ],
             [
              0.6666666666666666,
              "#ed7953"
             ],
             [
              0.7777777777777778,
              "#fb9f3a"
             ],
             [
              0.8888888888888888,
              "#fdca26"
             ],
             [
              1,
              "#f0f921"
             ]
            ],
            "type": "heatmap"
           }
          ],
          "histogram": [
           {
            "marker": {
             "pattern": {
              "fillmode": "overlay",
              "size": 10,
              "solidity": 0.2
             }
            },
            "type": "histogram"
           }
          ],
          "histogram2d": [
           {
            "colorbar": {
             "outlinewidth": 0,
             "ticks": ""
            },
            "colorscale": [
             [
              0,
              "#0d0887"
             ],
             [
              0.1111111111111111,
              "#46039f"
             ],
             [
              0.2222222222222222,
              "#7201a8"
             ],
             [
              0.3333333333333333,
              "#9c179e"
             ],
             [
              0.4444444444444444,
              "#bd3786"
             ],
             [
              0.5555555555555556,
              "#d8576b"
             ],
             [
              0.6666666666666666,
              "#ed7953"
             ],
             [
              0.7777777777777778,
              "#fb9f3a"
             ],
             [
              0.8888888888888888,
              "#fdca26"
             ],
             [
              1,
              "#f0f921"
             ]
            ],
            "type": "histogram2d"
           }
          ],
          "histogram2dcontour": [
           {
            "colorbar": {
             "outlinewidth": 0,
             "ticks": ""
            },
            "colorscale": [
             [
              0,
              "#0d0887"
             ],
             [
              0.1111111111111111,
              "#46039f"
             ],
             [
              0.2222222222222222,
              "#7201a8"
             ],
             [
              0.3333333333333333,
              "#9c179e"
             ],
             [
              0.4444444444444444,
              "#bd3786"
             ],
             [
              0.5555555555555556,
              "#d8576b"
             ],
             [
              0.6666666666666666,
              "#ed7953"
             ],
             [
              0.7777777777777778,
              "#fb9f3a"
             ],
             [
              0.8888888888888888,
              "#fdca26"
             ],
             [
              1,
              "#f0f921"
             ]
            ],
            "type": "histogram2dcontour"
           }
          ],
          "mesh3d": [
           {
            "colorbar": {
             "outlinewidth": 0,
             "ticks": ""
            },
            "type": "mesh3d"
           }
          ],
          "parcoords": [
           {
            "line": {
             "colorbar": {
              "outlinewidth": 0,
              "ticks": ""
             }
            },
            "type": "parcoords"
           }
          ],
          "pie": [
           {
            "automargin": true,
            "type": "pie"
           }
          ],
          "scatter": [
           {
            "fillpattern": {
             "fillmode": "overlay",
             "size": 10,
             "solidity": 0.2
            },
            "type": "scatter"
           }
          ],
          "scatter3d": [
           {
            "line": {
             "colorbar": {
              "outlinewidth": 0,
              "ticks": ""
             }
            },
            "marker": {
             "colorbar": {
              "outlinewidth": 0,
              "ticks": ""
             }
            },
            "type": "scatter3d"
           }
          ],
          "scattercarpet": [
           {
            "marker": {
             "colorbar": {
              "outlinewidth": 0,
              "ticks": ""
             }
            },
            "type": "scattercarpet"
           }
          ],
          "scattergeo": [
           {
            "marker": {
             "colorbar": {
              "outlinewidth": 0,
              "ticks": ""
             }
            },
            "type": "scattergeo"
           }
          ],
          "scattergl": [
           {
            "marker": {
             "colorbar": {
              "outlinewidth": 0,
              "ticks": ""
             }
            },
            "type": "scattergl"
           }
          ],
          "scattermap": [
           {
            "marker": {
             "colorbar": {
              "outlinewidth": 0,
              "ticks": ""
             }
            },
            "type": "scattermap"
           }
          ],
          "scattermapbox": [
           {
            "marker": {
             "colorbar": {
              "outlinewidth": 0,
              "ticks": ""
             }
            },
            "type": "scattermapbox"
           }
          ],
          "scatterpolar": [
           {
            "marker": {
             "colorbar": {
              "outlinewidth": 0,
              "ticks": ""
             }
            },
            "type": "scatterpolar"
           }
          ],
          "scatterpolargl": [
           {
            "marker": {
             "colorbar": {
              "outlinewidth": 0,
              "ticks": ""
             }
            },
            "type": "scatterpolargl"
           }
          ],
          "scatterternary": [
           {
            "marker": {
             "colorbar": {
              "outlinewidth": 0,
              "ticks": ""
             }
            },
            "type": "scatterternary"
           }
          ],
          "surface": [
           {
            "colorbar": {
             "outlinewidth": 0,
             "ticks": ""
            },
            "colorscale": [
             [
              0,
              "#0d0887"
             ],
             [
              0.1111111111111111,
              "#46039f"
             ],
             [
              0.2222222222222222,
              "#7201a8"
             ],
             [
              0.3333333333333333,
              "#9c179e"
             ],
             [
              0.4444444444444444,
              "#bd3786"
             ],
             [
              0.5555555555555556,
              "#d8576b"
             ],
             [
              0.6666666666666666,
              "#ed7953"
             ],
             [
              0.7777777777777778,
              "#fb9f3a"
             ],
             [
              0.8888888888888888,
              "#fdca26"
             ],
             [
              1,
              "#f0f921"
             ]
            ],
            "type": "surface"
           }
          ],
          "table": [
           {
            "cells": {
             "fill": {
              "color": "#EBF0F8"
             },
             "line": {
              "color": "white"
             }
            },
            "header": {
             "fill": {
              "color": "#C8D4E3"
             },
             "line": {
              "color": "white"
             }
            },
            "type": "table"
           }
          ]
         },
         "layout": {
          "annotationdefaults": {
           "arrowcolor": "#2a3f5f",
           "arrowhead": 0,
           "arrowwidth": 1
          },
          "autotypenumbers": "strict",
          "coloraxis": {
           "colorbar": {
            "outlinewidth": 0,
            "ticks": ""
           }
          },
          "colorscale": {
           "diverging": [
            [
             0,
             "#8e0152"
            ],
            [
             0.1,
             "#c51b7d"
            ],
            [
             0.2,
             "#de77ae"
            ],
            [
             0.3,
             "#f1b6da"
            ],
            [
             0.4,
             "#fde0ef"
            ],
            [
             0.5,
             "#f7f7f7"
            ],
            [
             0.6,
             "#e6f5d0"
            ],
            [
             0.7,
             "#b8e186"
            ],
            [
             0.8,
             "#7fbc41"
            ],
            [
             0.9,
             "#4d9221"
            ],
            [
             1,
             "#276419"
            ]
           ],
           "sequential": [
            [
             0,
             "#0d0887"
            ],
            [
             0.1111111111111111,
             "#46039f"
            ],
            [
             0.2222222222222222,
             "#7201a8"
            ],
            [
             0.3333333333333333,
             "#9c179e"
            ],
            [
             0.4444444444444444,
             "#bd3786"
            ],
            [
             0.5555555555555556,
             "#d8576b"
            ],
            [
             0.6666666666666666,
             "#ed7953"
            ],
            [
             0.7777777777777778,
             "#fb9f3a"
            ],
            [
             0.8888888888888888,
             "#fdca26"
            ],
            [
             1,
             "#f0f921"
            ]
           ],
           "sequentialminus": [
            [
             0,
             "#0d0887"
            ],
            [
             0.1111111111111111,
             "#46039f"
            ],
            [
             0.2222222222222222,
             "#7201a8"
            ],
            [
             0.3333333333333333,
             "#9c179e"
            ],
            [
             0.4444444444444444,
             "#bd3786"
            ],
            [
             0.5555555555555556,
             "#d8576b"
            ],
            [
             0.6666666666666666,
             "#ed7953"
            ],
            [
             0.7777777777777778,
             "#fb9f3a"
            ],
            [
             0.8888888888888888,
             "#fdca26"
            ],
            [
             1,
             "#f0f921"
            ]
           ]
          },
          "colorway": [
           "#636efa",
           "#EF553B",
           "#00cc96",
           "#ab63fa",
           "#FFA15A",
           "#19d3f3",
           "#FF6692",
           "#B6E880",
           "#FF97FF",
           "#FECB52"
          ],
          "font": {
           "color": "#2a3f5f"
          },
          "geo": {
           "bgcolor": "white",
           "lakecolor": "white",
           "landcolor": "white",
           "showlakes": true,
           "showland": true,
           "subunitcolor": "#C8D4E3"
          },
          "hoverlabel": {
           "align": "left"
          },
          "hovermode": "closest",
          "mapbox": {
           "style": "light"
          },
          "paper_bgcolor": "white",
          "plot_bgcolor": "white",
          "polar": {
           "angularaxis": {
            "gridcolor": "#EBF0F8",
            "linecolor": "#EBF0F8",
            "ticks": ""
           },
           "bgcolor": "white",
           "radialaxis": {
            "gridcolor": "#EBF0F8",
            "linecolor": "#EBF0F8",
            "ticks": ""
           }
          },
          "scene": {
           "xaxis": {
            "backgroundcolor": "white",
            "gridcolor": "#DFE8F3",
            "gridwidth": 2,
            "linecolor": "#EBF0F8",
            "showbackground": true,
            "ticks": "",
            "zerolinecolor": "#EBF0F8"
           },
           "yaxis": {
            "backgroundcolor": "white",
            "gridcolor": "#DFE8F3",
            "gridwidth": 2,
            "linecolor": "#EBF0F8",
            "showbackground": true,
            "ticks": "",
            "zerolinecolor": "#EBF0F8"
           },
           "zaxis": {
            "backgroundcolor": "white",
            "gridcolor": "#DFE8F3",
            "gridwidth": 2,
            "linecolor": "#EBF0F8",
            "showbackground": true,
            "ticks": "",
            "zerolinecolor": "#EBF0F8"
           }
          },
          "shapedefaults": {
           "line": {
            "color": "#2a3f5f"
           }
          },
          "ternary": {
           "aaxis": {
            "gridcolor": "#DFE8F3",
            "linecolor": "#A2B1C6",
            "ticks": ""
           },
           "baxis": {
            "gridcolor": "#DFE8F3",
            "linecolor": "#A2B1C6",
            "ticks": ""
           },
           "bgcolor": "white",
           "caxis": {
            "gridcolor": "#DFE8F3",
            "linecolor": "#A2B1C6",
            "ticks": ""
           }
          },
          "title": {
           "x": 0.05
          },
          "xaxis": {
           "automargin": true,
           "gridcolor": "#EBF0F8",
           "linecolor": "#EBF0F8",
           "ticks": "",
           "title": {
            "standoff": 15
           },
           "zerolinecolor": "#EBF0F8",
           "zerolinewidth": 2
          },
          "yaxis": {
           "automargin": true,
           "gridcolor": "#EBF0F8",
           "linecolor": "#EBF0F8",
           "ticks": "",
           "title": {
            "standoff": 15
           },
           "zerolinecolor": "#EBF0F8",
           "zerolinewidth": 2
          }
         }
        },
        "title": {
         "text": "UMAP 3D Visualization"
        },
        "width": 1400,
        "xaxis": {
         "gridcolor": "lightgray",
         "gridwidth": 0.5,
         "linecolor": "black",
         "linewidth": 2,
         "mirror": true,
         "showline": true,
         "title": {
          "text": "UMAP 1 →"
         },
         "zeroline": true,
         "zerolinecolor": "black",
         "zerolinewidth": 1.2
        },
        "yaxis": {
         "gridcolor": "lightgray",
         "gridwidth": 0.5,
         "linecolor": "black",
         "linewidth": 2,
         "mirror": true,
         "showline": true,
         "title": {
          "text": "UMAP 2 →"
         },
         "zeroline": true,
         "zerolinecolor": "black",
         "zerolinewidth": 1.2
        }
       }
      }
     },
     "metadata": {},
     "output_type": "display_data"
    }
   ],
   "source": [
    "visualizer.reduce_dimensionality(\"umap\", n_components=3)\n",
    "visualizer.visualize(\"umap\", n_components=3, title=\"UMAP 3D Visualization\")"
   ]
  },
  {
   "cell_type": "markdown",
   "metadata": {},
   "source": [
    "## Кластеризация"
   ]
  },
  {
   "cell_type": "code",
   "execution_count": 190,
   "metadata": {},
   "outputs": [
    {
     "ename": "KeyError",
     "evalue": "\"None of [Index(['pca_1', 'pca_2'], dtype='object')] are in the [columns]\"",
     "output_type": "error",
     "traceback": [
      "\u001b[1;31m---------------------------------------------------------------------------\u001b[0m",
      "\u001b[1;31mKeyError\u001b[0m                                  Traceback (most recent call last)",
      "Cell \u001b[1;32mIn[190], line 13\u001b[0m\n\u001b[0;32m     11\u001b[0m \u001b[38;5;28;01mfor\u001b[39;00m k \u001b[38;5;129;01min\u001b[39;00m cluster_range:\n\u001b[0;32m     12\u001b[0m     kmeans \u001b[38;5;241m=\u001b[39m KMeans(n_clusters\u001b[38;5;241m=\u001b[39mk, random_state\u001b[38;5;241m=\u001b[39m\u001b[38;5;241m42\u001b[39m, n_init\u001b[38;5;241m=\u001b[39m\u001b[38;5;241m10\u001b[39m)\n\u001b[1;32m---> 13\u001b[0m     cluster_labels \u001b[38;5;241m=\u001b[39m kmeans\u001b[38;5;241m.\u001b[39mfit_predict(\u001b[43mdata_df\u001b[49m\u001b[43m[\u001b[49m\u001b[43m[\u001b[49m\u001b[38;5;124;43m\"\u001b[39;49m\u001b[38;5;124;43mpca_1\u001b[39;49m\u001b[38;5;124;43m\"\u001b[39;49m\u001b[43m,\u001b[49m\u001b[43m \u001b[49m\u001b[38;5;124;43m\"\u001b[39;49m\u001b[38;5;124;43mpca_2\u001b[39;49m\u001b[38;5;124;43m\"\u001b[39;49m\u001b[43m]\u001b[49m\u001b[43m]\u001b[49m)\n\u001b[0;32m     15\u001b[0m     inertia_values\u001b[38;5;241m.\u001b[39mappend(kmeans\u001b[38;5;241m.\u001b[39minertia_)\n\u001b[0;32m     16\u001b[0m     silhouette_avg \u001b[38;5;241m=\u001b[39m silhouette_score(data_df[[\u001b[38;5;124m\"\u001b[39m\u001b[38;5;124mpca_1\u001b[39m\u001b[38;5;124m\"\u001b[39m, \u001b[38;5;124m\"\u001b[39m\u001b[38;5;124mpca_2\u001b[39m\u001b[38;5;124m\"\u001b[39m]], cluster_labels)\n",
      "File \u001b[1;32md:\\Projects\\env_ml\\.venv\\Lib\\site-packages\\pandas\\core\\frame.py:4108\u001b[0m, in \u001b[0;36mDataFrame.__getitem__\u001b[1;34m(self, key)\u001b[0m\n\u001b[0;32m   4106\u001b[0m     \u001b[38;5;28;01mif\u001b[39;00m is_iterator(key):\n\u001b[0;32m   4107\u001b[0m         key \u001b[38;5;241m=\u001b[39m \u001b[38;5;28mlist\u001b[39m(key)\n\u001b[1;32m-> 4108\u001b[0m     indexer \u001b[38;5;241m=\u001b[39m \u001b[38;5;28;43mself\u001b[39;49m\u001b[38;5;241;43m.\u001b[39;49m\u001b[43mcolumns\u001b[49m\u001b[38;5;241;43m.\u001b[39;49m\u001b[43m_get_indexer_strict\u001b[49m\u001b[43m(\u001b[49m\u001b[43mkey\u001b[49m\u001b[43m,\u001b[49m\u001b[43m \u001b[49m\u001b[38;5;124;43m\"\u001b[39;49m\u001b[38;5;124;43mcolumns\u001b[39;49m\u001b[38;5;124;43m\"\u001b[39;49m\u001b[43m)\u001b[49m[\u001b[38;5;241m1\u001b[39m]\n\u001b[0;32m   4110\u001b[0m \u001b[38;5;66;03m# take() does not accept boolean indexers\u001b[39;00m\n\u001b[0;32m   4111\u001b[0m \u001b[38;5;28;01mif\u001b[39;00m \u001b[38;5;28mgetattr\u001b[39m(indexer, \u001b[38;5;124m\"\u001b[39m\u001b[38;5;124mdtype\u001b[39m\u001b[38;5;124m\"\u001b[39m, \u001b[38;5;28;01mNone\u001b[39;00m) \u001b[38;5;241m==\u001b[39m \u001b[38;5;28mbool\u001b[39m:\n",
      "File \u001b[1;32md:\\Projects\\env_ml\\.venv\\Lib\\site-packages\\pandas\\core\\indexes\\base.py:6200\u001b[0m, in \u001b[0;36mIndex._get_indexer_strict\u001b[1;34m(self, key, axis_name)\u001b[0m\n\u001b[0;32m   6197\u001b[0m \u001b[38;5;28;01melse\u001b[39;00m:\n\u001b[0;32m   6198\u001b[0m     keyarr, indexer, new_indexer \u001b[38;5;241m=\u001b[39m \u001b[38;5;28mself\u001b[39m\u001b[38;5;241m.\u001b[39m_reindex_non_unique(keyarr)\n\u001b[1;32m-> 6200\u001b[0m \u001b[38;5;28;43mself\u001b[39;49m\u001b[38;5;241;43m.\u001b[39;49m\u001b[43m_raise_if_missing\u001b[49m\u001b[43m(\u001b[49m\u001b[43mkeyarr\u001b[49m\u001b[43m,\u001b[49m\u001b[43m \u001b[49m\u001b[43mindexer\u001b[49m\u001b[43m,\u001b[49m\u001b[43m \u001b[49m\u001b[43maxis_name\u001b[49m\u001b[43m)\u001b[49m\n\u001b[0;32m   6202\u001b[0m keyarr \u001b[38;5;241m=\u001b[39m \u001b[38;5;28mself\u001b[39m\u001b[38;5;241m.\u001b[39mtake(indexer)\n\u001b[0;32m   6203\u001b[0m \u001b[38;5;28;01mif\u001b[39;00m \u001b[38;5;28misinstance\u001b[39m(key, Index):\n\u001b[0;32m   6204\u001b[0m     \u001b[38;5;66;03m# GH 42790 - Preserve name from an Index\u001b[39;00m\n",
      "File \u001b[1;32md:\\Projects\\env_ml\\.venv\\Lib\\site-packages\\pandas\\core\\indexes\\base.py:6249\u001b[0m, in \u001b[0;36mIndex._raise_if_missing\u001b[1;34m(self, key, indexer, axis_name)\u001b[0m\n\u001b[0;32m   6247\u001b[0m \u001b[38;5;28;01mif\u001b[39;00m nmissing:\n\u001b[0;32m   6248\u001b[0m     \u001b[38;5;28;01mif\u001b[39;00m nmissing \u001b[38;5;241m==\u001b[39m \u001b[38;5;28mlen\u001b[39m(indexer):\n\u001b[1;32m-> 6249\u001b[0m         \u001b[38;5;28;01mraise\u001b[39;00m \u001b[38;5;167;01mKeyError\u001b[39;00m(\u001b[38;5;124mf\u001b[39m\u001b[38;5;124m\"\u001b[39m\u001b[38;5;124mNone of [\u001b[39m\u001b[38;5;132;01m{\u001b[39;00mkey\u001b[38;5;132;01m}\u001b[39;00m\u001b[38;5;124m] are in the [\u001b[39m\u001b[38;5;132;01m{\u001b[39;00maxis_name\u001b[38;5;132;01m}\u001b[39;00m\u001b[38;5;124m]\u001b[39m\u001b[38;5;124m\"\u001b[39m)\n\u001b[0;32m   6251\u001b[0m     not_found \u001b[38;5;241m=\u001b[39m \u001b[38;5;28mlist\u001b[39m(ensure_index(key)[missing_mask\u001b[38;5;241m.\u001b[39mnonzero()[\u001b[38;5;241m0\u001b[39m]]\u001b[38;5;241m.\u001b[39munique())\n\u001b[0;32m   6252\u001b[0m     \u001b[38;5;28;01mraise\u001b[39;00m \u001b[38;5;167;01mKeyError\u001b[39;00m(\u001b[38;5;124mf\u001b[39m\u001b[38;5;124m\"\u001b[39m\u001b[38;5;132;01m{\u001b[39;00mnot_found\u001b[38;5;132;01m}\u001b[39;00m\u001b[38;5;124m not in index\u001b[39m\u001b[38;5;124m\"\u001b[39m)\n",
      "\u001b[1;31mKeyError\u001b[0m: \"None of [Index(['pca_1', 'pca_2'], dtype='object')] are in the [columns]\""
     ]
    }
   ],
   "source": [
    "import matplotlib.pyplot as plt\n",
    "from sklearn.cluster import KMeans\n",
    "from sklearn.metrics import silhouette_score\n",
    "\n",
    "# Диапазон количества кластеров для тестирования\n",
    "cluster_range = range(2, 15)\n",
    "inertia_values = []\n",
    "silhouette_scores = []\n",
    "\n",
    "# Тестируем K-Means с разным числом кластеров\n",
    "for k in cluster_range:\n",
    "    kmeans = KMeans(n_clusters=k, random_state=42, n_init=10)\n",
    "    cluster_labels = kmeans.fit_predict(data_df[[\"pca_1\", \"pca_2\"]])\n",
    "    \n",
    "    inertia_values.append(kmeans.inertia_)\n",
    "    silhouette_avg = silhouette_score(data_df[[\"pca_1\", \"pca_2\"]], cluster_labels)\n",
    "    silhouette_scores.append(silhouette_avg)\n",
    "\n",
    "# Определяем оптимальное количество кластеров по максимальному силуэтному коэффициенту\n",
    "optimal_k = cluster_range[np.argmax(silhouette_scores)]\n",
    "\n",
    "# Применяем K-Means с оптимальным количеством кластеров\n",
    "kmeans = KMeans(n_clusters=optimal_k, random_state=42, n_init=10)\n",
    "data_df[\"cluster\"] = kmeans.fit_predict(data_df[[\"pca_1\", \"pca_2\"]])"
   ]
  },
  {
   "cell_type": "code",
   "execution_count": null,
   "metadata": {},
   "outputs": [],
   "source": [
    "import plotly.graph_objects as go\n",
    "\n",
    "# Создаем интерактивный график для метода локтя (Elbow Method)\n",
    "fig = go.Figure()\n",
    "\n",
    "# Добавляем линию инерции (метод локтя)\n",
    "fig.add_trace(go.Scatter(\n",
    "    x=list(cluster_range),\n",
    "    y=inertia_values,\n",
    "    mode=\"lines+markers\",\n",
    "    name=\"Инерция (Elbow Method)\",\n",
    "    marker=dict(size=8)\n",
    "))\n",
    "\n",
    "fig.update_layout(\n",
    "    title=\"Метод локтя: Оптимальное количество кластеров\",\n",
    "    xaxis_title=\"Количество кластеров (k)\",\n",
    "    yaxis_title=\"Инерция\",\n",
    "    template=\"plotly_white\"\n",
    ")\n",
    "\n",
    "fig.show()\n",
    "\n",
    "# Создаем интерактивный график для коэффициента силуэта (Silhouette Score)\n",
    "fig_silhouette = go.Figure()\n",
    "\n",
    "fig_silhouette.add_trace(go.Scatter(\n",
    "    x=list(cluster_range),\n",
    "    y=silhouette_scores,\n",
    "    mode=\"lines+markers\",\n",
    "    name=\"Коэффициент силуэта\",\n",
    "    marker=dict(size=8, color=\"red\")\n",
    "))\n",
    "\n",
    "fig_silhouette.update_layout(\n",
    "    title=\"Оптимальное количество кластеров (Silhouette Score)\",\n",
    "    xaxis_title=\"Количество кластеров (k)\",\n",
    "    yaxis_title=\"Коэффициент силуэта\",\n",
    "    template=\"plotly_white\"\n",
    ")\n",
    "\n",
    "fig_silhouette.show()\n"
   ]
  },
  {
   "cell_type": "code",
   "execution_count": null,
   "metadata": {},
   "outputs": [],
   "source": [
    "import plotly.express as px\n",
    "import plotly.graph_objects as go\n",
    "from ipywidgets import interact, IntSlider\n",
    "from sklearn.cluster import KMeans\n",
    "\n",
    "# Функция для кластеризации и визуализации с выбором k\n",
    "def visualize_clusters(k):\n",
    "    # Применяем K-Means с выбранным количеством кластеров\n",
    "    kmeans = KMeans(n_clusters=k, random_state=42, n_init=10)\n",
    "    data_df[\"cluster\"] = kmeans.fit_predict(data_df[[\"pca_1\", \"pca_2\"]])\n",
    "    \n",
    "    # Получаем центры кластеров\n",
    "    centers = kmeans.cluster_centers_\n",
    "    \n",
    "    # Создаем интерактивный scatter plot с кластерами\n",
    "    fig = px.scatter(\n",
    "        data_df, x=\"pca_1\", y=\"pca_2\", \n",
    "        color=data_df[\"cluster\"].astype(str),\n",
    "        title=f\"K-Means Кластеризация (k={k})\",\n",
    "        labels={\"pca_1\": \"PCA 1\", \"pca_2\": \"PCA 2\", \"color\": \"Кластер\"},\n",
    "        hover_data=[\"id\", \"truncated_text\", \"predict_1\"]\n",
    "    )\n",
    "    \n",
    "    # Добавляем центры кластеров на график\n",
    "    fig.add_trace(go.Scatter(\n",
    "        x=centers[:, 0],\n",
    "        y=centers[:, 1],\n",
    "        mode=\"markers\",\n",
    "        marker=dict(size=12, color=\"black\", symbol=\"x\"),\n",
    "        name=\"Центры кластеров\"\n",
    "    ))\n",
    "\n",
    "    # **Переносим изменение размера перед fig.show()**\n",
    "    fig.update_layout(\n",
    "        width=1500,\n",
    "        height=1200,\n",
    "        template=\"plotly_white\",  # Улучшенный стиль\n",
    "        xaxis=dict(showgrid=True, gridwidth=0.5, gridcolor=\"lightgray\"),  # Мелкая сетка\n",
    "        yaxis=dict(showgrid=True, gridwidth=0.5, gridcolor=\"lightgray\")\n",
    "    )\n",
    "\n",
    "    fig.show()\n",
    "\n",
    "# Создаем слайдер для выбора количества кластеров\n",
    "interact(visualize_clusters, k=IntSlider(min=2, max=15, step=1, value=5, description=\"Количество кластеров\"))\n"
   ]
  },
  {
   "cell_type": "markdown",
   "metadata": {},
   "source": [
    "### PCA 3D"
   ]
  },
  {
   "cell_type": "code",
   "execution_count": 265,
   "metadata": {},
   "outputs": [],
   "source": [
    "import pandas as pd\n",
    "import numpy as np\n",
    "from sklearn.decomposition import PCA\n",
    "\n",
    "\n",
    "if isinstance(data_df[\"embedding\"].iloc[0], str):\n",
    "    data_df[\"embedding\"] = data_df[\"embedding\"].apply(eval)\n",
    "\n",
    "embeddings = np.array(data_df[\"embedding\"].tolist())\n",
    "\n",
    "n_components = 3\n",
    "pca = PCA(n_components=n_components)\n",
    "reduced_embeddings = pca.fit_transform(embeddings)\n",
    "\n",
    "data_df[\"pca_1\"] = reduced_embeddings[:, 0]\n",
    "data_df[\"pca_2\"] = reduced_embeddings[:, 1]\n",
    "data_df[\"pca_3\"] = reduced_embeddings[:, 2]"
   ]
  },
  {
   "cell_type": "code",
   "execution_count": null,
   "metadata": {},
   "outputs": [],
   "source": [
    "import plotly.graph_objects as go\n",
    "\n",
    "# Создаем 3D scatter plot\n",
    "fig = go.Figure()\n",
    "\n",
    "fig.add_trace(go.Scatter3d(\n",
    "    x=data_df[\"pca_1\"], \n",
    "    y=data_df[\"pca_2\"], \n",
    "    z=data_df[\"pca_3\"],\n",
    "    mode=\"markers\",\n",
    "    marker=dict(size=6, opacity=0.7),\n",
    "    customdata=data_df[[\"truncated_text\", \"predict_1\", \"id\"]],  # Передаем обрезанный text, predict_1 и id\n",
    "    hovertemplate=\"<b>Text:</b> %{customdata[0]}<br>\"  # Отображаем обрезанный text\n",
    "                  \"<b>Predict:</b> %{customdata[1]}<br>\"  # Отображаем predict_1\n",
    "                  \"<b>Id:</b> %{customdata[2]}\"  # Теперь ID будет на новой строке\n",
    "))\n",
    "\n",
    "fig.update_layout(\n",
    "    title=\"3D PCA с интерактивными точками\",\n",
    "    scene=dict(\n",
    "        xaxis_title=\"PCA 1\",\n",
    "        yaxis_title=\"PCA 2\",\n",
    "        zaxis_title=\"PCA 3\"\n",
    "    ),\n",
    "    template=\"plotly_white\"\n",
    ")\n",
    "\n",
    "fig.update_layout(\n",
    "    width=1500,\n",
    "    height=1000,\n",
    ")\n",
    "\n",
    "fig.show()\n"
   ]
  },
  {
   "cell_type": "markdown",
   "metadata": {},
   "source": [
    "### K-mean"
   ]
  },
  {
   "cell_type": "code",
   "execution_count": 267,
   "metadata": {},
   "outputs": [],
   "source": [
    "# Адаптация кода под 3D кластеризацию\n",
    "\n",
    "import numpy as np\n",
    "from sklearn.cluster import KMeans\n",
    "from sklearn.metrics import silhouette_score\n",
    "\n",
    "# Диапазон количества кластеров для тестирования\n",
    "cluster_range = range(2, 15)\n",
    "inertia_values = []\n",
    "silhouette_scores = []\n",
    "\n",
    "# Тестируем K-Means с разным числом кластеров на 3D PCA\n",
    "for k in cluster_range:\n",
    "    kmeans = KMeans(n_clusters=k, random_state=42, n_init=10)\n",
    "    cluster_labels = kmeans.fit_predict(data_df[[\"pca_1\", \"pca_2\", \"pca_3\"]])\n",
    "    \n",
    "    inertia_values.append(kmeans.inertia_)\n",
    "    \n",
    "    # Проверяем, достаточно ли данных для расчета силуэтного коэффициента\n",
    "    if len(set(cluster_labels)) > 1:  \n",
    "        silhouette_avg = silhouette_score(data_df[[\"pca_1\", \"pca_2\", \"pca_3\"]], cluster_labels)\n",
    "        silhouette_scores.append(silhouette_avg)\n",
    "    else:\n",
    "        silhouette_scores.append(-1)\n",
    "\n",
    "# Определяем оптимальное количество кластеров по максимальному силуэтному коэффициенту\n",
    "optimal_k = cluster_range[np.argmax(silhouette_scores)]\n",
    "\n",
    "# Применяем K-Means с оптимальным количеством кластеров\n",
    "kmeans = KMeans(n_clusters=optimal_k, random_state=42, n_init=10)\n",
    "data_df[\"cluster\"] = kmeans.fit_predict(data_df[[\"pca_1\", \"pca_2\", \"pca_3\"]])\n"
   ]
  },
  {
   "cell_type": "code",
   "execution_count": null,
   "metadata": {},
   "outputs": [],
   "source": [
    "import plotly.express as px\n",
    "import plotly.graph_objects as go\n",
    "from ipywidgets import interact, IntSlider\n",
    "from sklearn.cluster import KMeans\n",
    "\n",
    "# Функция для кластеризации и визуализации 3D с выбором k\n",
    "def visualize_clusters_3d(k):\n",
    "    # Применяем K-Means с выбранным количеством кластеров\n",
    "    kmeans = KMeans(n_clusters=k, random_state=42, n_init=10)\n",
    "    data_df[\"cluster\"] = kmeans.fit_predict(data_df[[\"pca_1\", \"pca_2\", \"pca_3\"]])\n",
    "    \n",
    "    # Получаем центры кластеров\n",
    "    centers = kmeans.cluster_centers_\n",
    "    \n",
    "    # Создаем интерактивный 3D scatter plot с кластерами\n",
    "    fig = px.scatter_3d(\n",
    "        data_df, x=\"pca_1\", y=\"pca_2\", z=\"pca_3\",\n",
    "        color=data_df[\"cluster\"].astype(str),\n",
    "        title=f\"K-Means 3D Кластеризация (k={k})\",\n",
    "        labels={\"pca_1\": \"PCA 1\", \"pca_2\": \"PCA 2\", \"pca_3\": \"PCA 3\", \"color\": \"Кластер\"},\n",
    "        hover_data=[\"id\", \"truncated_text\", \"predict_1\"]\n",
    "    )\n",
    "    \n",
    "    # Добавляем центры кластеров на график\n",
    "    fig.add_trace(go.Scatter3d(\n",
    "        x=centers[:, 0],\n",
    "        y=centers[:, 1],\n",
    "        z=centers[:, 2],\n",
    "        mode=\"markers\",\n",
    "        marker=dict(size=4, color=\"black\", symbol=\"x\"),\n",
    "        name=\"Центры кластеров\"\n",
    "    ))\n",
    "\n",
    "    # **Исправлено: обновляем стиль перед show()**\n",
    "    fig.update_layout(\n",
    "        width=1500,\n",
    "        height=1200,\n",
    "        template=\"plotly_white\",  # Улучшенный стиль\n",
    "        scene=dict(\n",
    "            xaxis=dict(showgrid=True, gridwidth=0.5, gridcolor=\"lightgray\"),\n",
    "            yaxis=dict(showgrid=True, gridwidth=0.5, gridcolor=\"lightgray\"),\n",
    "            zaxis=dict(showgrid=True, gridwidth=0.5, gridcolor=\"lightgray\")\n",
    "        )\n",
    "    )\n",
    "\n",
    "    fig.show()\n",
    "\n",
    "# Создаем слайдер для выбора количества кластеров\n",
    "interact(visualize_clusters_3d, k=IntSlider(min=2, max=15, step=1, value=5, description=\"Количество кластеров\"))\n"
   ]
  },
  {
   "cell_type": "code",
   "execution_count": null,
   "metadata": {},
   "outputs": [],
   "source": []
  }
 ],
 "metadata": {
  "kernelspec": {
   "display_name": ".venv",
   "language": "python",
   "name": "python3"
  },
  "language_info": {
   "codemirror_mode": {
    "name": "ipython",
    "version": 3
   },
   "file_extension": ".py",
   "mimetype": "text/x-python",
   "name": "python",
   "nbconvert_exporter": "python",
   "pygments_lexer": "ipython3",
   "version": "3.11.5"
  }
 },
 "nbformat": 4,
 "nbformat_minor": 2
}
