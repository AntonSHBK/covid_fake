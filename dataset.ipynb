{
 "cells": [
  {
   "cell_type": "markdown",
   "metadata": {},
   "source": [
    "# Dataset"
   ]
  },
  {
   "cell_type": "code",
   "execution_count": 117,
   "metadata": {},
   "outputs": [],
   "source": [
    "import math\n",
    "\n",
    "import torch\n",
    "import pandas as pd\n",
    "import numpy as np"
   ]
  },
  {
   "cell_type": "code",
   "execution_count": 118,
   "metadata": {},
   "outputs": [],
   "source": [
    "from pathlib import Path\n",
    "\n",
    "DATA_PATH = Path('data/')\n",
    "DATA_PATH.mkdir(parents=True, exist_ok=True)\n",
    "\n",
    "DATA_CACHE = Path('data/cache_dir/')\n",
    "DATA_CACHE.mkdir(parents=True, exist_ok=True)\n",
    "\n",
    "DATA_PATH_SAVE_MODELS = Path('data/models/')\n",
    "DATA_PATH_SAVE_MODELS.mkdir(parents=True, exist_ok=True)\n",
    "\n",
    "DATA_SYNTHETIC = Path('synthetic/')\n",
    "DATA_SYNTHETIC.mkdir(parents=True, exist_ok=True)\n",
    "\n",
    "pd.set_option('display.max_colwidth', 500) "
   ]
  },
  {
   "cell_type": "markdown",
   "metadata": {},
   "source": [
    "## [nanyy1025/covid_fake_news](https://huggingface.co/datasets/nanyy1025/covid_fake_news)\n",
    "\n",
    "Датасет `nanyy1025/covid_fake_news` на Hugging Face содержит 10 700 записей, каждая из которых представляет собой твит, связанный с COVID-19, с меткой \"real\" (реальный) или \"fake\" (фейковый). Датасет разделен на три части: обучающая выборка (6 420 записей), валидационная выборка (2 140 записей) и тестовая выборка (2 140 записей). Данные представлены в формате CSV и предназначены для задач классификации текста и zero-shot классификации. Датасет был использован в исследовании \"Fighting an Infodemic: COVID-19 Fake News Dataset\" (arXiv:2011.03327). ([Hugging Face](https://huggingface.co/datasets/nanyy1025/covid_fake_news?utm_source=chatgpt.com)) \n",
    "\n",
    "```bibtex\n",
    "@misc{patwa2020fighting,\n",
    "title={Fighting an Infodemic: COVID-19 Fake News Dataset}, \n",
    "author={Parth Patwa and Shivam Sharma and Srinivas PYKL and Vineeth Guptha and Gitanjali Kumari and Md Shad Akhtar and Asif Ekbal and Amitava Das and Tanmoy Chakraborty},\n",
    "year={2020},\n",
    "eprint={2011.03327},\n",
    "archivePrefix={arXiv},\n",
    "primaryClass={cs.CL}\n",
    "}\n",
    "```"
   ]
  },
  {
   "cell_type": "code",
   "execution_count": 119,
   "metadata": {},
   "outputs": [],
   "source": [
    "from datasets import load_dataset"
   ]
  },
  {
   "cell_type": "code",
   "execution_count": 120,
   "metadata": {},
   "outputs": [],
   "source": [
    "def load_and_merge_nanyy1025_dataset(dataset_name: str = \"nanyy1025/covid_fake_news\",\n",
    "                                     cache_dir=None) -> pd.DataFrame:\n",
    "    dataset = load_dataset(dataset_name, cache_dir=cache_dir)\n",
    "\n",
    "    train_df = dataset['train'].to_pandas()\n",
    "    test_df = dataset['test'].to_pandas()\n",
    "    validation_df = dataset['validation'].to_pandas()\n",
    "    merged_df: pd.DataFrame = pd.concat([train_df, test_df, validation_df], ignore_index=True)\n",
    "    merged_df.rename(columns={'tweet': 'text'}, inplace=True)\n",
    "    return merged_df\n",
    "\n",
    "nanyy1025_df = load_and_merge_nanyy1025_dataset( \"nanyy1025/covid_fake_news\", DATA_CACHE)"
   ]
  },
  {
   "cell_type": "code",
   "execution_count": 121,
   "metadata": {},
   "outputs": [
    {
     "data": {
      "text/html": [
       "<div>\n",
       "<style scoped>\n",
       "    .dataframe tbody tr th:only-of-type {\n",
       "        vertical-align: middle;\n",
       "    }\n",
       "\n",
       "    .dataframe tbody tr th {\n",
       "        vertical-align: top;\n",
       "    }\n",
       "\n",
       "    .dataframe thead th {\n",
       "        text-align: right;\n",
       "    }\n",
       "</style>\n",
       "<table border=\"1\" class=\"dataframe\">\n",
       "  <thead>\n",
       "    <tr style=\"text-align: right;\">\n",
       "      <th></th>\n",
       "      <th>id</th>\n",
       "      <th>text</th>\n",
       "      <th>label</th>\n",
       "    </tr>\n",
       "  </thead>\n",
       "  <tbody>\n",
       "    <tr>\n",
       "      <th>0</th>\n",
       "      <td>1</td>\n",
       "      <td>The CDC currently reports 99031 deaths. In general the discrepancies in death counts between different sources are small and explicable. The death toll stands at roughly 100000 people today.</td>\n",
       "      <td>real</td>\n",
       "    </tr>\n",
       "    <tr>\n",
       "      <th>1</th>\n",
       "      <td>2</td>\n",
       "      <td>States reported 1121 deaths a small rise from last Tuesday. Southern states reported 640 of those deaths. https://t.co/YASGRTT4ux</td>\n",
       "      <td>real</td>\n",
       "    </tr>\n",
       "    <tr>\n",
       "      <th>2</th>\n",
       "      <td>3</td>\n",
       "      <td>Politically Correct Woman (Almost) Uses Pandemic as Excuse Not to Reuse Plastic Bag https://t.co/thF8GuNFPe #coronavirus #nashville</td>\n",
       "      <td>fake</td>\n",
       "    </tr>\n",
       "    <tr>\n",
       "      <th>3</th>\n",
       "      <td>4</td>\n",
       "      <td>#IndiaFightsCorona: We have 1524 #COVID testing laboratories in India and as on 25th August 2020 36827520 tests have been done : @ProfBhargava DG @ICMRDELHI #StaySafe #IndiaWillWin https://t.co/Yh3ZxknnhZ</td>\n",
       "      <td>real</td>\n",
       "    </tr>\n",
       "    <tr>\n",
       "      <th>4</th>\n",
       "      <td>5</td>\n",
       "      <td>Populous states can generate large case counts but if you look at the new cases per million today 9 smaller states are showing more cases per million than California or Texas: AL AR ID KS KY LA MS NV and SC. https://t.co/1pYW6cWRaS</td>\n",
       "      <td>real</td>\n",
       "    </tr>\n",
       "  </tbody>\n",
       "</table>\n",
       "</div>"
      ],
      "text/plain": [
       "   id  \\\n",
       "0   1   \n",
       "1   2   \n",
       "2   3   \n",
       "3   4   \n",
       "4   5   \n",
       "\n",
       "                                                                                                                                                                                                                                      text  \\\n",
       "0                                           The CDC currently reports 99031 deaths. In general the discrepancies in death counts between different sources are small and explicable. The death toll stands at roughly 100000 people today.   \n",
       "1                                                                                                        States reported 1121 deaths a small rise from last Tuesday. Southern states reported 640 of those deaths. https://t.co/YASGRTT4ux   \n",
       "2                                                                                                      Politically Correct Woman (Almost) Uses Pandemic as Excuse Not to Reuse Plastic Bag https://t.co/thF8GuNFPe #coronavirus #nashville   \n",
       "3                             #IndiaFightsCorona: We have 1524 #COVID testing laboratories in India and as on 25th August 2020 36827520 tests have been done : @ProfBhargava DG @ICMRDELHI #StaySafe #IndiaWillWin https://t.co/Yh3ZxknnhZ   \n",
       "4  Populous states can generate large case counts but if you look at the new cases per million today 9 smaller states are showing more cases per million than California or Texas: AL AR ID KS KY LA MS NV and SC. https://t.co/1pYW6cWRaS   \n",
       "\n",
       "  label  \n",
       "0  real  \n",
       "1  real  \n",
       "2  fake  \n",
       "3  real  \n",
       "4  real  "
      ]
     },
     "execution_count": 121,
     "metadata": {},
     "output_type": "execute_result"
    }
   ],
   "source": [
    "nanyy1025_df.head()"
   ]
  },
  {
   "cell_type": "code",
   "execution_count": 122,
   "metadata": {},
   "outputs": [
    {
     "name": "stdout",
     "output_type": "stream",
     "text": [
      "<class 'pandas.core.frame.DataFrame'>\n",
      "RangeIndex: 10700 entries, 0 to 10699\n",
      "Data columns (total 3 columns):\n",
      " #   Column  Non-Null Count  Dtype \n",
      "---  ------  --------------  ----- \n",
      " 0   id      10700 non-null  int64 \n",
      " 1   text    10700 non-null  object\n",
      " 2   label   10700 non-null  object\n",
      "dtypes: int64(1), object(2)\n",
      "memory usage: 250.9+ KB\n"
     ]
    }
   ],
   "source": [
    "nanyy1025_df.info()"
   ]
  },
  {
   "cell_type": "markdown",
   "metadata": {},
   "source": [
    "## [justinqbui/covid_fact_checked_google_api](https://huggingface.co/datasets/justinqbui/covid_fact_checked_google_api)\n",
    "\n",
    "Датасет **justinqbui/covid_fact_checked_google_api** с Hugging Face представляет собой выборку проверенных фактов, связанных с COVID-19, собранных с использованием Google Fact Checker API. Вот его основные характеристики:\n",
    "\n",
    "1. **Общий объем данных:**\n",
    "   - Содержит 3 043 записи.\n",
    "   - Первоначально было собрано 10 000 фактов, но для упрощения включены только те записи, где рейтинг был представлен одним словом — \"false\" (ложь) или \"true\" (правда). Около 90% фактов в датасете оценены как ложные.\n",
    "\n",
    "2. **Модальности и форматы:**\n",
    "   - Тип данных: текст.\n",
    "   - Формат: CSV.\n",
    "   - Также доступен в формате Parquet.\n",
    "\n",
    "3. **Описание данных:**\n",
    "   - Поля датасета:\n",
    "     - `text`: текст проверенного факта.\n",
    "     - `label`: метка правдивости (`true` или `false`).\n",
    "   - Аннотации созданы экспертами.\n",
    "   - Язык: английский (en-US).\n",
    "   - Датасет является монолингвальным."
   ]
  },
  {
   "cell_type": "code",
   "execution_count": 123,
   "metadata": {},
   "outputs": [
    {
     "name": "stderr",
     "output_type": "stream",
     "text": [
      "Repo card metadata block was not found. Setting CardData to empty.\n"
     ]
    }
   ],
   "source": [
    "def load_and_merge_justinqbui_dataset(dataset_name: str = \"justinqbui/covid_fact_checked_google_api\",\n",
    "                                     cache_dir=None) -> pd.DataFrame:\n",
    "    dataset = load_dataset(dataset_name, cache_dir=cache_dir)\n",
    "    return dataset['train'].to_pandas()\n",
    "\n",
    "justinqbui_1_df = load_and_merge_justinqbui_dataset( \"justinqbui/covid_fact_checked_google_api\", DATA_CACHE)"
   ]
  },
  {
   "cell_type": "code",
   "execution_count": 124,
   "metadata": {},
   "outputs": [
    {
     "data": {
      "text/html": [
       "<div>\n",
       "<style scoped>\n",
       "    .dataframe tbody tr th:only-of-type {\n",
       "        vertical-align: middle;\n",
       "    }\n",
       "\n",
       "    .dataframe tbody tr th {\n",
       "        vertical-align: top;\n",
       "    }\n",
       "\n",
       "    .dataframe thead th {\n",
       "        text-align: right;\n",
       "    }\n",
       "</style>\n",
       "<table border=\"1\" class=\"dataframe\">\n",
       "  <thead>\n",
       "    <tr style=\"text-align: right;\">\n",
       "      <th></th>\n",
       "      <th>Unnamed: 0</th>\n",
       "      <th>text</th>\n",
       "      <th>label</th>\n",
       "    </tr>\n",
       "  </thead>\n",
       "  <tbody>\n",
       "    <tr>\n",
       "      <th>0</th>\n",
       "      <td>0</td>\n",
       "      <td>Study finds 5G technology a ‘significant factor’ in higher COVID case and death rates</td>\n",
       "      <td>False</td>\n",
       "    </tr>\n",
       "    <tr>\n",
       "      <th>1</th>\n",
       "      <td>1</td>\n",
       "      <td>Society is “choosing blood clots and heart problems over cold and flu symptoms, or even no symptoms at all.”</td>\n",
       "      <td>False</td>\n",
       "    </tr>\n",
       "    <tr>\n",
       "      <th>2</th>\n",
       "      <td>2</td>\n",
       "      <td>Dr. Anthony Fauci, the director of the National Institute of Allergy and Infectious Diseases (NIAID), has said he wants Americans to receive four COVID-19 vaccine shots each year.</td>\n",
       "      <td>False</td>\n",
       "    </tr>\n",
       "    <tr>\n",
       "      <th>3</th>\n",
       "      <td>3</td>\n",
       "      <td>As of early December 2021, no one worldwide who tested positive for the omicron variant of the coronavirus had died.</td>\n",
       "      <td>True</td>\n",
       "    </tr>\n",
       "    <tr>\n",
       "      <th>4</th>\n",
       "      <td>4</td>\n",
       "      <td>the image shows a fence in a German mall separating people vaccinated against COVID-19 from those who are unvaccinated.</td>\n",
       "      <td>False</td>\n",
       "    </tr>\n",
       "  </tbody>\n",
       "</table>\n",
       "</div>"
      ],
      "text/plain": [
       "   Unnamed: 0  \\\n",
       "0           0   \n",
       "1           1   \n",
       "2           2   \n",
       "3           3   \n",
       "4           4   \n",
       "\n",
       "                                                                                                                                                                                  text  \\\n",
       "0                                                                                                Study finds 5G technology a ‘significant factor’ in higher COVID case and death rates   \n",
       "1                                                                         Society is “choosing blood clots and heart problems over cold and flu symptoms, or even no symptoms at all.”   \n",
       "2  Dr. Anthony Fauci, the director of the National Institute of Allergy and Infectious Diseases (NIAID), has said he wants Americans to receive four COVID-19 vaccine shots each year.   \n",
       "3                                                                 As of early December 2021, no one worldwide who tested positive for the omicron variant of the coronavirus had died.   \n",
       "4                                                              the image shows a fence in a German mall separating people vaccinated against COVID-19 from those who are unvaccinated.   \n",
       "\n",
       "   label  \n",
       "0  False  \n",
       "1  False  \n",
       "2  False  \n",
       "3   True  \n",
       "4  False  "
      ]
     },
     "execution_count": 124,
     "metadata": {},
     "output_type": "execute_result"
    }
   ],
   "source": [
    "justinqbui_1_df.head()"
   ]
  },
  {
   "cell_type": "code",
   "execution_count": 125,
   "metadata": {},
   "outputs": [
    {
     "name": "stdout",
     "output_type": "stream",
     "text": [
      "<class 'pandas.core.frame.DataFrame'>\n",
      "RangeIndex: 3043 entries, 0 to 3042\n",
      "Data columns (total 3 columns):\n",
      " #   Column      Non-Null Count  Dtype \n",
      "---  ------      --------------  ----- \n",
      " 0   Unnamed: 0  3043 non-null   int64 \n",
      " 1   text        3043 non-null   object\n",
      " 2   label       3043 non-null   bool  \n",
      "dtypes: bool(1), int64(1), object(1)\n",
      "memory usage: 50.6+ KB\n"
     ]
    }
   ],
   "source": [
    "justinqbui_1_df.info()"
   ]
  },
  {
   "cell_type": "code",
   "execution_count": 126,
   "metadata": {},
   "outputs": [
    {
     "data": {
      "text/plain": [
       "label\n",
       "False    2929\n",
       "True      114\n",
       "Name: count, dtype: int64"
      ]
     },
     "execution_count": 126,
     "metadata": {},
     "output_type": "execute_result"
    }
   ],
   "source": [
    "justinqbui_1_df['label'].value_counts()"
   ]
  },
  {
   "cell_type": "markdown",
   "metadata": {},
   "source": [
    "## [justinqbui/covid_fact_checked_polifact](https://huggingface.co/datasets/justinqbui/covid_fact_checked_polifact)\n",
    "\n",
    "Датасет **justinqbui/covid_fact_checked_polifact** с Hugging Face включает записи, связанные с проверкой фактов о COVID-19, собранных с помощью автоматического веб-скрейпера, который извлек данные из PolitiFact COVID Fact Checker. Вот его ключевые характеристики:\n",
    "\n",
    "1. **Общий объем данных:**\n",
    "   - Содержит 1 190 записей.\n",
    "   - Датасет состоит из утверждений и их оценки на правдивость.\n",
    "\n",
    "2. **Модальности и форматы:**\n",
    "   - Тип данных: текст.\n",
    "   - Формат: CSV.\n",
    "   - Также доступен в формате Parquet.\n",
    "\n",
    "3. **Описание данных:**\n",
    "   - Поля датасета:\n",
    "     - `claim`: текст утверждения.\n",
    "     - `rating`: оценка, присвоенная PolitiFact (7 значений: *half-true*, *full-flop*, *pants-fire*, *barely-true*, *true*, *mostly-true*, *false*).\n",
    "     - `adjusted_rating`: упрощенная версия оценки (3 значения: например, \"true\", \"false\" и промежуточные варианты).\n",
    "   - Поля предоставляют как детализированные, так и агрегированные оценки фактов."
   ]
  },
  {
   "cell_type": "code",
   "execution_count": 127,
   "metadata": {},
   "outputs": [
    {
     "name": "stderr",
     "output_type": "stream",
     "text": [
      "Repo card metadata block was not found. Setting CardData to empty.\n"
     ]
    }
   ],
   "source": [
    "justinqbui_2_df = load_and_merge_justinqbui_dataset( \"justinqbui/covid_fact_checked_polifact\", DATA_CACHE)"
   ]
  },
  {
   "cell_type": "code",
   "execution_count": 128,
   "metadata": {},
   "outputs": [
    {
     "data": {
      "text/html": [
       "<div>\n",
       "<style scoped>\n",
       "    .dataframe tbody tr th:only-of-type {\n",
       "        vertical-align: middle;\n",
       "    }\n",
       "\n",
       "    .dataframe tbody tr th {\n",
       "        vertical-align: top;\n",
       "    }\n",
       "\n",
       "    .dataframe thead th {\n",
       "        text-align: right;\n",
       "    }\n",
       "</style>\n",
       "<table border=\"1\" class=\"dataframe\">\n",
       "  <thead>\n",
       "    <tr style=\"text-align: right;\">\n",
       "      <th></th>\n",
       "      <th>Unnamed: 0</th>\n",
       "      <th>claim</th>\n",
       "      <th>rating</th>\n",
       "      <th>adjusted rating</th>\n",
       "    </tr>\n",
       "  </thead>\n",
       "  <tbody>\n",
       "    <tr>\n",
       "      <th>0</th>\n",
       "      <td>0</td>\n",
       "      <td>Deaths from vaccines have totaled 1,621 from Johnson &amp; Johnson, 4,799 from Moderna, 13,039 from Pfizer and 73 from unknown vaccines. And this is an undercount because “only 1% of deaths are reported.”</td>\n",
       "      <td>false</td>\n",
       "      <td>false</td>\n",
       "    </tr>\n",
       "    <tr>\n",
       "      <th>1</th>\n",
       "      <td>1</td>\n",
       "      <td>The COVID-19 vaccine is the “deadliest vaccine ever made.”</td>\n",
       "      <td>pants-fire</td>\n",
       "      <td>false</td>\n",
       "    </tr>\n",
       "    <tr>\n",
       "      <th>2</th>\n",
       "      <td>2</td>\n",
       "      <td>Warnings about heart problems and blood clots in cold weather are to cover up COVID-19 vaccine side effects.</td>\n",
       "      <td>false</td>\n",
       "      <td>false</td>\n",
       "    </tr>\n",
       "    <tr>\n",
       "      <th>3</th>\n",
       "      <td>3</td>\n",
       "      <td>\"Canada joins the no jab, no food trend\"</td>\n",
       "      <td>barely-true</td>\n",
       "      <td>misleading</td>\n",
       "    </tr>\n",
       "    <tr>\n",
       "      <th>4</th>\n",
       "      <td>4</td>\n",
       "      <td>The COVID-19 vaccines \"suppress the immune system\" and make people more susceptible to HIV, shingles and herpes.</td>\n",
       "      <td>false</td>\n",
       "      <td>false</td>\n",
       "    </tr>\n",
       "  </tbody>\n",
       "</table>\n",
       "</div>"
      ],
      "text/plain": [
       "   Unnamed: 0  \\\n",
       "0           0   \n",
       "1           1   \n",
       "2           2   \n",
       "3           3   \n",
       "4           4   \n",
       "\n",
       "                                                                                                                                                                                                      claim  \\\n",
       "0  Deaths from vaccines have totaled 1,621 from Johnson & Johnson, 4,799 from Moderna, 13,039 from Pfizer and 73 from unknown vaccines. And this is an undercount because “only 1% of deaths are reported.”   \n",
       "1                                                                                                                                                The COVID-19 vaccine is the “deadliest vaccine ever made.”   \n",
       "2                                                                                              Warnings about heart problems and blood clots in cold weather are to cover up COVID-19 vaccine side effects.   \n",
       "3                                                                                                                                                                  \"Canada joins the no jab, no food trend\"   \n",
       "4                                                                                          The COVID-19 vaccines \"suppress the immune system\" and make people more susceptible to HIV, shingles and herpes.   \n",
       "\n",
       "        rating adjusted rating  \n",
       "0        false           false  \n",
       "1   pants-fire           false  \n",
       "2        false           false  \n",
       "3  barely-true      misleading  \n",
       "4        false           false  "
      ]
     },
     "execution_count": 128,
     "metadata": {},
     "output_type": "execute_result"
    }
   ],
   "source": [
    "justinqbui_2_df.head()"
   ]
  },
  {
   "cell_type": "code",
   "execution_count": 129,
   "metadata": {},
   "outputs": [
    {
     "name": "stdout",
     "output_type": "stream",
     "text": [
      "<class 'pandas.core.frame.DataFrame'>\n",
      "RangeIndex: 1185 entries, 0 to 1184\n",
      "Data columns (total 4 columns):\n",
      " #   Column           Non-Null Count  Dtype \n",
      "---  ------           --------------  ----- \n",
      " 0   Unnamed: 0       1185 non-null   int64 \n",
      " 1   claim            1185 non-null   object\n",
      " 2   rating           1185 non-null   object\n",
      " 3   adjusted rating  1185 non-null   object\n",
      "dtypes: int64(1), object(3)\n",
      "memory usage: 37.2+ KB\n"
     ]
    }
   ],
   "source": [
    "justinqbui_2_df.info()"
   ]
  },
  {
   "cell_type": "code",
   "execution_count": 130,
   "metadata": {},
   "outputs": [
    {
     "data": {
      "text/plain": [
       "<Axes: >"
      ]
     },
     "execution_count": 130,
     "metadata": {},
     "output_type": "execute_result"
    },
    {
     "data": {
      "image/png": "[encoded data removed]",
      "text/plain": [
       "<Figure size 640x480 with 1 Axes>"
      ]
     },
     "metadata": {},
     "output_type": "display_data"
    }
   ],
   "source": [
    "justinqbui_2_df['rating'].hist()"
   ]
  },
  {
   "cell_type": "code",
   "execution_count": 131,
   "metadata": {},
   "outputs": [
    {
     "data": {
      "text/plain": [
       "rating\n",
       "false          608\n",
       "pants-fire     178\n",
       "barely-true    170\n",
       "half-true      100\n",
       "mostly-true     78\n",
       "true            50\n",
       "full-flop        1\n",
       "Name: count, dtype: int64"
      ]
     },
     "execution_count": 131,
     "metadata": {},
     "output_type": "execute_result"
    }
   ],
   "source": [
    "justinqbui_2_df['rating'].value_counts()"
   ]
  },
  {
   "cell_type": "code",
   "execution_count": 132,
   "metadata": {},
   "outputs": [
    {
     "data": {
      "text/plain": [
       "adjusted rating\n",
       "false         787\n",
       "misleading    270\n",
       "true          128\n",
       "Name: count, dtype: int64"
      ]
     },
     "execution_count": 132,
     "metadata": {},
     "output_type": "execute_result"
    }
   ],
   "source": [
    "justinqbui_2_df['adjusted rating'].value_counts()"
   ]
  },
  {
   "cell_type": "markdown",
   "metadata": {},
   "source": [
    "## Объединение"
   ]
  },
  {
   "cell_type": "code",
   "execution_count": 133,
   "metadata": {},
   "outputs": [
    {
     "data": {
      "text/html": [
       "<div>\n",
       "<style scoped>\n",
       "    .dataframe tbody tr th:only-of-type {\n",
       "        vertical-align: middle;\n",
       "    }\n",
       "\n",
       "    .dataframe tbody tr th {\n",
       "        vertical-align: top;\n",
       "    }\n",
       "\n",
       "    .dataframe thead th {\n",
       "        text-align: right;\n",
       "    }\n",
       "</style>\n",
       "<table border=\"1\" class=\"dataframe\">\n",
       "  <thead>\n",
       "    <tr style=\"text-align: right;\">\n",
       "      <th></th>\n",
       "      <th>text</th>\n",
       "      <th>label_idx</th>\n",
       "      <th>original_label_1</th>\n",
       "      <th>source</th>\n",
       "    </tr>\n",
       "  </thead>\n",
       "  <tbody>\n",
       "    <tr>\n",
       "      <th>0</th>\n",
       "      <td>The CDC currently reports 99031 deaths. In general the discrepancies in death counts between different sources are small and explicable. The death toll stands at roughly 100000 people today.</td>\n",
       "      <td>0</td>\n",
       "      <td>real</td>\n",
       "      <td>nanyy1025</td>\n",
       "    </tr>\n",
       "  </tbody>\n",
       "</table>\n",
       "</div>"
      ],
      "text/plain": [
       "                                                                                                                                                                                             text  \\\n",
       "0  The CDC currently reports 99031 deaths. In general the discrepancies in death counts between different sources are small and explicable. The death toll stands at roughly 100000 people today.   \n",
       "\n",
       "   label_idx original_label_1     source  \n",
       "0          0             real  nanyy1025  "
      ]
     },
     "execution_count": 133,
     "metadata": {},
     "output_type": "execute_result"
    }
   ],
   "source": [
    "nanyy1025_df['source'] = 'nanyy1025'\n",
    "nanyy1025_df['original_label_1'] = nanyy1025_df['label']\n",
    "nanyy1025_df['label_idx'] = nanyy1025_df['label'].apply(lambda x: 1 if x == 'fake' else 0)\n",
    "nanyy1025_df = nanyy1025_df[['text', 'label_idx', 'original_label_1', 'source']]\n",
    "nanyy1025_df.head(1)"
   ]
  },
  {
   "cell_type": "code",
   "execution_count": 134,
   "metadata": {},
   "outputs": [
    {
     "data": {
      "text/html": [
       "<div>\n",
       "<style scoped>\n",
       "    .dataframe tbody tr th:only-of-type {\n",
       "        vertical-align: middle;\n",
       "    }\n",
       "\n",
       "    .dataframe tbody tr th {\n",
       "        vertical-align: top;\n",
       "    }\n",
       "\n",
       "    .dataframe thead th {\n",
       "        text-align: right;\n",
       "    }\n",
       "</style>\n",
       "<table border=\"1\" class=\"dataframe\">\n",
       "  <thead>\n",
       "    <tr style=\"text-align: right;\">\n",
       "      <th></th>\n",
       "      <th>text</th>\n",
       "      <th>label_idx</th>\n",
       "      <th>original_label_1</th>\n",
       "      <th>source</th>\n",
       "    </tr>\n",
       "  </thead>\n",
       "  <tbody>\n",
       "    <tr>\n",
       "      <th>0</th>\n",
       "      <td>Study finds 5G technology a ‘significant factor’ in higher COVID case and death rates</td>\n",
       "      <td>1</td>\n",
       "      <td>False</td>\n",
       "      <td>justinqbui_1</td>\n",
       "    </tr>\n",
       "  </tbody>\n",
       "</table>\n",
       "</div>"
      ],
      "text/plain": [
       "                                                                                    text  \\\n",
       "0  Study finds 5G technology a ‘significant factor’ in higher COVID case and death rates   \n",
       "\n",
       "   label_idx  original_label_1        source  \n",
       "0          1             False  justinqbui_1  "
      ]
     },
     "execution_count": 134,
     "metadata": {},
     "output_type": "execute_result"
    }
   ],
   "source": [
    "justinqbui_1_df['source'] = 'justinqbui_1'\n",
    "justinqbui_1_df['original_label_1'] = justinqbui_1_df['label']\n",
    "justinqbui_1_df['label_idx'] = justinqbui_1_df['label'].apply(lambda x: True if x == False else 0).astype(int)\n",
    "justinqbui_1_df = justinqbui_1_df[['text', 'label_idx', 'original_label_1', 'source']]\n",
    "justinqbui_1_df.head(1)"
   ]
  },
  {
   "cell_type": "code",
   "execution_count": 135,
   "metadata": {},
   "outputs": [
    {
     "data": {
      "text/html": [
       "<div>\n",
       "<style scoped>\n",
       "    .dataframe tbody tr th:only-of-type {\n",
       "        vertical-align: middle;\n",
       "    }\n",
       "\n",
       "    .dataframe tbody tr th {\n",
       "        vertical-align: top;\n",
       "    }\n",
       "\n",
       "    .dataframe thead th {\n",
       "        text-align: right;\n",
       "    }\n",
       "</style>\n",
       "<table border=\"1\" class=\"dataframe\">\n",
       "  <thead>\n",
       "    <tr style=\"text-align: right;\">\n",
       "      <th></th>\n",
       "      <th>text</th>\n",
       "      <th>label_idx</th>\n",
       "      <th>original_label_1</th>\n",
       "      <th>original_label_2</th>\n",
       "      <th>source</th>\n",
       "    </tr>\n",
       "  </thead>\n",
       "  <tbody>\n",
       "    <tr>\n",
       "      <th>0</th>\n",
       "      <td>Deaths from vaccines have totaled 1,621 from Johnson &amp; Johnson, 4,799 from Moderna, 13,039 from Pfizer and 73 from unknown vaccines. And this is an undercount because “only 1% of deaths are reported.”</td>\n",
       "      <td>1</td>\n",
       "      <td>false</td>\n",
       "      <td>false</td>\n",
       "      <td>justinqbui_2</td>\n",
       "    </tr>\n",
       "  </tbody>\n",
       "</table>\n",
       "</div>"
      ],
      "text/plain": [
       "                                                                                                                                                                                                       text  \\\n",
       "0  Deaths from vaccines have totaled 1,621 from Johnson & Johnson, 4,799 from Moderna, 13,039 from Pfizer and 73 from unknown vaccines. And this is an undercount because “only 1% of deaths are reported.”   \n",
       "\n",
       "   label_idx original_label_1 original_label_2        source  \n",
       "0          1            false            false  justinqbui_2  "
      ]
     },
     "execution_count": 135,
     "metadata": {},
     "output_type": "execute_result"
    }
   ],
   "source": [
    "justinqbui_2_df['source'] = 'justinqbui_2'\n",
    "justinqbui_2_df['original_label_1'] = justinqbui_2_df['rating']\n",
    "justinqbui_2_df['original_label_2'] = justinqbui_2_df['adjusted rating']\n",
    "\n",
    "justinqbui_2_df['label_idx'] = justinqbui_2_df['adjusted rating'].apply(lambda x: 1 if x == 'false' else 0)\n",
    "\n",
    "justinqbui_2_df = justinqbui_2_df[['claim', 'label_idx', 'original_label_1', 'original_label_2', 'source']]\n",
    "justinqbui_2_df.rename(columns={'claim': 'text'}, inplace=True)\n",
    "justinqbui_2_df.head(1)"
   ]
  },
  {
   "cell_type": "code",
   "execution_count": 136,
   "metadata": {},
   "outputs": [],
   "source": [
    "combined_df = pd.concat([nanyy1025_df, justinqbui_1_df, justinqbui_2_df], ignore_index=True)"
   ]
  },
  {
   "cell_type": "code",
   "execution_count": 137,
   "metadata": {},
   "outputs": [
    {
     "data": {
      "text/html": [
       "<div>\n",
       "<style scoped>\n",
       "    .dataframe tbody tr th:only-of-type {\n",
       "        vertical-align: middle;\n",
       "    }\n",
       "\n",
       "    .dataframe tbody tr th {\n",
       "        vertical-align: top;\n",
       "    }\n",
       "\n",
       "    .dataframe thead th {\n",
       "        text-align: right;\n",
       "    }\n",
       "</style>\n",
       "<table border=\"1\" class=\"dataframe\">\n",
       "  <thead>\n",
       "    <tr style=\"text-align: right;\">\n",
       "      <th></th>\n",
       "      <th>text</th>\n",
       "      <th>label_idx</th>\n",
       "      <th>original_label_1</th>\n",
       "      <th>source</th>\n",
       "      <th>original_label_2</th>\n",
       "    </tr>\n",
       "  </thead>\n",
       "  <tbody>\n",
       "    <tr>\n",
       "      <th>3217</th>\n",
       "      <td>Chinese pet owners are killing their cats and dogs by throwing them out of the window, in fear of their pets spreading the coronavirus. This comes after memos were issued by authorities for pet owners to get rid of their animals.</td>\n",
       "      <td>1</td>\n",
       "      <td>fake</td>\n",
       "      <td>nanyy1025</td>\n",
       "      <td>NaN</td>\n",
       "    </tr>\n",
       "    <tr>\n",
       "      <th>2974</th>\n",
       "      <td>Sign up for our newsletter to get updates from The COVID Tracking Project and opportunities to take action for better data: https://t.co/aaJlWd6YUZ</td>\n",
       "      <td>0</td>\n",
       "      <td>real</td>\n",
       "      <td>nanyy1025</td>\n",
       "      <td>NaN</td>\n",
       "    </tr>\n",
       "    <tr>\n",
       "      <th>14110</th>\n",
       "      <td>“There is no discernible difference between the spread and deaths of COVID in Virginia than there is in Florida.”</td>\n",
       "      <td>1</td>\n",
       "      <td>false</td>\n",
       "      <td>justinqbui_2</td>\n",
       "      <td>false</td>\n",
       "    </tr>\n",
       "    <tr>\n",
       "      <th>2437</th>\n",
       "      <td>Says Kamala Harris wants to eliminate beef.</td>\n",
       "      <td>1</td>\n",
       "      <td>fake</td>\n",
       "      <td>nanyy1025</td>\n",
       "      <td>NaN</td>\n",
       "    </tr>\n",
       "    <tr>\n",
       "      <th>5074</th>\n",
       "      <td>3⃣We must move heaven &amp;amp; earth to ensure equitable access to diagnostics therapeutics &amp;amp; vaccines. We continue to call on all countries to use every tool at their disposal to suppress #COVID19 transmission &amp;amp; save lives until &amp;amp; after we have a vaccine-@DrTedros #UNGA #UN75</td>\n",
       "      <td>0</td>\n",
       "      <td>real</td>\n",
       "      <td>nanyy1025</td>\n",
       "      <td>NaN</td>\n",
       "    </tr>\n",
       "  </tbody>\n",
       "</table>\n",
       "</div>"
      ],
      "text/plain": [
       "                                                                                                                                                                                                                                                                                                 text  \\\n",
       "3217                                                            Chinese pet owners are killing their cats and dogs by throwing them out of the window, in fear of their pets spreading the coronavirus. This comes after memos were issued by authorities for pet owners to get rid of their animals.   \n",
       "2974                                                                                                                                              Sign up for our newsletter to get updates from The COVID Tracking Project and opportunities to take action for better data: https://t.co/aaJlWd6YUZ   \n",
       "14110                                                                                                                                                                               “There is no discernible difference between the spread and deaths of COVID in Virginia than there is in Florida.”   \n",
       "2437                                                                                                                                                                                                                                                      Says Kamala Harris wants to eliminate beef.   \n",
       "5074   3⃣We must move heaven &amp; earth to ensure equitable access to diagnostics therapeutics &amp; vaccines. We continue to call on all countries to use every tool at their disposal to suppress #COVID19 transmission &amp; save lives until &amp; after we have a vaccine-@DrTedros #UNGA #UN75   \n",
       "\n",
       "       label_idx original_label_1        source original_label_2  \n",
       "3217           1             fake     nanyy1025              NaN  \n",
       "2974           0             real     nanyy1025              NaN  \n",
       "14110          1            false  justinqbui_2            false  \n",
       "2437           1             fake     nanyy1025              NaN  \n",
       "5074           0             real     nanyy1025              NaN  "
      ]
     },
     "execution_count": 137,
     "metadata": {},
     "output_type": "execute_result"
    }
   ],
   "source": [
    "combined_df.sample(5)"
   ]
  },
  {
   "cell_type": "code",
   "execution_count": 138,
   "metadata": {},
   "outputs": [
    {
     "name": "stdout",
     "output_type": "stream",
     "text": [
      "<class 'pandas.core.frame.DataFrame'>\n",
      "RangeIndex: 14928 entries, 0 to 14927\n",
      "Data columns (total 5 columns):\n",
      " #   Column            Non-Null Count  Dtype \n",
      "---  ------            --------------  ----- \n",
      " 0   text              14928 non-null  object\n",
      " 1   label_idx         14928 non-null  int64 \n",
      " 2   original_label_1  14928 non-null  object\n",
      " 3   source            14928 non-null  object\n",
      " 4   original_label_2  1185 non-null   object\n",
      "dtypes: int64(1), object(4)\n",
      "memory usage: 583.3+ KB\n"
     ]
    }
   ],
   "source": [
    "combined_df.info()"
   ]
  },
  {
   "cell_type": "code",
   "execution_count": 139,
   "metadata": {},
   "outputs": [
    {
     "data": {
      "text/plain": [
       "original_label_1\n",
       "real           5600\n",
       "fake           5100\n",
       "False          2929\n",
       "false           608\n",
       "pants-fire      178\n",
       "barely-true     170\n",
       "True            114\n",
       "half-true       100\n",
       "mostly-true      78\n",
       "true             50\n",
       "full-flop         1\n",
       "Name: count, dtype: int64"
      ]
     },
     "execution_count": 139,
     "metadata": {},
     "output_type": "execute_result"
    }
   ],
   "source": [
    "combined_df['original_label_1'].value_counts()"
   ]
  },
  {
   "cell_type": "code",
   "execution_count": 140,
   "metadata": {},
   "outputs": [
    {
     "data": {
      "text/plain": [
       "label_idx\n",
       "1    8816\n",
       "0    6112\n",
       "Name: count, dtype: int64"
      ]
     },
     "execution_count": 140,
     "metadata": {},
     "output_type": "execute_result"
    }
   ],
   "source": [
    "combined_df['label_idx'].value_counts()"
   ]
  },
  {
   "cell_type": "markdown",
   "metadata": {},
   "source": [
    "## Синтетика данных"
   ]
  },
  {
   "cell_type": "code",
   "execution_count": 141,
   "metadata": {},
   "outputs": [],
   "source": [
    "negative_file = DATA_SYNTHETIC / 'negative_text.txt'\n",
    "positive_file = DATA_SYNTHETIC / 'positive_text.txt'\n",
    "\n",
    "def create_dataframe_from_file(file_path: Path, label_idx: int) -> pd.DataFrame:\n",
    "    data = []\n",
    "    with file_path.open('r', encoding='utf-8') as f:\n",
    "        for line in f:\n",
    "            line = line.strip()\n",
    "            if line:\n",
    "                data.append({'text': line, 'label_idx': label_idx})\n",
    "    \n",
    "    return pd.DataFrame(data)\n",
    "\n",
    "negative_df = create_dataframe_from_file(negative_file, label_idx=1)\n",
    "positive_df = create_dataframe_from_file(positive_file, label_idx=0)\n",
    "\n",
    "synthetic_df = pd.concat([negative_df, positive_df], ignore_index=True)"
   ]
  },
  {
   "cell_type": "code",
   "execution_count": 142,
   "metadata": {},
   "outputs": [
    {
     "name": "stdout",
     "output_type": "stream",
     "text": [
      "<class 'pandas.core.frame.DataFrame'>\n",
      "RangeIndex: 1344 entries, 0 to 1343\n",
      "Data columns (total 2 columns):\n",
      " #   Column     Non-Null Count  Dtype \n",
      "---  ------     --------------  ----- \n",
      " 0   text       1344 non-null   object\n",
      " 1   label_idx  1344 non-null   int64 \n",
      "dtypes: int64(1), object(1)\n",
      "memory usage: 21.1+ KB\n"
     ]
    }
   ],
   "source": [
    "synthetic_df.info()"
   ]
  },
  {
   "cell_type": "code",
   "execution_count": 143,
   "metadata": {},
   "outputs": [
    {
     "data": {
      "text/html": [
       "<div>\n",
       "<style scoped>\n",
       "    .dataframe tbody tr th:only-of-type {\n",
       "        vertical-align: middle;\n",
       "    }\n",
       "\n",
       "    .dataframe tbody tr th {\n",
       "        vertical-align: top;\n",
       "    }\n",
       "\n",
       "    .dataframe thead th {\n",
       "        text-align: right;\n",
       "    }\n",
       "</style>\n",
       "<table border=\"1\" class=\"dataframe\">\n",
       "  <thead>\n",
       "    <tr style=\"text-align: right;\">\n",
       "      <th></th>\n",
       "      <th>text</th>\n",
       "      <th>label_idx</th>\n",
       "    </tr>\n",
       "  </thead>\n",
       "  <tbody>\n",
       "    <tr>\n",
       "      <th>24</th>\n",
       "      <td>The virus was created to reduce the global population.</td>\n",
       "      <td>1</td>\n",
       "    </tr>\n",
       "    <tr>\n",
       "      <th>1099</th>\n",
       "      <td>Some vaccines, like the flu shot, can cause mild flu-like symptoms as a side effect. These are not the same as getting the flu itself. The vaccine cannot cause the illness it is designed to prevent.</td>\n",
       "      <td>0</td>\n",
       "    </tr>\n",
       "    <tr>\n",
       "      <th>682</th>\n",
       "      <td>Holding a coin in your hand while receiving the vaccine boosts its absorption rate.</td>\n",
       "      <td>1</td>\n",
       "    </tr>\n",
       "    <tr>\n",
       "      <th>752</th>\n",
       "      <td>Vaccines suppress your natural immune system, making you more dependent on future booster shots. This is why vaccinated people still get sick just as often as those who aren’t. It’s all part of a cycle to keep you buying more vaccines.</td>\n",
       "      <td>1</td>\n",
       "    </tr>\n",
       "    <tr>\n",
       "      <th>623</th>\n",
       "      <td>Vaccines can improve your handwriting if taken while holding a pen.</td>\n",
       "      <td>1</td>\n",
       "    </tr>\n",
       "  </tbody>\n",
       "</table>\n",
       "</div>"
      ],
      "text/plain": [
       "                                                                                                                                                                                                                                             text  \\\n",
       "24                                                                                                                                                                                         The virus was created to reduce the global population.   \n",
       "1099                                       Some vaccines, like the flu shot, can cause mild flu-like symptoms as a side effect. These are not the same as getting the flu itself. The vaccine cannot cause the illness it is designed to prevent.   \n",
       "682                                                                                                                                                           Holding a coin in your hand while receiving the vaccine boosts its absorption rate.   \n",
       "752   Vaccines suppress your natural immune system, making you more dependent on future booster shots. This is why vaccinated people still get sick just as often as those who aren’t. It’s all part of a cycle to keep you buying more vaccines.   \n",
       "623                                                                                                                                                                           Vaccines can improve your handwriting if taken while holding a pen.   \n",
       "\n",
       "      label_idx  \n",
       "24            1  \n",
       "1099          0  \n",
       "682           1  \n",
       "752           1  \n",
       "623           1  "
      ]
     },
     "execution_count": 143,
     "metadata": {},
     "output_type": "execute_result"
    }
   ],
   "source": [
    "synthetic_df.sample(5)"
   ]
  },
  {
   "cell_type": "markdown",
   "metadata": {},
   "source": [
    "## Комментарии"
   ]
  },
  {
   "cell_type": "code",
   "execution_count": null,
   "metadata": {},
   "outputs": [],
   "source": []
  },
  {
   "cell_type": "code",
   "execution_count": 144,
   "metadata": {},
   "outputs": [],
   "source": [
    "from datasets import load_dataset\n",
    "import pandas as pd\n",
    "\n",
    "def load_reddit_dataset(dataset_name=\"beenakurian/reddit_comments_subreddit_canada\", cache_dir=None) -> pd.DataFrame:\n",
    "    dataset = load_dataset(dataset_name, cache_dir=cache_dir)\n",
    "    df = dataset['train'].to_pandas()\n",
    "    df.rename(columns={'comment': 'text'}, inplace=True)    \n",
    "    df['original_label_1'] = df['sentiment']\n",
    "    df['label_idx'] = 2  \n",
    "    df['source'] = 'reddit_canada'\n",
    "    return df[['text', 'label_idx', 'original_label_1', 'source']]\n",
    "\n",
    "def load_toxic_comments_dataset(dataset_name=\"AiresPucrs/toxic-comments\", cache_dir=None) -> pd.DataFrame:\n",
    "    dataset = load_dataset(dataset_name, cache_dir=cache_dir)\n",
    "    df = dataset['train'].to_pandas()\n",
    "    df.rename(columns={'comment_text': 'text'}, inplace=True)\n",
    "    df['original_label_1'] = df['toxic']\n",
    "    df['label_idx'] = 2\n",
    "    df['source'] = 'toxic_comments'\n",
    "    return df[['text', 'label_idx', 'original_label_1', 'source']]\n"
   ]
  },
  {
   "cell_type": "code",
   "execution_count": 145,
   "metadata": {},
   "outputs": [],
   "source": [
    "reddit_df = load_reddit_dataset(cache_dir=DATA_CACHE)\n",
    "toxic_df = load_toxic_comments_dataset(cache_dir=DATA_CACHE)"
   ]
  },
  {
   "cell_type": "code",
   "execution_count": 146,
   "metadata": {},
   "outputs": [],
   "source": [
    "toxic_df_sample = toxic_df.sample(10000)"
   ]
  },
  {
   "cell_type": "code",
   "execution_count": 147,
   "metadata": {},
   "outputs": [
    {
     "data": {
      "text/html": [
       "<div>\n",
       "<style scoped>\n",
       "    .dataframe tbody tr th:only-of-type {\n",
       "        vertical-align: middle;\n",
       "    }\n",
       "\n",
       "    .dataframe tbody tr th {\n",
       "        vertical-align: top;\n",
       "    }\n",
       "\n",
       "    .dataframe thead th {\n",
       "        text-align: right;\n",
       "    }\n",
       "</style>\n",
       "<table border=\"1\" class=\"dataframe\">\n",
       "  <thead>\n",
       "    <tr style=\"text-align: right;\">\n",
       "      <th></th>\n",
       "      <th>text</th>\n",
       "      <th>label_idx</th>\n",
       "      <th>original_label_1</th>\n",
       "      <th>source</th>\n",
       "    </tr>\n",
       "  </thead>\n",
       "  <tbody>\n",
       "    <tr>\n",
       "      <th>61682</th>\n",
       "      <td>neither mum sex</td>\n",
       "      <td>2</td>\n",
       "      <td>0</td>\n",
       "      <td>toxic_comments</td>\n",
       "    </tr>\n",
       "    <tr>\n",
       "      <th>264</th>\n",
       "      <td>currently blocked editing unable add tag however take picture</td>\n",
       "      <td>2</td>\n",
       "      <td>1</td>\n",
       "      <td>toxic_comments</td>\n",
       "    </tr>\n",
       "    <tr>\n",
       "      <th>51081</th>\n",
       "      <td>fucking cunt please stop existing</td>\n",
       "      <td>2</td>\n",
       "      <td>0</td>\n",
       "      <td>toxic_comments</td>\n",
       "    </tr>\n",
       "    <tr>\n",
       "      <th>6642</th>\n",
       "      <td>hyperlinks removed</td>\n",
       "      <td>2</td>\n",
       "      <td>1</td>\n",
       "      <td>toxic_comments</td>\n",
       "    </tr>\n",
       "    <tr>\n",
       "      <th>9860</th>\n",
       "      <td>january</td>\n",
       "      <td>2</td>\n",
       "      <td>1</td>\n",
       "      <td>toxic_comments</td>\n",
       "    </tr>\n",
       "  </tbody>\n",
       "</table>\n",
       "</div>"
      ],
      "text/plain": [
       "                                                                text  \\\n",
       "61682                                                neither mum sex   \n",
       "264    currently blocked editing unable add tag however take picture   \n",
       "51081                              fucking cunt please stop existing   \n",
       "6642                                              hyperlinks removed   \n",
       "9860                                                         january   \n",
       "\n",
       "       label_idx  original_label_1          source  \n",
       "61682          2                 0  toxic_comments  \n",
       "264            2                 1  toxic_comments  \n",
       "51081          2                 0  toxic_comments  \n",
       "6642           2                 1  toxic_comments  \n",
       "9860           2                 1  toxic_comments  "
      ]
     },
     "execution_count": 147,
     "metadata": {},
     "output_type": "execute_result"
    }
   ],
   "source": [
    "toxic_df_sample.sample(5)"
   ]
  },
  {
   "cell_type": "markdown",
   "metadata": {},
   "source": [
    "# Общий датафрейм"
   ]
  },
  {
   "cell_type": "code",
   "execution_count": 148,
   "metadata": {},
   "outputs": [],
   "source": [
    "synthetic_df['source'] = 'synthetic'\n",
    "final_df = pd.concat([combined_df, synthetic_df, reddit_df, toxic_df_sample], ignore_index=True)\n",
    "final_df.to_excel(DATA_PATH / 'covid_vaccine_fake.xlsx', index=False)"
   ]
  },
  {
   "cell_type": "code",
   "execution_count": 149,
   "metadata": {},
   "outputs": [],
   "source": [
    "idx2label = {\n",
    "    0: \"Real\",\n",
    "    1: \"Fake\",\n",
    "    2: \"Comments\"\n",
    "}\n",
    "\n",
    "final_df['label_str'] = final_df['label_idx'].map(idx2label)"
   ]
  },
  {
   "cell_type": "code",
   "execution_count": 150,
   "metadata": {},
   "outputs": [
    {
     "data": {
      "text/plain": [
       "label_str\n",
       "Comments    16908\n",
       "Fake         9665\n",
       "Real         6607\n",
       "Name: count, dtype: int64"
      ]
     },
     "execution_count": 150,
     "metadata": {},
     "output_type": "execute_result"
    }
   ],
   "source": [
    "final_df['label_str'].value_counts()"
   ]
  },
  {
   "cell_type": "code",
   "execution_count": 151,
   "metadata": {},
   "outputs": [
    {
     "data": {
      "text/html": [
       "<div>\n",
       "<style scoped>\n",
       "    .dataframe tbody tr th:only-of-type {\n",
       "        vertical-align: middle;\n",
       "    }\n",
       "\n",
       "    .dataframe tbody tr th {\n",
       "        vertical-align: top;\n",
       "    }\n",
       "\n",
       "    .dataframe thead th {\n",
       "        text-align: right;\n",
       "    }\n",
       "</style>\n",
       "<table border=\"1\" class=\"dataframe\">\n",
       "  <thead>\n",
       "    <tr style=\"text-align: right;\">\n",
       "      <th></th>\n",
       "      <th>text</th>\n",
       "      <th>label_idx</th>\n",
       "      <th>original_label_1</th>\n",
       "      <th>source</th>\n",
       "      <th>original_label_2</th>\n",
       "      <th>label_str</th>\n",
       "    </tr>\n",
       "  </thead>\n",
       "  <tbody>\n",
       "    <tr>\n",
       "      <th>27560</th>\n",
       "      <td>still disputed several sections article added iskapoo vikramsingh regularly removed censored itaqallah others article still dispute please remove tag disputes involving article resolved wish know dispute read talk page find long discussion realize recent inactivity due several persons including iskapoo vikramsingh giving hope maintaining balanced viewpoint due constant censorship itaqallah others sure understand tags put clearly controversial unsourced content article alludes looks like heap...</td>\n",
       "      <td>2</td>\n",
       "      <td>1</td>\n",
       "      <td>toxic_comments</td>\n",
       "      <td>NaN</td>\n",
       "      <td>Comments</td>\n",
       "    </tr>\n",
       "    <tr>\n",
       "      <th>13112</th>\n",
       "      <td>Relevant information on Ghana’s coronavirus official website wiped off</td>\n",
       "      <td>0</td>\n",
       "      <td>True</td>\n",
       "      <td>justinqbui_1</td>\n",
       "      <td>NaN</td>\n",
       "      <td>Real</td>\n",
       "    </tr>\n",
       "    <tr>\n",
       "      <th>3956</th>\n",
       "      <td>In the last 2 weeks of July 97K U.S. children tested positive for COVID +40%. While some students head back to the classroom other students log on for virtual learning due to new infections among students and teachers. Read more: https://t.co/wsnM1MYoC2</td>\n",
       "      <td>0</td>\n",
       "      <td>real</td>\n",
       "      <td>nanyy1025</td>\n",
       "      <td>NaN</td>\n",
       "      <td>Real</td>\n",
       "    </tr>\n",
       "    <tr>\n",
       "      <th>15728</th>\n",
       "      <td>Getting vaccinated weakens your immune system permanently.</td>\n",
       "      <td>1</td>\n",
       "      <td>NaN</td>\n",
       "      <td>synthetic</td>\n",
       "      <td>NaN</td>\n",
       "      <td>Fake</td>\n",
       "    </tr>\n",
       "    <tr>\n",
       "      <th>7392</th>\n",
       "      <td>_A WhatsApp a video features Rabbi Dan Ben Avraham International President of the Netzarita AMI Alliance according to their Twitter. In the video the rabbi says \"the Israeli Minister of Health has officially declared that Israel has the coronavirus vaccine.\" And \"Israel has the vaccine already.\"_</td>\n",
       "      <td>1</td>\n",
       "      <td>fake</td>\n",
       "      <td>nanyy1025</td>\n",
       "      <td>NaN</td>\n",
       "      <td>Fake</td>\n",
       "    </tr>\n",
       "    <tr>\n",
       "      <th>3021</th>\n",
       "      <td>The Washington Post has published an editorial whose title is \"Either wild capitalism dies or civilization dies.\"</td>\n",
       "      <td>1</td>\n",
       "      <td>fake</td>\n",
       "      <td>nanyy1025</td>\n",
       "      <td>NaN</td>\n",
       "      <td>Fake</td>\n",
       "    </tr>\n",
       "    <tr>\n",
       "      <th>32830</th>\n",
       "      <td>natalya russian one freckle girl remove like say well stuck head little skunk hole little skunk said well bless soul take take take remove well take little skunk said take wish take take take remove psssssss removed late worthy mighty encyclopedia like indeed</td>\n",
       "      <td>2</td>\n",
       "      <td>0</td>\n",
       "      <td>toxic_comments</td>\n",
       "      <td>NaN</td>\n",
       "      <td>Comments</td>\n",
       "    </tr>\n",
       "    <tr>\n",
       "      <th>12774</th>\n",
       "      <td>France has announced a ban on Africans traveling to Europe if they refuse the European vaccine for COVID-19.</td>\n",
       "      <td>1</td>\n",
       "      <td>False</td>\n",
       "      <td>justinqbui_1</td>\n",
       "      <td>NaN</td>\n",
       "      <td>Fake</td>\n",
       "    </tr>\n",
       "    <tr>\n",
       "      <th>31741</th>\n",
       "      <td>decline niggers jews bad news also cock hard time rape lol</td>\n",
       "      <td>2</td>\n",
       "      <td>0</td>\n",
       "      <td>toxic_comments</td>\n",
       "      <td>NaN</td>\n",
       "      <td>Comments</td>\n",
       "    </tr>\n",
       "    <tr>\n",
       "      <th>15656</th>\n",
       "      <td>Vaccines are less effective in people who don’t get enough sunlight. Vitamin D plays a critical role in supporting immunity. Spend at least 15 minutes outdoors daily before your appointment.</td>\n",
       "      <td>1</td>\n",
       "      <td>NaN</td>\n",
       "      <td>synthetic</td>\n",
       "      <td>NaN</td>\n",
       "      <td>Fake</td>\n",
       "    </tr>\n",
       "  </tbody>\n",
       "</table>\n",
       "</div>"
      ],
      "text/plain": [
       "                                                                                                                                                                                                                                                                                                                                                                                                                                                                                                                      text  \\\n",
       "27560  still disputed several sections article added iskapoo vikramsingh regularly removed censored itaqallah others article still dispute please remove tag disputes involving article resolved wish know dispute read talk page find long discussion realize recent inactivity due several persons including iskapoo vikramsingh giving hope maintaining balanced viewpoint due constant censorship itaqallah others sure understand tags put clearly controversial unsourced content article alludes looks like heap...   \n",
       "13112                                                                                                                                                                                                                                                                                                                                                                                                                                               Relevant information on Ghana’s coronavirus official website wiped off   \n",
       "3956                                                                                                                                                                                                                                                         In the last 2 weeks of July 97K U.S. children tested positive for COVID +40%. While some students head back to the classroom other students log on for virtual learning due to new infections among students and teachers. Read more: https://t.co/wsnM1MYoC2   \n",
       "15728                                                                                                                                                                                                                                                                                                                                                                                                                                                           Getting vaccinated weakens your immune system permanently.   \n",
       "7392                                                                                                                                                                                                             _A WhatsApp a video features Rabbi Dan Ben Avraham International President of the Netzarita AMI Alliance according to their Twitter. In the video the rabbi says \"the Israeli Minister of Health has officially declared that Israel has the coronavirus vaccine.\" And \"Israel has the vaccine already.\"_   \n",
       "3021                                                                                                                                                                                                                                                                                                                                                                                                     The Washington Post has published an editorial whose title is \"Either wild capitalism dies or civilization dies.\"   \n",
       "32830                                                                                                                                                                                                                                                  natalya russian one freckle girl remove like say well stuck head little skunk hole little skunk said well bless soul take take take remove well take little skunk said take wish take take take remove psssssss removed late worthy mighty encyclopedia like indeed   \n",
       "12774                                                                                                                                                                                                                                                                                                                                                                                                         France has announced a ban on Africans traveling to Europe if they refuse the European vaccine for COVID-19.   \n",
       "31741                                                                                                                                                                                                                                                                                                                                                                                                                                                           decline niggers jews bad news also cock hard time rape lol   \n",
       "15656                                                                                                                                                                                                                                                                                                                       Vaccines are less effective in people who don’t get enough sunlight. Vitamin D plays a critical role in supporting immunity. Spend at least 15 minutes outdoors daily before your appointment.   \n",
       "\n",
       "       label_idx original_label_1          source original_label_2 label_str  \n",
       "27560          2                1  toxic_comments              NaN  Comments  \n",
       "13112          0             True    justinqbui_1              NaN      Real  \n",
       "3956           0             real       nanyy1025              NaN      Real  \n",
       "15728          1              NaN       synthetic              NaN      Fake  \n",
       "7392           1             fake       nanyy1025              NaN      Fake  \n",
       "3021           1             fake       nanyy1025              NaN      Fake  \n",
       "32830          2                0  toxic_comments              NaN  Comments  \n",
       "12774          1            False    justinqbui_1              NaN      Fake  \n",
       "31741          2                0  toxic_comments              NaN  Comments  \n",
       "15656          1              NaN       synthetic              NaN      Fake  "
      ]
     },
     "execution_count": 151,
     "metadata": {},
     "output_type": "execute_result"
    }
   ],
   "source": [
    "final_df.sample(10)"
   ]
  },
  {
   "cell_type": "code",
   "execution_count": 152,
   "metadata": {},
   "outputs": [],
   "source": [
    "import re\n",
    "\n",
    "def clean_text(text):\n",
    "    text = re.sub(r'#\\S+', '', text)  # Удаление хэштегов\n",
    "    text = re.sub(r'@\\S+', '', text)  # Удаление упоминаний\n",
    "    text = re.sub(r'http\\S+|www\\.\\S+', '', text)  # Удаление ссылок\n",
    "    return text.strip()  # Удаление лишних пробелов\n",
    "\n",
    "final_df['text'] = final_df['text'].apply(clean_text)"
   ]
  },
  {
   "cell_type": "code",
   "execution_count": 153,
   "metadata": {},
   "outputs": [
    {
     "data": {
      "text/html": [
       "<div>\n",
       "<style scoped>\n",
       "    .dataframe tbody tr th:only-of-type {\n",
       "        vertical-align: middle;\n",
       "    }\n",
       "\n",
       "    .dataframe tbody tr th {\n",
       "        vertical-align: top;\n",
       "    }\n",
       "\n",
       "    .dataframe thead th {\n",
       "        text-align: right;\n",
       "    }\n",
       "</style>\n",
       "<table border=\"1\" class=\"dataframe\">\n",
       "  <thead>\n",
       "    <tr style=\"text-align: right;\">\n",
       "      <th></th>\n",
       "      <th>text</th>\n",
       "      <th>label_idx</th>\n",
       "      <th>original_label_1</th>\n",
       "      <th>source</th>\n",
       "      <th>original_label_2</th>\n",
       "      <th>label_str</th>\n",
       "    </tr>\n",
       "  </thead>\n",
       "  <tbody>\n",
       "    <tr>\n",
       "      <th>17500</th>\n",
       "      <td>id like to see some credible evidence of that being the case</td>\n",
       "      <td>2</td>\n",
       "      <td>NEU</td>\n",
       "      <td>reddit_canada</td>\n",
       "      <td>NaN</td>\n",
       "      <td>Comments</td>\n",
       "    </tr>\n",
       "    <tr>\n",
       "      <th>5660</th>\n",
       "      <td>Bharat Biotech’s COVID-19 vaccine will be available in the market from 15 August, according to a letter from ICMR about fast-tracking the clinical trials of the vaccine.</td>\n",
       "      <td>1</td>\n",
       "      <td>fake</td>\n",
       "      <td>nanyy1025</td>\n",
       "      <td>NaN</td>\n",
       "      <td>Fake</td>\n",
       "    </tr>\n",
       "    <tr>\n",
       "      <th>22396</th>\n",
       "      <td>did any of them feel that simply mentioning that he used to be a young liberal broke any sort of convention</td>\n",
       "      <td>2</td>\n",
       "      <td>NEU</td>\n",
       "      <td>reddit_canada</td>\n",
       "      <td>NaN</td>\n",
       "      <td>Comments</td>\n",
       "    </tr>\n",
       "    <tr>\n",
       "      <th>2144</th>\n",
       "      <td>You’re buying a false story. My mom is in a nursing home, stage 4 dementia, lifelong asthma. She had COVID with no symptoms. You want to know why? She has taken vitamin D for 20 years. There is a 99.8% survival rate. Wake up and take off the damn masks already.</td>\n",
       "      <td>1</td>\n",
       "      <td>fake</td>\n",
       "      <td>nanyy1025</td>\n",
       "      <td>NaN</td>\n",
       "      <td>Fake</td>\n",
       "    </tr>\n",
       "    <tr>\n",
       "      <th>3130</th>\n",
       "      <td>Just stop it. And enjoy pain for next 30 days. Make a tick on calendar after every day. And when you feel urge, postpone for 10 min. \\nBefore that, just throw away all packets in garbage. Corona is excuse enough to not visit shops to get them for safety of your near ones.</td>\n",
       "      <td>1</td>\n",
       "      <td>fake</td>\n",
       "      <td>nanyy1025</td>\n",
       "      <td>NaN</td>\n",
       "      <td>Fake</td>\n",
       "    </tr>\n",
       "    <tr>\n",
       "      <th>49</th>\n",
       "      <td>Scientists at AstraZeneca complain their work on a coronavirus vaccine keeps being delayed by Noddy Holder ringing up to ask if it will be ready by Christmas</td>\n",
       "      <td>1</td>\n",
       "      <td>fake</td>\n",
       "      <td>nanyy1025</td>\n",
       "      <td>NaN</td>\n",
       "      <td>Fake</td>\n",
       "    </tr>\n",
       "    <tr>\n",
       "      <th>10262</th>\n",
       "      <td>📢 ✅India's  recovery rate improves to 77.77% as on September 12 2020 📍Steady improvement in India's COVID-19 recovery rate since  initiation on March 25 2020   Via</td>\n",
       "      <td>0</td>\n",
       "      <td>real</td>\n",
       "      <td>nanyy1025</td>\n",
       "      <td>NaN</td>\n",
       "      <td>Real</td>\n",
       "    </tr>\n",
       "    <tr>\n",
       "      <th>24791</th>\n",
       "      <td>wikipedia meetup birmingham_ live brum thought let know meetup planned great interested joined discussion anyway enjoying adminship parkin</td>\n",
       "      <td>2</td>\n",
       "      <td>1</td>\n",
       "      <td>toxic_comments</td>\n",
       "      <td>NaN</td>\n",
       "      <td>Comments</td>\n",
       "    </tr>\n",
       "    <tr>\n",
       "      <th>13699</th>\n",
       "      <td>Says the 2019 coronavirus \"causes sudden death syndrome.\"</td>\n",
       "      <td>1</td>\n",
       "      <td>False</td>\n",
       "      <td>justinqbui_1</td>\n",
       "      <td>NaN</td>\n",
       "      <td>Fake</td>\n",
       "    </tr>\n",
       "    <tr>\n",
       "      <th>32381</th>\n",
       "      <td>hahaha dont actually believe bullshit telling right talking access country representatives government kim jong two totally different things although could understand stupidity since north koreans think kim jong governement saying troll somewhere else kid</td>\n",
       "      <td>2</td>\n",
       "      <td>0</td>\n",
       "      <td>toxic_comments</td>\n",
       "      <td>NaN</td>\n",
       "      <td>Comments</td>\n",
       "    </tr>\n",
       "  </tbody>\n",
       "</table>\n",
       "</div>"
      ],
      "text/plain": [
       "                                                                                                                                                                                                                                                                                   text  \\\n",
       "17500                                                                                                                                                                                                                      id like to see some credible evidence of that being the case   \n",
       "5660                                                                                                          Bharat Biotech’s COVID-19 vaccine will be available in the market from 15 August, according to a letter from ICMR about fast-tracking the clinical trials of the vaccine.   \n",
       "22396                                                                                                                                                                       did any of them feel that simply mentioning that he used to be a young liberal broke any sort of convention   \n",
       "2144              You’re buying a false story. My mom is in a nursing home, stage 4 dementia, lifelong asthma. She had COVID with no symptoms. You want to know why? She has taken vitamin D for 20 years. There is a 99.8% survival rate. Wake up and take off the damn masks already.   \n",
       "3130   Just stop it. And enjoy pain for next 30 days. Make a tick on calendar after every day. And when you feel urge, postpone for 10 min. \\nBefore that, just throw away all packets in garbage. Corona is excuse enough to not visit shops to get them for safety of your near ones.   \n",
       "49                                                                                                                        Scientists at AstraZeneca complain their work on a coronavirus vaccine keeps being delayed by Noddy Holder ringing up to ask if it will be ready by Christmas   \n",
       "10262                                                                                                               📢 ✅India's  recovery rate improves to 77.77% as on September 12 2020 📍Steady improvement in India's COVID-19 recovery rate since  initiation on March 25 2020   Via   \n",
       "24791                                                                                                                                        wikipedia meetup birmingham_ live brum thought let know meetup planned great interested joined discussion anyway enjoying adminship parkin   \n",
       "13699                                                                                                                                                                                                                         Says the 2019 coronavirus \"causes sudden death syndrome.\"   \n",
       "32381                    hahaha dont actually believe bullshit telling right talking access country representatives government kim jong two totally different things although could understand stupidity since north koreans think kim jong governement saying troll somewhere else kid   \n",
       "\n",
       "       label_idx original_label_1          source original_label_2 label_str  \n",
       "17500          2              NEU   reddit_canada              NaN  Comments  \n",
       "5660           1             fake       nanyy1025              NaN      Fake  \n",
       "22396          2              NEU   reddit_canada              NaN  Comments  \n",
       "2144           1             fake       nanyy1025              NaN      Fake  \n",
       "3130           1             fake       nanyy1025              NaN      Fake  \n",
       "49             1             fake       nanyy1025              NaN      Fake  \n",
       "10262          0             real       nanyy1025              NaN      Real  \n",
       "24791          2                1  toxic_comments              NaN  Comments  \n",
       "13699          1            False    justinqbui_1              NaN      Fake  \n",
       "32381          2                0  toxic_comments              NaN  Comments  "
      ]
     },
     "execution_count": 153,
     "metadata": {},
     "output_type": "execute_result"
    }
   ],
   "source": [
    "final_df.sample(10)"
   ]
  },
  {
   "cell_type": "code",
   "execution_count": 154,
   "metadata": {},
   "outputs": [],
   "source": [
    "final_df.to_excel(DATA_PATH / 'covid_vaccine_fake_clear.xlsx', index=False)"
   ]
  }
 ],
 "metadata": {
  "kernelspec": {
   "display_name": ".venv",
   "language": "python",
   "name": "python3"
  },
  "language_info": {
   "codemirror_mode": {
    "name": "ipython",
    "version": 3
   },
   "file_extension": ".py",
   "mimetype": "text/x-python",
   "name": "python",
   "nbconvert_exporter": "python",
   "pygments_lexer": "ipython3",
   "version": "3.11.5"
  }
 },
 "nbformat": 4,
 "nbformat_minor": 2
}
