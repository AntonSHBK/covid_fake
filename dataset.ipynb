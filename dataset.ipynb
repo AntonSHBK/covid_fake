{
 "cells": [
  {
   "cell_type": "markdown",
   "metadata": {},
   "source": [
    "# Dataset"
   ]
  },
  {
   "cell_type": "code",
   "execution_count": 180,
   "metadata": {},
   "outputs": [],
   "source": [
    "import math\n",
    "\n",
    "import torch\n",
    "import pandas as pd\n",
    "import numpy as np"
   ]
  },
  {
   "cell_type": "code",
   "execution_count": 182,
   "metadata": {},
   "outputs": [],
   "source": [
    "from pathlib import Path\n",
    "\n",
    "DATA_PATH = Path('data/')\n",
    "DATA_PATH.mkdir(parents=True, exist_ok=True)\n",
    "\n",
    "DATA_CACHE = Path('data/cache_dir/')\n",
    "DATA_CACHE.mkdir(parents=True, exist_ok=True)\n",
    "\n",
    "DATA_PATH_SAVE_MODELS = Path('data/models/')\n",
    "DATA_PATH_SAVE_MODELS.mkdir(parents=True, exist_ok=True)\n",
    "\n",
    "DATA_SYNTHETIC = Path('synthetic/')\n",
    "DATA_SYNTHETIC.mkdir(parents=True, exist_ok=True)\n",
    "\n",
    "pd.set_option('display.max_colwidth', 500) "
   ]
  },
  {
   "cell_type": "markdown",
   "metadata": {},
   "source": [
    "## [nanyy1025/covid_fake_news](https://huggingface.co/datasets/nanyy1025/covid_fake_news)\n",
    "\n",
    "Датасет `nanyy1025/covid_fake_news` на Hugging Face содержит 10 700 записей, каждая из которых представляет собой твит, связанный с COVID-19, с меткой \"real\" (реальный) или \"fake\" (фейковый). Датасет разделен на три части: обучающая выборка (6 420 записей), валидационная выборка (2 140 записей) и тестовая выборка (2 140 записей). Данные представлены в формате CSV и предназначены для задач классификации текста и zero-shot классификации. Датасет был использован в исследовании \"Fighting an Infodemic: COVID-19 Fake News Dataset\" (arXiv:2011.03327). ([Hugging Face](https://huggingface.co/datasets/nanyy1025/covid_fake_news?utm_source=chatgpt.com)) \n",
    "\n",
    "```bibtex\n",
    "@misc{patwa2020fighting,\n",
    "title={Fighting an Infodemic: COVID-19 Fake News Dataset}, \n",
    "author={Parth Patwa and Shivam Sharma and Srinivas PYKL and Vineeth Guptha and Gitanjali Kumari and Md Shad Akhtar and Asif Ekbal and Amitava Das and Tanmoy Chakraborty},\n",
    "year={2020},\n",
    "eprint={2011.03327},\n",
    "archivePrefix={arXiv},\n",
    "primaryClass={cs.CL}\n",
    "}\n",
    "```"
   ]
  },
  {
   "cell_type": "code",
   "execution_count": 183,
   "metadata": {},
   "outputs": [],
   "source": [
    "from datasets import load_dataset"
   ]
  },
  {
   "cell_type": "code",
   "execution_count": 184,
   "metadata": {},
   "outputs": [],
   "source": [
    "def load_and_merge_nanyy1025_dataset(dataset_name: str = \"nanyy1025/covid_fake_news\",\n",
    "                                     cache_dir=None) -> pd.DataFrame:\n",
    "    dataset = load_dataset(dataset_name, cache_dir=cache_dir)\n",
    "\n",
    "    train_df = dataset['train'].to_pandas()\n",
    "    test_df = dataset['test'].to_pandas()\n",
    "    validation_df = dataset['validation'].to_pandas()\n",
    "    merged_df: pd.DataFrame = pd.concat([train_df, test_df, validation_df], ignore_index=True)\n",
    "    merged_df.rename(columns={'tweet': 'text'}, inplace=True)\n",
    "    return merged_df\n",
    "\n",
    "nanyy1025_df = load_and_merge_nanyy1025_dataset( \"nanyy1025/covid_fake_news\", DATA_CACHE)"
   ]
  },
  {
   "cell_type": "code",
   "execution_count": 185,
   "metadata": {},
   "outputs": [
    {
     "data": {
      "text/html": [
       "<div>\n",
       "<style scoped>\n",
       "    .dataframe tbody tr th:only-of-type {\n",
       "        vertical-align: middle;\n",
       "    }\n",
       "\n",
       "    .dataframe tbody tr th {\n",
       "        vertical-align: top;\n",
       "    }\n",
       "\n",
       "    .dataframe thead th {\n",
       "        text-align: right;\n",
       "    }\n",
       "</style>\n",
       "<table border=\"1\" class=\"dataframe\">\n",
       "  <thead>\n",
       "    <tr style=\"text-align: right;\">\n",
       "      <th></th>\n",
       "      <th>id</th>\n",
       "      <th>text</th>\n",
       "      <th>label</th>\n",
       "    </tr>\n",
       "  </thead>\n",
       "  <tbody>\n",
       "    <tr>\n",
       "      <th>0</th>\n",
       "      <td>1</td>\n",
       "      <td>The CDC currently reports 99031 deaths. In general the discrepancies in death counts between different sources are small and explicable. The death toll stands at roughly 100000 people today.</td>\n",
       "      <td>real</td>\n",
       "    </tr>\n",
       "    <tr>\n",
       "      <th>1</th>\n",
       "      <td>2</td>\n",
       "      <td>States reported 1121 deaths a small rise from last Tuesday. Southern states reported 640 of those deaths. https://t.co/YASGRTT4ux</td>\n",
       "      <td>real</td>\n",
       "    </tr>\n",
       "    <tr>\n",
       "      <th>2</th>\n",
       "      <td>3</td>\n",
       "      <td>Politically Correct Woman (Almost) Uses Pandemic as Excuse Not to Reuse Plastic Bag https://t.co/thF8GuNFPe #coronavirus #nashville</td>\n",
       "      <td>fake</td>\n",
       "    </tr>\n",
       "    <tr>\n",
       "      <th>3</th>\n",
       "      <td>4</td>\n",
       "      <td>#IndiaFightsCorona: We have 1524 #COVID testing laboratories in India and as on 25th August 2020 36827520 tests have been done : @ProfBhargava DG @ICMRDELHI #StaySafe #IndiaWillWin https://t.co/Yh3ZxknnhZ</td>\n",
       "      <td>real</td>\n",
       "    </tr>\n",
       "    <tr>\n",
       "      <th>4</th>\n",
       "      <td>5</td>\n",
       "      <td>Populous states can generate large case counts but if you look at the new cases per million today 9 smaller states are showing more cases per million than California or Texas: AL AR ID KS KY LA MS NV and SC. https://t.co/1pYW6cWRaS</td>\n",
       "      <td>real</td>\n",
       "    </tr>\n",
       "  </tbody>\n",
       "</table>\n",
       "</div>"
      ],
      "text/plain": [
       "   id  \\\n",
       "0   1   \n",
       "1   2   \n",
       "2   3   \n",
       "3   4   \n",
       "4   5   \n",
       "\n",
       "                                                                                                                                                                                                                                      text  \\\n",
       "0                                           The CDC currently reports 99031 deaths. In general the discrepancies in death counts between different sources are small and explicable. The death toll stands at roughly 100000 people today.   \n",
       "1                                                                                                        States reported 1121 deaths a small rise from last Tuesday. Southern states reported 640 of those deaths. https://t.co/YASGRTT4ux   \n",
       "2                                                                                                      Politically Correct Woman (Almost) Uses Pandemic as Excuse Not to Reuse Plastic Bag https://t.co/thF8GuNFPe #coronavirus #nashville   \n",
       "3                             #IndiaFightsCorona: We have 1524 #COVID testing laboratories in India and as on 25th August 2020 36827520 tests have been done : @ProfBhargava DG @ICMRDELHI #StaySafe #IndiaWillWin https://t.co/Yh3ZxknnhZ   \n",
       "4  Populous states can generate large case counts but if you look at the new cases per million today 9 smaller states are showing more cases per million than California or Texas: AL AR ID KS KY LA MS NV and SC. https://t.co/1pYW6cWRaS   \n",
       "\n",
       "  label  \n",
       "0  real  \n",
       "1  real  \n",
       "2  fake  \n",
       "3  real  \n",
       "4  real  "
      ]
     },
     "execution_count": 185,
     "metadata": {},
     "output_type": "execute_result"
    }
   ],
   "source": [
    "nanyy1025_df.head()"
   ]
  },
  {
   "cell_type": "code",
   "execution_count": 186,
   "metadata": {},
   "outputs": [
    {
     "name": "stdout",
     "output_type": "stream",
     "text": [
      "<class 'pandas.core.frame.DataFrame'>\n",
      "RangeIndex: 10700 entries, 0 to 10699\n",
      "Data columns (total 3 columns):\n",
      " #   Column  Non-Null Count  Dtype \n",
      "---  ------  --------------  ----- \n",
      " 0   id      10700 non-null  int64 \n",
      " 1   text    10700 non-null  object\n",
      " 2   label   10700 non-null  object\n",
      "dtypes: int64(1), object(2)\n",
      "memory usage: 250.9+ KB\n"
     ]
    }
   ],
   "source": [
    "nanyy1025_df.info()"
   ]
  },
  {
   "cell_type": "markdown",
   "metadata": {},
   "source": [
    "## [justinqbui/covid_fact_checked_google_api](https://huggingface.co/datasets/justinqbui/covid_fact_checked_google_api)\n",
    "\n",
    "Датасет **justinqbui/covid_fact_checked_google_api** с Hugging Face представляет собой выборку проверенных фактов, связанных с COVID-19, собранных с использованием Google Fact Checker API. Вот его основные характеристики:\n",
    "\n",
    "1. **Общий объем данных:**\n",
    "   - Содержит 3 043 записи.\n",
    "   - Первоначально было собрано 10 000 фактов, но для упрощения включены только те записи, где рейтинг был представлен одним словом — \"false\" (ложь) или \"true\" (правда). Около 90% фактов в датасете оценены как ложные.\n",
    "\n",
    "2. **Модальности и форматы:**\n",
    "   - Тип данных: текст.\n",
    "   - Формат: CSV.\n",
    "   - Также доступен в формате Parquet.\n",
    "\n",
    "3. **Описание данных:**\n",
    "   - Поля датасета:\n",
    "     - `text`: текст проверенного факта.\n",
    "     - `label`: метка правдивости (`true` или `false`).\n",
    "   - Аннотации созданы экспертами.\n",
    "   - Язык: английский (en-US).\n",
    "   - Датасет является монолингвальным."
   ]
  },
  {
   "cell_type": "code",
   "execution_count": 187,
   "metadata": {},
   "outputs": [
    {
     "name": "stderr",
     "output_type": "stream",
     "text": [
      "Repo card metadata block was not found. Setting CardData to empty.\n"
     ]
    }
   ],
   "source": [
    "def load_and_merge_justinqbui_dataset(dataset_name: str = \"justinqbui/covid_fact_checked_google_api\",\n",
    "                                     cache_dir=None) -> pd.DataFrame:\n",
    "    dataset = load_dataset(dataset_name, cache_dir=cache_dir)\n",
    "    return dataset['train'].to_pandas()\n",
    "\n",
    "justinqbui_1_df = load_and_merge_justinqbui_dataset( \"justinqbui/covid_fact_checked_google_api\", DATA_CACHE)"
   ]
  },
  {
   "cell_type": "code",
   "execution_count": 188,
   "metadata": {},
   "outputs": [
    {
     "data": {
      "text/html": [
       "<div>\n",
       "<style scoped>\n",
       "    .dataframe tbody tr th:only-of-type {\n",
       "        vertical-align: middle;\n",
       "    }\n",
       "\n",
       "    .dataframe tbody tr th {\n",
       "        vertical-align: top;\n",
       "    }\n",
       "\n",
       "    .dataframe thead th {\n",
       "        text-align: right;\n",
       "    }\n",
       "</style>\n",
       "<table border=\"1\" class=\"dataframe\">\n",
       "  <thead>\n",
       "    <tr style=\"text-align: right;\">\n",
       "      <th></th>\n",
       "      <th>Unnamed: 0</th>\n",
       "      <th>text</th>\n",
       "      <th>label</th>\n",
       "    </tr>\n",
       "  </thead>\n",
       "  <tbody>\n",
       "    <tr>\n",
       "      <th>0</th>\n",
       "      <td>0</td>\n",
       "      <td>Study finds 5G technology a ‘significant factor’ in higher COVID case and death rates</td>\n",
       "      <td>False</td>\n",
       "    </tr>\n",
       "    <tr>\n",
       "      <th>1</th>\n",
       "      <td>1</td>\n",
       "      <td>Society is “choosing blood clots and heart problems over cold and flu symptoms, or even no symptoms at all.”</td>\n",
       "      <td>False</td>\n",
       "    </tr>\n",
       "    <tr>\n",
       "      <th>2</th>\n",
       "      <td>2</td>\n",
       "      <td>Dr. Anthony Fauci, the director of the National Institute of Allergy and Infectious Diseases (NIAID), has said he wants Americans to receive four COVID-19 vaccine shots each year.</td>\n",
       "      <td>False</td>\n",
       "    </tr>\n",
       "    <tr>\n",
       "      <th>3</th>\n",
       "      <td>3</td>\n",
       "      <td>As of early December 2021, no one worldwide who tested positive for the omicron variant of the coronavirus had died.</td>\n",
       "      <td>True</td>\n",
       "    </tr>\n",
       "    <tr>\n",
       "      <th>4</th>\n",
       "      <td>4</td>\n",
       "      <td>the image shows a fence in a German mall separating people vaccinated against COVID-19 from those who are unvaccinated.</td>\n",
       "      <td>False</td>\n",
       "    </tr>\n",
       "  </tbody>\n",
       "</table>\n",
       "</div>"
      ],
      "text/plain": [
       "   Unnamed: 0  \\\n",
       "0           0   \n",
       "1           1   \n",
       "2           2   \n",
       "3           3   \n",
       "4           4   \n",
       "\n",
       "                                                                                                                                                                                  text  \\\n",
       "0                                                                                                Study finds 5G technology a ‘significant factor’ in higher COVID case and death rates   \n",
       "1                                                                         Society is “choosing blood clots and heart problems over cold and flu symptoms, or even no symptoms at all.”   \n",
       "2  Dr. Anthony Fauci, the director of the National Institute of Allergy and Infectious Diseases (NIAID), has said he wants Americans to receive four COVID-19 vaccine shots each year.   \n",
       "3                                                                 As of early December 2021, no one worldwide who tested positive for the omicron variant of the coronavirus had died.   \n",
       "4                                                              the image shows a fence in a German mall separating people vaccinated against COVID-19 from those who are unvaccinated.   \n",
       "\n",
       "   label  \n",
       "0  False  \n",
       "1  False  \n",
       "2  False  \n",
       "3   True  \n",
       "4  False  "
      ]
     },
     "execution_count": 188,
     "metadata": {},
     "output_type": "execute_result"
    }
   ],
   "source": [
    "justinqbui_1_df.head()"
   ]
  },
  {
   "cell_type": "code",
   "execution_count": 189,
   "metadata": {},
   "outputs": [
    {
     "name": "stdout",
     "output_type": "stream",
     "text": [
      "<class 'pandas.core.frame.DataFrame'>\n",
      "RangeIndex: 3043 entries, 0 to 3042\n",
      "Data columns (total 3 columns):\n",
      " #   Column      Non-Null Count  Dtype \n",
      "---  ------      --------------  ----- \n",
      " 0   Unnamed: 0  3043 non-null   int64 \n",
      " 1   text        3043 non-null   object\n",
      " 2   label       3043 non-null   bool  \n",
      "dtypes: bool(1), int64(1), object(1)\n",
      "memory usage: 50.6+ KB\n"
     ]
    }
   ],
   "source": [
    "justinqbui_1_df.info()"
   ]
  },
  {
   "cell_type": "code",
   "execution_count": 190,
   "metadata": {},
   "outputs": [
    {
     "data": {
      "text/plain": [
       "label\n",
       "False    2929\n",
       "True      114\n",
       "Name: count, dtype: int64"
      ]
     },
     "execution_count": 190,
     "metadata": {},
     "output_type": "execute_result"
    }
   ],
   "source": [
    "justinqbui_1_df['label'].value_counts()"
   ]
  },
  {
   "cell_type": "markdown",
   "metadata": {},
   "source": [
    "## [justinqbui/covid_fact_checked_polifact](https://huggingface.co/datasets/justinqbui/covid_fact_checked_polifact)\n",
    "\n",
    "Датасет **justinqbui/covid_fact_checked_polifact** с Hugging Face включает записи, связанные с проверкой фактов о COVID-19, собранных с помощью автоматического веб-скрейпера, который извлек данные из PolitiFact COVID Fact Checker. Вот его ключевые характеристики:\n",
    "\n",
    "1. **Общий объем данных:**\n",
    "   - Содержит 1 190 записей.\n",
    "   - Датасет состоит из утверждений и их оценки на правдивость.\n",
    "\n",
    "2. **Модальности и форматы:**\n",
    "   - Тип данных: текст.\n",
    "   - Формат: CSV.\n",
    "   - Также доступен в формате Parquet.\n",
    "\n",
    "3. **Описание данных:**\n",
    "   - Поля датасета:\n",
    "     - `claim`: текст утверждения.\n",
    "     - `rating`: оценка, присвоенная PolitiFact (7 значений: *half-true*, *full-flop*, *pants-fire*, *barely-true*, *true*, *mostly-true*, *false*).\n",
    "     - `adjusted_rating`: упрощенная версия оценки (3 значения: например, \"true\", \"false\" и промежуточные варианты).\n",
    "   - Поля предоставляют как детализированные, так и агрегированные оценки фактов."
   ]
  },
  {
   "cell_type": "code",
   "execution_count": 191,
   "metadata": {},
   "outputs": [
    {
     "name": "stderr",
     "output_type": "stream",
     "text": [
      "Repo card metadata block was not found. Setting CardData to empty.\n"
     ]
    }
   ],
   "source": [
    "justinqbui_2_df = load_and_merge_justinqbui_dataset( \"justinqbui/covid_fact_checked_polifact\", DATA_CACHE)"
   ]
  },
  {
   "cell_type": "code",
   "execution_count": 192,
   "metadata": {},
   "outputs": [
    {
     "data": {
      "text/html": [
       "<div>\n",
       "<style scoped>\n",
       "    .dataframe tbody tr th:only-of-type {\n",
       "        vertical-align: middle;\n",
       "    }\n",
       "\n",
       "    .dataframe tbody tr th {\n",
       "        vertical-align: top;\n",
       "    }\n",
       "\n",
       "    .dataframe thead th {\n",
       "        text-align: right;\n",
       "    }\n",
       "</style>\n",
       "<table border=\"1\" class=\"dataframe\">\n",
       "  <thead>\n",
       "    <tr style=\"text-align: right;\">\n",
       "      <th></th>\n",
       "      <th>Unnamed: 0</th>\n",
       "      <th>claim</th>\n",
       "      <th>rating</th>\n",
       "      <th>adjusted rating</th>\n",
       "    </tr>\n",
       "  </thead>\n",
       "  <tbody>\n",
       "    <tr>\n",
       "      <th>0</th>\n",
       "      <td>0</td>\n",
       "      <td>Deaths from vaccines have totaled 1,621 from Johnson &amp; Johnson, 4,799 from Moderna, 13,039 from Pfizer and 73 from unknown vaccines. And this is an undercount because “only 1% of deaths are reported.”</td>\n",
       "      <td>false</td>\n",
       "      <td>false</td>\n",
       "    </tr>\n",
       "    <tr>\n",
       "      <th>1</th>\n",
       "      <td>1</td>\n",
       "      <td>The COVID-19 vaccine is the “deadliest vaccine ever made.”</td>\n",
       "      <td>pants-fire</td>\n",
       "      <td>false</td>\n",
       "    </tr>\n",
       "    <tr>\n",
       "      <th>2</th>\n",
       "      <td>2</td>\n",
       "      <td>Warnings about heart problems and blood clots in cold weather are to cover up COVID-19 vaccine side effects.</td>\n",
       "      <td>false</td>\n",
       "      <td>false</td>\n",
       "    </tr>\n",
       "    <tr>\n",
       "      <th>3</th>\n",
       "      <td>3</td>\n",
       "      <td>\"Canada joins the no jab, no food trend\"</td>\n",
       "      <td>barely-true</td>\n",
       "      <td>misleading</td>\n",
       "    </tr>\n",
       "    <tr>\n",
       "      <th>4</th>\n",
       "      <td>4</td>\n",
       "      <td>The COVID-19 vaccines \"suppress the immune system\" and make people more susceptible to HIV, shingles and herpes.</td>\n",
       "      <td>false</td>\n",
       "      <td>false</td>\n",
       "    </tr>\n",
       "  </tbody>\n",
       "</table>\n",
       "</div>"
      ],
      "text/plain": [
       "   Unnamed: 0  \\\n",
       "0           0   \n",
       "1           1   \n",
       "2           2   \n",
       "3           3   \n",
       "4           4   \n",
       "\n",
       "                                                                                                                                                                                                      claim  \\\n",
       "0  Deaths from vaccines have totaled 1,621 from Johnson & Johnson, 4,799 from Moderna, 13,039 from Pfizer and 73 from unknown vaccines. And this is an undercount because “only 1% of deaths are reported.”   \n",
       "1                                                                                                                                                The COVID-19 vaccine is the “deadliest vaccine ever made.”   \n",
       "2                                                                                              Warnings about heart problems and blood clots in cold weather are to cover up COVID-19 vaccine side effects.   \n",
       "3                                                                                                                                                                  \"Canada joins the no jab, no food trend\"   \n",
       "4                                                                                          The COVID-19 vaccines \"suppress the immune system\" and make people more susceptible to HIV, shingles and herpes.   \n",
       "\n",
       "        rating adjusted rating  \n",
       "0        false           false  \n",
       "1   pants-fire           false  \n",
       "2        false           false  \n",
       "3  barely-true      misleading  \n",
       "4        false           false  "
      ]
     },
     "execution_count": 192,
     "metadata": {},
     "output_type": "execute_result"
    }
   ],
   "source": [
    "justinqbui_2_df.head()"
   ]
  },
  {
   "cell_type": "code",
   "execution_count": 193,
   "metadata": {},
   "outputs": [
    {
     "name": "stdout",
     "output_type": "stream",
     "text": [
      "<class 'pandas.core.frame.DataFrame'>\n",
      "RangeIndex: 1185 entries, 0 to 1184\n",
      "Data columns (total 4 columns):\n",
      " #   Column           Non-Null Count  Dtype \n",
      "---  ------           --------------  ----- \n",
      " 0   Unnamed: 0       1185 non-null   int64 \n",
      " 1   claim            1185 non-null   object\n",
      " 2   rating           1185 non-null   object\n",
      " 3   adjusted rating  1185 non-null   object\n",
      "dtypes: int64(1), object(3)\n",
      "memory usage: 37.2+ KB\n"
     ]
    }
   ],
   "source": [
    "justinqbui_2_df.info()"
   ]
  },
  {
   "cell_type": "code",
   "execution_count": 194,
   "metadata": {},
   "outputs": [
    {
     "data": {
      "text/plain": [
       "<Axes: >"
      ]
     },
     "execution_count": 194,
     "metadata": {},
     "output_type": "execute_result"
    },
    {
     "data": {
      "image/png": "[encoded data removed]",
      "text/plain": [
       "<Figure size 640x480 with 1 Axes>"
      ]
     },
     "metadata": {},
     "output_type": "display_data"
    }
   ],
   "source": [
    "justinqbui_2_df['rating'].hist()"
   ]
  },
  {
   "cell_type": "code",
   "execution_count": 195,
   "metadata": {},
   "outputs": [
    {
     "data": {
      "text/plain": [
       "rating\n",
       "false          608\n",
       "pants-fire     178\n",
       "barely-true    170\n",
       "half-true      100\n",
       "mostly-true     78\n",
       "true            50\n",
       "full-flop        1\n",
       "Name: count, dtype: int64"
      ]
     },
     "execution_count": 195,
     "metadata": {},
     "output_type": "execute_result"
    }
   ],
   "source": [
    "justinqbui_2_df['rating'].value_counts()"
   ]
  },
  {
   "cell_type": "code",
   "execution_count": 196,
   "metadata": {},
   "outputs": [
    {
     "data": {
      "text/plain": [
       "adjusted rating\n",
       "false         787\n",
       "misleading    270\n",
       "true          128\n",
       "Name: count, dtype: int64"
      ]
     },
     "execution_count": 196,
     "metadata": {},
     "output_type": "execute_result"
    }
   ],
   "source": [
    "justinqbui_2_df['adjusted rating'].value_counts()"
   ]
  },
  {
   "cell_type": "markdown",
   "metadata": {},
   "source": [
    "## Объединение"
   ]
  },
  {
   "cell_type": "code",
   "execution_count": 197,
   "metadata": {},
   "outputs": [
    {
     "data": {
      "text/html": [
       "<div>\n",
       "<style scoped>\n",
       "    .dataframe tbody tr th:only-of-type {\n",
       "        vertical-align: middle;\n",
       "    }\n",
       "\n",
       "    .dataframe tbody tr th {\n",
       "        vertical-align: top;\n",
       "    }\n",
       "\n",
       "    .dataframe thead th {\n",
       "        text-align: right;\n",
       "    }\n",
       "</style>\n",
       "<table border=\"1\" class=\"dataframe\">\n",
       "  <thead>\n",
       "    <tr style=\"text-align: right;\">\n",
       "      <th></th>\n",
       "      <th>text</th>\n",
       "      <th>is_fake</th>\n",
       "      <th>original_label_1</th>\n",
       "      <th>source</th>\n",
       "    </tr>\n",
       "  </thead>\n",
       "  <tbody>\n",
       "    <tr>\n",
       "      <th>0</th>\n",
       "      <td>The CDC currently reports 99031 deaths. In general the discrepancies in death counts between different sources are small and explicable. The death toll stands at roughly 100000 people today.</td>\n",
       "      <td>0</td>\n",
       "      <td>real</td>\n",
       "      <td>nanyy1025</td>\n",
       "    </tr>\n",
       "  </tbody>\n",
       "</table>\n",
       "</div>"
      ],
      "text/plain": [
       "                                                                                                                                                                                             text  \\\n",
       "0  The CDC currently reports 99031 deaths. In general the discrepancies in death counts between different sources are small and explicable. The death toll stands at roughly 100000 people today.   \n",
       "\n",
       "   is_fake original_label_1     source  \n",
       "0        0             real  nanyy1025  "
      ]
     },
     "execution_count": 197,
     "metadata": {},
     "output_type": "execute_result"
    }
   ],
   "source": [
    "nanyy1025_df['source'] = 'nanyy1025'\n",
    "nanyy1025_df['original_label_1'] = nanyy1025_df['label']\n",
    "nanyy1025_df['is_fake'] = nanyy1025_df['label'].apply(lambda x: 1 if x == 'fake' else 0)\n",
    "nanyy1025_df = nanyy1025_df[['text', 'is_fake', 'original_label_1', 'source']]\n",
    "nanyy1025_df.head(1)"
   ]
  },
  {
   "cell_type": "code",
   "execution_count": 198,
   "metadata": {},
   "outputs": [
    {
     "data": {
      "text/html": [
       "<div>\n",
       "<style scoped>\n",
       "    .dataframe tbody tr th:only-of-type {\n",
       "        vertical-align: middle;\n",
       "    }\n",
       "\n",
       "    .dataframe tbody tr th {\n",
       "        vertical-align: top;\n",
       "    }\n",
       "\n",
       "    .dataframe thead th {\n",
       "        text-align: right;\n",
       "    }\n",
       "</style>\n",
       "<table border=\"1\" class=\"dataframe\">\n",
       "  <thead>\n",
       "    <tr style=\"text-align: right;\">\n",
       "      <th></th>\n",
       "      <th>text</th>\n",
       "      <th>is_fake</th>\n",
       "      <th>original_label_1</th>\n",
       "      <th>source</th>\n",
       "    </tr>\n",
       "  </thead>\n",
       "  <tbody>\n",
       "    <tr>\n",
       "      <th>0</th>\n",
       "      <td>Study finds 5G technology a ‘significant factor’ in higher COVID case and death rates</td>\n",
       "      <td>1</td>\n",
       "      <td>False</td>\n",
       "      <td>justinqbui_1</td>\n",
       "    </tr>\n",
       "  </tbody>\n",
       "</table>\n",
       "</div>"
      ],
      "text/plain": [
       "                                                                                    text  \\\n",
       "0  Study finds 5G technology a ‘significant factor’ in higher COVID case and death rates   \n",
       "\n",
       "   is_fake  original_label_1        source  \n",
       "0        1             False  justinqbui_1  "
      ]
     },
     "execution_count": 198,
     "metadata": {},
     "output_type": "execute_result"
    }
   ],
   "source": [
    "justinqbui_1_df['source'] = 'justinqbui_1'\n",
    "justinqbui_1_df['original_label_1'] = justinqbui_1_df['label']\n",
    "justinqbui_1_df['is_fake'] = justinqbui_1_df['label'].apply(lambda x: True if x == False else 0).astype(int)\n",
    "justinqbui_1_df = justinqbui_1_df[['text', 'is_fake', 'original_label_1', 'source']]\n",
    "justinqbui_1_df.head(1)"
   ]
  },
  {
   "cell_type": "code",
   "execution_count": 199,
   "metadata": {},
   "outputs": [
    {
     "data": {
      "text/html": [
       "<div>\n",
       "<style scoped>\n",
       "    .dataframe tbody tr th:only-of-type {\n",
       "        vertical-align: middle;\n",
       "    }\n",
       "\n",
       "    .dataframe tbody tr th {\n",
       "        vertical-align: top;\n",
       "    }\n",
       "\n",
       "    .dataframe thead th {\n",
       "        text-align: right;\n",
       "    }\n",
       "</style>\n",
       "<table border=\"1\" class=\"dataframe\">\n",
       "  <thead>\n",
       "    <tr style=\"text-align: right;\">\n",
       "      <th></th>\n",
       "      <th>text</th>\n",
       "      <th>is_fake</th>\n",
       "      <th>original_label_1</th>\n",
       "      <th>original_label_2</th>\n",
       "      <th>source</th>\n",
       "    </tr>\n",
       "  </thead>\n",
       "  <tbody>\n",
       "    <tr>\n",
       "      <th>0</th>\n",
       "      <td>Deaths from vaccines have totaled 1,621 from Johnson &amp; Johnson, 4,799 from Moderna, 13,039 from Pfizer and 73 from unknown vaccines. And this is an undercount because “only 1% of deaths are reported.”</td>\n",
       "      <td>1</td>\n",
       "      <td>false</td>\n",
       "      <td>false</td>\n",
       "      <td>justinqbui_2</td>\n",
       "    </tr>\n",
       "  </tbody>\n",
       "</table>\n",
       "</div>"
      ],
      "text/plain": [
       "                                                                                                                                                                                                       text  \\\n",
       "0  Deaths from vaccines have totaled 1,621 from Johnson & Johnson, 4,799 from Moderna, 13,039 from Pfizer and 73 from unknown vaccines. And this is an undercount because “only 1% of deaths are reported.”   \n",
       "\n",
       "   is_fake original_label_1 original_label_2        source  \n",
       "0        1            false            false  justinqbui_2  "
      ]
     },
     "execution_count": 199,
     "metadata": {},
     "output_type": "execute_result"
    }
   ],
   "source": [
    "justinqbui_2_df['source'] = 'justinqbui_2'\n",
    "justinqbui_2_df['original_label_1'] = justinqbui_2_df['rating']\n",
    "justinqbui_2_df['original_label_2'] = justinqbui_2_df['adjusted rating']\n",
    "\n",
    "justinqbui_2_df['is_fake'] = justinqbui_2_df['adjusted rating'].apply(lambda x: 1 if x == 'false' else 0)\n",
    "\n",
    "justinqbui_2_df = justinqbui_2_df[['claim', 'is_fake', 'original_label_1', 'original_label_2', 'source']]\n",
    "justinqbui_2_df.rename(columns={'claim': 'text'}, inplace=True)\n",
    "justinqbui_2_df.head(1)"
   ]
  },
  {
   "cell_type": "code",
   "execution_count": 200,
   "metadata": {},
   "outputs": [],
   "source": [
    "combined_df = pd.concat([nanyy1025_df, justinqbui_1_df, justinqbui_2_df], ignore_index=True)"
   ]
  },
  {
   "cell_type": "code",
   "execution_count": 201,
   "metadata": {},
   "outputs": [
    {
     "data": {
      "text/html": [
       "<div>\n",
       "<style scoped>\n",
       "    .dataframe tbody tr th:only-of-type {\n",
       "        vertical-align: middle;\n",
       "    }\n",
       "\n",
       "    .dataframe tbody tr th {\n",
       "        vertical-align: top;\n",
       "    }\n",
       "\n",
       "    .dataframe thead th {\n",
       "        text-align: right;\n",
       "    }\n",
       "</style>\n",
       "<table border=\"1\" class=\"dataframe\">\n",
       "  <thead>\n",
       "    <tr style=\"text-align: right;\">\n",
       "      <th></th>\n",
       "      <th>text</th>\n",
       "      <th>is_fake</th>\n",
       "      <th>original_label_1</th>\n",
       "      <th>source</th>\n",
       "      <th>original_label_2</th>\n",
       "    </tr>\n",
       "  </thead>\n",
       "  <tbody>\n",
       "    <tr>\n",
       "      <th>8333</th>\n",
       "      <td>President Giammattei said that the country has 10000 COVID-19 tests.</td>\n",
       "      <td>1</td>\n",
       "      <td>fake</td>\n",
       "      <td>nanyy1025</td>\n",
       "      <td>NaN</td>\n",
       "    </tr>\n",
       "    <tr>\n",
       "      <th>13525</th>\n",
       "      <td>Emmanuel Mudiay tested positive for COVID-19</td>\n",
       "      <td>1</td>\n",
       "      <td>False</td>\n",
       "      <td>justinqbui_1</td>\n",
       "      <td>NaN</td>\n",
       "    </tr>\n",
       "    <tr>\n",
       "      <th>9417</th>\n",
       "      <td>Some states are handing out fines for #COVID rule breakers. https://t.co/v6NUtFtfRF</td>\n",
       "      <td>0</td>\n",
       "      <td>real</td>\n",
       "      <td>nanyy1025</td>\n",
       "      <td>NaN</td>\n",
       "    </tr>\n",
       "    <tr>\n",
       "      <th>12824</th>\n",
       "      <td>Dr. Anthony Fauci said, “As soon as a COVID-19 vaccine is manufactured, it must be delivered to healthcare professionals for immediate human injection. Proper studies can be done later.”</td>\n",
       "      <td>1</td>\n",
       "      <td>False</td>\n",
       "      <td>justinqbui_1</td>\n",
       "      <td>NaN</td>\n",
       "    </tr>\n",
       "    <tr>\n",
       "      <th>5824</th>\n",
       "      <td>US hits another grim coronavirus milestone ⁦@POTUS⁩ ⁦@realDonaldTrump⁩ ⁦@GovPhilScott⁩ ⁦@DaveZuckermanVT⁩ Once again I will inform you that the viral infection is completely controllable with N- acetylcysteine. legal responsibility https://t.co/HoOnSQ42ZU</td>\n",
       "      <td>1</td>\n",
       "      <td>fake</td>\n",
       "      <td>nanyy1025</td>\n",
       "      <td>NaN</td>\n",
       "    </tr>\n",
       "  </tbody>\n",
       "</table>\n",
       "</div>"
      ],
      "text/plain": [
       "                                                                                                                                                                                                                                                                  text  \\\n",
       "8333                                                                                                                                                                                              President Giammattei said that the country has 10000 COVID-19 tests.   \n",
       "13525                                                                                                                                                                                                                     Emmanuel Mudiay tested positive for COVID-19   \n",
       "9417                                                                                                                                                                               Some states are handing out fines for #COVID rule breakers. https://t.co/v6NUtFtfRF   \n",
       "12824                                                                       Dr. Anthony Fauci said, “As soon as a COVID-19 vaccine is manufactured, it must be delivered to healthcare professionals for immediate human injection. Proper studies can be done later.”   \n",
       "5824   US hits another grim coronavirus milestone ⁦@POTUS⁩ ⁦@realDonaldTrump⁩ ⁦@GovPhilScott⁩ ⁦@DaveZuckermanVT⁩ Once again I will inform you that the viral infection is completely controllable with N- acetylcysteine. legal responsibility https://t.co/HoOnSQ42ZU   \n",
       "\n",
       "       is_fake original_label_1        source original_label_2  \n",
       "8333         1             fake     nanyy1025              NaN  \n",
       "13525        1            False  justinqbui_1              NaN  \n",
       "9417         0             real     nanyy1025              NaN  \n",
       "12824        1            False  justinqbui_1              NaN  \n",
       "5824         1             fake     nanyy1025              NaN  "
      ]
     },
     "execution_count": 201,
     "metadata": {},
     "output_type": "execute_result"
    }
   ],
   "source": [
    "combined_df.sample(5)"
   ]
  },
  {
   "cell_type": "code",
   "execution_count": 202,
   "metadata": {},
   "outputs": [
    {
     "name": "stdout",
     "output_type": "stream",
     "text": [
      "<class 'pandas.core.frame.DataFrame'>\n",
      "RangeIndex: 14928 entries, 0 to 14927\n",
      "Data columns (total 5 columns):\n",
      " #   Column            Non-Null Count  Dtype \n",
      "---  ------            --------------  ----- \n",
      " 0   text              14928 non-null  object\n",
      " 1   is_fake           14928 non-null  int64 \n",
      " 2   original_label_1  14928 non-null  object\n",
      " 3   source            14928 non-null  object\n",
      " 4   original_label_2  1185 non-null   object\n",
      "dtypes: int64(1), object(4)\n",
      "memory usage: 583.3+ KB\n"
     ]
    }
   ],
   "source": [
    "combined_df.info()"
   ]
  },
  {
   "cell_type": "code",
   "execution_count": 203,
   "metadata": {},
   "outputs": [
    {
     "data": {
      "text/plain": [
       "original_label_1\n",
       "real           5600\n",
       "fake           5100\n",
       "False          2929\n",
       "false           608\n",
       "pants-fire      178\n",
       "barely-true     170\n",
       "True            114\n",
       "half-true       100\n",
       "mostly-true      78\n",
       "true             50\n",
       "full-flop         1\n",
       "Name: count, dtype: int64"
      ]
     },
     "execution_count": 203,
     "metadata": {},
     "output_type": "execute_result"
    }
   ],
   "source": [
    "combined_df['original_label_1'].value_counts()"
   ]
  },
  {
   "cell_type": "code",
   "execution_count": 204,
   "metadata": {},
   "outputs": [
    {
     "data": {
      "text/plain": [
       "is_fake\n",
       "1    8816\n",
       "0    6112\n",
       "Name: count, dtype: int64"
      ]
     },
     "execution_count": 204,
     "metadata": {},
     "output_type": "execute_result"
    }
   ],
   "source": [
    "combined_df['is_fake'].value_counts()"
   ]
  },
  {
   "cell_type": "markdown",
   "metadata": {},
   "source": [
    "## Синтетика данных"
   ]
  },
  {
   "cell_type": "code",
   "execution_count": 205,
   "metadata": {},
   "outputs": [],
   "source": [
    "negative_file = DATA_SYNTHETIC / 'negative_text.txt'\n",
    "positive_file = DATA_SYNTHETIC / 'positive_text.txt'\n",
    "\n",
    "def create_dataframe_from_file(file_path: Path, is_fake_label: int) -> pd.DataFrame:\n",
    "    data = []\n",
    "    with file_path.open('r', encoding='utf-8') as f:\n",
    "        for line in f:\n",
    "            line = line.strip()\n",
    "            if line:\n",
    "                data.append({'text': line, 'is_fake': is_fake_label})\n",
    "    \n",
    "    return pd.DataFrame(data)\n",
    "\n",
    "negative_df = create_dataframe_from_file(negative_file, is_fake_label=1)\n",
    "positive_df = create_dataframe_from_file(positive_file, is_fake_label=0)\n",
    "\n",
    "synthetic_df = pd.concat([negative_df, positive_df], ignore_index=True)"
   ]
  },
  {
   "cell_type": "code",
   "execution_count": 206,
   "metadata": {},
   "outputs": [
    {
     "name": "stdout",
     "output_type": "stream",
     "text": [
      "<class 'pandas.core.frame.DataFrame'>\n",
      "RangeIndex: 1194 entries, 0 to 1193\n",
      "Data columns (total 2 columns):\n",
      " #   Column   Non-Null Count  Dtype \n",
      "---  ------   --------------  ----- \n",
      " 0   text     1194 non-null   object\n",
      " 1   is_fake  1194 non-null   int64 \n",
      "dtypes: int64(1), object(1)\n",
      "memory usage: 18.8+ KB\n"
     ]
    }
   ],
   "source": [
    "synthetic_df.info()"
   ]
  },
  {
   "cell_type": "code",
   "execution_count": 207,
   "metadata": {},
   "outputs": [
    {
     "data": {
      "text/html": [
       "<div>\n",
       "<style scoped>\n",
       "    .dataframe tbody tr th:only-of-type {\n",
       "        vertical-align: middle;\n",
       "    }\n",
       "\n",
       "    .dataframe tbody tr th {\n",
       "        vertical-align: top;\n",
       "    }\n",
       "\n",
       "    .dataframe thead th {\n",
       "        text-align: right;\n",
       "    }\n",
       "</style>\n",
       "<table border=\"1\" class=\"dataframe\">\n",
       "  <thead>\n",
       "    <tr style=\"text-align: right;\">\n",
       "      <th></th>\n",
       "      <th>text</th>\n",
       "      <th>is_fake</th>\n",
       "    </tr>\n",
       "  </thead>\n",
       "  <tbody>\n",
       "    <tr>\n",
       "      <th>1027</th>\n",
       "      <td>COVID-19 has caused millions of deaths worldwide, with a disproportionate impact on countries with limited healthcare infrastructure. Global vaccination efforts aim to reduce this disparity.</td>\n",
       "      <td>0</td>\n",
       "    </tr>\n",
       "    <tr>\n",
       "      <th>1069</th>\n",
       "      <td>COVID-19 is not spread through food or food packaging, according to WHO. The primary transmission route is through respiratory droplets and close contact. However, good hygiene practices, such as washing hands before eating, are recommended. There is no evidence linking COVID-19 to foodborne transmission.</td>\n",
       "      <td>0</td>\n",
       "    </tr>\n",
       "    <tr>\n",
       "      <th>1041</th>\n",
       "      <td>Schools and workplaces have adopted hybrid models to reduce COVID-19 risks. Remote learning and working have become more widespread.</td>\n",
       "      <td>0</td>\n",
       "    </tr>\n",
       "    <tr>\n",
       "      <th>92</th>\n",
       "      <td>People with specific astrological signs are less likely to contract the virus.</td>\n",
       "      <td>1</td>\n",
       "    </tr>\n",
       "    <tr>\n",
       "      <th>838</th>\n",
       "      <td>Most vaccine-related injuries go unreported to protect pharmaceutical companies.</td>\n",
       "      <td>1</td>\n",
       "    </tr>\n",
       "  </tbody>\n",
       "</table>\n",
       "</div>"
      ],
      "text/plain": [
       "                                                                                                                                                                                                                                                                                                                    text  \\\n",
       "1027                                                                                                                      COVID-19 has caused millions of deaths worldwide, with a disproportionate impact on countries with limited healthcare infrastructure. Global vaccination efforts aim to reduce this disparity.   \n",
       "1069  COVID-19 is not spread through food or food packaging, according to WHO. The primary transmission route is through respiratory droplets and close contact. However, good hygiene practices, such as washing hands before eating, are recommended. There is no evidence linking COVID-19 to foodborne transmission.   \n",
       "1041                                                                                                                                                                                Schools and workplaces have adopted hybrid models to reduce COVID-19 risks. Remote learning and working have become more widespread.   \n",
       "92                                                                                                                                                                                                                                        People with specific astrological signs are less likely to contract the virus.   \n",
       "838                                                                                                                                                                                                                                     Most vaccine-related injuries go unreported to protect pharmaceutical companies.   \n",
       "\n",
       "      is_fake  \n",
       "1027        0  \n",
       "1069        0  \n",
       "1041        0  \n",
       "92          1  \n",
       "838         1  "
      ]
     },
     "execution_count": 207,
     "metadata": {},
     "output_type": "execute_result"
    }
   ],
   "source": [
    "synthetic_df.sample(5)"
   ]
  },
  {
   "cell_type": "markdown",
   "metadata": {},
   "source": [
    "# Общий датафрейм"
   ]
  },
  {
   "cell_type": "code",
   "execution_count": 208,
   "metadata": {},
   "outputs": [],
   "source": [
    "synthetic_df['source'] = 'synthetic'\n",
    "final_df = pd.concat([combined_df, synthetic_df], ignore_index=True)\n",
    "final_df.to_excel(DATA_PATH / 'covid_vaccine_fake.xlsx', index=False)"
   ]
  },
  {
   "cell_type": "code",
   "execution_count": 226,
   "metadata": {},
   "outputs": [
    {
     "data": {
      "text/plain": [
       "is_fake\n",
       "1    9665\n",
       "0    6457\n",
       "Name: count, dtype: int64"
      ]
     },
     "execution_count": 226,
     "metadata": {},
     "output_type": "execute_result"
    }
   ],
   "source": [
    "final_df['is_fake'].value_counts()"
   ]
  },
  {
   "cell_type": "code",
   "execution_count": 209,
   "metadata": {},
   "outputs": [
    {
     "data": {
      "text/html": [
       "<div>\n",
       "<style scoped>\n",
       "    .dataframe tbody tr th:only-of-type {\n",
       "        vertical-align: middle;\n",
       "    }\n",
       "\n",
       "    .dataframe tbody tr th {\n",
       "        vertical-align: top;\n",
       "    }\n",
       "\n",
       "    .dataframe thead th {\n",
       "        text-align: right;\n",
       "    }\n",
       "</style>\n",
       "<table border=\"1\" class=\"dataframe\">\n",
       "  <thead>\n",
       "    <tr style=\"text-align: right;\">\n",
       "      <th></th>\n",
       "      <th>text</th>\n",
       "      <th>is_fake</th>\n",
       "      <th>original_label_1</th>\n",
       "      <th>source</th>\n",
       "      <th>original_label_2</th>\n",
       "    </tr>\n",
       "  </thead>\n",
       "  <tbody>\n",
       "    <tr>\n",
       "      <th>14627</th>\n",
       "      <td>“Ultraviolet Radiation is administered into the body as a disinfectant to kill bacteria and viruses and this has been used for a while now.”</td>\n",
       "      <td>1</td>\n",
       "      <td>false</td>\n",
       "      <td>justinqbui_2</td>\n",
       "      <td>false</td>\n",
       "    </tr>\n",
       "    <tr>\n",
       "      <th>46</th>\n",
       "      <td>The top 5 States with high Active Caseload are also the ones which are presently reporting a high level of recoveries. https://t.co/hOWhFx5wPe</td>\n",
       "      <td>0</td>\n",
       "      <td>real</td>\n",
       "      <td>nanyy1025</td>\n",
       "      <td>NaN</td>\n",
       "    </tr>\n",
       "    <tr>\n",
       "      <th>10729</th>\n",
       "      <td>CDC data shows more children will die from the COVID-19 vaccine than virus</td>\n",
       "      <td>1</td>\n",
       "      <td>False</td>\n",
       "      <td>justinqbui_1</td>\n",
       "      <td>NaN</td>\n",
       "    </tr>\n",
       "    <tr>\n",
       "      <th>2166</th>\n",
       "      <td>A picture shows an eight-year-old boy infected with coronavirus. Prayers and shares on Facebook will help him.</td>\n",
       "      <td>1</td>\n",
       "      <td>fake</td>\n",
       "      <td>nanyy1025</td>\n",
       "      <td>NaN</td>\n",
       "    </tr>\n",
       "    <tr>\n",
       "      <th>14100</th>\n",
       "      <td>\"They’re unable to administer vaccines if the lockdown ends because the emergency ends with it.”</td>\n",
       "      <td>1</td>\n",
       "      <td>false</td>\n",
       "      <td>justinqbui_2</td>\n",
       "      <td>false</td>\n",
       "    </tr>\n",
       "    <tr>\n",
       "      <th>13660</th>\n",
       "      <td>French parade pays tribute to China's efforts against the novel coronavirus</td>\n",
       "      <td>1</td>\n",
       "      <td>False</td>\n",
       "      <td>justinqbui_1</td>\n",
       "      <td>NaN</td>\n",
       "    </tr>\n",
       "    <tr>\n",
       "      <th>7366</th>\n",
       "      <td>Our daily update is published. We’ve now tracked 16.9 million tests up 441k from yesterday the 2nd-highest total we've recorded. Note that we can only track tests that a state reports. For details see: https://t.co/PZrmH4bl5Y https://t.co/BT1YANufXT</td>\n",
       "      <td>0</td>\n",
       "      <td>real</td>\n",
       "      <td>nanyy1025</td>\n",
       "      <td>NaN</td>\n",
       "    </tr>\n",
       "    <tr>\n",
       "      <th>8456</th>\n",
       "      <td>@explicitgrande @ftwrharry @wolfiecindy You wear you mask all day catching viruses and bacteria. Keeping it warm and moist by breathing body temperature breath on it. Lovely breeding ground for bacteria. Leave them in your car, again nice and warm. Don't wash your hands when you take them up and down. Masks are shit.</td>\n",
       "      <td>1</td>\n",
       "      <td>fake</td>\n",
       "      <td>nanyy1025</td>\n",
       "      <td>NaN</td>\n",
       "    </tr>\n",
       "    <tr>\n",
       "      <th>12079</th>\n",
       "      <td>190 countries have pre-booked Bharat Biotech COVID vaccine Covaxin</td>\n",
       "      <td>1</td>\n",
       "      <td>False</td>\n",
       "      <td>justinqbui_1</td>\n",
       "      <td>NaN</td>\n",
       "    </tr>\n",
       "    <tr>\n",
       "      <th>12603</th>\n",
       "      <td>Nokia is giving away 2000 phones amid the COVID-19 crisis.</td>\n",
       "      <td>1</td>\n",
       "      <td>False</td>\n",
       "      <td>justinqbui_1</td>\n",
       "      <td>NaN</td>\n",
       "    </tr>\n",
       "  </tbody>\n",
       "</table>\n",
       "</div>"
      ],
      "text/plain": [
       "                                                                                                                                                                                                                                                                                                                                 text  \\\n",
       "14627                                                                                                                                                                                    “Ultraviolet Radiation is administered into the body as a disinfectant to kill bacteria and viruses and this has been used for a while now.”   \n",
       "46                                                                                                                                                                                     The top 5 States with high Active Caseload are also the ones which are presently reporting a high level of recoveries. https://t.co/hOWhFx5wPe   \n",
       "10729                                                                                                                                                                                                                                                      CDC data shows more children will die from the COVID-19 vaccine than virus   \n",
       "2166                                                                                                                                                                                                                   A picture shows an eight-year-old boy infected with coronavirus. Prayers and shares on Facebook will help him.   \n",
       "14100                                                                                                                                                                                                                                \"They’re unable to administer vaccines if the lockdown ends because the emergency ends with it.”   \n",
       "13660                                                                                                                                                                                                                                                     French parade pays tribute to China's efforts against the novel coronavirus   \n",
       "7366                                                                        Our daily update is published. We’ve now tracked 16.9 million tests up 441k from yesterday the 2nd-highest total we've recorded. Note that we can only track tests that a state reports. For details see: https://t.co/PZrmH4bl5Y https://t.co/BT1YANufXT   \n",
       "8456   @explicitgrande @ftwrharry @wolfiecindy You wear you mask all day catching viruses and bacteria. Keeping it warm and moist by breathing body temperature breath on it. Lovely breeding ground for bacteria. Leave them in your car, again nice and warm. Don't wash your hands when you take them up and down. Masks are shit.   \n",
       "12079                                                                                                                                                                                                                                                              190 countries have pre-booked Bharat Biotech COVID vaccine Covaxin   \n",
       "12603                                                                                                                                                                                                                                                                      Nokia is giving away 2000 phones amid the COVID-19 crisis.   \n",
       "\n",
       "       is_fake original_label_1        source original_label_2  \n",
       "14627        1            false  justinqbui_2            false  \n",
       "46           0             real     nanyy1025              NaN  \n",
       "10729        1            False  justinqbui_1              NaN  \n",
       "2166         1             fake     nanyy1025              NaN  \n",
       "14100        1            false  justinqbui_2            false  \n",
       "13660        1            False  justinqbui_1              NaN  \n",
       "7366         0             real     nanyy1025              NaN  \n",
       "8456         1             fake     nanyy1025              NaN  \n",
       "12079        1            False  justinqbui_1              NaN  \n",
       "12603        1            False  justinqbui_1              NaN  "
      ]
     },
     "execution_count": 209,
     "metadata": {},
     "output_type": "execute_result"
    }
   ],
   "source": [
    "final_df.sample(10)"
   ]
  },
  {
   "cell_type": "code",
   "execution_count": 213,
   "metadata": {},
   "outputs": [],
   "source": [
    "import re\n",
    "\n",
    "# Функция для очистки текста\n",
    "def clean_text(text):\n",
    "    text = re.sub(r'#\\S+', '', text)  # Удаление хэштегов\n",
    "    text = re.sub(r'@\\S+', '', text)  # Удаление упоминаний\n",
    "    text = re.sub(r'http\\S+|www\\.\\S+', '', text)  # Удаление ссылок\n",
    "    return text.strip()  # Удаление лишних пробелов\n",
    "\n",
    "final_df['text'] = final_df['text'].apply(clean_text)"
   ]
  },
  {
   "cell_type": "code",
   "execution_count": 225,
   "metadata": {},
   "outputs": [
    {
     "data": {
      "text/html": [
       "<div>\n",
       "<style scoped>\n",
       "    .dataframe tbody tr th:only-of-type {\n",
       "        vertical-align: middle;\n",
       "    }\n",
       "\n",
       "    .dataframe tbody tr th {\n",
       "        vertical-align: top;\n",
       "    }\n",
       "\n",
       "    .dataframe thead th {\n",
       "        text-align: right;\n",
       "    }\n",
       "</style>\n",
       "<table border=\"1\" class=\"dataframe\">\n",
       "  <thead>\n",
       "    <tr style=\"text-align: right;\">\n",
       "      <th></th>\n",
       "      <th>text</th>\n",
       "      <th>is_fake</th>\n",
       "      <th>original_label_1</th>\n",
       "      <th>source</th>\n",
       "      <th>original_label_2</th>\n",
       "    </tr>\n",
       "  </thead>\n",
       "  <tbody>\n",
       "    <tr>\n",
       "      <th>2625</th>\n",
       "      <td>???Breaking UK Prepares For Full Lockdown After Hundreds Of New Cases ??\" Wuhan Super Virus Updates.??�</td>\n",
       "      <td>1</td>\n",
       "      <td>fake</td>\n",
       "      <td>nanyy1025</td>\n",
       "      <td>NaN</td>\n",
       "    </tr>\n",
       "    <tr>\n",
       "      <th>10538</th>\n",
       "      <td>Wearing a mask can prevent transmission of Covid-19</td>\n",
       "      <td>1</td>\n",
       "      <td>fake</td>\n",
       "      <td>nanyy1025</td>\n",
       "      <td>NaN</td>\n",
       "    </tr>\n",
       "    <tr>\n",
       "      <th>13482</th>\n",
       "      <td>Video shows Jack Ma praising China’s response to COVID-19 in speech</td>\n",
       "      <td>1</td>\n",
       "      <td>False</td>\n",
       "      <td>justinqbui_1</td>\n",
       "      <td>NaN</td>\n",
       "    </tr>\n",
       "    <tr>\n",
       "      <th>12719</th>\n",
       "      <td>COVID-19 vaccine will kill 50 million Americans</td>\n",
       "      <td>1</td>\n",
       "      <td>False</td>\n",
       "      <td>justinqbui_1</td>\n",
       "      <td>NaN</td>\n",
       "    </tr>\n",
       "    <tr>\n",
       "      <th>8109</th>\n",
       "      <td>season is here.  will rise again. But what about  ? Can mosquitoes spread  ? We</td>\n",
       "      <td>1</td>\n",
       "      <td>fake</td>\n",
       "      <td>nanyy1025</td>\n",
       "      <td>NaN</td>\n",
       "    </tr>\n",
       "    <tr>\n",
       "      <th>7122</th>\n",
       "      <td>Yesterday our laboratories completed 4162 tests bringing the total number of tests completed to date to 275852.⁣</td>\n",
       "      <td>0</td>\n",
       "      <td>real</td>\n",
       "      <td>nanyy1025</td>\n",
       "      <td>NaN</td>\n",
       "    </tr>\n",
       "    <tr>\n",
       "      <th>3191</th>\n",
       "      <td>Transport Sec Grant Shapps says 'it's very important we don't end up in the position of France and Spain' who've seen a spike in  cases as he arrives at a cabinet meeting ahead of the PM's announcement on new national restrictions.</td>\n",
       "      <td>0</td>\n",
       "      <td>real</td>\n",
       "      <td>nanyy1025</td>\n",
       "      <td>NaN</td>\n",
       "    </tr>\n",
       "    <tr>\n",
       "      <th>14824</th>\n",
       "      <td>“Italy has decided not to treat their elderly for this virus.”</td>\n",
       "      <td>0</td>\n",
       "      <td>barely-true</td>\n",
       "      <td>justinqbui_2</td>\n",
       "      <td>misleading</td>\n",
       "    </tr>\n",
       "    <tr>\n",
       "      <th>8715</th>\n",
       "      <td>Nevada had never reported more than 500 cases in a day. Today the state reported almost 1100. The positive rate and hospitalizations in the state are rising too.</td>\n",
       "      <td>0</td>\n",
       "      <td>real</td>\n",
       "      <td>nanyy1025</td>\n",
       "      <td>NaN</td>\n",
       "    </tr>\n",
       "    <tr>\n",
       "      <th>14858</th>\n",
       "      <td>The health insurance industry has “agreed to waive all co-payments for coronavirus treatments.”</td>\n",
       "      <td>1</td>\n",
       "      <td>false</td>\n",
       "      <td>justinqbui_2</td>\n",
       "      <td>false</td>\n",
       "    </tr>\n",
       "  </tbody>\n",
       "</table>\n",
       "</div>"
      ],
      "text/plain": [
       "                                                                                                                                                                                                                                          text  \\\n",
       "2625                                                                                                                                   ???Breaking UK Prepares For Full Lockdown After Hundreds Of New Cases ??\" Wuhan Super Virus Updates.??�   \n",
       "10538                                                                                                                                                                                      Wearing a mask can prevent transmission of Covid-19   \n",
       "13482                                                                                                                                                                      Video shows Jack Ma praising China’s response to COVID-19 in speech   \n",
       "12719                                                                                                                                                                                          COVID-19 vaccine will kill 50 million Americans   \n",
       "8109                                                                                                                                                           season is here.  will rise again. But what about  ? Can mosquitoes spread  ? We   \n",
       "7122                                                                                                                          Yesterday our laboratories completed 4162 tests bringing the total number of tests completed to date to 275852.⁣   \n",
       "3191   Transport Sec Grant Shapps says 'it's very important we don't end up in the position of France and Spain' who've seen a spike in  cases as he arrives at a cabinet meeting ahead of the PM's announcement on new national restrictions.   \n",
       "14824                                                                                                                                                                           “Italy has decided not to treat their elderly for this virus.”   \n",
       "8715                                                                         Nevada had never reported more than 500 cases in a day. Today the state reported almost 1100. The positive rate and hospitalizations in the state are rising too.   \n",
       "14858                                                                                                                                          The health insurance industry has “agreed to waive all co-payments for coronavirus treatments.”   \n",
       "\n",
       "       is_fake original_label_1        source original_label_2  \n",
       "2625         1             fake     nanyy1025              NaN  \n",
       "10538        1             fake     nanyy1025              NaN  \n",
       "13482        1            False  justinqbui_1              NaN  \n",
       "12719        1            False  justinqbui_1              NaN  \n",
       "8109         1             fake     nanyy1025              NaN  \n",
       "7122         0             real     nanyy1025              NaN  \n",
       "3191         0             real     nanyy1025              NaN  \n",
       "14824        0      barely-true  justinqbui_2       misleading  \n",
       "8715         0             real     nanyy1025              NaN  \n",
       "14858        1            false  justinqbui_2            false  "
      ]
     },
     "execution_count": 225,
     "metadata": {},
     "output_type": "execute_result"
    }
   ],
   "source": [
    "final_df.sample(10)"
   ]
  },
  {
   "cell_type": "code",
   "execution_count": 215,
   "metadata": {},
   "outputs": [],
   "source": [
    "final_df.to_excel(DATA_PATH / 'covid_vaccine_fake_clear.xlsx', index=False)"
   ]
  }
 ],
 "metadata": {
  "kernelspec": {
   "display_name": ".venv",
   "language": "python",
   "name": "python3"
  },
  "language_info": {
   "codemirror_mode": {
    "name": "ipython",
    "version": 3
   },
   "file_extension": ".py",
   "mimetype": "text/x-python",
   "name": "python",
   "nbconvert_exporter": "python",
   "pygments_lexer": "ipython3",
   "version": "3.11.5"
  }
 },
 "nbformat": 4,
 "nbformat_minor": 2
}
