{
 "cells": [
  {
   "cell_type": "markdown",
   "metadata": {},
   "source": [
    "# Dataset"
   ]
  },
  {
   "cell_type": "code",
   "execution_count": 43,
   "metadata": {},
   "outputs": [],
   "source": [
    "import math\n",
    "\n",
    "import torch\n",
    "import pandas as pd\n",
    "import numpy as np"
   ]
  },
  {
   "cell_type": "code",
   "execution_count": 44,
   "metadata": {},
   "outputs": [],
   "source": [
    "from pathlib import Path\n",
    "\n",
    "DATA_PATH = Path('data/')\n",
    "DATA_PATH.mkdir(parents=True, exist_ok=True)\n",
    "\n",
    "DATA_CACHE = Path('data/cache_dir/')\n",
    "DATA_CACHE.mkdir(parents=True, exist_ok=True)\n",
    "\n",
    "DATA_PATH_SAVE_MODELS = Path('data/models/')\n",
    "DATA_PATH_SAVE_MODELS.mkdir(parents=True, exist_ok=True)\n",
    "\n",
    "DATA_SYNTHETIC = Path('synthetic/')\n",
    "DATA_SYNTHETIC.mkdir(parents=True, exist_ok=True)\n",
    "\n",
    "pd.set_option('display.max_colwidth', 500) "
   ]
  },
  {
   "cell_type": "markdown",
   "metadata": {},
   "source": [
    "## [nanyy1025/covid_fake_news](https://huggingface.co/datasets/nanyy1025/covid_fake_news)\n",
    "\n",
    "Датасет `nanyy1025/covid_fake_news` на Hugging Face содержит 10 700 записей, каждая из которых представляет собой твит, связанный с COVID-19, с меткой \"real\" (реальный) или \"fake\" (фейковый). Датасет разделен на три части: обучающая выборка (6 420 записей), валидационная выборка (2 140 записей) и тестовая выборка (2 140 записей). Данные представлены в формате CSV и предназначены для задач классификации текста и zero-shot классификации. Датасет был использован в исследовании \"Fighting an Infodemic: COVID-19 Fake News Dataset\" (arXiv:2011.03327). ([Hugging Face](https://huggingface.co/datasets/nanyy1025/covid_fake_news?utm_source=chatgpt.com)) \n",
    "\n",
    "```bibtex\n",
    "@misc{patwa2020fighting,\n",
    "title={Fighting an Infodemic: COVID-19 Fake News Dataset}, \n",
    "author={Parth Patwa and Shivam Sharma and Srinivas PYKL and Vineeth Guptha and Gitanjali Kumari and Md Shad Akhtar and Asif Ekbal and Amitava Das and Tanmoy Chakraborty},\n",
    "year={2020},\n",
    "eprint={2011.03327},\n",
    "archivePrefix={arXiv},\n",
    "primaryClass={cs.CL}\n",
    "}\n",
    "```"
   ]
  },
  {
   "cell_type": "code",
   "execution_count": 45,
   "metadata": {},
   "outputs": [],
   "source": [
    "from datasets import load_dataset"
   ]
  },
  {
   "cell_type": "code",
   "execution_count": 46,
   "metadata": {},
   "outputs": [],
   "source": [
    "def load_and_merge_nanyy1025_dataset(dataset_name: str = \"nanyy1025/covid_fake_news\",\n",
    "                                     cache_dir=None) -> pd.DataFrame:\n",
    "    dataset = load_dataset(dataset_name, cache_dir=cache_dir)\n",
    "\n",
    "    train_df = dataset['train'].to_pandas()\n",
    "    test_df = dataset['test'].to_pandas()\n",
    "    validation_df = dataset['validation'].to_pandas()\n",
    "    merged_df: pd.DataFrame = pd.concat([train_df, test_df, validation_df], ignore_index=True)\n",
    "    merged_df.rename(columns={'tweet': 'text'}, inplace=True)\n",
    "    return merged_df\n",
    "\n",
    "nanyy1025_df = load_and_merge_nanyy1025_dataset( \"nanyy1025/covid_fake_news\", DATA_CACHE)"
   ]
  },
  {
   "cell_type": "code",
   "execution_count": 47,
   "metadata": {},
   "outputs": [
    {
     "data": {
      "text/html": [
       "<div>\n",
       "<style scoped>\n",
       "    .dataframe tbody tr th:only-of-type {\n",
       "        vertical-align: middle;\n",
       "    }\n",
       "\n",
       "    .dataframe tbody tr th {\n",
       "        vertical-align: top;\n",
       "    }\n",
       "\n",
       "    .dataframe thead th {\n",
       "        text-align: right;\n",
       "    }\n",
       "</style>\n",
       "<table border=\"1\" class=\"dataframe\">\n",
       "  <thead>\n",
       "    <tr style=\"text-align: right;\">\n",
       "      <th></th>\n",
       "      <th>id</th>\n",
       "      <th>text</th>\n",
       "      <th>label</th>\n",
       "    </tr>\n",
       "  </thead>\n",
       "  <tbody>\n",
       "    <tr>\n",
       "      <th>0</th>\n",
       "      <td>1</td>\n",
       "      <td>The CDC currently reports 99031 deaths. In general the discrepancies in death counts between different sources are small and explicable. The death toll stands at roughly 100000 people today.</td>\n",
       "      <td>real</td>\n",
       "    </tr>\n",
       "    <tr>\n",
       "      <th>1</th>\n",
       "      <td>2</td>\n",
       "      <td>States reported 1121 deaths a small rise from last Tuesday. Southern states reported 640 of those deaths. https://t.co/YASGRTT4ux</td>\n",
       "      <td>real</td>\n",
       "    </tr>\n",
       "    <tr>\n",
       "      <th>2</th>\n",
       "      <td>3</td>\n",
       "      <td>Politically Correct Woman (Almost) Uses Pandemic as Excuse Not to Reuse Plastic Bag https://t.co/thF8GuNFPe #coronavirus #nashville</td>\n",
       "      <td>fake</td>\n",
       "    </tr>\n",
       "    <tr>\n",
       "      <th>3</th>\n",
       "      <td>4</td>\n",
       "      <td>#IndiaFightsCorona: We have 1524 #COVID testing laboratories in India and as on 25th August 2020 36827520 tests have been done : @ProfBhargava DG @ICMRDELHI #StaySafe #IndiaWillWin https://t.co/Yh3ZxknnhZ</td>\n",
       "      <td>real</td>\n",
       "    </tr>\n",
       "    <tr>\n",
       "      <th>4</th>\n",
       "      <td>5</td>\n",
       "      <td>Populous states can generate large case counts but if you look at the new cases per million today 9 smaller states are showing more cases per million than California or Texas: AL AR ID KS KY LA MS NV and SC. https://t.co/1pYW6cWRaS</td>\n",
       "      <td>real</td>\n",
       "    </tr>\n",
       "  </tbody>\n",
       "</table>\n",
       "</div>"
      ],
      "text/plain": [
       "   id  \\\n",
       "0   1   \n",
       "1   2   \n",
       "2   3   \n",
       "3   4   \n",
       "4   5   \n",
       "\n",
       "                                                                                                                                                                                                                                      text  \\\n",
       "0                                           The CDC currently reports 99031 deaths. In general the discrepancies in death counts between different sources are small and explicable. The death toll stands at roughly 100000 people today.   \n",
       "1                                                                                                        States reported 1121 deaths a small rise from last Tuesday. Southern states reported 640 of those deaths. https://t.co/YASGRTT4ux   \n",
       "2                                                                                                      Politically Correct Woman (Almost) Uses Pandemic as Excuse Not to Reuse Plastic Bag https://t.co/thF8GuNFPe #coronavirus #nashville   \n",
       "3                             #IndiaFightsCorona: We have 1524 #COVID testing laboratories in India and as on 25th August 2020 36827520 tests have been done : @ProfBhargava DG @ICMRDELHI #StaySafe #IndiaWillWin https://t.co/Yh3ZxknnhZ   \n",
       "4  Populous states can generate large case counts but if you look at the new cases per million today 9 smaller states are showing more cases per million than California or Texas: AL AR ID KS KY LA MS NV and SC. https://t.co/1pYW6cWRaS   \n",
       "\n",
       "  label  \n",
       "0  real  \n",
       "1  real  \n",
       "2  fake  \n",
       "3  real  \n",
       "4  real  "
      ]
     },
     "execution_count": 47,
     "metadata": {},
     "output_type": "execute_result"
    }
   ],
   "source": [
    "nanyy1025_df.head()"
   ]
  },
  {
   "cell_type": "code",
   "execution_count": 48,
   "metadata": {},
   "outputs": [
    {
     "name": "stdout",
     "output_type": "stream",
     "text": [
      "<class 'pandas.core.frame.DataFrame'>\n",
      "RangeIndex: 10700 entries, 0 to 10699\n",
      "Data columns (total 3 columns):\n",
      " #   Column  Non-Null Count  Dtype \n",
      "---  ------  --------------  ----- \n",
      " 0   id      10700 non-null  int64 \n",
      " 1   text    10700 non-null  object\n",
      " 2   label   10700 non-null  object\n",
      "dtypes: int64(1), object(2)\n",
      "memory usage: 250.9+ KB\n"
     ]
    }
   ],
   "source": [
    "nanyy1025_df.info()"
   ]
  },
  {
   "cell_type": "markdown",
   "metadata": {},
   "source": [
    "## [justinqbui/covid_fact_checked_google_api](https://huggingface.co/datasets/justinqbui/covid_fact_checked_google_api)\n",
    "\n",
    "Датасет **justinqbui/covid_fact_checked_google_api** с Hugging Face представляет собой выборку проверенных фактов, связанных с COVID-19, собранных с использованием Google Fact Checker API. Вот его основные характеристики:\n",
    "\n",
    "1. **Общий объем данных:**\n",
    "   - Содержит 3 043 записи.\n",
    "   - Первоначально было собрано 10 000 фактов, но для упрощения включены только те записи, где рейтинг был представлен одним словом — \"false\" (ложь) или \"true\" (правда). Около 90% фактов в датасете оценены как ложные.\n",
    "\n",
    "2. **Модальности и форматы:**\n",
    "   - Тип данных: текст.\n",
    "   - Формат: CSV.\n",
    "   - Также доступен в формате Parquet.\n",
    "\n",
    "3. **Описание данных:**\n",
    "   - Поля датасета:\n",
    "     - `text`: текст проверенного факта.\n",
    "     - `label`: метка правдивости (`true` или `false`).\n",
    "   - Аннотации созданы экспертами.\n",
    "   - Язык: английский (en-US).\n",
    "   - Датасет является монолингвальным."
   ]
  },
  {
   "cell_type": "code",
   "execution_count": 49,
   "metadata": {},
   "outputs": [
    {
     "name": "stderr",
     "output_type": "stream",
     "text": [
      "Repo card metadata block was not found. Setting CardData to empty.\n"
     ]
    }
   ],
   "source": [
    "def load_and_merge_justinqbui_dataset(dataset_name: str = \"justinqbui/covid_fact_checked_google_api\",\n",
    "                                     cache_dir=None) -> pd.DataFrame:\n",
    "    dataset = load_dataset(dataset_name, cache_dir=cache_dir)\n",
    "    return dataset['train'].to_pandas()\n",
    "\n",
    "justinqbui_1_df = load_and_merge_justinqbui_dataset( \"justinqbui/covid_fact_checked_google_api\", DATA_CACHE)"
   ]
  },
  {
   "cell_type": "code",
   "execution_count": 50,
   "metadata": {},
   "outputs": [
    {
     "data": {
      "text/html": [
       "<div>\n",
       "<style scoped>\n",
       "    .dataframe tbody tr th:only-of-type {\n",
       "        vertical-align: middle;\n",
       "    }\n",
       "\n",
       "    .dataframe tbody tr th {\n",
       "        vertical-align: top;\n",
       "    }\n",
       "\n",
       "    .dataframe thead th {\n",
       "        text-align: right;\n",
       "    }\n",
       "</style>\n",
       "<table border=\"1\" class=\"dataframe\">\n",
       "  <thead>\n",
       "    <tr style=\"text-align: right;\">\n",
       "      <th></th>\n",
       "      <th>Unnamed: 0</th>\n",
       "      <th>text</th>\n",
       "      <th>label</th>\n",
       "    </tr>\n",
       "  </thead>\n",
       "  <tbody>\n",
       "    <tr>\n",
       "      <th>0</th>\n",
       "      <td>0</td>\n",
       "      <td>Study finds 5G technology a ‘significant factor’ in higher COVID case and death rates</td>\n",
       "      <td>False</td>\n",
       "    </tr>\n",
       "    <tr>\n",
       "      <th>1</th>\n",
       "      <td>1</td>\n",
       "      <td>Society is “choosing blood clots and heart problems over cold and flu symptoms, or even no symptoms at all.”</td>\n",
       "      <td>False</td>\n",
       "    </tr>\n",
       "    <tr>\n",
       "      <th>2</th>\n",
       "      <td>2</td>\n",
       "      <td>Dr. Anthony Fauci, the director of the National Institute of Allergy and Infectious Diseases (NIAID), has said he wants Americans to receive four COVID-19 vaccine shots each year.</td>\n",
       "      <td>False</td>\n",
       "    </tr>\n",
       "    <tr>\n",
       "      <th>3</th>\n",
       "      <td>3</td>\n",
       "      <td>As of early December 2021, no one worldwide who tested positive for the omicron variant of the coronavirus had died.</td>\n",
       "      <td>True</td>\n",
       "    </tr>\n",
       "    <tr>\n",
       "      <th>4</th>\n",
       "      <td>4</td>\n",
       "      <td>the image shows a fence in a German mall separating people vaccinated against COVID-19 from those who are unvaccinated.</td>\n",
       "      <td>False</td>\n",
       "    </tr>\n",
       "  </tbody>\n",
       "</table>\n",
       "</div>"
      ],
      "text/plain": [
       "   Unnamed: 0  \\\n",
       "0           0   \n",
       "1           1   \n",
       "2           2   \n",
       "3           3   \n",
       "4           4   \n",
       "\n",
       "                                                                                                                                                                                  text  \\\n",
       "0                                                                                                Study finds 5G technology a ‘significant factor’ in higher COVID case and death rates   \n",
       "1                                                                         Society is “choosing blood clots and heart problems over cold and flu symptoms, or even no symptoms at all.”   \n",
       "2  Dr. Anthony Fauci, the director of the National Institute of Allergy and Infectious Diseases (NIAID), has said he wants Americans to receive four COVID-19 vaccine shots each year.   \n",
       "3                                                                 As of early December 2021, no one worldwide who tested positive for the omicron variant of the coronavirus had died.   \n",
       "4                                                              the image shows a fence in a German mall separating people vaccinated against COVID-19 from those who are unvaccinated.   \n",
       "\n",
       "   label  \n",
       "0  False  \n",
       "1  False  \n",
       "2  False  \n",
       "3   True  \n",
       "4  False  "
      ]
     },
     "execution_count": 50,
     "metadata": {},
     "output_type": "execute_result"
    }
   ],
   "source": [
    "justinqbui_1_df.head()"
   ]
  },
  {
   "cell_type": "code",
   "execution_count": 51,
   "metadata": {},
   "outputs": [
    {
     "name": "stdout",
     "output_type": "stream",
     "text": [
      "<class 'pandas.core.frame.DataFrame'>\n",
      "RangeIndex: 3043 entries, 0 to 3042\n",
      "Data columns (total 3 columns):\n",
      " #   Column      Non-Null Count  Dtype \n",
      "---  ------      --------------  ----- \n",
      " 0   Unnamed: 0  3043 non-null   int64 \n",
      " 1   text        3043 non-null   object\n",
      " 2   label       3043 non-null   bool  \n",
      "dtypes: bool(1), int64(1), object(1)\n",
      "memory usage: 50.6+ KB\n"
     ]
    }
   ],
   "source": [
    "justinqbui_1_df.info()"
   ]
  },
  {
   "cell_type": "code",
   "execution_count": 52,
   "metadata": {},
   "outputs": [
    {
     "data": {
      "text/plain": [
       "label\n",
       "False    2929\n",
       "True      114\n",
       "Name: count, dtype: int64"
      ]
     },
     "execution_count": 52,
     "metadata": {},
     "output_type": "execute_result"
    }
   ],
   "source": [
    "justinqbui_1_df['label'].value_counts()"
   ]
  },
  {
   "cell_type": "markdown",
   "metadata": {},
   "source": [
    "## [justinqbui/covid_fact_checked_polifact](https://huggingface.co/datasets/justinqbui/covid_fact_checked_polifact)\n",
    "\n",
    "Датасет **justinqbui/covid_fact_checked_polifact** с Hugging Face включает записи, связанные с проверкой фактов о COVID-19, собранных с помощью автоматического веб-скрейпера, который извлек данные из PolitiFact COVID Fact Checker. Вот его ключевые характеристики:\n",
    "\n",
    "1. **Общий объем данных:**\n",
    "   - Содержит 1 190 записей.\n",
    "   - Датасет состоит из утверждений и их оценки на правдивость.\n",
    "\n",
    "2. **Модальности и форматы:**\n",
    "   - Тип данных: текст.\n",
    "   - Формат: CSV.\n",
    "   - Также доступен в формате Parquet.\n",
    "\n",
    "3. **Описание данных:**\n",
    "   - Поля датасета:\n",
    "     - `claim`: текст утверждения.\n",
    "     - `rating`: оценка, присвоенная PolitiFact (7 значений: *half-true*, *full-flop*, *pants-fire*, *barely-true*, *true*, *mostly-true*, *false*).\n",
    "     - `adjusted_rating`: упрощенная версия оценки (3 значения: например, \"true\", \"false\" и промежуточные варианты).\n",
    "   - Поля предоставляют как детализированные, так и агрегированные оценки фактов."
   ]
  },
  {
   "cell_type": "code",
   "execution_count": 53,
   "metadata": {},
   "outputs": [
    {
     "name": "stderr",
     "output_type": "stream",
     "text": [
      "Repo card metadata block was not found. Setting CardData to empty.\n"
     ]
    }
   ],
   "source": [
    "justinqbui_2_df = load_and_merge_justinqbui_dataset( \"justinqbui/covid_fact_checked_polifact\", DATA_CACHE)"
   ]
  },
  {
   "cell_type": "code",
   "execution_count": 54,
   "metadata": {},
   "outputs": [
    {
     "data": {
      "text/html": [
       "<div>\n",
       "<style scoped>\n",
       "    .dataframe tbody tr th:only-of-type {\n",
       "        vertical-align: middle;\n",
       "    }\n",
       "\n",
       "    .dataframe tbody tr th {\n",
       "        vertical-align: top;\n",
       "    }\n",
       "\n",
       "    .dataframe thead th {\n",
       "        text-align: right;\n",
       "    }\n",
       "</style>\n",
       "<table border=\"1\" class=\"dataframe\">\n",
       "  <thead>\n",
       "    <tr style=\"text-align: right;\">\n",
       "      <th></th>\n",
       "      <th>Unnamed: 0</th>\n",
       "      <th>claim</th>\n",
       "      <th>rating</th>\n",
       "      <th>adjusted rating</th>\n",
       "    </tr>\n",
       "  </thead>\n",
       "  <tbody>\n",
       "    <tr>\n",
       "      <th>0</th>\n",
       "      <td>0</td>\n",
       "      <td>Deaths from vaccines have totaled 1,621 from Johnson &amp; Johnson, 4,799 from Moderna, 13,039 from Pfizer and 73 from unknown vaccines. And this is an undercount because “only 1% of deaths are reported.”</td>\n",
       "      <td>false</td>\n",
       "      <td>false</td>\n",
       "    </tr>\n",
       "    <tr>\n",
       "      <th>1</th>\n",
       "      <td>1</td>\n",
       "      <td>The COVID-19 vaccine is the “deadliest vaccine ever made.”</td>\n",
       "      <td>pants-fire</td>\n",
       "      <td>false</td>\n",
       "    </tr>\n",
       "    <tr>\n",
       "      <th>2</th>\n",
       "      <td>2</td>\n",
       "      <td>Warnings about heart problems and blood clots in cold weather are to cover up COVID-19 vaccine side effects.</td>\n",
       "      <td>false</td>\n",
       "      <td>false</td>\n",
       "    </tr>\n",
       "    <tr>\n",
       "      <th>3</th>\n",
       "      <td>3</td>\n",
       "      <td>\"Canada joins the no jab, no food trend\"</td>\n",
       "      <td>barely-true</td>\n",
       "      <td>misleading</td>\n",
       "    </tr>\n",
       "    <tr>\n",
       "      <th>4</th>\n",
       "      <td>4</td>\n",
       "      <td>The COVID-19 vaccines \"suppress the immune system\" and make people more susceptible to HIV, shingles and herpes.</td>\n",
       "      <td>false</td>\n",
       "      <td>false</td>\n",
       "    </tr>\n",
       "  </tbody>\n",
       "</table>\n",
       "</div>"
      ],
      "text/plain": [
       "   Unnamed: 0  \\\n",
       "0           0   \n",
       "1           1   \n",
       "2           2   \n",
       "3           3   \n",
       "4           4   \n",
       "\n",
       "                                                                                                                                                                                                      claim  \\\n",
       "0  Deaths from vaccines have totaled 1,621 from Johnson & Johnson, 4,799 from Moderna, 13,039 from Pfizer and 73 from unknown vaccines. And this is an undercount because “only 1% of deaths are reported.”   \n",
       "1                                                                                                                                                The COVID-19 vaccine is the “deadliest vaccine ever made.”   \n",
       "2                                                                                              Warnings about heart problems and blood clots in cold weather are to cover up COVID-19 vaccine side effects.   \n",
       "3                                                                                                                                                                  \"Canada joins the no jab, no food trend\"   \n",
       "4                                                                                          The COVID-19 vaccines \"suppress the immune system\" and make people more susceptible to HIV, shingles and herpes.   \n",
       "\n",
       "        rating adjusted rating  \n",
       "0        false           false  \n",
       "1   pants-fire           false  \n",
       "2        false           false  \n",
       "3  barely-true      misleading  \n",
       "4        false           false  "
      ]
     },
     "execution_count": 54,
     "metadata": {},
     "output_type": "execute_result"
    }
   ],
   "source": [
    "justinqbui_2_df.head()"
   ]
  },
  {
   "cell_type": "code",
   "execution_count": 55,
   "metadata": {},
   "outputs": [
    {
     "name": "stdout",
     "output_type": "stream",
     "text": [
      "<class 'pandas.core.frame.DataFrame'>\n",
      "RangeIndex: 1185 entries, 0 to 1184\n",
      "Data columns (total 4 columns):\n",
      " #   Column           Non-Null Count  Dtype \n",
      "---  ------           --------------  ----- \n",
      " 0   Unnamed: 0       1185 non-null   int64 \n",
      " 1   claim            1185 non-null   object\n",
      " 2   rating           1185 non-null   object\n",
      " 3   adjusted rating  1185 non-null   object\n",
      "dtypes: int64(1), object(3)\n",
      "memory usage: 37.2+ KB\n"
     ]
    }
   ],
   "source": [
    "justinqbui_2_df.info()"
   ]
  },
  {
   "cell_type": "code",
   "execution_count": 56,
   "metadata": {},
   "outputs": [
    {
     "data": {
      "text/plain": [
       "<Axes: >"
      ]
     },
     "execution_count": 56,
     "metadata": {},
     "output_type": "execute_result"
    },
    {
     "data": {
      "image/png": "[encoded data removed]",
      "text/plain": [
       "<Figure size 640x480 with 1 Axes>"
      ]
     },
     "metadata": {},
     "output_type": "display_data"
    }
   ],
   "source": [
    "justinqbui_2_df['rating'].hist()"
   ]
  },
  {
   "cell_type": "code",
   "execution_count": 57,
   "metadata": {},
   "outputs": [
    {
     "data": {
      "text/plain": [
       "rating\n",
       "false          608\n",
       "pants-fire     178\n",
       "barely-true    170\n",
       "half-true      100\n",
       "mostly-true     78\n",
       "true            50\n",
       "full-flop        1\n",
       "Name: count, dtype: int64"
      ]
     },
     "execution_count": 57,
     "metadata": {},
     "output_type": "execute_result"
    }
   ],
   "source": [
    "justinqbui_2_df['rating'].value_counts()"
   ]
  },
  {
   "cell_type": "code",
   "execution_count": 58,
   "metadata": {},
   "outputs": [
    {
     "data": {
      "text/plain": [
       "adjusted rating\n",
       "false         787\n",
       "misleading    270\n",
       "true          128\n",
       "Name: count, dtype: int64"
      ]
     },
     "execution_count": 58,
     "metadata": {},
     "output_type": "execute_result"
    }
   ],
   "source": [
    "justinqbui_2_df['adjusted rating'].value_counts()"
   ]
  },
  {
   "cell_type": "markdown",
   "metadata": {},
   "source": [
    "## Объединение"
   ]
  },
  {
   "cell_type": "code",
   "execution_count": 59,
   "metadata": {},
   "outputs": [
    {
     "data": {
      "text/html": [
       "<div>\n",
       "<style scoped>\n",
       "    .dataframe tbody tr th:only-of-type {\n",
       "        vertical-align: middle;\n",
       "    }\n",
       "\n",
       "    .dataframe tbody tr th {\n",
       "        vertical-align: top;\n",
       "    }\n",
       "\n",
       "    .dataframe thead th {\n",
       "        text-align: right;\n",
       "    }\n",
       "</style>\n",
       "<table border=\"1\" class=\"dataframe\">\n",
       "  <thead>\n",
       "    <tr style=\"text-align: right;\">\n",
       "      <th></th>\n",
       "      <th>text</th>\n",
       "      <th>label_idx</th>\n",
       "      <th>original_label_1</th>\n",
       "      <th>source</th>\n",
       "    </tr>\n",
       "  </thead>\n",
       "  <tbody>\n",
       "    <tr>\n",
       "      <th>0</th>\n",
       "      <td>The CDC currently reports 99031 deaths. In general the discrepancies in death counts between different sources are small and explicable. The death toll stands at roughly 100000 people today.</td>\n",
       "      <td>0</td>\n",
       "      <td>real</td>\n",
       "      <td>nanyy1025</td>\n",
       "    </tr>\n",
       "  </tbody>\n",
       "</table>\n",
       "</div>"
      ],
      "text/plain": [
       "                                                                                                                                                                                             text  \\\n",
       "0  The CDC currently reports 99031 deaths. In general the discrepancies in death counts between different sources are small and explicable. The death toll stands at roughly 100000 people today.   \n",
       "\n",
       "   label_idx original_label_1     source  \n",
       "0          0             real  nanyy1025  "
      ]
     },
     "execution_count": 59,
     "metadata": {},
     "output_type": "execute_result"
    }
   ],
   "source": [
    "nanyy1025_df['source'] = 'nanyy1025'\n",
    "nanyy1025_df['original_label_1'] = nanyy1025_df['label']\n",
    "nanyy1025_df['label_idx'] = nanyy1025_df['label'].apply(lambda x: 1 if x == 'fake' else 0)\n",
    "nanyy1025_df = nanyy1025_df[['text', 'label_idx', 'original_label_1', 'source']]\n",
    "nanyy1025_df.head(1)"
   ]
  },
  {
   "cell_type": "code",
   "execution_count": 60,
   "metadata": {},
   "outputs": [
    {
     "data": {
      "text/html": [
       "<div>\n",
       "<style scoped>\n",
       "    .dataframe tbody tr th:only-of-type {\n",
       "        vertical-align: middle;\n",
       "    }\n",
       "\n",
       "    .dataframe tbody tr th {\n",
       "        vertical-align: top;\n",
       "    }\n",
       "\n",
       "    .dataframe thead th {\n",
       "        text-align: right;\n",
       "    }\n",
       "</style>\n",
       "<table border=\"1\" class=\"dataframe\">\n",
       "  <thead>\n",
       "    <tr style=\"text-align: right;\">\n",
       "      <th></th>\n",
       "      <th>text</th>\n",
       "      <th>label_idx</th>\n",
       "      <th>original_label_1</th>\n",
       "      <th>source</th>\n",
       "    </tr>\n",
       "  </thead>\n",
       "  <tbody>\n",
       "    <tr>\n",
       "      <th>0</th>\n",
       "      <td>Study finds 5G technology a ‘significant factor’ in higher COVID case and death rates</td>\n",
       "      <td>1</td>\n",
       "      <td>False</td>\n",
       "      <td>justinqbui_1</td>\n",
       "    </tr>\n",
       "  </tbody>\n",
       "</table>\n",
       "</div>"
      ],
      "text/plain": [
       "                                                                                    text  \\\n",
       "0  Study finds 5G technology a ‘significant factor’ in higher COVID case and death rates   \n",
       "\n",
       "   label_idx  original_label_1        source  \n",
       "0          1             False  justinqbui_1  "
      ]
     },
     "execution_count": 60,
     "metadata": {},
     "output_type": "execute_result"
    }
   ],
   "source": [
    "justinqbui_1_df['source'] = 'justinqbui_1'\n",
    "justinqbui_1_df['original_label_1'] = justinqbui_1_df['label']\n",
    "justinqbui_1_df['label_idx'] = justinqbui_1_df['label'].apply(lambda x: True if x == False else 0).astype(int)\n",
    "justinqbui_1_df = justinqbui_1_df[['text', 'label_idx', 'original_label_1', 'source']]\n",
    "justinqbui_1_df.head(1)"
   ]
  },
  {
   "cell_type": "code",
   "execution_count": 61,
   "metadata": {},
   "outputs": [
    {
     "data": {
      "text/html": [
       "<div>\n",
       "<style scoped>\n",
       "    .dataframe tbody tr th:only-of-type {\n",
       "        vertical-align: middle;\n",
       "    }\n",
       "\n",
       "    .dataframe tbody tr th {\n",
       "        vertical-align: top;\n",
       "    }\n",
       "\n",
       "    .dataframe thead th {\n",
       "        text-align: right;\n",
       "    }\n",
       "</style>\n",
       "<table border=\"1\" class=\"dataframe\">\n",
       "  <thead>\n",
       "    <tr style=\"text-align: right;\">\n",
       "      <th></th>\n",
       "      <th>text</th>\n",
       "      <th>label_idx</th>\n",
       "      <th>original_label_1</th>\n",
       "      <th>original_label_2</th>\n",
       "      <th>source</th>\n",
       "    </tr>\n",
       "  </thead>\n",
       "  <tbody>\n",
       "    <tr>\n",
       "      <th>0</th>\n",
       "      <td>Deaths from vaccines have totaled 1,621 from Johnson &amp; Johnson, 4,799 from Moderna, 13,039 from Pfizer and 73 from unknown vaccines. And this is an undercount because “only 1% of deaths are reported.”</td>\n",
       "      <td>1</td>\n",
       "      <td>false</td>\n",
       "      <td>false</td>\n",
       "      <td>justinqbui_2</td>\n",
       "    </tr>\n",
       "  </tbody>\n",
       "</table>\n",
       "</div>"
      ],
      "text/plain": [
       "                                                                                                                                                                                                       text  \\\n",
       "0  Deaths from vaccines have totaled 1,621 from Johnson & Johnson, 4,799 from Moderna, 13,039 from Pfizer and 73 from unknown vaccines. And this is an undercount because “only 1% of deaths are reported.”   \n",
       "\n",
       "   label_idx original_label_1 original_label_2        source  \n",
       "0          1            false            false  justinqbui_2  "
      ]
     },
     "execution_count": 61,
     "metadata": {},
     "output_type": "execute_result"
    }
   ],
   "source": [
    "justinqbui_2_df['source'] = 'justinqbui_2'\n",
    "justinqbui_2_df['original_label_1'] = justinqbui_2_df['rating']\n",
    "justinqbui_2_df['original_label_2'] = justinqbui_2_df['adjusted rating']\n",
    "\n",
    "justinqbui_2_df['label_idx'] = justinqbui_2_df['adjusted rating'].apply(lambda x: 1 if x == 'false' else 0)\n",
    "\n",
    "justinqbui_2_df = justinqbui_2_df[['claim', 'label_idx', 'original_label_1', 'original_label_2', 'source']]\n",
    "justinqbui_2_df.rename(columns={'claim': 'text'}, inplace=True)\n",
    "justinqbui_2_df.head(1)"
   ]
  },
  {
   "cell_type": "code",
   "execution_count": 62,
   "metadata": {},
   "outputs": [],
   "source": [
    "combined_df = pd.concat([nanyy1025_df, justinqbui_1_df, justinqbui_2_df], ignore_index=True)"
   ]
  },
  {
   "cell_type": "code",
   "execution_count": 63,
   "metadata": {},
   "outputs": [
    {
     "data": {
      "text/html": [
       "<div>\n",
       "<style scoped>\n",
       "    .dataframe tbody tr th:only-of-type {\n",
       "        vertical-align: middle;\n",
       "    }\n",
       "\n",
       "    .dataframe tbody tr th {\n",
       "        vertical-align: top;\n",
       "    }\n",
       "\n",
       "    .dataframe thead th {\n",
       "        text-align: right;\n",
       "    }\n",
       "</style>\n",
       "<table border=\"1\" class=\"dataframe\">\n",
       "  <thead>\n",
       "    <tr style=\"text-align: right;\">\n",
       "      <th></th>\n",
       "      <th>text</th>\n",
       "      <th>label_idx</th>\n",
       "      <th>original_label_1</th>\n",
       "      <th>source</th>\n",
       "      <th>original_label_2</th>\n",
       "    </tr>\n",
       "  </thead>\n",
       "  <tbody>\n",
       "    <tr>\n",
       "      <th>2376</th>\n",
       "      <td>Across five states this week we commenced the assessment of Public Health Emergency Operations Centres (PHEOC) for optimisation. We remain committed towards strengthening sub-national health security as well as capacity to manage disease outbreaks. https://t.co/R5N1MHNUng</td>\n",
       "      <td>0</td>\n",
       "      <td>real</td>\n",
       "      <td>nanyy1025</td>\n",
       "      <td>NaN</td>\n",
       "    </tr>\n",
       "    <tr>\n",
       "      <th>837</th>\n",
       "      <td>Video of a doctor fainted on the floor after getting infected with coronavirus.</td>\n",
       "      <td>1</td>\n",
       "      <td>fake</td>\n",
       "      <td>nanyy1025</td>\n",
       "      <td>NaN</td>\n",
       "    </tr>\n",
       "    <tr>\n",
       "      <th>11573</th>\n",
       "      <td>Herpes infection could be a rare side effect of COVID-19 vaccination</td>\n",
       "      <td>1</td>\n",
       "      <td>False</td>\n",
       "      <td>justinqbui_1</td>\n",
       "      <td>NaN</td>\n",
       "    </tr>\n",
       "    <tr>\n",
       "      <th>5178</th>\n",
       "      <td>With 57381 recoveries in the past 24 hours India records the biggest single-day spike in recoveries. Nation’s recovery rate from coronavirus infection stands at 71.17%. Bihar becomes 8th Indian state to cross the grim benchmark of 1 lakh COVID-19 cases #Indians #IndependenceDay https://t.co/ncHlbr8Bmk</td>\n",
       "      <td>1</td>\n",
       "      <td>fake</td>\n",
       "      <td>nanyy1025</td>\n",
       "      <td>NaN</td>\n",
       "    </tr>\n",
       "    <tr>\n",
       "      <th>9684</th>\n",
       "      <td>Update from the @minhealthnz ​ There is one new case of COVID-19 to report in managed isolation in New Zealand today.​ ​ The number of active cases in New Zealand is 22.​ It has been 78 days since the last case of COVID-19 was acquired locally from an unknown source.</td>\n",
       "      <td>0</td>\n",
       "      <td>real</td>\n",
       "      <td>nanyy1025</td>\n",
       "      <td>NaN</td>\n",
       "    </tr>\n",
       "  </tbody>\n",
       "</table>\n",
       "</div>"
      ],
      "text/plain": [
       "                                                                                                                                                                                                                                                                                                                 text  \\\n",
       "2376                                 Across five states this week we commenced the assessment of Public Health Emergency Operations Centres (PHEOC) for optimisation. We remain committed towards strengthening sub-national health security as well as capacity to manage disease outbreaks. https://t.co/R5N1MHNUng   \n",
       "837                                                                                                                                                                                                                                   Video of a doctor fainted on the floor after getting infected with coronavirus.   \n",
       "11573                                                                                                                                                                                                                                            Herpes infection could be a rare side effect of COVID-19 vaccination   \n",
       "5178   With 57381 recoveries in the past 24 hours India records the biggest single-day spike in recoveries. Nation’s recovery rate from coronavirus infection stands at 71.17%. Bihar becomes 8th Indian state to cross the grim benchmark of 1 lakh COVID-19 cases #Indians #IndependenceDay https://t.co/ncHlbr8Bmk   \n",
       "9684                                      Update from the @minhealthnz ​ There is one new case of COVID-19 to report in managed isolation in New Zealand today.​ ​ The number of active cases in New Zealand is 22.​ It has been 78 days since the last case of COVID-19 was acquired locally from an unknown source.   \n",
       "\n",
       "       label_idx original_label_1        source original_label_2  \n",
       "2376           0             real     nanyy1025              NaN  \n",
       "837            1             fake     nanyy1025              NaN  \n",
       "11573          1            False  justinqbui_1              NaN  \n",
       "5178           1             fake     nanyy1025              NaN  \n",
       "9684           0             real     nanyy1025              NaN  "
      ]
     },
     "execution_count": 63,
     "metadata": {},
     "output_type": "execute_result"
    }
   ],
   "source": [
    "combined_df.sample(5)"
   ]
  },
  {
   "cell_type": "code",
   "execution_count": 64,
   "metadata": {},
   "outputs": [
    {
     "name": "stdout",
     "output_type": "stream",
     "text": [
      "<class 'pandas.core.frame.DataFrame'>\n",
      "RangeIndex: 14928 entries, 0 to 14927\n",
      "Data columns (total 5 columns):\n",
      " #   Column            Non-Null Count  Dtype \n",
      "---  ------            --------------  ----- \n",
      " 0   text              14928 non-null  object\n",
      " 1   label_idx         14928 non-null  int64 \n",
      " 2   original_label_1  14928 non-null  object\n",
      " 3   source            14928 non-null  object\n",
      " 4   original_label_2  1185 non-null   object\n",
      "dtypes: int64(1), object(4)\n",
      "memory usage: 583.3+ KB\n"
     ]
    }
   ],
   "source": [
    "combined_df.info()"
   ]
  },
  {
   "cell_type": "code",
   "execution_count": 65,
   "metadata": {},
   "outputs": [
    {
     "data": {
      "text/plain": [
       "original_label_1\n",
       "real           5600\n",
       "fake           5100\n",
       "False          2929\n",
       "false           608\n",
       "pants-fire      178\n",
       "barely-true     170\n",
       "True            114\n",
       "half-true       100\n",
       "mostly-true      78\n",
       "true             50\n",
       "full-flop         1\n",
       "Name: count, dtype: int64"
      ]
     },
     "execution_count": 65,
     "metadata": {},
     "output_type": "execute_result"
    }
   ],
   "source": [
    "combined_df['original_label_1'].value_counts()"
   ]
  },
  {
   "cell_type": "code",
   "execution_count": 66,
   "metadata": {},
   "outputs": [
    {
     "data": {
      "text/plain": [
       "label_idx\n",
       "1    8816\n",
       "0    6112\n",
       "Name: count, dtype: int64"
      ]
     },
     "execution_count": 66,
     "metadata": {},
     "output_type": "execute_result"
    }
   ],
   "source": [
    "combined_df['label_idx'].value_counts()"
   ]
  },
  {
   "cell_type": "markdown",
   "metadata": {},
   "source": [
    "## Синтетика данных"
   ]
  },
  {
   "cell_type": "code",
   "execution_count": 67,
   "metadata": {},
   "outputs": [],
   "source": [
    "negative_file = DATA_SYNTHETIC / 'negative_text.txt'\n",
    "positive_file = DATA_SYNTHETIC / 'positive_text.txt'\n",
    "\n",
    "def create_dataframe_from_file(file_path: Path, label_idx: int) -> pd.DataFrame:\n",
    "    data = []\n",
    "    with file_path.open('r', encoding='utf-8') as f:\n",
    "        for line in f:\n",
    "            line = line.strip()\n",
    "            if line:\n",
    "                data.append({'text': line, 'label_idx': label_idx})\n",
    "    \n",
    "    return pd.DataFrame(data)\n",
    "\n",
    "negative_df = create_dataframe_from_file(negative_file, label_idx=1)\n",
    "positive_df = create_dataframe_from_file(positive_file, label_idx=0)\n",
    "\n",
    "synthetic_df = pd.concat([negative_df, positive_df], ignore_index=True)"
   ]
  },
  {
   "cell_type": "code",
   "execution_count": 68,
   "metadata": {},
   "outputs": [
    {
     "name": "stdout",
     "output_type": "stream",
     "text": [
      "<class 'pandas.core.frame.DataFrame'>\n",
      "RangeIndex: 1344 entries, 0 to 1343\n",
      "Data columns (total 2 columns):\n",
      " #   Column     Non-Null Count  Dtype \n",
      "---  ------     --------------  ----- \n",
      " 0   text       1344 non-null   object\n",
      " 1   label_idx  1344 non-null   int64 \n",
      "dtypes: int64(1), object(1)\n",
      "memory usage: 21.1+ KB\n"
     ]
    }
   ],
   "source": [
    "synthetic_df.info()"
   ]
  },
  {
   "cell_type": "code",
   "execution_count": 69,
   "metadata": {},
   "outputs": [
    {
     "data": {
      "text/html": [
       "<div>\n",
       "<style scoped>\n",
       "    .dataframe tbody tr th:only-of-type {\n",
       "        vertical-align: middle;\n",
       "    }\n",
       "\n",
       "    .dataframe tbody tr th {\n",
       "        vertical-align: top;\n",
       "    }\n",
       "\n",
       "    .dataframe thead th {\n",
       "        text-align: right;\n",
       "    }\n",
       "</style>\n",
       "<table border=\"1\" class=\"dataframe\">\n",
       "  <thead>\n",
       "    <tr style=\"text-align: right;\">\n",
       "      <th></th>\n",
       "      <th>text</th>\n",
       "      <th>label_idx</th>\n",
       "    </tr>\n",
       "  </thead>\n",
       "  <tbody>\n",
       "    <tr>\n",
       "      <th>146</th>\n",
       "      <td>Consuming spicy foods raises body temperature, which kills COVID-19 particles. The spicier the food, the better the protection.</td>\n",
       "      <td>1</td>\n",
       "    </tr>\n",
       "    <tr>\n",
       "      <th>1309</th>\n",
       "      <td>mRNA vaccines cannot alter your DNA.</td>\n",
       "      <td>0</td>\n",
       "    </tr>\n",
       "    <tr>\n",
       "      <th>956</th>\n",
       "      <td>Side effects of COVID-19 vaccines are generally mild and short-lived. Common side effects include pain at the injection site, fatigue, and mild fever.</td>\n",
       "      <td>0</td>\n",
       "    </tr>\n",
       "    <tr>\n",
       "      <th>949</th>\n",
       "      <td>COVID-19 vaccines have undergone rigorous testing in clinical trials to ensure their safety and efficacy. They meet the standards set by the World Health Organization (WHO) and national regulatory agencies.</td>\n",
       "      <td>0</td>\n",
       "    </tr>\n",
       "    <tr>\n",
       "      <th>1080</th>\n",
       "      <td>Vaccines do not cause autism—a claim that originated from a debunked study published in 1998. The study was retracted, and its author lost his medical license for misconduct. Numerous large-scale studies have found no link between vaccines and autism. Vaccines remain a critical tool for preventing life-threatening diseases.</td>\n",
       "      <td>0</td>\n",
       "    </tr>\n",
       "  </tbody>\n",
       "</table>\n",
       "</div>"
      ],
      "text/plain": [
       "                                                                                                                                                                                                                                                                                                                                       text  \\\n",
       "146                                                                                                                                                                                                         Consuming spicy foods raises body temperature, which kills COVID-19 particles. The spicier the food, the better the protection.   \n",
       "1309                                                                                                                                                                                                                                                                                                   mRNA vaccines cannot alter your DNA.   \n",
       "956                                                                                                                                                                                  Side effects of COVID-19 vaccines are generally mild and short-lived. Common side effects include pain at the injection site, fatigue, and mild fever.   \n",
       "949                                                                                                                          COVID-19 vaccines have undergone rigorous testing in clinical trials to ensure their safety and efficacy. They meet the standards set by the World Health Organization (WHO) and national regulatory agencies.   \n",
       "1080  Vaccines do not cause autism—a claim that originated from a debunked study published in 1998. The study was retracted, and its author lost his medical license for misconduct. Numerous large-scale studies have found no link between vaccines and autism. Vaccines remain a critical tool for preventing life-threatening diseases.   \n",
       "\n",
       "      label_idx  \n",
       "146           1  \n",
       "1309          0  \n",
       "956           0  \n",
       "949           0  \n",
       "1080          0  "
      ]
     },
     "execution_count": 69,
     "metadata": {},
     "output_type": "execute_result"
    }
   ],
   "source": [
    "synthetic_df.sample(5)"
   ]
  },
  {
   "cell_type": "markdown",
   "metadata": {},
   "source": [
    "## Комментарии"
   ]
  },
  {
   "cell_type": "code",
   "execution_count": 70,
   "metadata": {},
   "outputs": [],
   "source": [
    "from datasets import load_dataset\n",
    "import pandas as pd\n",
    "\n",
    "def load_reddit_dataset(dataset_name=\"beenakurian/reddit_comments_subreddit_canada\", cache_dir=None) -> pd.DataFrame:\n",
    "    dataset = load_dataset(dataset_name, cache_dir=cache_dir)\n",
    "    df = dataset['train'].to_pandas()\n",
    "    df.rename(columns={'comment': 'text'}, inplace=True)    \n",
    "    df['original_label_1'] = df['sentiment']\n",
    "    df['label_idx'] = 2  \n",
    "    df['source'] = 'reddit_canada'\n",
    "    return df[['text', 'label_idx', 'original_label_1', 'source']]\n",
    "\n",
    "def load_toxic_comments_dataset(dataset_name=\"AiresPucrs/toxic-comments\", cache_dir=None) -> pd.DataFrame:\n",
    "    dataset = load_dataset(dataset_name, cache_dir=cache_dir)\n",
    "    df = dataset['train'].to_pandas()\n",
    "    df.rename(columns={'comment_text': 'text'}, inplace=True)\n",
    "    df['original_label_1'] = df['toxic']\n",
    "    df['label_idx'] = 2\n",
    "    df['source'] = 'toxic_comments'\n",
    "    return df[['text', 'label_idx', 'original_label_1', 'source']]\n",
    "\n",
    "def load_twitter_dataset(dataset_name=\"gxb912/large-twitter-tweets-sentiment\", cache_dir=None) -> pd.DataFrame:\n",
    "    dataset = load_dataset(dataset_name, cache_dir=cache_dir)\n",
    "    df_train = dataset['train'].to_pandas()\n",
    "    df_test = dataset['test'].to_pandas()\n",
    "    df = pd.concat([df_train, df_test], ignore_index=True)  # Исправлено объединение\n",
    "    df['original_label_1'] = df['sentiment']\n",
    "    df['label_idx'] = 2  \n",
    "    df['source'] = 'twitter'  # Исправлено название источника\n",
    "    return df[['text', 'label_idx', 'original_label_1', 'source']]\n"
   ]
  },
  {
   "cell_type": "markdown",
   "metadata": {},
   "source": [
    "## [https://huggingface.co/datasets/gxb912/large-twitter-tweets-sentiment?row=62](https://huggingface.co/datasets/gxb912/large-twitter-tweets-sentiment?row=62)"
   ]
  },
  {
   "cell_type": "code",
   "execution_count": 71,
   "metadata": {},
   "outputs": [],
   "source": [
    "reddit_df = load_reddit_dataset(cache_dir=DATA_CACHE)\n",
    "toxic_df = load_toxic_comments_dataset(cache_dir=DATA_CACHE)\n",
    "twitter_df = load_twitter_dataset(cache_dir=DATA_CACHE)"
   ]
  },
  {
   "cell_type": "code",
   "execution_count": 72,
   "metadata": {},
   "outputs": [],
   "source": [
    "# toxic_df_sample = toxic_df.sample(10000)"
   ]
  },
  {
   "cell_type": "code",
   "execution_count": 73,
   "metadata": {},
   "outputs": [],
   "source": [
    "# toxic_df_sample.sample(5)"
   ]
  },
  {
   "cell_type": "markdown",
   "metadata": {},
   "source": [
    "## Данные размеченные руками"
   ]
  },
  {
   "cell_type": "code",
   "execution_count": 74,
   "metadata": {},
   "outputs": [],
   "source": [
    "import pandas as pd\n",
    "from pathlib import Path\n",
    "\n",
    "def load_and_process_data(file_path: Path) -> pd.DataFrame:\n",
    "    \"\"\"\n",
    "    Загружает данные из Excel, добавляет дополнительные столбцы и возвращает обработанный DataFrame.\n",
    "    Преобразует label_idx в int, а если возникают ошибки - ставит значение 2.\n",
    "\n",
    "    :param file_path: Путь к файлу Excel.\n",
    "    :return: Обработанный DataFrame.\n",
    "    \"\"\"\n",
    "    data_marked_df = pd.read_excel(file_path).reset_index(drop=True)\n",
    "    data_marked_df = data_marked_df.dropna(subset='new_label')\n",
    "    \n",
    "    # Копируем new_label в label_idx\n",
    "    data_marked_df['label_idx'] = data_marked_df['new_label']\n",
    "    \n",
    "    # Пробуем привести к int, если ошибка (например, NaN или строка), ставим 2\n",
    "    data_marked_df['label_idx'] = pd.to_numeric(data_marked_df['label_idx'], errors='coerce').fillna(2).astype(int)\n",
    "    \n",
    "    # Добавляем источник\n",
    "    data_marked_df['source'] = 'handle_marked'\n",
    "\n",
    "    return data_marked_df[['text', 'label_idx', 'source']]"
   ]
  },
  {
   "cell_type": "code",
   "execution_count": 75,
   "metadata": {},
   "outputs": [],
   "source": [
    "# data_marked_df = load_and_process_data(DATA_PATH / 'data_marked_df.xlsx')"
   ]
  },
  {
   "cell_type": "markdown",
   "metadata": {},
   "source": [
    "# Общий датафрейм"
   ]
  },
  {
   "cell_type": "code",
   "execution_count": 76,
   "metadata": {},
   "outputs": [],
   "source": [
    "synthetic_df['source'] = 'synthetic'\n",
    "final_df = pd.concat([combined_df, synthetic_df, reddit_df, toxic_df, twitter_df], ignore_index=True)\n",
    "final_df[\"text\"] = final_df[\"text\"].replace(\"\", None).drop_duplicates().fillna(\"\")\n",
    "final_df.to_excel(DATA_PATH / 'covid_vaccine_fake.xlsx', index=False)"
   ]
  },
  {
   "cell_type": "code",
   "execution_count": 77,
   "metadata": {},
   "outputs": [],
   "source": [
    "idx2label = {\n",
    "    0: \"Real\",\n",
    "    1: \"Fake\",\n",
    "    2: \"Comments\"\n",
    "}\n",
    "\n",
    "final_df['label_str'] = final_df['label_idx'].map(idx2label)"
   ]
  },
  {
   "cell_type": "code",
   "execution_count": 78,
   "metadata": {},
   "outputs": [
    {
     "data": {
      "text/plain": [
       "label_str\n",
       "Comments    302059\n",
       "Fake          9665\n",
       "Real          6607\n",
       "Name: count, dtype: int64"
      ]
     },
     "execution_count": 78,
     "metadata": {},
     "output_type": "execute_result"
    }
   ],
   "source": [
    "final_df['label_str'].value_counts()"
   ]
  },
  {
   "cell_type": "code",
   "execution_count": 79,
   "metadata": {},
   "outputs": [
    {
     "data": {
      "text/html": [
       "<div>\n",
       "<style scoped>\n",
       "    .dataframe tbody tr th:only-of-type {\n",
       "        vertical-align: middle;\n",
       "    }\n",
       "\n",
       "    .dataframe tbody tr th {\n",
       "        vertical-align: top;\n",
       "    }\n",
       "\n",
       "    .dataframe thead th {\n",
       "        text-align: right;\n",
       "    }\n",
       "</style>\n",
       "<table border=\"1\" class=\"dataframe\">\n",
       "  <thead>\n",
       "    <tr style=\"text-align: right;\">\n",
       "      <th></th>\n",
       "      <th>text</th>\n",
       "      <th>label_idx</th>\n",
       "      <th>original_label_1</th>\n",
       "      <th>source</th>\n",
       "      <th>original_label_2</th>\n",
       "      <th>label_str</th>\n",
       "    </tr>\n",
       "  </thead>\n",
       "  <tbody>\n",
       "    <tr>\n",
       "      <th>6156</th>\n",
       "      <td>RT @PIB_India: India has 3102 cases per million population one of the lowest in the world. Tests per million population are also continuo…</td>\n",
       "      <td>0</td>\n",
       "      <td>real</td>\n",
       "      <td>nanyy1025</td>\n",
       "      <td>NaN</td>\n",
       "      <td>Real</td>\n",
       "    </tr>\n",
       "    <tr>\n",
       "      <th>255501</th>\n",
       "      <td>I need something to shrink these blemishes a tad...this is just ridiculous. I have one right smack in middle of my chin  Feels like crying</td>\n",
       "      <td>2</td>\n",
       "      <td>0</td>\n",
       "      <td>twitter</td>\n",
       "      <td>NaN</td>\n",
       "      <td>Comments</td>\n",
       "    </tr>\n",
       "    <tr>\n",
       "      <th>251472</th>\n",
       "      <td>35 more minutes. I need a time machine! Waiting is not fun</td>\n",
       "      <td>2</td>\n",
       "      <td>0</td>\n",
       "      <td>twitter</td>\n",
       "      <td>NaN</td>\n",
       "      <td>Comments</td>\n",
       "    </tr>\n",
       "    <tr>\n",
       "      <th>290504</th>\n",
       "      <td>@JotaC Thank you.  I thought the pic looks a little dramatic.   I think I look a little sad though, so I was thinking about changing it</td>\n",
       "      <td>2</td>\n",
       "      <td>1</td>\n",
       "      <td>twitter</td>\n",
       "      <td>NaN</td>\n",
       "      <td>Comments</td>\n",
       "    </tr>\n",
       "    <tr>\n",
       "      <th>48309</th>\n",
       "      <td>vandalism vandalism</td>\n",
       "      <td>2</td>\n",
       "      <td>1</td>\n",
       "      <td>toxic_comments</td>\n",
       "      <td>NaN</td>\n",
       "      <td>Comments</td>\n",
       "    </tr>\n",
       "    <tr>\n",
       "      <th>113265</th>\n",
       "      <td>back in the twitterverse after painful twitpocalypse experiences - iPhone still fekd though</td>\n",
       "      <td>2</td>\n",
       "      <td>1</td>\n",
       "      <td>twitter</td>\n",
       "      <td>NaN</td>\n",
       "      <td>Comments</td>\n",
       "    </tr>\n",
       "    <tr>\n",
       "      <th>174278</th>\n",
       "      <td>@goatlady 28c up here...cloudless blue skies, tiny little breeze...perfect! You want  to email a jacket to you?</td>\n",
       "      <td>2</td>\n",
       "      <td>1</td>\n",
       "      <td>twitter</td>\n",
       "      <td>NaN</td>\n",
       "      <td>Comments</td>\n",
       "    </tr>\n",
       "    <tr>\n",
       "      <th>269518</th>\n",
       "      <td>@BeckyC3  oh well. an extra one to watch sometime lol</td>\n",
       "      <td>2</td>\n",
       "      <td>0</td>\n",
       "      <td>twitter</td>\n",
       "      <td>NaN</td>\n",
       "      <td>Comments</td>\n",
       "    </tr>\n",
       "    <tr>\n",
       "      <th>202565</th>\n",
       "      <td>So please don't wear masks, and tell as much people as you know</td>\n",
       "      <td>2</td>\n",
       "      <td>0</td>\n",
       "      <td>twitter</td>\n",
       "      <td>NaN</td>\n",
       "      <td>Comments</td>\n",
       "    </tr>\n",
       "    <tr>\n",
       "      <th>175404</th>\n",
       "      <td>@jewelgiroux awwwww well ::sigh:: I *guess* I would've had to give in to that too. @AbstractPoet I hope you got hero kisses.</td>\n",
       "      <td>2</td>\n",
       "      <td>1</td>\n",
       "      <td>twitter</td>\n",
       "      <td>NaN</td>\n",
       "      <td>Comments</td>\n",
       "    </tr>\n",
       "  </tbody>\n",
       "</table>\n",
       "</div>"
      ],
      "text/plain": [
       "                                                                                                                                              text  \\\n",
       "6156    RT @PIB_India: India has 3102 cases per million population one of the lowest in the world. Tests per million population are also continuo…   \n",
       "255501  I need something to shrink these blemishes a tad...this is just ridiculous. I have one right smack in middle of my chin  Feels like crying   \n",
       "251472                                                                                 35 more minutes. I need a time machine! Waiting is not fun    \n",
       "290504     @JotaC Thank you.  I thought the pic looks a little dramatic.   I think I look a little sad though, so I was thinking about changing it   \n",
       "48309                                                                                                                          vandalism vandalism   \n",
       "113265                                                back in the twitterverse after painful twitpocalypse experiences - iPhone still fekd though    \n",
       "174278                            @goatlady 28c up here...cloudless blue skies, tiny little breeze...perfect! You want  to email a jacket to you?    \n",
       "269518                                                                                       @BeckyC3  oh well. an extra one to watch sometime lol   \n",
       "202565                                                                            So please don't wear masks, and tell as much people as you know    \n",
       "175404               @jewelgiroux awwwww well ::sigh:: I *guess* I would've had to give in to that too. @AbstractPoet I hope you got hero kisses.    \n",
       "\n",
       "        label_idx original_label_1          source original_label_2 label_str  \n",
       "6156            0             real       nanyy1025              NaN      Real  \n",
       "255501          2                0         twitter              NaN  Comments  \n",
       "251472          2                0         twitter              NaN  Comments  \n",
       "290504          2                1         twitter              NaN  Comments  \n",
       "48309           2                1  toxic_comments              NaN  Comments  \n",
       "113265          2                1         twitter              NaN  Comments  \n",
       "174278          2                1         twitter              NaN  Comments  \n",
       "269518          2                0         twitter              NaN  Comments  \n",
       "202565          2                0         twitter              NaN  Comments  \n",
       "175404          2                1         twitter              NaN  Comments  "
      ]
     },
     "execution_count": 79,
     "metadata": {},
     "output_type": "execute_result"
    }
   ],
   "source": [
    "final_df.sample(10)"
   ]
  },
  {
   "cell_type": "code",
   "execution_count": 81,
   "metadata": {},
   "outputs": [],
   "source": [
    "import re\n",
    "\n",
    "def clean_text(text):\n",
    "    # text = re.sub(r'#\\S+', '', text)  # Удаление хэштегов\n",
    "    text = str(text)\n",
    "    text = re.sub(r'@\\S+', '', text)  # Удаление упоминаний\n",
    "    text = re.sub(r'http\\S+|www\\.\\S+', '', text)  # Удаление ссылок\n",
    "    return text.strip()  # Удаление лишних пробелов\n",
    "\n",
    "final_df['text'] = final_df['text'].apply(clean_text)"
   ]
  },
  {
   "cell_type": "code",
   "execution_count": 82,
   "metadata": {},
   "outputs": [
    {
     "data": {
      "text/html": [
       "<div>\n",
       "<style scoped>\n",
       "    .dataframe tbody tr th:only-of-type {\n",
       "        vertical-align: middle;\n",
       "    }\n",
       "\n",
       "    .dataframe tbody tr th {\n",
       "        vertical-align: top;\n",
       "    }\n",
       "\n",
       "    .dataframe thead th {\n",
       "        text-align: right;\n",
       "    }\n",
       "</style>\n",
       "<table border=\"1\" class=\"dataframe\">\n",
       "  <thead>\n",
       "    <tr style=\"text-align: right;\">\n",
       "      <th></th>\n",
       "      <th>text</th>\n",
       "      <th>label_idx</th>\n",
       "      <th>original_label_1</th>\n",
       "      <th>source</th>\n",
       "      <th>original_label_2</th>\n",
       "      <th>label_str</th>\n",
       "    </tr>\n",
       "  </thead>\n",
       "  <tbody>\n",
       "    <tr>\n",
       "      <th>31671</th>\n",
       "      <td>charmbracelet mariana mimi reverted addition charmbracelet disagree edit feel free discuss issue thank contributions talk</td>\n",
       "      <td>2</td>\n",
       "      <td>1</td>\n",
       "      <td>toxic_comments</td>\n",
       "      <td>NaN</td>\n",
       "      <td>Comments</td>\n",
       "    </tr>\n",
       "    <tr>\n",
       "      <th>229743</th>\n",
       "      <td>Great coffee from a fantastic little place in Petworth. Only downside: all the baked temptations on display</td>\n",
       "      <td>2</td>\n",
       "      <td>1</td>\n",
       "      <td>twitter</td>\n",
       "      <td>NaN</td>\n",
       "      <td>Comments</td>\n",
       "    </tr>\n",
       "    <tr>\n",
       "      <th>148994</th>\n",
       "      <td>this fellow wants some water fun too!! i told him that seriously 7k was too less to organize! he won't listen!</td>\n",
       "      <td>2</td>\n",
       "      <td>0</td>\n",
       "      <td>twitter</td>\n",
       "      <td>NaN</td>\n",
       "      <td>Comments</td>\n",
       "    </tr>\n",
       "    <tr>\n",
       "      <th>84024</th>\n",
       "      <td>limited time know heathen know finish</td>\n",
       "      <td>2</td>\n",
       "      <td>0</td>\n",
       "      <td>toxic_comments</td>\n",
       "      <td>NaN</td>\n",
       "      <td>Comments</td>\n",
       "    </tr>\n",
       "    <tr>\n",
       "      <th>107301</th>\n",
       "      <td>Glad Saturday is finally here! Looks like it's gonna be sunny too!</td>\n",
       "      <td>2</td>\n",
       "      <td>1</td>\n",
       "      <td>twitter</td>\n",
       "      <td>NaN</td>\n",
       "      <td>Comments</td>\n",
       "    </tr>\n",
       "    <tr>\n",
       "      <th>87447</th>\n",
       "      <td>nan</td>\n",
       "      <td>2</td>\n",
       "      <td>0</td>\n",
       "      <td>toxic_comments</td>\n",
       "      <td>NaN</td>\n",
       "      <td>Comments</td>\n",
       "    </tr>\n",
       "    <tr>\n",
       "      <th>136564</th>\n",
       "      <td>going back to work.</td>\n",
       "      <td>2</td>\n",
       "      <td>0</td>\n",
       "      <td>twitter</td>\n",
       "      <td>NaN</td>\n",
       "      <td>Comments</td>\n",
       "    </tr>\n",
       "    <tr>\n",
       "      <th>287145</th>\n",
       "      <td>lol i was away up the back there was a guy how laughed REALLY loud next to me so i missed some jokes  but it was great lol</td>\n",
       "      <td>2</td>\n",
       "      <td>0</td>\n",
       "      <td>twitter</td>\n",
       "      <td>NaN</td>\n",
       "      <td>Comments</td>\n",
       "    </tr>\n",
       "    <tr>\n",
       "      <th>107202</th>\n",
       "      <td>Good morning !! or good afternoon  relaxing time for you .</td>\n",
       "      <td>2</td>\n",
       "      <td>1</td>\n",
       "      <td>twitter</td>\n",
       "      <td>NaN</td>\n",
       "      <td>Comments</td>\n",
       "    </tr>\n",
       "    <tr>\n",
       "      <th>111735</th>\n",
       "      <td>aww  that's horrible! xD</td>\n",
       "      <td>2</td>\n",
       "      <td>0</td>\n",
       "      <td>twitter</td>\n",
       "      <td>NaN</td>\n",
       "      <td>Comments</td>\n",
       "    </tr>\n",
       "  </tbody>\n",
       "</table>\n",
       "</div>"
      ],
      "text/plain": [
       "                                                                                                                              text  \\\n",
       "31671    charmbracelet mariana mimi reverted addition charmbracelet disagree edit feel free discuss issue thank contributions talk   \n",
       "229743                 Great coffee from a fantastic little place in Petworth. Only downside: all the baked temptations on display   \n",
       "148994              this fellow wants some water fun too!! i told him that seriously 7k was too less to organize! he won't listen!   \n",
       "84024                                                                                        limited time know heathen know finish   \n",
       "107301                                                          Glad Saturday is finally here! Looks like it's gonna be sunny too!   \n",
       "87447                                                                                                                          nan   \n",
       "136564                                                                                                         going back to work.   \n",
       "287145  lol i was away up the back there was a guy how laughed REALLY loud next to me so i missed some jokes  but it was great lol   \n",
       "107202                                                                  Good morning !! or good afternoon  relaxing time for you .   \n",
       "111735                                                                                                    aww  that's horrible! xD   \n",
       "\n",
       "        label_idx original_label_1          source original_label_2 label_str  \n",
       "31671           2                1  toxic_comments              NaN  Comments  \n",
       "229743          2                1         twitter              NaN  Comments  \n",
       "148994          2                0         twitter              NaN  Comments  \n",
       "84024           2                0  toxic_comments              NaN  Comments  \n",
       "107301          2                1         twitter              NaN  Comments  \n",
       "87447           2                0  toxic_comments              NaN  Comments  \n",
       "136564          2                0         twitter              NaN  Comments  \n",
       "287145          2                0         twitter              NaN  Comments  \n",
       "107202          2                1         twitter              NaN  Comments  \n",
       "111735          2                0         twitter              NaN  Comments  "
      ]
     },
     "execution_count": 82,
     "metadata": {},
     "output_type": "execute_result"
    }
   ],
   "source": [
    "final_df.sample(10)"
   ]
  },
  {
   "cell_type": "code",
   "execution_count": 83,
   "metadata": {},
   "outputs": [],
   "source": [
    "final_df.to_excel(DATA_PATH / 'covid_vaccine_fake_clear.xlsx', index=False)"
   ]
  }
 ],
 "metadata": {
  "kernelspec": {
   "display_name": ".venv",
   "language": "python",
   "name": "python3"
  },
  "language_info": {
   "codemirror_mode": {
    "name": "ipython",
    "version": 3
   },
   "file_extension": ".py",
   "mimetype": "text/x-python",
   "name": "python",
   "nbconvert_exporter": "python",
   "pygments_lexer": "ipython3",
   "version": "3.11.5"
  }
 },
 "nbformat": 4,
 "nbformat_minor": 2
}
