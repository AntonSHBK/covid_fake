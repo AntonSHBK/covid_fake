{
 "cells": [
  {
   "cell_type": "markdown",
   "metadata": {},
   "source": [
    "# Обучение определения фейковых фактов о COVID и вакцинации"
   ]
  },
  {
   "cell_type": "code",
   "execution_count": 40,
   "metadata": {},
   "outputs": [],
   "source": [
    "import math\n",
    "\n",
    "import torch\n",
    "import pandas as pd\n",
    "import numpy as np"
   ]
  },
  {
   "cell_type": "code",
   "execution_count": 41,
   "metadata": {},
   "outputs": [],
   "source": [
    "DEVICE = 'cpu'\n",
    "if torch.backends.mps.is_available():\n",
    "    DEVICE = 'mps'\n",
    "if torch.cuda.is_available():\n",
    "    DEVICE = 'cuda'"
   ]
  },
  {
   "cell_type": "code",
   "execution_count": 42,
   "metadata": {},
   "outputs": [],
   "source": [
    "from pathlib import Path\n",
    "\n",
    "DATA_PATH = Path('data/')\n",
    "DATA_PATH.mkdir(parents=True, exist_ok=True)\n",
    "\n",
    "DATA_CACHE = Path('data/cache_dir/')\n",
    "DATA_CACHE.mkdir(parents=True, exist_ok=True)\n",
    "\n",
    "DATA_PATH_SAVE_MODELS = Path('data/models/')\n",
    "DATA_PATH_SAVE_MODELS.mkdir(parents=True, exist_ok=True)\n",
    "\n",
    "pd.set_option('display.max_colwidth', 500) "
   ]
  },
  {
   "cell_type": "code",
   "execution_count": 43,
   "metadata": {},
   "outputs": [],
   "source": [
    "MODEL_NAME = \"roberta-base\"\n",
    "TRAIN_DF_NAME = \"covid_vaccine_fake_clear.xlsx\"\n",
    "MAX_LENGTH = 128\n",
    "BATCH_SIZE = 128"
   ]
  },
  {
   "cell_type": "markdown",
   "metadata": {},
   "source": [
    "# Датасет"
   ]
  },
  {
   "cell_type": "code",
   "execution_count": 44,
   "metadata": {},
   "outputs": [
    {
     "data": {
      "text/html": [
       "<div>\n",
       "<style scoped>\n",
       "    .dataframe tbody tr th:only-of-type {\n",
       "        vertical-align: middle;\n",
       "    }\n",
       "\n",
       "    .dataframe tbody tr th {\n",
       "        vertical-align: top;\n",
       "    }\n",
       "\n",
       "    .dataframe thead th {\n",
       "        text-align: right;\n",
       "    }\n",
       "</style>\n",
       "<table border=\"1\" class=\"dataframe\">\n",
       "  <thead>\n",
       "    <tr style=\"text-align: right;\">\n",
       "      <th></th>\n",
       "      <th>text</th>\n",
       "      <th>label_idx</th>\n",
       "      <th>original_label_1</th>\n",
       "      <th>source</th>\n",
       "      <th>original_label_2</th>\n",
       "      <th>label_str</th>\n",
       "    </tr>\n",
       "  </thead>\n",
       "  <tbody>\n",
       "    <tr>\n",
       "      <th>0</th>\n",
       "      <td>The CDC currently reports 99031 deaths. In general the discrepancies in death counts between different sources are small and explicable. The death toll stands at roughly 100000 people today.</td>\n",
       "      <td>0</td>\n",
       "      <td>real</td>\n",
       "      <td>nanyy1025</td>\n",
       "      <td>NaN</td>\n",
       "      <td>Real</td>\n",
       "    </tr>\n",
       "  </tbody>\n",
       "</table>\n",
       "</div>"
      ],
      "text/plain": [
       "                                                                                                                                                                                             text  \\\n",
       "0  The CDC currently reports 99031 deaths. In general the discrepancies in death counts between different sources are small and explicable. The death toll stands at roughly 100000 people today.   \n",
       "\n",
       "   label_idx original_label_1     source original_label_2 label_str  \n",
       "0          0             real  nanyy1025              NaN      Real  "
      ]
     },
     "execution_count": 44,
     "metadata": {},
     "output_type": "execute_result"
    }
   ],
   "source": [
    "data_df = pd.read_excel(DATA_PATH / TRAIN_DF_NAME)\n",
    "data_df.head(1)"
   ]
  },
  {
   "cell_type": "code",
   "execution_count": 45,
   "metadata": {},
   "outputs": [],
   "source": [
    "data_df = data_df.fillna(\"\")\n",
    "\n",
    "for col in data_df.select_dtypes(include=[\"object\", \"bool\"]).columns:\n",
    "    data_df[col] = data_df[col].astype(str)"
   ]
  },
  {
   "cell_type": "code",
   "execution_count": 46,
   "metadata": {},
   "outputs": [],
   "source": [
    "label2idx = {key: int(idx) for idx, key in enumerate(data_df['label_str'].unique())}\n",
    "\n",
    "idx2label = dict([(v, k) for k, v in label2idx.items()])\n",
    "\n",
    "data_df['label_idx'] = data_df['label_str'].apply(lambda x: label2idx[x])"
   ]
  },
  {
   "cell_type": "code",
   "execution_count": 47,
   "metadata": {},
   "outputs": [
    {
     "data": {
      "text/plain": [
       "{0: 'Real', 1: 'Fake', 2: 'Comments'}"
      ]
     },
     "execution_count": 47,
     "metadata": {},
     "output_type": "execute_result"
    }
   ],
   "source": [
    "idx2label"
   ]
  },
  {
   "cell_type": "code",
   "execution_count": 48,
   "metadata": {},
   "outputs": [
    {
     "data": {
      "text/plain": [
       "3"
      ]
     },
     "execution_count": 48,
     "metadata": {},
     "output_type": "execute_result"
    }
   ],
   "source": [
    "NUM_CLASSES = len(idx2label)\n",
    "NUM_CLASSES"
   ]
  },
  {
   "cell_type": "code",
   "execution_count": 49,
   "metadata": {},
   "outputs": [
    {
     "name": "stdout",
     "output_type": "stream",
     "text": [
      "Размер тренировочного набора: 257847\n",
      "Размер валидационного набора: 28650\n",
      "Размер тестового набора: 31834\n"
     ]
    }
   ],
   "source": [
    "from sklearn.model_selection import train_test_split\n",
    "\n",
    "train_val_df, test_df = train_test_split(data_df, test_size=0.1, stratify=data_df[\"label_idx\"], random_state=42, shuffle=True)\n",
    "train_df, val_df = train_test_split(train_val_df, test_size=0.1, stratify=train_val_df[\"label_idx\"], random_state=42, shuffle=True)\n",
    "\n",
    "print(f\"Размер тренировочного набора: {len(train_df)}\")\n",
    "print(f\"Размер валидационного набора: {len(val_df)}\")\n",
    "print(f\"Размер тестового набора: {len(test_df)}\")"
   ]
  },
  {
   "cell_type": "code",
   "execution_count": 50,
   "metadata": {},
   "outputs": [],
   "source": [
    "import torch\n",
    "from torch.utils.data import Dataset, DataLoader\n",
    "from transformers import PreTrainedTokenizer\n",
    "import pandas as pd\n",
    "from typing import Dict, Tuple\n",
    "\n",
    "\n",
    "class TokenizedDataset(Dataset):\n",
    "    def __init__(\n",
    "        self, \n",
    "        dataframe: pd.DataFrame, \n",
    "        tokenizer: PreTrainedTokenizer, \n",
    "        max_length: int, \n",
    "        tensor_dtype: Tuple[torch.dtype, torch.dtype, torch.dtype] = (torch.long, torch.long, torch.long)\n",
    "    ):\n",
    "        \"\"\"\n",
    "        Инициализация датасета с токенизацией.\n",
    "\n",
    "        Args:\n",
    "            dataframe (pd.DataFrame): DataFrame с колонками \"text\" и \"label\".\n",
    "            tokenizer (PreTrainedTokenizer): Токенайзер для преобразования текста.\n",
    "            max_length (int): Максимальная длина токенов.\n",
    "            tensor_dtype (tuple): Типы данных для токенов и меток.\n",
    "        \"\"\"\n",
    "        self.tensor_dtype = tensor_dtype\n",
    "\n",
    "        # Токенизация данных\n",
    "        tokenized_data = tokenizer(\n",
    "            dataframe[\"text\"].tolist(),\n",
    "            max_length=max_length,\n",
    "            padding=\"max_length\",\n",
    "            truncation=True,\n",
    "            return_tensors=\"pt\",\n",
    "        )\n",
    "\n",
    "        self.input_ids = tokenized_data[\"input_ids\"].to(dtype=self.tensor_dtype[0])\n",
    "        self.attention_mask = tokenized_data[\"attention_mask\"].to(dtype=self.tensor_dtype[1])\n",
    "        self.labels = torch.tensor(dataframe[\"label_idx\"].tolist(), dtype=self.tensor_dtype[2])\n",
    "\n",
    "    def __len__(self) -> int:\n",
    "        \"\"\"\n",
    "        Возвращает количество примеров в датасете.\n",
    "        \"\"\"\n",
    "        return len(self.labels)\n",
    "\n",
    "    def __getitem__(self, idx: int) -> Dict[str, torch.Tensor]:\n",
    "        \"\"\"\n",
    "        Возвращает токенизированные данные и метки.\n",
    "\n",
    "        Args:\n",
    "            idx (int): Индекс примера.\n",
    "\n",
    "        Returns:\n",
    "            Dict[str, torch.Tensor]: Словарь с токенами и меткой.\n",
    "        \"\"\"\n",
    "        return {\n",
    "            \"input_ids\": self.input_ids[idx],\n",
    "            \"attention_mask\": self.attention_mask[idx],\n",
    "            \"labels\": self.labels[idx],\n",
    "        }\n"
   ]
  },
  {
   "cell_type": "code",
   "execution_count": 51,
   "metadata": {},
   "outputs": [],
   "source": [
    "from torch.utils.data import DataLoader\n",
    "from transformers import PreTrainedTokenizer\n",
    "import pandas as pd\n",
    "\n",
    "\n",
    "def create_dataloader(\n",
    "    dataframe: pd.DataFrame,\n",
    "    tokenizer: PreTrainedTokenizer,\n",
    "    max_length: int = 64,\n",
    "    batch_size: int = 16,\n",
    "    shuffle: bool = True,\n",
    "    tensor_dtype=(torch.long, torch.long, torch.long),\n",
    ") -> DataLoader:\n",
    "    \"\"\"\n",
    "    Создание DataLoader из DataFrame.\n",
    "\n",
    "    Args:\n",
    "        dataframe (pd.DataFrame): DataFrame с колонками \"text\" и \"label\".\n",
    "        tokenizer (PreTrainedTokenizer): Токенайзер для преобразования текста.\n",
    "        max_length (int): Максимальная длина токенов.\n",
    "        batch_size (int): Размер батча.\n",
    "        shuffle (bool): Перемешивать ли данные.\n",
    "        tensor_dtype (tuple): Типы данных для токенов и меток.\n",
    "\n",
    "    Returns:\n",
    "        DataLoader: DataLoader для работы с моделью.\n",
    "    \"\"\"\n",
    "    dataset = TokenizedDataset(dataframe, tokenizer, max_length, tensor_dtype=tensor_dtype)\n",
    "    dataloader = DataLoader(\n",
    "        dataset, \n",
    "        batch_size=batch_size, \n",
    "        shuffle=shuffle, \n",
    "    )\n",
    "    return dataloader\n"
   ]
  },
  {
   "cell_type": "code",
   "execution_count": 52,
   "metadata": {},
   "outputs": [
    {
     "name": "stdout",
     "output_type": "stream",
     "text": [
      "Размер тренировочного набора: 257847\n",
      "Размер валидационного набора: 28650\n",
      "Размер тестового набора: 31834\n"
     ]
    }
   ],
   "source": [
    "from transformers import RobertaTokenizer\n",
    "\n",
    "tokenizer: RobertaTokenizer = RobertaTokenizer.from_pretrained(MODEL_NAME, cache_dir=DATA_CACHE)\n",
    "\n",
    "train_loader = create_dataloader(\n",
    "    dataframe=train_df,\n",
    "    tokenizer=tokenizer,\n",
    "    max_length=MAX_LENGTH,\n",
    "    batch_size=BATCH_SIZE,\n",
    "    shuffle=True\n",
    ")\n",
    "\n",
    "val_loader = create_dataloader(\n",
    "    dataframe=val_df,\n",
    "    tokenizer=tokenizer,\n",
    "    max_length=MAX_LENGTH,\n",
    "    batch_size=BATCH_SIZE,\n",
    "    shuffle=False\n",
    ")\n",
    "\n",
    "test_loader = create_dataloader(\n",
    "    dataframe=test_df,\n",
    "    tokenizer=tokenizer,\n",
    "    max_length=MAX_LENGTH,\n",
    "    batch_size=BATCH_SIZE,\n",
    "    shuffle=False\n",
    ")\n",
    "\n",
    "# Выводим размер набора данных\n",
    "print(f\"Размер тренировочного набора: {len(train_loader.dataset)}\")\n",
    "print(f\"Размер валидационного набора: {len(val_loader.dataset)}\")\n",
    "print(f\"Размер тестового набора: {len(test_loader.dataset)}\")\n"
   ]
  },
  {
   "cell_type": "markdown",
   "metadata": {},
   "source": [
    "# Модель"
   ]
  },
  {
   "cell_type": "code",
   "execution_count": 53,
   "metadata": {},
   "outputs": [],
   "source": [
    "from typing import Tuple, Dict, Any\n",
    "\n",
    "import torch\n",
    "from torch.utils.data import DataLoader\n",
    "from torch.optim import Optimizer\n",
    "import matplotlib.pyplot as plt\n",
    "from tqdm.notebook import tqdm\n",
    "from sklearn.metrics import accuracy_score, f1_score\n",
    "\n",
    "\n",
    "class VaccineFakeClassifierTrainer:\n",
    "    def __init__(\n",
    "        self,\n",
    "        model: torch.nn.Module,\n",
    "        train_loader: DataLoader,\n",
    "        val_loader: DataLoader,\n",
    "        optimizer: Optimizer,\n",
    "        criterion: torch.nn.Module,\n",
    "        device: torch.device,\n",
    "    ):\n",
    "        \"\"\"\n",
    "        Инициализация класса Trainer.\n",
    "\n",
    "        Args:\n",
    "            model: Модель для обучения (e.g., RobertaForSequenceClassification).\n",
    "            train_loader: DataLoader для обучающего набора.\n",
    "            val_loader: DataLoader для валидационного набора.\n",
    "            optimizer: Оптимизатор.\n",
    "            criterion: Функция потерь.\n",
    "            device: Устройство ('cuda' или 'cpu').\n",
    "        \"\"\"\n",
    "        self.model = model\n",
    "        self.train_loader = train_loader\n",
    "        self.val_loader = val_loader\n",
    "        self.optimizer = optimizer\n",
    "        self.criterion = criterion\n",
    "        self.device = device\n",
    "        self.history = {\n",
    "            \"train_loss\": [],\n",
    "            \"val_loss\": [],\n",
    "            \"train_metrics\": [],\n",
    "            \"val_metrics\": []\n",
    "        }\n",
    "\n",
    "        self.model.to(self.device)\n",
    "\n",
    "    def train_epoch(self) -> Tuple[float, Dict[str, float]]:\n",
    "        \"\"\"\n",
    "        Обучение модели за одну эпоху.\n",
    "\n",
    "        Returns:\n",
    "            Средние потери и метрики за эпоху.\n",
    "        \"\"\"\n",
    "        self.model.train()\n",
    "        running_loss = 0.0\n",
    "        all_labels = []\n",
    "        all_preds = []\n",
    "\n",
    "        for batch in tqdm(self.train_loader, desc=\"Training\"):\n",
    "            input_ids = batch[\"input_ids\"].to(self.device)\n",
    "            attention_mask = batch[\"attention_mask\"].to(self.device)\n",
    "            labels = batch[\"labels\"].to(self.device)\n",
    "\n",
    "            self.optimizer.zero_grad()\n",
    "\n",
    "            outputs = self.model(input_ids=input_ids, attention_mask=attention_mask, labels=labels)\n",
    "            loss = outputs.loss\n",
    "            logits = outputs.logits\n",
    "\n",
    "            running_loss += loss.item()\n",
    "\n",
    "            loss.backward()\n",
    "            self.optimizer.step()\n",
    "\n",
    "            preds = logits.argmax(dim=-1)\n",
    "            all_labels.append(labels.cpu())\n",
    "            all_preds.append(preds.cpu())\n",
    "\n",
    "        all_labels = torch.cat(all_labels)\n",
    "        all_preds = torch.cat(all_preds)\n",
    "        metrics = self._compute_metrics(all_preds, all_labels)\n",
    "\n",
    "        epoch_loss = running_loss / len(self.train_loader)\n",
    "        return epoch_loss, metrics\n",
    "\n",
    "    def validate_epoch(self) -> Tuple[float, Dict[str, float]]:\n",
    "        \"\"\"\n",
    "        Валидация модели за одну эпоху.\n",
    "\n",
    "        Returns:\n",
    "            Средние потери и метрики за эпоху.\n",
    "        \"\"\"\n",
    "        self.model.eval()\n",
    "        running_loss = 0.0\n",
    "        all_labels = []\n",
    "        all_preds = []\n",
    "\n",
    "        with torch.no_grad():\n",
    "            for batch in tqdm(self.val_loader, desc=\"Validation\"):\n",
    "                input_ids = batch[\"input_ids\"].to(self.device)\n",
    "                attention_mask = batch[\"attention_mask\"].to(self.device)\n",
    "                labels = batch[\"labels\"].to(self.device)\n",
    "\n",
    "                outputs = self.model(input_ids=input_ids, attention_mask=attention_mask, labels=labels)\n",
    "                loss = outputs.loss\n",
    "                logits = outputs.logits\n",
    "\n",
    "                running_loss += loss.item()\n",
    "\n",
    "                preds = logits.argmax(dim=-1)\n",
    "                all_labels.append(labels.cpu())\n",
    "                all_preds.append(preds.cpu())\n",
    "\n",
    "        all_labels = torch.cat(all_labels)\n",
    "        all_preds = torch.cat(all_preds)\n",
    "        metrics = self._compute_metrics(all_preds, all_labels)\n",
    "\n",
    "        epoch_loss = running_loss / len(self.val_loader)\n",
    "        return epoch_loss, metrics\n",
    "\n",
    "    def fit(self, num_epochs: int):\n",
    "        \"\"\"\n",
    "        Обучение и валидация модели.\n",
    "\n",
    "        Args:\n",
    "            num_epochs: Общее количество эпох.\n",
    "        \"\"\"\n",
    "        for epoch in range(num_epochs):\n",
    "            print(f\"\\nEpoch {epoch + 1}/{num_epochs}\")\n",
    "\n",
    "            train_loss, train_metrics = self.train_epoch()\n",
    "            val_loss, val_metrics = self.validate_epoch()\n",
    "\n",
    "            self.history[\"train_loss\"].append(train_loss)\n",
    "            self.history[\"val_loss\"].append(val_loss)\n",
    "            self.history[\"train_metrics\"].append(train_metrics)\n",
    "            self.history[\"val_metrics\"].append(val_metrics)\n",
    "\n",
    "            print(f\"Train Loss: {train_loss:.4f} | Validation Loss: {val_loss:.4f}\")\n",
    "            print(f\"Train Metrics: {train_metrics} | Validation Metrics: {val_metrics}\")\n",
    "\n",
    "    def plot_results(self, metrics_to_plot=None):\n",
    "        \"\"\"\n",
    "        Построение графиков потерь и метрик для обучения и валидации.\n",
    "\n",
    "        Args:\n",
    "            metrics_to_plot: Список метрик для визуализации.\n",
    "        \"\"\"\n",
    "        if metrics_to_plot is None:\n",
    "            metrics_to_plot = [\"accuracy\", \"f1\"]\n",
    "\n",
    "        num_plots = len(metrics_to_plot) + 1\n",
    "        plt.figure(figsize=(15, 5 * (num_plots // 2 + 1)))\n",
    "\n",
    "        # График потерь\n",
    "        plt.subplot((num_plots + 1) // 2, 2, 1)\n",
    "        plt.plot(self.history[\"train_loss\"], label=\"Train Loss\", color=\"blue\", linestyle=\"--\")\n",
    "        plt.plot(self.history[\"val_loss\"], label=\"Validation Loss\", color=\"red\", linestyle=\"-\")\n",
    "        plt.xlabel(\"Epochs\")\n",
    "        plt.ylabel(\"Loss\")\n",
    "        plt.title(\"Loss over Epochs\")\n",
    "        plt.legend()\n",
    "        plt.grid(True)\n",
    "\n",
    "        # Графики метрик\n",
    "        for i, metric in enumerate(metrics_to_plot, start=2):\n",
    "            train_metric = [m[metric] for m in self.history[\"train_metrics\"]]\n",
    "            val_metric = [m[metric] for m in self.history[\"val_metrics\"]]\n",
    "\n",
    "            plt.subplot((num_plots + 1) // 2, 2, i)\n",
    "            plt.plot(train_metric, label=f\"Train {metric.capitalize()}\", color=\"blue\", linestyle=\"--\")\n",
    "            plt.plot(val_metric, label=f\"Validation {metric.capitalize()}\", color=\"red\", linestyle=\"-\")\n",
    "            plt.xlabel(\"Epochs\")\n",
    "            plt.ylabel(metric.capitalize())\n",
    "            plt.title(f\"{metric.capitalize()} over Epochs\")\n",
    "            plt.legend()\n",
    "            plt.grid(True)\n",
    "\n",
    "        plt.tight_layout()\n",
    "        plt.show()\n",
    "\n",
    "    @staticmethod\n",
    "    def _compute_metrics(preds: torch.Tensor, labels: torch.Tensor) -> Dict[str, float]:\n",
    "        \"\"\"\n",
    "        Вычисление метрик.\n",
    "\n",
    "        Args:\n",
    "            preds: Предсказания модели.\n",
    "            labels: Истинные метки.\n",
    "\n",
    "        Returns:\n",
    "            Словарь метрик.\n",
    "        \"\"\"\n",
    "        preds = preds.numpy()\n",
    "        labels = labels.numpy()\n",
    "\n",
    "        metrics = {\n",
    "            \"accuracy\": accuracy_score(labels, preds),\n",
    "            \"f1\": f1_score(labels, preds, average=\"weighted\"),\n",
    "        }\n",
    "        return metrics\n"
   ]
  },
  {
   "cell_type": "markdown",
   "metadata": {},
   "source": [
    "# Обучение"
   ]
  },
  {
   "cell_type": "code",
   "execution_count": 63,
   "metadata": {},
   "outputs": [
    {
     "name": "stderr",
     "output_type": "stream",
     "text": [
      "Some weights of RobertaForSequenceClassification were not initialized from the model checkpoint at roberta-base and are newly initialized: ['classifier.dense.bias', 'classifier.dense.weight', 'classifier.out_proj.bias', 'classifier.out_proj.weight']\n",
      "You should probably TRAIN this model on a down-stream task to be able to use it for predictions and inference.\n"
     ]
    }
   ],
   "source": [
    "import torch\n",
    "from torch.optim import AdamW\n",
    "from transformers import RobertaForSequenceClassification\n",
    "\n",
    "LEARNING_RATE = 1e-5\n",
    "NUM_EPOCHS = 5\n",
    "WEIGHT_DECAY = 0.01\n",
    "\n",
    "model = RobertaForSequenceClassification.from_pretrained(\n",
    "    MODEL_NAME, num_labels=NUM_CLASSES, cache_dir=DATA_CACHE)\n",
    "\n",
    "model.to(DEVICE)\n",
    "\n",
    "optimizer = AdamW(model.parameters(), lr=LEARNING_RATE, weight_decay=WEIGHT_DECAY)\n",
    "\n",
    "criterion = torch.nn.CrossEntropyLoss()"
   ]
  },
  {
   "cell_type": "code",
   "execution_count": 64,
   "metadata": {},
   "outputs": [],
   "source": [
    "from torch.optim import Adagrad, RMSprop\n",
    "\n",
    "optimizer = Adagrad(model.parameters(), lr=LEARNING_RATE, weight_decay=WEIGHT_DECAY)\n",
    "\n",
    "optimizer = RMSprop(model.parameters(), lr=LEARNING_RATE, weight_decay=WEIGHT_DECAY, alpha=0.9, momentum=0.9)"
   ]
  },
  {
   "cell_type": "code",
   "execution_count": 65,
   "metadata": {},
   "outputs": [],
   "source": [
    "trainer = VaccineFakeClassifierTrainer(\n",
    "    model=model,\n",
    "    train_loader=train_loader,\n",
    "    val_loader=val_loader,\n",
    "    optimizer=optimizer,\n",
    "    criterion=criterion,\n",
    "    device=DEVICE,\n",
    ")"
   ]
  },
  {
   "cell_type": "code",
   "execution_count": 66,
   "metadata": {},
   "outputs": [
    {
     "name": "stdout",
     "output_type": "stream",
     "text": [
      "\n",
      "Epoch 1/5\n"
     ]
    },
    {
     "data": {
      "application/vnd.jupyter.widget-view+json": {
       "model_id": "a7df3acde34d466684957da64e88dbec",
       "version_major": 2,
       "version_minor": 0
      },
      "text/plain": [
       "Training:   0%|          | 0/2015 [00:00<?, ?it/s]"
      ]
     },
     "metadata": {},
     "output_type": "display_data"
    },
    {
     "data": {
      "application/vnd.jupyter.widget-view+json": {
       "model_id": "f1765835f0d84250a76cd89131d39f00",
       "version_major": 2,
       "version_minor": 0
      },
      "text/plain": [
       "Validation:   0%|          | 0/224 [00:00<?, ?it/s]"
      ]
     },
     "metadata": {},
     "output_type": "display_data"
    },
    {
     "name": "stdout",
     "output_type": "stream",
     "text": [
      "Train Loss: 0.0541 | Validation Loss: 0.0443\n",
      "Train Metrics: {'accuracy': 0.9822336501879021, 'f1': 0.9815337053993495} | Validation Metrics: {'accuracy': 0.9833158813263525, 'f1': 0.9831396683224269}\n",
      "\n",
      "Epoch 2/5\n"
     ]
    },
    {
     "data": {
      "application/vnd.jupyter.widget-view+json": {
       "model_id": "a7c35182bb4a43998110f6ab74af9ab2",
       "version_major": 2,
       "version_minor": 0
      },
      "text/plain": [
       "Training:   0%|          | 0/2015 [00:00<?, ?it/s]"
      ]
     },
     "metadata": {},
     "output_type": "display_data"
    },
    {
     "data": {
      "application/vnd.jupyter.widget-view+json": {
       "model_id": "8a81e41630d8429db778f474f7c7c78a",
       "version_major": 2,
       "version_minor": 0
      },
      "text/plain": [
       "Validation:   0%|          | 0/224 [00:00<?, ?it/s]"
      ]
     },
     "metadata": {},
     "output_type": "display_data"
    },
    {
     "name": "stdout",
     "output_type": "stream",
     "text": [
      "Train Loss: 0.0562 | Validation Loss: 0.0606\n",
      "Train Metrics: {'accuracy': 0.982128936927713, 'f1': 0.9812870330371326} | Validation Metrics: {'accuracy': 0.9793019197207679, 'f1': 0.9804811448334781}\n",
      "\n",
      "Epoch 3/5\n"
     ]
    },
    {
     "data": {
      "application/vnd.jupyter.widget-view+json": {
       "model_id": "ee4766c8b1a44944bef5ed79c7581e42",
       "version_major": 2,
       "version_minor": 0
      },
      "text/plain": [
       "Training:   0%|          | 0/2015 [00:00<?, ?it/s]"
      ]
     },
     "metadata": {},
     "output_type": "display_data"
    },
    {
     "data": {
      "application/vnd.jupyter.widget-view+json": {
       "model_id": "f1af66797ea7481d85c426b55dcb6812",
       "version_major": 2,
       "version_minor": 0
      },
      "text/plain": [
       "Validation:   0%|          | 0/224 [00:00<?, ?it/s]"
      ]
     },
     "metadata": {},
     "output_type": "display_data"
    },
    {
     "name": "stdout",
     "output_type": "stream",
     "text": [
      "Train Loss: 0.0518 | Validation Loss: 0.0399\n",
      "Train Metrics: {'accuracy': 0.9833583481677118, 'f1': 0.9826824943530623} | Validation Metrics: {'accuracy': 0.9883420593368237, 'f1': 0.9877570610525359}\n",
      "\n",
      "Epoch 4/5\n"
     ]
    },
    {
     "data": {
      "application/vnd.jupyter.widget-view+json": {
       "model_id": "178a1838626f4fa8bd69f3c46480303b",
       "version_major": 2,
       "version_minor": 0
      },
      "text/plain": [
       "Training:   0%|          | 0/2015 [00:00<?, ?it/s]"
      ]
     },
     "metadata": {},
     "output_type": "display_data"
    },
    {
     "data": {
      "application/vnd.jupyter.widget-view+json": {
       "model_id": "8a3d9d22da8b4ac1991ccaff29672292",
       "version_major": 2,
       "version_minor": 0
      },
      "text/plain": [
       "Validation:   0%|          | 0/224 [00:00<?, ?it/s]"
      ]
     },
     "metadata": {},
     "output_type": "display_data"
    },
    {
     "name": "stdout",
     "output_type": "stream",
     "text": [
      "Train Loss: 0.0488 | Validation Loss: 0.0370\n",
      "Train Metrics: {'accuracy': 0.9840913409890362, 'f1': 0.9834975187452157} | Validation Metrics: {'accuracy': 0.9881675392670157, 'f1': 0.9877991591475995}\n",
      "\n",
      "Epoch 5/5\n"
     ]
    },
    {
     "data": {
      "application/vnd.jupyter.widget-view+json": {
       "model_id": "4b4d52b0e0fd422ab98bad12792f7015",
       "version_major": 2,
       "version_minor": 0
      },
      "text/plain": [
       "Training:   0%|          | 0/2015 [00:00<?, ?it/s]"
      ]
     },
     "metadata": {},
     "output_type": "display_data"
    },
    {
     "data": {
      "application/vnd.jupyter.widget-view+json": {
       "model_id": "a7b14fabd1d74c54b2191e0cb21817cb",
       "version_major": 2,
       "version_minor": 0
      },
      "text/plain": [
       "Validation:   0%|          | 0/224 [00:00<?, ?it/s]"
      ]
     },
     "metadata": {},
     "output_type": "display_data"
    },
    {
     "name": "stdout",
     "output_type": "stream",
     "text": [
      "Train Loss: 0.0486 | Validation Loss: 0.0374\n",
      "Train Metrics: {'accuracy': 0.9850570299441141, 'f1': 0.9845313369932245} | Validation Metrics: {'accuracy': 0.9863874345549738, 'f1': 0.9864605894817933}\n"
     ]
    }
   ],
   "source": [
    "trainer.fit(num_epochs=NUM_EPOCHS)"
   ]
  },
  {
   "cell_type": "code",
   "execution_count": 67,
   "metadata": {},
   "outputs": [
    {
     "data": {
      "image/png": "[encoded data removed]",
      "text/plain": [
       "<Figure size 1500x1000 with 3 Axes>"
      ]
     },
     "metadata": {},
     "output_type": "display_data"
    }
   ],
   "source": [
    "trainer.plot_results()"
   ]
  },
  {
   "cell_type": "code",
   "execution_count": 68,
   "metadata": {},
   "outputs": [
    {
     "name": "stdout",
     "output_type": "stream",
     "text": [
      "Модель и токинайзер сохранены в: data\\models\\covid_vaccine_fake_model\n"
     ]
    }
   ],
   "source": [
    "model_save_path = DATA_PATH_SAVE_MODELS / \"covid_vaccine_fake_model\"\n",
    "model.save_pretrained(model_save_path)\n",
    "tokenizer.save_pretrained(model_save_path)\n",
    "print(f\"Модель и токинайзер сохранены в: {model_save_path}\")"
   ]
  },
  {
   "cell_type": "markdown",
   "metadata": {},
   "source": [
    "# Тестирование"
   ]
  },
  {
   "cell_type": "code",
   "execution_count": 69,
   "metadata": {},
   "outputs": [],
   "source": [
    "import torch\n",
    "from torch.utils.data import DataLoader\n",
    "from tqdm.notebook import tqdm\n",
    "import pandas as pd\n",
    "from sklearn.metrics import accuracy_score, f1_score\n",
    "\n",
    "\n",
    "def test_model(\n",
    "    model: torch.nn.Module,\n",
    "    test_loader: DataLoader,\n",
    "    test_df: pd.DataFrame,\n",
    "    idx2label: dict,\n",
    "    device: torch.device = torch.device(\"cuda\" if torch.cuda.is_available() else \"cpu\"),\n",
    ") -> pd.DataFrame:\n",
    "    \"\"\"\n",
    "    Тестирует модель на тестовом DataLoader и возвращает DataFrame с результатами.\n",
    "\n",
    "    Args:\n",
    "        model (torch.nn.Module): Обученная модель.\n",
    "        test_loader (DataLoader): DataLoader для тестового набора.\n",
    "        test_df (pd.DataFrame): Исходный DataFrame тестовых данных.\n",
    "        idx2label (dict): Словарь, отображающий индексы категорий в названия.\n",
    "        device (torch.device): Устройство для вычислений (CPU/GPU).\n",
    "\n",
    "    Returns:\n",
    "        pd.DataFrame: DataFrame с результатами, содержащий:\n",
    "            - 'text': текст примера,\n",
    "            - 'true_label': истинная метка,\n",
    "            - 'predicted_label': предсказанная метка,\n",
    "            - 'probability': вероятность предсказания,\n",
    "            - 'correct': корректность предсказания (True/False).\n",
    "    \"\"\"\n",
    "    model.eval()\n",
    "    model.to(device)\n",
    "\n",
    "    test_results = []\n",
    "\n",
    "    with torch.no_grad():\n",
    "        for batch in tqdm(test_loader, desc=\"Testing\"):\n",
    "            input_ids = batch[\"input_ids\"].to(device)\n",
    "            attention_mask = batch[\"attention_mask\"].to(device)\n",
    "            true_labels = batch[\"labels\"].to(device)\n",
    "\n",
    "            logits = model(input_ids=input_ids, attention_mask=attention_mask).logits\n",
    "            probabilities = torch.softmax(logits, dim=-1).cpu().numpy()\n",
    "\n",
    "            predictions = torch.argmax(logits, dim=-1).cpu().numpy()\n",
    "            true_labels = true_labels.cpu().numpy()\n",
    "\n",
    "            for true_label, predicted_label, probs in zip(true_labels, predictions, probabilities):\n",
    "                test_results.append({\n",
    "                    \"true_label\": idx2label[true_label],\n",
    "                    \"predicted_label\": idx2label[predicted_label],\n",
    "                    \"probability\": probs.tolist(),\n",
    "                    \"correct\": true_label == predicted_label,\n",
    "                })\n",
    "\n",
    "    test_results_df = pd.DataFrame(test_results)\n",
    "\n",
    "    test_df = test_df.reset_index(drop=True)\n",
    "    test_df = pd.concat([test_df, test_results_df], axis=1)\n",
    "\n",
    "    accuracy = accuracy_score(test_df[\"true_label\"], test_df[\"predicted_label\"])\n",
    "    f1 = f1_score(test_df[\"true_label\"], test_df[\"predicted_label\"], average=\"weighted\")\n",
    "\n",
    "    print(\"\\n=== Результаты тестирования ===\")\n",
    "    print(f\"Accuracy: {accuracy * 100:.2f}%\")\n",
    "    print(f\"F1 Score: {f1:.4f}\")\n",
    "\n",
    "    return test_df\n"
   ]
  },
  {
   "cell_type": "code",
   "execution_count": 70,
   "metadata": {},
   "outputs": [
    {
     "data": {
      "text/plain": [
       "RobertaForSequenceClassification(\n",
       "  (roberta): RobertaModel(\n",
       "    (embeddings): RobertaEmbeddings(\n",
       "      (word_embeddings): Embedding(50265, 768, padding_idx=1)\n",
       "      (position_embeddings): Embedding(514, 768, padding_idx=1)\n",
       "      (token_type_embeddings): Embedding(1, 768)\n",
       "      (LayerNorm): LayerNorm((768,), eps=1e-05, elementwise_affine=True)\n",
       "      (dropout): Dropout(p=0.1, inplace=False)\n",
       "    )\n",
       "    (encoder): RobertaEncoder(\n",
       "      (layer): ModuleList(\n",
       "        (0-11): 12 x RobertaLayer(\n",
       "          (attention): RobertaAttention(\n",
       "            (self): RobertaSelfAttention(\n",
       "              (query): Linear(in_features=768, out_features=768, bias=True)\n",
       "              (key): Linear(in_features=768, out_features=768, bias=True)\n",
       "              (value): Linear(in_features=768, out_features=768, bias=True)\n",
       "              (dropout): Dropout(p=0.1, inplace=False)\n",
       "            )\n",
       "            (output): RobertaSelfOutput(\n",
       "              (dense): Linear(in_features=768, out_features=768, bias=True)\n",
       "              (LayerNorm): LayerNorm((768,), eps=1e-05, elementwise_affine=True)\n",
       "              (dropout): Dropout(p=0.1, inplace=False)\n",
       "            )\n",
       "          )\n",
       "          (intermediate): RobertaIntermediate(\n",
       "            (dense): Linear(in_features=768, out_features=3072, bias=True)\n",
       "            (intermediate_act_fn): GELUActivation()\n",
       "          )\n",
       "          (output): RobertaOutput(\n",
       "            (dense): Linear(in_features=3072, out_features=768, bias=True)\n",
       "            (LayerNorm): LayerNorm((768,), eps=1e-05, elementwise_affine=True)\n",
       "            (dropout): Dropout(p=0.1, inplace=False)\n",
       "          )\n",
       "        )\n",
       "      )\n",
       "    )\n",
       "  )\n",
       "  (classifier): RobertaClassificationHead(\n",
       "    (dense): Linear(in_features=768, out_features=768, bias=True)\n",
       "    (dropout): Dropout(p=0.1, inplace=False)\n",
       "    (out_proj): Linear(in_features=768, out_features=3, bias=True)\n",
       "  )\n",
       ")"
      ]
     },
     "execution_count": 70,
     "metadata": {},
     "output_type": "execute_result"
    }
   ],
   "source": [
    "from transformers import RobertaForSequenceClassification, RobertaTokenizer\n",
    "\n",
    "tokenizer = RobertaTokenizer.from_pretrained(DATA_PATH_SAVE_MODELS / \"covid_vaccine_fake_model\")\n",
    "model = RobertaForSequenceClassification.from_pretrained(\n",
    "    DATA_PATH_SAVE_MODELS / \"covid_vaccine_fake_model\")\n",
    "\n",
    "model.to(DEVICE)"
   ]
  },
  {
   "cell_type": "code",
   "execution_count": 71,
   "metadata": {},
   "outputs": [
    {
     "data": {
      "application/vnd.jupyter.widget-view+json": {
       "model_id": "cfb8af9ae80a405dba5025060489d09f",
       "version_major": 2,
       "version_minor": 0
      },
      "text/plain": [
       "Testing:   0%|          | 0/249 [00:00<?, ?it/s]"
      ]
     },
     "metadata": {},
     "output_type": "display_data"
    },
    {
     "name": "stdout",
     "output_type": "stream",
     "text": [
      "\n",
      "=== Результаты тестирования ===\n",
      "Accuracy: 98.72%\n",
      "F1 Score: 0.9872\n"
     ]
    }
   ],
   "source": [
    "test_results_df = test_model(\n",
    "    model=model,\n",
    "    test_loader=test_loader,\n",
    "    test_df=test_df,\n",
    "    idx2label=idx2label,\n",
    "    device=DEVICE,\n",
    ")"
   ]
  },
  {
   "cell_type": "code",
   "execution_count": 78,
   "metadata": {},
   "outputs": [
    {
     "data": {
      "text/html": [
       "<div>\n",
       "<style scoped>\n",
       "    .dataframe tbody tr th:only-of-type {\n",
       "        vertical-align: middle;\n",
       "    }\n",
       "\n",
       "    .dataframe tbody tr th {\n",
       "        vertical-align: top;\n",
       "    }\n",
       "\n",
       "    .dataframe thead th {\n",
       "        text-align: right;\n",
       "    }\n",
       "</style>\n",
       "<table border=\"1\" class=\"dataframe\">\n",
       "  <thead>\n",
       "    <tr style=\"text-align: right;\">\n",
       "      <th></th>\n",
       "      <th>text</th>\n",
       "      <th>label_idx</th>\n",
       "      <th>original_label_1</th>\n",
       "      <th>source</th>\n",
       "      <th>original_label_2</th>\n",
       "      <th>label_str</th>\n",
       "      <th>true_label</th>\n",
       "      <th>predicted_label</th>\n",
       "      <th>probability</th>\n",
       "      <th>correct</th>\n",
       "    </tr>\n",
       "  </thead>\n",
       "  <tbody>\n",
       "    <tr>\n",
       "      <th>31079</th>\n",
       "      <td>and  are here but for some reason are reinacting the invisble man and cant be seen</td>\n",
       "      <td>2</td>\n",
       "      <td>False</td>\n",
       "      <td>twitter</td>\n",
       "      <td></td>\n",
       "      <td>Comments</td>\n",
       "      <td>Comments</td>\n",
       "      <td>Comments</td>\n",
       "      <td>[0.0008607598138041794, 0.001457554753869772, 0.997681736946106]</td>\n",
       "      <td>True</td>\n",
       "    </tr>\n",
       "    <tr>\n",
       "      <th>12560</th>\n",
       "      <td>and my bird is a crazy one lol i let her free 2 times a day and she enjoys it a lot! and flies back in her cage alone</td>\n",
       "      <td>2</td>\n",
       "      <td>True</td>\n",
       "      <td>twitter</td>\n",
       "      <td></td>\n",
       "      <td>Comments</td>\n",
       "      <td>Comments</td>\n",
       "      <td>Comments</td>\n",
       "      <td>[9.040887380251661e-05, 0.00040863838512450457, 0.9995008707046509]</td>\n",
       "      <td>True</td>\n",
       "    </tr>\n",
       "    <tr>\n",
       "      <th>31246</th>\n",
       "      <td>utc discussed continuum involve aerobic muscle fibers even primarily anaerobic activities simply contribute much overall effort see chart aerobic component well less activities well past low rep high weight range even aerobic component would still qualify primarily anaerobic reliable sources idea low rep high weight trainging provides important aerobic training component epoc count simply body recovering anaerobic work uses oxygen aerobic sense mar</td>\n",
       "      <td>2</td>\n",
       "      <td>True</td>\n",
       "      <td>toxic_comments</td>\n",
       "      <td></td>\n",
       "      <td>Comments</td>\n",
       "      <td>Comments</td>\n",
       "      <td>Comments</td>\n",
       "      <td>[0.002919347956776619, 0.005923592951148748, 0.991157054901123]</td>\n",
       "      <td>True</td>\n",
       "    </tr>\n",
       "    <tr>\n",
       "      <th>10248</th>\n",
       "      <td>suck making article tag deletion power hungry nerd</td>\n",
       "      <td>2</td>\n",
       "      <td>False</td>\n",
       "      <td>toxic_comments</td>\n",
       "      <td></td>\n",
       "      <td>Comments</td>\n",
       "      <td>Comments</td>\n",
       "      <td>Comments</td>\n",
       "      <td>[7.635225483682007e-05, 0.0004394539864733815, 0.9994841814041138]</td>\n",
       "      <td>True</td>\n",
       "    </tr>\n",
       "    <tr>\n",
       "      <th>25473</th>\n",
       "      <td>Ok, time for softball. First game of the season comes with BBQ  e ya later!!!</td>\n",
       "      <td>2</td>\n",
       "      <td>True</td>\n",
       "      <td>twitter</td>\n",
       "      <td></td>\n",
       "      <td>Comments</td>\n",
       "      <td>Comments</td>\n",
       "      <td>Comments</td>\n",
       "      <td>[0.00035455849138088524, 0.0008138177217915654, 0.998831570148468]</td>\n",
       "      <td>True</td>\n",
       "    </tr>\n",
       "    <tr>\n",
       "      <th>14465</th>\n",
       "      <td>&amp;quot;Your application for press passes to Spinal Tap at Wembley Arena was declined on this occasion&amp;quot; - This? it's THE only occasion. bahhh!</td>\n",
       "      <td>2</td>\n",
       "      <td>False</td>\n",
       "      <td>twitter</td>\n",
       "      <td></td>\n",
       "      <td>Comments</td>\n",
       "      <td>Comments</td>\n",
       "      <td>Comments</td>\n",
       "      <td>[0.00012583163334056735, 0.0005108725745230913, 0.999363362789154]</td>\n",
       "      <td>True</td>\n",
       "    </tr>\n",
       "    <tr>\n",
       "      <th>11095</th>\n",
       "      <td>I am lost. Please help me find a good home.</td>\n",
       "      <td>2</td>\n",
       "      <td>False</td>\n",
       "      <td>twitter</td>\n",
       "      <td></td>\n",
       "      <td>Comments</td>\n",
       "      <td>Comments</td>\n",
       "      <td>Comments</td>\n",
       "      <td>[8.103457366814837e-05, 0.0002922313869930804, 0.9996267557144165]</td>\n",
       "      <td>True</td>\n",
       "    </tr>\n",
       "    <tr>\n",
       "      <th>24903</th>\n",
       "      <td>recommended deletion since lack noteworthiness since one carries much less watches piece shit channel pretend like never existed pussy liberal land deleting faggot page thanks fuck micropenises pussies</td>\n",
       "      <td>2</td>\n",
       "      <td>False</td>\n",
       "      <td>toxic_comments</td>\n",
       "      <td></td>\n",
       "      <td>Comments</td>\n",
       "      <td>Comments</td>\n",
       "      <td>Comments</td>\n",
       "      <td>[0.00015943053585942835, 0.0007165165152400732, 0.9991239905357361]</td>\n",
       "      <td>True</td>\n",
       "    </tr>\n",
       "    <tr>\n",
       "      <th>7307</th>\n",
       "      <td>sounds good</td>\n",
       "      <td>2</td>\n",
       "      <td>True</td>\n",
       "      <td>twitter</td>\n",
       "      <td></td>\n",
       "      <td>Comments</td>\n",
       "      <td>Comments</td>\n",
       "      <td>Comments</td>\n",
       "      <td>[7.585380808450282e-05, 0.00046251885942183435, 0.9994615912437439]</td>\n",
       "      <td>True</td>\n",
       "    </tr>\n",
       "    <tr>\n",
       "      <th>27078</th>\n",
       "      <td>A video has been viewed hundreds of thousands of times in multiple Facebook posts which claim it shows two Italian doctors who contracted novel coronavirus which causes the disease COVID-19 while treating patients.</td>\n",
       "      <td>1</td>\n",
       "      <td>fake</td>\n",
       "      <td>nanyy1025</td>\n",
       "      <td></td>\n",
       "      <td>Fake</td>\n",
       "      <td>Fake</td>\n",
       "      <td>Fake</td>\n",
       "      <td>[0.1880740225315094, 0.8084573149681091, 0.0034686557482928038]</td>\n",
       "      <td>True</td>\n",
       "    </tr>\n",
       "  </tbody>\n",
       "</table>\n",
       "</div>"
      ],
      "text/plain": [
       "                                                                                                                                                                                                                                                                                                                                                                                                                                                                       text  \\\n",
       "31079                                                                                                                                                                                                                                                                                                                                                                                    and  are here but for some reason are reinacting the invisble man and cant be seen   \n",
       "12560                                                                                                                                                                                                                                                                                                                                                 and my bird is a crazy one lol i let her free 2 times a day and she enjoys it a lot! and flies back in her cage alone   \n",
       "31246  utc discussed continuum involve aerobic muscle fibers even primarily anaerobic activities simply contribute much overall effort see chart aerobic component well less activities well past low rep high weight range even aerobic component would still qualify primarily anaerobic reliable sources idea low rep high weight trainging provides important aerobic training component epoc count simply body recovering anaerobic work uses oxygen aerobic sense mar   \n",
       "10248                                                                                                                                                                                                                                                                                                                                                                                                                    suck making article tag deletion power hungry nerd   \n",
       "25473                                                                                                                                                                                                                                                                                                                                                                                         Ok, time for softball. First game of the season comes with BBQ  e ya later!!!   \n",
       "14465                                                                                                                                                                                                                                                                                                                     &quot;Your application for press passes to Spinal Tap at Wembley Arena was declined on this occasion&quot; - This? it's THE only occasion. bahhh!   \n",
       "11095                                                                                                                                                                                                                                                                                                                                                                                                                           I am lost. Please help me find a good home.   \n",
       "24903                                                                                                                                                                                                                                                             recommended deletion since lack noteworthiness since one carries much less watches piece shit channel pretend like never existed pussy liberal land deleting faggot page thanks fuck micropenises pussies   \n",
       "7307                                                                                                                                                                                                                                                                                                                                                                                                                                                            sounds good   \n",
       "27078                                                                                                                                                                                                                                                A video has been viewed hundreds of thousands of times in multiple Facebook posts which claim it shows two Italian doctors who contracted novel coronavirus which causes the disease COVID-19 while treating patients.   \n",
       "\n",
       "       label_idx original_label_1          source original_label_2 label_str  \\\n",
       "31079          2            False         twitter                   Comments   \n",
       "12560          2             True         twitter                   Comments   \n",
       "31246          2             True  toxic_comments                   Comments   \n",
       "10248          2            False  toxic_comments                   Comments   \n",
       "25473          2             True         twitter                   Comments   \n",
       "14465          2            False         twitter                   Comments   \n",
       "11095          2            False         twitter                   Comments   \n",
       "24903          2            False  toxic_comments                   Comments   \n",
       "7307           2             True         twitter                   Comments   \n",
       "27078          1             fake       nanyy1025                       Fake   \n",
       "\n",
       "      true_label predicted_label  \\\n",
       "31079   Comments        Comments   \n",
       "12560   Comments        Comments   \n",
       "31246   Comments        Comments   \n",
       "10248   Comments        Comments   \n",
       "25473   Comments        Comments   \n",
       "14465   Comments        Comments   \n",
       "11095   Comments        Comments   \n",
       "24903   Comments        Comments   \n",
       "7307    Comments        Comments   \n",
       "27078       Fake            Fake   \n",
       "\n",
       "                                                               probability  \\\n",
       "31079     [0.0008607598138041794, 0.001457554753869772, 0.997681736946106]   \n",
       "12560  [9.040887380251661e-05, 0.00040863838512450457, 0.9995008707046509]   \n",
       "31246      [0.002919347956776619, 0.005923592951148748, 0.991157054901123]   \n",
       "10248   [7.635225483682007e-05, 0.0004394539864733815, 0.9994841814041138]   \n",
       "25473   [0.00035455849138088524, 0.0008138177217915654, 0.998831570148468]   \n",
       "14465   [0.00012583163334056735, 0.0005108725745230913, 0.999363362789154]   \n",
       "11095   [8.103457366814837e-05, 0.0002922313869930804, 0.9996267557144165]   \n",
       "24903  [0.00015943053585942835, 0.0007165165152400732, 0.9991239905357361]   \n",
       "7307   [7.585380808450282e-05, 0.00046251885942183435, 0.9994615912437439]   \n",
       "27078      [0.1880740225315094, 0.8084573149681091, 0.0034686557482928038]   \n",
       "\n",
       "       correct  \n",
       "31079     True  \n",
       "12560     True  \n",
       "31246     True  \n",
       "10248     True  \n",
       "25473     True  \n",
       "14465     True  \n",
       "11095     True  \n",
       "24903     True  \n",
       "7307      True  \n",
       "27078     True  "
      ]
     },
     "execution_count": 78,
     "metadata": {},
     "output_type": "execute_result"
    }
   ],
   "source": [
    "test_results_df.sample(10)"
   ]
  },
  {
   "cell_type": "code",
   "execution_count": 73,
   "metadata": {},
   "outputs": [],
   "source": [
    "test_results_df.to_excel(DATA_PATH / 'test_results_learning.xlsx', index=False)"
   ]
  },
  {
   "cell_type": "code",
   "execution_count": 74,
   "metadata": {},
   "outputs": [],
   "source": [
    "from transformers import PreTrainedTokenizer, PreTrainedModel\n",
    "import torch\n",
    "\n",
    "\n",
    "def test_model_with_text(\n",
    "    model: PreTrainedModel,\n",
    "    tokenizer: PreTrainedTokenizer,\n",
    "    text: str,\n",
    "    max_length: int = 128,\n",
    "    label_map: dict = None,\n",
    "):\n",
    "    \"\"\"\n",
    "    Проверяет модель на введенном вручную тексте, используя argmax для классификации.\n",
    "\n",
    "    Args:\n",
    "        model (PreTrainedModel): Загруженная обученная модель (например, RobertaForSequenceClassification).\n",
    "        tokenizer (PreTrainedTokenizer): Токенизатор для подготовки текста.\n",
    "        text (str): Текст для классификации.\n",
    "        max_length (int): Максимальная длина токенизированного текста.\n",
    "        label_map (dict): Словарь для отображения меток, если метки числовые.\n",
    "\n",
    "    Returns:\n",
    "        dict: Словарь с текстом, вероятностями и предсказанными метками.\n",
    "    \"\"\"\n",
    "\n",
    "    model.eval()\n",
    "    device = torch.device(\"cuda\" if torch.cuda.is_available() else \"cpu\")\n",
    "    model.to(device)\n",
    "\n",
    "    inputs = tokenizer(\n",
    "        text,\n",
    "        max_length=max_length,\n",
    "        padding=\"max_length\",\n",
    "        truncation=True,\n",
    "        return_tensors=\"pt\"\n",
    "    ).to(device)\n",
    "\n",
    "    with torch.no_grad():\n",
    "        outputs = model(**inputs)\n",
    "        logits = outputs.logits\n",
    "        probs = torch.softmax(logits, dim=-1).cpu().numpy()[0]  # Вероятности для каждого класса\n",
    "\n",
    "    predicted_index = torch.argmax(logits, dim=-1).item()\n",
    "    predicted_label = label_map[predicted_index] if label_map else predicted_index\n",
    "\n",
    "    # Результаты\n",
    "    result = {\n",
    "        \"text\": text,\n",
    "        \"probabilities\": probs.tolist(),\n",
    "        \"predicted_label\": predicted_label\n",
    "    }\n",
    "\n",
    "    return result\n"
   ]
  },
  {
   "cell_type": "markdown",
   "metadata": {},
   "source": [
    "Real"
   ]
  },
  {
   "cell_type": "code",
   "execution_count": 75,
   "metadata": {},
   "outputs": [
    {
     "name": "stdout",
     "output_type": "stream",
     "text": [
      "{'text': 'COVID-19 vaccines do not affect fertility or reproductive health. This has been confirmed through multiple studies and ongoing research.', 'probabilities': [0.5359705090522766, 0.4630146622657776, 0.0010147941065952182], 'predicted_label': 'Real'}\n"
     ]
    }
   ],
   "source": [
    "text = \"COVID-19 vaccines do not affect fertility or reproductive health. This has been confirmed through multiple studies and ongoing research.\"\n",
    "\n",
    "result = test_model_with_text(\n",
    "    model=model,\n",
    "    tokenizer=tokenizer,\n",
    "    text=text,\n",
    "    max_length=128,\n",
    "    label_map=idx2label\n",
    ")\n",
    "\n",
    "print(result)"
   ]
  },
  {
   "cell_type": "markdown",
   "metadata": {},
   "source": [
    "Fake"
   ]
  },
  {
   "cell_type": "code",
   "execution_count": 76,
   "metadata": {},
   "outputs": [
    {
     "name": "stdout",
     "output_type": "stream",
     "text": [
      "{'text': 'COVID-19 vaccines affect fertility or reproductive health.', 'probabilities': [0.2827509641647339, 0.7156590223312378, 0.0015899945283308625], 'predicted_label': 'Fake'}\n"
     ]
    }
   ],
   "source": [
    "text = \"COVID-19 vaccines affect fertility or reproductive health.\"\n",
    "\n",
    "result = test_model_with_text(\n",
    "    model=model,\n",
    "    tokenizer=tokenizer,\n",
    "    text=text,\n",
    "    max_length=128,\n",
    "    label_map=idx2label\n",
    ")\n",
    "\n",
    "print(result)"
   ]
  },
  {
   "cell_type": "code",
   "execution_count": 77,
   "metadata": {},
   "outputs": [
    {
     "name": "stdout",
     "output_type": "stream",
     "text": [
      "{'text': 'Arginine gave me a powerful boost of energy, I can really feel how it pumped me up. In the gym, it’s way easier to handle the weights, and my endurance is through the roof. It feels like my muscles are growing before my eyes, and the post-workout feeling is just awesome. I’m enjoying every moment as I feel my body reacting to the load. It’s definitely a great motivation to keep pushing forward! covid ruined everything though', 'probabilities': [0.006544374395161867, 0.02012632228434086, 0.9733293652534485], 'predicted_label': 'Comments'}\n",
      "{'text': '\\nThe new strain of the Omicron coronavirus was first detected in South Africa and Botswana in November 2021. It is rapidly spreading all over the world. The omicron strain contains more than 30 mutations in the S-protein spike on the virus shell, with which it enters the cell.\\n', 'probabilities': [0.6404542326927185, 0.35772162675857544, 0.0018241491634398699], 'predicted_label': 'Real'}\n"
     ]
    }
   ],
   "source": [
    "text = \"Arginine gave me a powerful boost of energy, I can really feel how it pumped me up. In the gym, it’s way easier to handle the weights, and my endurance is through the roof. It feels like my muscles are growing before my eyes, and the post-workout feeling is just awesome. I’m enjoying every moment as I feel my body reacting to the load. It’s definitely a great motivation to keep pushing forward! covid ruined everything though\"\n",
    "\n",
    "result = test_model_with_text(\n",
    "    model=model,\n",
    "    tokenizer=tokenizer,\n",
    "    text=text,\n",
    "    max_length=128,\n",
    "    label_map=idx2label\n",
    ")\n",
    "\n",
    "print(result)\n",
    "\n",
    "text = '''\n",
    "The new strain of the Omicron coronavirus was first detected in South Africa and Botswana in November 2021. It is rapidly spreading all over the world. The omicron strain contains more than 30 mutations in the S-protein spike on the virus shell, with which it enters the cell.\n",
    "'''\n",
    "result = test_model_with_text(\n",
    "    model=model,\n",
    "    tokenizer=tokenizer,\n",
    "    text=text,\n",
    "    max_length=128,\n",
    "    label_map=idx2label\n",
    ")\n",
    "\n",
    "print(result)"
   ]
  }
 ],
 "metadata": {
  "kernelspec": {
   "display_name": "base",
   "language": "python",
   "name": "python3"
  },
  "language_info": {
   "codemirror_mode": {
    "name": "ipython",
    "version": 3
   },
   "file_extension": ".py",
   "mimetype": "text/x-python",
   "name": "python",
   "nbconvert_exporter": "python",
   "pygments_lexer": "ipython3",
   "version": "3.11.3"
  }
 },
 "nbformat": 4,
 "nbformat_minor": 2
}
